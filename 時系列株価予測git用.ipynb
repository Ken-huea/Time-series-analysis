{
  "cells": [
    {
      "cell_type": "markdown",
      "metadata": {
        "colab_type": "text",
        "id": "view-in-github"
      },
      "source": [
        "<a href=\"https://colab.research.google.com/github/Ken-huea/Time-series-analysis/blob/main/%E6%99%82%E7%B3%BB%E5%88%97%E6%A0%AA%E4%BE%A1%E4%BA%88%E6%B8%ACgit%E7%94%A8.ipynb\" target=\"_parent\"><img src=\"https://colab.research.google.com/assets/colab-badge.svg\" alt=\"Open In Colab\"/></a>"
      ]
    },
    {
      "cell_type": "markdown",
      "metadata": {
        "id": "50X6tDUGNmkT"
      },
      "source": [
        "## 問題\n",
        "- LSTMを用いて<font color=\"red\">終値</font>の予測を行えと。\n",
        "- 予測精度をRMSEを用いて計測。小さくなるようにするべし。\n"
      ]
    },
    {
      "cell_type": "markdown",
      "metadata": {
        "id": "FnNfK8-balxc"
      },
      "source": [
        "<font color=\"red\">ポイント</font>\n",
        "\n",
        "・時系列データのLSTM解析。LSTMの都合上、大部分のデータをpandasではなく<font color=\"red\">numpy</font>で行う。⇒面喰った。pandasに慣れているので。\n",
        "\n",
        "・データ分析の定石、時系列カラムをdatetime形式にしてindexにぶち込む。⇒今回は不要。\n",
        "\n",
        "pandas/dfで扱う際は有効だけど、今回はnumpuyなので。"
      ]
    },
    {
      "cell_type": "markdown",
      "metadata": {
        "id": "FSdbAtLkxImo"
      },
      "source": [
        "### データ読み込み\n",
        "このセルを実行すればデータを取得できます。"
      ]
    },
    {
      "cell_type": "markdown",
      "metadata": {
        "id": "zfgnBFE5wcAT"
      },
      "source": [
        "取り出したデータの値はLSTMでの分析に適合させるため、float型（浮動小数点型）に変換して読み込みます。"
      ]
    },
    {
      "cell_type": "markdown",
      "metadata": {
        "id": "AbKH7GVgXqwy"
      },
      "source": [
        "何はともあれまずはデータの確認。確認してみると末尾に不要なデータがありそうですね。"
      ]
    },
    {
      "cell_type": "code",
      "execution_count": 1,
      "metadata": {
        "id": "c8GMDE50Zvtu"
      },
      "outputs": [],
      "source": [
        "# 初めの一回だけこのセルを実行。データセットをダウンロードして展開。\n",
        "# 一回実行すれば、データセットはダウンロードされたまま。再起動後等再び実行する必要はなし。\n",
        "import urllib.request\n",
        "import zipfile\n",
        "%matplotlib inline\n",
        "\n",
        "\n",
        "# URLを指定\n",
        "url = \"https://storage.googleapis.com/tutor-contents-dataset/6160_sales_forecast_data.zip\"\n",
        "save_name = url.split('/')[-1]\n",
        "\n",
        "# ダウンロードする\n",
        "mem = urllib.request.urlopen(url).read()\n",
        "\n",
        "# ファイルへ保存\n",
        "with open(save_name, mode='wb') as f:\n",
        "    f.write(mem)\n",
        "\n",
        "# zipファイルをカレントディレクトリに展開する\n",
        "zfile = zipfile.ZipFile(save_name)\n",
        "zfile.extractall('.')\n",
        "\n",
        "!mv ./6160_sales_forecast_data/nikkei225.csv nikkei225.csv \n",
        "\n",
        "# 適当なモジュールのインポート\n",
        "import numpy\n",
        "import matplotlib.pyplot as plt\n",
        "from pandas import read_csv\n",
        "import math\n",
        "import tensorflow as tf\n",
        "from tensorflow import keras\n",
        "from tensorflow.keras import layers\n",
        "from sklearn.preprocessing import MinMaxScaler\n",
        "from sklearn.metrics import mean_squared_error\n"
      ]
    },
    {
      "cell_type": "code",
      "execution_count": 2,
      "metadata": {
        "colab": {
          "base_uri": "https://localhost:8080/",
          "height": 143
        },
        "id": "g6LPoQEWXT5r",
        "outputId": "6f135cdd-9b9d-47e0-aa11-f4d64b1b6407"
      },
      "outputs": [
        {
          "data": {
            "text/html": [
              "\n",
              "  <div id=\"df-24949b4c-47e9-464e-9710-4b70a7eff530\">\n",
              "    <div class=\"colab-df-container\">\n",
              "      <div>\n",
              "<style scoped>\n",
              "    .dataframe tbody tr th:only-of-type {\n",
              "        vertical-align: middle;\n",
              "    }\n",
              "\n",
              "    .dataframe tbody tr th {\n",
              "        vertical-align: top;\n",
              "    }\n",
              "\n",
              "    .dataframe thead th {\n",
              "        text-align: right;\n",
              "    }\n",
              "</style>\n",
              "<table border=\"1\" class=\"dataframe\">\n",
              "  <thead>\n",
              "    <tr style=\"text-align: right;\">\n",
              "      <th></th>\n",
              "      <th>日付け</th>\n",
              "      <th>終値</th>\n",
              "      <th>始値</th>\n",
              "      <th>高値</th>\n",
              "      <th>安値</th>\n",
              "      <th>出来高</th>\n",
              "      <th>前日比%</th>\n",
              "    </tr>\n",
              "  </thead>\n",
              "  <tbody>\n",
              "    <tr>\n",
              "      <th>2063</th>\n",
              "      <td>2009年03月04日</td>\n",
              "      <td>7270</td>\n",
              "      <td>7200</td>\n",
              "      <td>7320</td>\n",
              "      <td>7090</td>\n",
              "      <td>79.49K</td>\n",
              "      <td>0.83</td>\n",
              "    </tr>\n",
              "    <tr>\n",
              "      <th>2064</th>\n",
              "      <td>NaN</td>\n",
              "      <td>NaN</td>\n",
              "      <td>NaN</td>\n",
              "      <td>NaN</td>\n",
              "      <td>NaN</td>\n",
              "      <td>NaN</td>\n",
              "      <td>NaN</td>\n",
              "    </tr>\n",
              "    <tr>\n",
              "      <th>2065</th>\n",
              "      <td>NaN</td>\n",
              "      <td>高値:20,950.0</td>\n",
              "      <td>安値:6,960.0</td>\n",
              "      <td>差:13,990.0</td>\n",
              "      <td>平均:13,086.6</td>\n",
              "      <td>前日比%:163.2</td>\n",
              "      <td>NaN</td>\n",
              "    </tr>\n",
              "  </tbody>\n",
              "</table>\n",
              "</div>\n",
              "      <button class=\"colab-df-convert\" onclick=\"convertToInteractive('df-24949b4c-47e9-464e-9710-4b70a7eff530')\"\n",
              "              title=\"Convert this dataframe to an interactive table.\"\n",
              "              style=\"display:none;\">\n",
              "        \n",
              "  <svg xmlns=\"http://www.w3.org/2000/svg\" height=\"24px\"viewBox=\"0 0 24 24\"\n",
              "       width=\"24px\">\n",
              "    <path d=\"M0 0h24v24H0V0z\" fill=\"none\"/>\n",
              "    <path d=\"M18.56 5.44l.94 2.06.94-2.06 2.06-.94-2.06-.94-.94-2.06-.94 2.06-2.06.94zm-11 1L8.5 8.5l.94-2.06 2.06-.94-2.06-.94L8.5 2.5l-.94 2.06-2.06.94zm10 10l.94 2.06.94-2.06 2.06-.94-2.06-.94-.94-2.06-.94 2.06-2.06.94z\"/><path d=\"M17.41 7.96l-1.37-1.37c-.4-.4-.92-.59-1.43-.59-.52 0-1.04.2-1.43.59L10.3 9.45l-7.72 7.72c-.78.78-.78 2.05 0 2.83L4 21.41c.39.39.9.59 1.41.59.51 0 1.02-.2 1.41-.59l7.78-7.78 2.81-2.81c.8-.78.8-2.07 0-2.86zM5.41 20L4 18.59l7.72-7.72 1.47 1.35L5.41 20z\"/>\n",
              "  </svg>\n",
              "      </button>\n",
              "      \n",
              "  <style>\n",
              "    .colab-df-container {\n",
              "      display:flex;\n",
              "      flex-wrap:wrap;\n",
              "      gap: 12px;\n",
              "    }\n",
              "\n",
              "    .colab-df-convert {\n",
              "      background-color: #E8F0FE;\n",
              "      border: none;\n",
              "      border-radius: 50%;\n",
              "      cursor: pointer;\n",
              "      display: none;\n",
              "      fill: #1967D2;\n",
              "      height: 32px;\n",
              "      padding: 0 0 0 0;\n",
              "      width: 32px;\n",
              "    }\n",
              "\n",
              "    .colab-df-convert:hover {\n",
              "      background-color: #E2EBFA;\n",
              "      box-shadow: 0px 1px 2px rgba(60, 64, 67, 0.3), 0px 1px 3px 1px rgba(60, 64, 67, 0.15);\n",
              "      fill: #174EA6;\n",
              "    }\n",
              "\n",
              "    [theme=dark] .colab-df-convert {\n",
              "      background-color: #3B4455;\n",
              "      fill: #D2E3FC;\n",
              "    }\n",
              "\n",
              "    [theme=dark] .colab-df-convert:hover {\n",
              "      background-color: #434B5C;\n",
              "      box-shadow: 0px 1px 3px 1px rgba(0, 0, 0, 0.15);\n",
              "      filter: drop-shadow(0px 1px 2px rgba(0, 0, 0, 0.3));\n",
              "      fill: #FFFFFF;\n",
              "    }\n",
              "  </style>\n",
              "\n",
              "      <script>\n",
              "        const buttonEl =\n",
              "          document.querySelector('#df-24949b4c-47e9-464e-9710-4b70a7eff530 button.colab-df-convert');\n",
              "        buttonEl.style.display =\n",
              "          google.colab.kernel.accessAllowed ? 'block' : 'none';\n",
              "\n",
              "        async function convertToInteractive(key) {\n",
              "          const element = document.querySelector('#df-24949b4c-47e9-464e-9710-4b70a7eff530');\n",
              "          const dataTable =\n",
              "            await google.colab.kernel.invokeFunction('convertToInteractive',\n",
              "                                                     [key], {});\n",
              "          if (!dataTable) return;\n",
              "\n",
              "          const docLinkHtml = 'Like what you see? Visit the ' +\n",
              "            '<a target=\"_blank\" href=https://colab.research.google.com/notebooks/data_table.ipynb>data table notebook</a>'\n",
              "            + ' to learn more about interactive tables.';\n",
              "          element.innerHTML = '';\n",
              "          dataTable['output_type'] = 'display_data';\n",
              "          await google.colab.output.renderOutput(dataTable, element);\n",
              "          const docLink = document.createElement('div');\n",
              "          docLink.innerHTML = docLinkHtml;\n",
              "          element.appendChild(docLink);\n",
              "        }\n",
              "      </script>\n",
              "    </div>\n",
              "  </div>\n",
              "  "
            ],
            "text/plain": [
              "              日付け           終値          始値          高値           安値  \\\n",
              "2063  2009年03月04日         7270        7200        7320         7090   \n",
              "2064          NaN          NaN         NaN         NaN          NaN   \n",
              "2065          NaN  高値:20,950.0  安値:6,960.0  差:13,990.0  平均:13,086.6   \n",
              "\n",
              "             出来高  前日比%  \n",
              "2063      79.49K  0.83  \n",
              "2064         NaN   NaN  \n",
              "2065  前日比%:163.2   NaN  "
            ]
          },
          "execution_count": 2,
          "metadata": {},
          "output_type": "execute_result"
        }
      ],
      "source": [
        "import pandas as pd\n",
        "# データの読込\n",
        "df = pd.read_csv(\"/content/nikkei225.csv\")\n",
        "df.tail(3)"
      ]
    },
    {
      "cell_type": "markdown",
      "metadata": {
        "id": "Fg3l-ccjZCNr"
      },
      "source": [
        "だからデータ読み込みの際に末尾をカットしましょうと。\n",
        "\n",
        "skipfooter：下から数行を読み飛ばす。　[詳細はこちら](https://www.yutaka-note.com/entry/pandas_read_csv#skipfooter%E4%B8%8B%E3%81%8B%E3%82%89%E6%95%B0%E8%A1%8C%E3%82%92%E8%AA%AD%E3%81%BF%E9%A3%9B%E3%81%B0%E3%81%99)"
      ]
    },
    {
      "cell_type": "code",
      "execution_count": 3,
      "metadata": {
        "colab": {
          "base_uri": "https://localhost:8080/",
          "height": 423
        },
        "id": "VUAj3TBCYkfh",
        "outputId": "a665cf79-824e-4e7e-ccf8-09093d55d2b6"
      },
      "outputs": [
        {
          "data": {
            "text/html": [
              "\n",
              "  <div id=\"df-ad87216b-0864-4911-9136-e68224b66494\">\n",
              "    <div class=\"colab-df-container\">\n",
              "      <div>\n",
              "<style scoped>\n",
              "    .dataframe tbody tr th:only-of-type {\n",
              "        vertical-align: middle;\n",
              "    }\n",
              "\n",
              "    .dataframe tbody tr th {\n",
              "        vertical-align: top;\n",
              "    }\n",
              "\n",
              "    .dataframe thead th {\n",
              "        text-align: right;\n",
              "    }\n",
              "</style>\n",
              "<table border=\"1\" class=\"dataframe\">\n",
              "  <thead>\n",
              "    <tr style=\"text-align: right;\">\n",
              "      <th></th>\n",
              "      <th>日付け</th>\n",
              "      <th>終値</th>\n",
              "      <th>始値</th>\n",
              "      <th>高値</th>\n",
              "      <th>安値</th>\n",
              "      <th>出来高</th>\n",
              "      <th>前日比%</th>\n",
              "    </tr>\n",
              "  </thead>\n",
              "  <tbody>\n",
              "    <tr>\n",
              "      <th>0</th>\n",
              "      <td>2017年01月31日</td>\n",
              "      <td>18980.0</td>\n",
              "      <td>19350.0</td>\n",
              "      <td>19390.0</td>\n",
              "      <td>18970.0</td>\n",
              "      <td>82.98K</td>\n",
              "      <td>-1.81</td>\n",
              "    </tr>\n",
              "    <tr>\n",
              "      <th>1</th>\n",
              "      <td>2017年01月30日</td>\n",
              "      <td>19330.0</td>\n",
              "      <td>19500.0</td>\n",
              "      <td>19560.0</td>\n",
              "      <td>19280.0</td>\n",
              "      <td>48.95K</td>\n",
              "      <td>-0.67</td>\n",
              "    </tr>\n",
              "    <tr>\n",
              "      <th>2</th>\n",
              "      <td>2017年01月27日</td>\n",
              "      <td>19460.0</td>\n",
              "      <td>19450.0</td>\n",
              "      <td>19560.0</td>\n",
              "      <td>19390.0</td>\n",
              "      <td>63.14K</td>\n",
              "      <td>0.00</td>\n",
              "    </tr>\n",
              "    <tr>\n",
              "      <th>3</th>\n",
              "      <td>2017年01月26日</td>\n",
              "      <td>19460.0</td>\n",
              "      <td>19070.0</td>\n",
              "      <td>19460.0</td>\n",
              "      <td>19050.0</td>\n",
              "      <td>74.06K</td>\n",
              "      <td>2.05</td>\n",
              "    </tr>\n",
              "    <tr>\n",
              "      <th>4</th>\n",
              "      <td>2017年01月25日</td>\n",
              "      <td>19070.0</td>\n",
              "      <td>18850.0</td>\n",
              "      <td>19130.0</td>\n",
              "      <td>18830.0</td>\n",
              "      <td>61.89K</td>\n",
              "      <td>1.22</td>\n",
              "    </tr>\n",
              "    <tr>\n",
              "      <th>...</th>\n",
              "      <td>...</td>\n",
              "      <td>...</td>\n",
              "      <td>...</td>\n",
              "      <td>...</td>\n",
              "      <td>...</td>\n",
              "      <td>...</td>\n",
              "      <td>...</td>\n",
              "    </tr>\n",
              "    <tr>\n",
              "      <th>2059</th>\n",
              "      <td>2009年03月10日</td>\n",
              "      <td>7040.0</td>\n",
              "      <td>7050.0</td>\n",
              "      <td>7110.0</td>\n",
              "      <td>6960.0</td>\n",
              "      <td>85.37K</td>\n",
              "      <td>-0.14</td>\n",
              "    </tr>\n",
              "    <tr>\n",
              "      <th>2060</th>\n",
              "      <td>2009年03月09日</td>\n",
              "      <td>7050.0</td>\n",
              "      <td>7180.0</td>\n",
              "      <td>7230.0</td>\n",
              "      <td>7020.0</td>\n",
              "      <td>74.47K</td>\n",
              "      <td>-1.67</td>\n",
              "    </tr>\n",
              "    <tr>\n",
              "      <th>2061</th>\n",
              "      <td>2009年03月06日</td>\n",
              "      <td>7170.0</td>\n",
              "      <td>7400.0</td>\n",
              "      <td>7440.0</td>\n",
              "      <td>7150.0</td>\n",
              "      <td>91.24K</td>\n",
              "      <td>-3.24</td>\n",
              "    </tr>\n",
              "    <tr>\n",
              "      <th>2062</th>\n",
              "      <td>2009年03月05日</td>\n",
              "      <td>7410.0</td>\n",
              "      <td>7310.0</td>\n",
              "      <td>7540.0</td>\n",
              "      <td>7290.0</td>\n",
              "      <td>114.64K</td>\n",
              "      <td>1.93</td>\n",
              "    </tr>\n",
              "    <tr>\n",
              "      <th>2063</th>\n",
              "      <td>2009年03月04日</td>\n",
              "      <td>7270.0</td>\n",
              "      <td>7200.0</td>\n",
              "      <td>7320.0</td>\n",
              "      <td>7090.0</td>\n",
              "      <td>79.49K</td>\n",
              "      <td>0.83</td>\n",
              "    </tr>\n",
              "  </tbody>\n",
              "</table>\n",
              "<p>2064 rows × 7 columns</p>\n",
              "</div>\n",
              "      <button class=\"colab-df-convert\" onclick=\"convertToInteractive('df-ad87216b-0864-4911-9136-e68224b66494')\"\n",
              "              title=\"Convert this dataframe to an interactive table.\"\n",
              "              style=\"display:none;\">\n",
              "        \n",
              "  <svg xmlns=\"http://www.w3.org/2000/svg\" height=\"24px\"viewBox=\"0 0 24 24\"\n",
              "       width=\"24px\">\n",
              "    <path d=\"M0 0h24v24H0V0z\" fill=\"none\"/>\n",
              "    <path d=\"M18.56 5.44l.94 2.06.94-2.06 2.06-.94-2.06-.94-.94-2.06-.94 2.06-2.06.94zm-11 1L8.5 8.5l.94-2.06 2.06-.94-2.06-.94L8.5 2.5l-.94 2.06-2.06.94zm10 10l.94 2.06.94-2.06 2.06-.94-2.06-.94-.94-2.06-.94 2.06-2.06.94z\"/><path d=\"M17.41 7.96l-1.37-1.37c-.4-.4-.92-.59-1.43-.59-.52 0-1.04.2-1.43.59L10.3 9.45l-7.72 7.72c-.78.78-.78 2.05 0 2.83L4 21.41c.39.39.9.59 1.41.59.51 0 1.02-.2 1.41-.59l7.78-7.78 2.81-2.81c.8-.78.8-2.07 0-2.86zM5.41 20L4 18.59l7.72-7.72 1.47 1.35L5.41 20z\"/>\n",
              "  </svg>\n",
              "      </button>\n",
              "      \n",
              "  <style>\n",
              "    .colab-df-container {\n",
              "      display:flex;\n",
              "      flex-wrap:wrap;\n",
              "      gap: 12px;\n",
              "    }\n",
              "\n",
              "    .colab-df-convert {\n",
              "      background-color: #E8F0FE;\n",
              "      border: none;\n",
              "      border-radius: 50%;\n",
              "      cursor: pointer;\n",
              "      display: none;\n",
              "      fill: #1967D2;\n",
              "      height: 32px;\n",
              "      padding: 0 0 0 0;\n",
              "      width: 32px;\n",
              "    }\n",
              "\n",
              "    .colab-df-convert:hover {\n",
              "      background-color: #E2EBFA;\n",
              "      box-shadow: 0px 1px 2px rgba(60, 64, 67, 0.3), 0px 1px 3px 1px rgba(60, 64, 67, 0.15);\n",
              "      fill: #174EA6;\n",
              "    }\n",
              "\n",
              "    [theme=dark] .colab-df-convert {\n",
              "      background-color: #3B4455;\n",
              "      fill: #D2E3FC;\n",
              "    }\n",
              "\n",
              "    [theme=dark] .colab-df-convert:hover {\n",
              "      background-color: #434B5C;\n",
              "      box-shadow: 0px 1px 3px 1px rgba(0, 0, 0, 0.15);\n",
              "      filter: drop-shadow(0px 1px 2px rgba(0, 0, 0, 0.3));\n",
              "      fill: #FFFFFF;\n",
              "    }\n",
              "  </style>\n",
              "\n",
              "      <script>\n",
              "        const buttonEl =\n",
              "          document.querySelector('#df-ad87216b-0864-4911-9136-e68224b66494 button.colab-df-convert');\n",
              "        buttonEl.style.display =\n",
              "          google.colab.kernel.accessAllowed ? 'block' : 'none';\n",
              "\n",
              "        async function convertToInteractive(key) {\n",
              "          const element = document.querySelector('#df-ad87216b-0864-4911-9136-e68224b66494');\n",
              "          const dataTable =\n",
              "            await google.colab.kernel.invokeFunction('convertToInteractive',\n",
              "                                                     [key], {});\n",
              "          if (!dataTable) return;\n",
              "\n",
              "          const docLinkHtml = 'Like what you see? Visit the ' +\n",
              "            '<a target=\"_blank\" href=https://colab.research.google.com/notebooks/data_table.ipynb>data table notebook</a>'\n",
              "            + ' to learn more about interactive tables.';\n",
              "          element.innerHTML = '';\n",
              "          dataTable['output_type'] = 'display_data';\n",
              "          await google.colab.output.renderOutput(dataTable, element);\n",
              "          const docLink = document.createElement('div');\n",
              "          docLink.innerHTML = docLinkHtml;\n",
              "          element.appendChild(docLink);\n",
              "        }\n",
              "      </script>\n",
              "    </div>\n",
              "  </div>\n",
              "  "
            ],
            "text/plain": [
              "              日付け       終値       始値       高値       安値      出来高  前日比%\n",
              "0     2017年01月31日  18980.0  19350.0  19390.0  18970.0   82.98K -1.81\n",
              "1     2017年01月30日  19330.0  19500.0  19560.0  19280.0   48.95K -0.67\n",
              "2     2017年01月27日  19460.0  19450.0  19560.0  19390.0   63.14K  0.00\n",
              "3     2017年01月26日  19460.0  19070.0  19460.0  19050.0   74.06K  2.05\n",
              "4     2017年01月25日  19070.0  18850.0  19130.0  18830.0   61.89K  1.22\n",
              "...           ...      ...      ...      ...      ...      ...   ...\n",
              "2059  2009年03月10日   7040.0   7050.0   7110.0   6960.0   85.37K -0.14\n",
              "2060  2009年03月09日   7050.0   7180.0   7230.0   7020.0   74.47K -1.67\n",
              "2061  2009年03月06日   7170.0   7400.0   7440.0   7150.0   91.24K -3.24\n",
              "2062  2009年03月05日   7410.0   7310.0   7540.0   7290.0  114.64K  1.93\n",
              "2063  2009年03月04日   7270.0   7200.0   7320.0   7090.0   79.49K  0.83\n",
              "\n",
              "[2064 rows x 7 columns]"
            ]
          },
          "execution_count": 3,
          "metadata": {},
          "output_type": "execute_result"
        }
      ],
      "source": [
        "# データセットの読み込み、かつ末尾をカット。\n",
        "df = pd.read_csv('/content/nikkei225.csv',\n",
        "                        # usecols=[1],              #読み込む列を指定\n",
        "                        engine='python', \n",
        "                        skipfooter=2                # ここが大事。\n",
        "                        )\n",
        "df"
      ]
    },
    {
      "cell_type": "code",
      "execution_count": 4,
      "metadata": {
        "colab": {
          "base_uri": "https://localhost:8080/"
        },
        "id": "_KODwAt2Xz9C",
        "outputId": "1dd0da76-0501-4b67-e2e0-a10fe0806c6a"
      },
      "outputs": [
        {
          "data": {
            "text/plain": [
              "日付け     0\n",
              "終値      0\n",
              "始値      0\n",
              "高値      0\n",
              "安値      0\n",
              "出来高     0\n",
              "前日比%    0\n",
              "dtype: int64"
            ]
          },
          "execution_count": 4,
          "metadata": {},
          "output_type": "execute_result"
        }
      ],
      "source": [
        "# 欠損値の確認⇒平気そう。\n",
        "df.dtypes\n",
        "df.isnull().sum()"
      ]
    },
    {
      "cell_type": "markdown",
      "metadata": {
        "id": "0sW3g_AkZh2z"
      },
      "source": [
        "#### indexに日付をdfにしてぶち込んでみますか。\n",
        "\n",
        "⇒結論としてはいらなかった。忘備録として残します。"
      ]
    },
    {
      "cell_type": "code",
      "execution_count": 5,
      "metadata": {
        "colab": {
          "base_uri": "https://localhost:8080/",
          "height": 1000
        },
        "id": "v2Mu22Ni8-yr",
        "outputId": "636031f8-8baf-42d4-b622-09485344408f"
      },
      "outputs": [
        {
          "name": "stdout",
          "output_type": "stream",
          "text": [
            "2017-01-31\n",
            "2017-01-30\n",
            "2017-01-27\n",
            "2017-01-26\n",
            "2017-01-25\n",
            "2017-01-24\n",
            "2017-01-23\n",
            "2017-01-20\n",
            "2017-01-19\n",
            "2017-01-18\n",
            "2017-01-17\n",
            "2017-01-16\n",
            "2017-01-13\n",
            "2017-01-12\n",
            "2017-01-11\n",
            "2017-01-10\n",
            "2017-01-09\n",
            "2017-01-06\n",
            "2017-01-05\n",
            "2017-01-04\n",
            "2017-01-03\n",
            "2016-12-30\n",
            "2016-12-29\n",
            "2016-12-28\n",
            "2016-12-27\n",
            "2016-12-26\n",
            "2016-12-23\n",
            "2016-12-22\n",
            "2016-12-21\n",
            "2016-12-20\n",
            "2016-12-19\n",
            "2016-12-16\n",
            "2016-12-15\n",
            "2016-12-14\n",
            "2016-12-13\n",
            "2016-12-12\n",
            "2016-12-09\n",
            "2016-12-08\n",
            "2016-12-07\n",
            "2016-12-06\n",
            "2016-12-05\n",
            "2016-12-02\n",
            "2016-12-01\n",
            "2016-11-30\n",
            "2016-11-29\n",
            "2016-11-28\n",
            "2016-11-25\n",
            "2016-11-24\n",
            "2016-11-23\n",
            "2016-11-22\n",
            "2016-11-21\n",
            "2016-11-18\n",
            "2016-11-17\n",
            "2016-11-16\n",
            "2016-11-15\n",
            "2016-11-14\n",
            "2016-11-11\n",
            "2016-11-10\n",
            "2016-11-09\n",
            "2016-11-08\n",
            "2016-11-07\n",
            "2016-11-04\n",
            "2016-11-03\n",
            "2016-11-02\n",
            "2016-11-01\n",
            "2016-10-31\n",
            "2016-10-28\n",
            "2016-10-27\n",
            "2016-10-26\n",
            "2016-10-25\n",
            "2016-10-24\n",
            "2016-10-21\n",
            "2016-10-20\n",
            "2016-10-19\n",
            "2016-10-18\n",
            "2016-10-17\n",
            "2016-10-14\n",
            "2016-10-13\n",
            "2016-10-12\n",
            "2016-10-11\n",
            "2016-10-10\n",
            "2016-10-09\n",
            "2016-10-07\n",
            "2016-10-06\n",
            "2016-10-05\n",
            "2016-10-04\n",
            "2016-10-03\n",
            "2016-09-30\n",
            "2016-09-29\n",
            "2016-09-28\n",
            "2016-09-27\n",
            "2016-09-26\n",
            "2016-09-23\n",
            "2016-09-22\n",
            "2016-09-21\n",
            "2016-09-20\n",
            "2016-09-19\n",
            "2016-09-18\n",
            "2016-09-16\n",
            "2016-09-15\n",
            "2016-09-14\n",
            "2016-09-13\n",
            "2016-09-12\n",
            "2016-09-09\n",
            "2016-09-08\n",
            "2016-09-07\n",
            "2016-09-06\n",
            "2016-09-05\n",
            "2016-09-02\n",
            "2016-09-01\n",
            "2016-08-31\n",
            "2016-08-30\n",
            "2016-08-29\n",
            "2016-08-26\n",
            "2016-08-25\n",
            "2016-08-24\n",
            "2016-08-23\n",
            "2016-08-22\n",
            "2016-08-19\n",
            "2016-08-18\n",
            "2016-08-17\n",
            "2016-08-16\n",
            "2016-08-15\n",
            "2016-08-12\n",
            "2016-08-11\n",
            "2016-08-10\n",
            "2016-08-09\n",
            "2016-08-08\n",
            "2016-08-05\n",
            "2016-08-04\n",
            "2016-08-03\n",
            "2016-08-02\n",
            "2016-08-01\n",
            "2016-07-29\n",
            "2016-07-28\n",
            "2016-07-27\n",
            "2016-07-26\n",
            "2016-07-25\n",
            "2016-07-22\n",
            "2016-07-21\n",
            "2016-07-20\n",
            "2016-07-19\n",
            "2016-07-18\n",
            "2016-07-17\n",
            "2016-07-15\n",
            "2016-07-14\n",
            "2016-07-13\n",
            "2016-07-12\n",
            "2016-07-11\n",
            "2016-07-08\n",
            "2016-07-07\n",
            "2016-07-06\n",
            "2016-07-05\n",
            "2016-07-04\n",
            "2016-07-01\n",
            "2016-06-30\n",
            "2016-06-29\n",
            "2016-06-28\n",
            "2016-06-27\n",
            "2016-06-24\n",
            "2016-06-23\n",
            "2016-06-22\n",
            "2016-06-21\n",
            "2016-06-20\n",
            "2016-06-17\n",
            "2016-06-16\n",
            "2016-06-15\n",
            "2016-06-14\n",
            "2016-06-13\n",
            "2016-06-10\n",
            "2016-06-09\n",
            "2016-06-08\n",
            "2016-06-07\n",
            "2016-06-06\n",
            "2016-06-03\n",
            "2016-06-02\n",
            "2016-06-01\n",
            "2016-05-31\n",
            "2016-05-30\n",
            "2016-05-27\n",
            "2016-05-26\n",
            "2016-05-25\n",
            "2016-05-24\n",
            "2016-05-23\n",
            "2016-05-20\n",
            "2016-05-19\n",
            "2016-05-18\n",
            "2016-05-17\n",
            "2016-05-16\n",
            "2016-05-13\n",
            "2016-05-12\n",
            "2016-05-11\n",
            "2016-05-10\n",
            "2016-05-09\n",
            "2016-05-06\n",
            "2016-05-05\n",
            "2016-05-04\n",
            "2016-05-03\n",
            "2016-05-02\n",
            "2016-04-29\n",
            "2016-04-28\n",
            "2016-04-27\n",
            "2016-04-26\n",
            "2016-04-25\n",
            "2016-04-22\n",
            "2016-04-21\n",
            "2016-04-20\n",
            "2016-04-19\n",
            "2016-04-18\n",
            "2016-04-15\n",
            "2016-04-14\n",
            "2016-04-13\n",
            "2016-04-12\n",
            "2016-04-11\n",
            "2016-04-08\n",
            "2016-04-07\n",
            "2016-04-06\n",
            "2016-04-05\n",
            "2016-04-04\n",
            "2016-04-01\n",
            "2016-03-31\n",
            "2016-03-30\n",
            "2016-03-29\n",
            "2016-03-28\n",
            "2016-03-25\n",
            "2016-03-24\n",
            "2016-03-23\n",
            "2016-03-22\n",
            "2016-03-21\n",
            "2016-03-20\n",
            "2016-03-18\n",
            "2016-03-17\n",
            "2016-03-16\n",
            "2016-03-15\n",
            "2016-03-14\n",
            "2016-03-11\n",
            "2016-03-10\n",
            "2016-03-09\n",
            "2016-03-08\n",
            "2016-03-07\n",
            "2016-03-04\n",
            "2016-03-03\n",
            "2016-03-02\n",
            "2016-03-01\n",
            "2016-02-29\n",
            "2016-02-26\n",
            "2016-02-25\n",
            "2016-02-24\n",
            "2016-02-23\n",
            "2016-02-22\n",
            "2016-02-19\n",
            "2016-02-18\n",
            "2016-02-17\n",
            "2016-02-16\n",
            "2016-02-15\n",
            "2016-02-12\n",
            "2016-02-11\n",
            "2016-02-10\n",
            "2016-02-09\n",
            "2016-02-08\n",
            "2016-02-05\n",
            "2016-02-04\n",
            "2016-02-03\n",
            "2016-02-02\n",
            "2016-02-01\n",
            "2016-01-29\n",
            "2016-01-28\n",
            "2016-01-27\n",
            "2016-01-26\n",
            "2016-01-25\n",
            "2016-01-22\n",
            "2016-01-21\n",
            "2016-01-20\n",
            "2016-01-19\n",
            "2016-01-18\n",
            "2016-01-15\n",
            "2016-01-14\n",
            "2016-01-13\n",
            "2016-01-12\n",
            "2016-01-11\n",
            "2016-01-10\n",
            "2016-01-08\n",
            "2016-01-07\n",
            "2016-01-06\n",
            "2016-01-05\n",
            "2016-01-04\n",
            "2015-12-31\n",
            "2015-12-30\n",
            "2015-12-29\n",
            "2015-12-28\n",
            "2015-12-25\n",
            "2015-12-24\n",
            "2015-12-23\n",
            "2015-12-22\n",
            "2015-12-21\n",
            "2015-12-18\n",
            "2015-12-17\n",
            "2015-12-16\n",
            "2015-12-15\n",
            "2015-12-14\n",
            "2015-12-11\n",
            "2015-12-10\n",
            "2015-12-09\n",
            "2015-12-08\n",
            "2015-12-07\n",
            "2015-12-04\n",
            "2015-12-03\n",
            "2015-12-02\n",
            "2015-12-01\n",
            "2015-11-30\n",
            "2015-11-27\n",
            "2015-11-26\n",
            "2015-11-25\n",
            "2015-11-24\n",
            "2015-11-23\n",
            "2015-11-22\n",
            "2015-11-20\n",
            "2015-11-19\n",
            "2015-11-18\n",
            "2015-11-17\n",
            "2015-11-16\n",
            "2015-11-13\n",
            "2015-11-12\n",
            "2015-11-11\n",
            "2015-11-10\n",
            "2015-11-09\n",
            "2015-11-06\n",
            "2015-11-05\n",
            "2015-11-04\n",
            "2015-11-03\n",
            "2015-11-02\n",
            "2015-10-30\n",
            "2015-10-29\n",
            "2015-10-28\n",
            "2015-10-27\n",
            "2015-10-26\n",
            "2015-10-23\n",
            "2015-10-22\n",
            "2015-10-21\n",
            "2015-10-20\n",
            "2015-10-19\n",
            "2015-10-16\n",
            "2015-10-15\n",
            "2015-10-14\n",
            "2015-10-13\n",
            "2015-10-12\n",
            "2015-10-11\n",
            "2015-10-09\n",
            "2015-10-08\n",
            "2015-10-07\n",
            "2015-10-06\n",
            "2015-10-05\n",
            "2015-10-02\n",
            "2015-10-01\n",
            "2015-09-30\n",
            "2015-09-29\n",
            "2015-09-28\n",
            "2015-09-25\n",
            "2015-09-24\n",
            "2015-09-23\n",
            "2015-09-22\n",
            "2015-09-21\n",
            "2015-09-20\n",
            "2015-09-18\n",
            "2015-09-17\n",
            "2015-09-16\n",
            "2015-09-15\n",
            "2015-09-14\n",
            "2015-09-11\n",
            "2015-09-10\n",
            "2015-09-09\n",
            "2015-09-08\n",
            "2015-09-07\n",
            "2015-09-04\n",
            "2015-09-03\n",
            "2015-09-02\n",
            "2015-09-01\n",
            "2015-08-31\n",
            "2015-08-28\n",
            "2015-08-27\n",
            "2015-08-26\n",
            "2015-08-25\n",
            "2015-08-24\n",
            "2015-08-21\n",
            "2015-08-20\n",
            "2015-08-19\n",
            "2015-08-18\n",
            "2015-08-17\n",
            "2015-08-14\n",
            "2015-08-13\n",
            "2015-08-12\n",
            "2015-08-11\n",
            "2015-08-10\n",
            "2015-08-07\n",
            "2015-08-06\n",
            "2015-08-05\n",
            "2015-08-04\n",
            "2015-08-03\n",
            "2015-07-31\n",
            "2015-07-30\n",
            "2015-07-29\n",
            "2015-07-28\n",
            "2015-07-27\n",
            "2015-07-24\n",
            "2015-07-23\n",
            "2015-07-22\n",
            "2015-07-21\n",
            "2015-07-20\n",
            "2015-07-19\n",
            "2015-07-17\n",
            "2015-07-16\n",
            "2015-07-15\n",
            "2015-07-14\n",
            "2015-07-13\n",
            "2015-07-10\n",
            "2015-07-09\n",
            "2015-07-08\n",
            "2015-07-07\n",
            "2015-07-06\n",
            "2015-07-03\n",
            "2015-07-02\n",
            "2015-07-01\n",
            "2015-06-30\n",
            "2015-06-29\n",
            "2015-06-26\n",
            "2015-06-25\n",
            "2015-06-24\n",
            "2015-06-23\n",
            "2015-06-22\n",
            "2015-06-19\n",
            "2015-06-18\n",
            "2015-06-17\n",
            "2015-06-16\n",
            "2015-06-15\n",
            "2015-06-12\n",
            "2015-06-11\n",
            "2015-06-10\n",
            "2015-06-09\n",
            "2015-06-08\n",
            "2015-06-05\n",
            "2015-06-04\n",
            "2015-06-03\n",
            "2015-06-02\n",
            "2015-06-01\n",
            "2015-05-29\n",
            "2015-05-28\n",
            "2015-05-27\n",
            "2015-05-26\n",
            "2015-05-25\n",
            "2015-05-22\n",
            "2015-05-21\n",
            "2015-05-20\n",
            "2015-05-19\n",
            "2015-05-18\n",
            "2015-05-15\n",
            "2015-05-14\n",
            "2015-05-13\n",
            "2015-05-12\n",
            "2015-05-11\n",
            "2015-05-08\n",
            "2015-05-07\n",
            "2015-05-06\n",
            "2015-05-05\n",
            "2015-05-04\n",
            "2015-05-03\n",
            "2015-05-01\n",
            "2015-04-30\n",
            "2015-04-29\n",
            "2015-04-28\n",
            "2015-04-27\n",
            "2015-04-24\n",
            "2015-04-23\n",
            "2015-04-22\n",
            "2015-04-21\n",
            "2015-04-20\n",
            "2015-04-17\n",
            "2015-04-16\n",
            "2015-04-15\n",
            "2015-04-14\n",
            "2015-04-13\n",
            "2015-04-10\n",
            "2015-04-09\n",
            "2015-04-08\n",
            "2015-04-07\n",
            "2015-04-06\n",
            "2015-04-03\n",
            "2015-04-02\n",
            "2015-04-01\n",
            "2015-03-31\n",
            "2015-03-30\n",
            "2015-03-27\n",
            "2015-03-26\n",
            "2015-03-25\n",
            "2015-03-24\n",
            "2015-03-23\n",
            "2015-03-20\n",
            "2015-03-19\n",
            "2015-03-18\n",
            "2015-03-17\n",
            "2015-03-16\n",
            "2015-03-13\n",
            "2015-03-12\n",
            "2015-03-11\n",
            "2015-03-10\n",
            "2015-03-09\n",
            "2015-03-06\n",
            "2015-03-05\n",
            "2015-03-04\n",
            "2015-03-03\n",
            "2015-03-02\n",
            "2015-02-27\n",
            "2015-02-26\n",
            "2015-02-25\n",
            "2015-02-24\n",
            "2015-02-23\n",
            "2015-02-20\n",
            "2015-02-19\n",
            "2015-02-18\n",
            "2015-02-17\n",
            "2015-02-16\n",
            "2015-02-13\n",
            "2015-02-12\n",
            "2015-02-11\n",
            "2015-02-10\n",
            "2015-02-09\n",
            "2015-02-06\n",
            "2015-02-05\n",
            "2015-02-04\n",
            "2015-02-03\n",
            "2015-02-02\n",
            "2015-01-30\n",
            "2015-01-29\n",
            "2015-01-28\n",
            "2015-01-27\n",
            "2015-01-26\n",
            "2015-01-23\n",
            "2015-01-22\n",
            "2015-01-21\n",
            "2015-01-20\n",
            "2015-01-19\n",
            "2015-01-16\n",
            "2015-01-15\n",
            "2015-01-14\n",
            "2015-01-13\n",
            "2015-01-12\n",
            "2015-01-11\n",
            "2015-01-09\n",
            "2015-01-08\n",
            "2015-01-07\n",
            "2015-01-06\n",
            "2015-01-05\n",
            "2015-01-02\n",
            "2015-01-01\n",
            "2014-12-31\n",
            "2014-12-30\n",
            "2014-12-29\n",
            "2014-12-26\n",
            "2014-12-25\n",
            "2014-12-24\n",
            "2014-12-23\n",
            "2014-12-22\n",
            "2014-12-19\n",
            "2014-12-18\n",
            "2014-12-17\n",
            "2014-12-16\n",
            "2014-12-15\n",
            "2014-12-12\n",
            "2014-12-11\n",
            "2014-12-10\n",
            "2014-12-09\n",
            "2014-12-08\n",
            "2014-12-05\n",
            "2014-12-04\n",
            "2014-12-03\n",
            "2014-12-02\n",
            "2014-12-01\n",
            "2014-11-28\n",
            "2014-11-27\n",
            "2014-11-26\n",
            "2014-11-25\n",
            "2014-11-24\n",
            "2014-11-23\n",
            "2014-11-21\n",
            "2014-11-20\n",
            "2014-11-19\n",
            "2014-11-18\n",
            "2014-11-17\n",
            "2014-11-14\n",
            "2014-11-13\n",
            "2014-11-12\n",
            "2014-11-11\n",
            "2014-11-10\n",
            "2014-11-07\n",
            "2014-11-06\n",
            "2014-11-05\n",
            "2014-11-04\n",
            "2014-11-03\n",
            "2014-10-31\n",
            "2014-10-30\n",
            "2014-10-29\n",
            "2014-10-28\n",
            "2014-10-27\n",
            "2014-10-24\n",
            "2014-10-23\n",
            "2014-10-22\n",
            "2014-10-21\n",
            "2014-10-20\n",
            "2014-10-17\n",
            "2014-10-16\n",
            "2014-10-15\n",
            "2014-10-14\n",
            "2014-10-13\n",
            "2014-10-10\n",
            "2014-10-09\n",
            "2014-10-08\n",
            "2014-10-07\n",
            "2014-10-06\n",
            "2014-10-03\n",
            "2014-10-02\n",
            "2014-10-01\n",
            "2014-09-30\n",
            "2014-09-29\n",
            "2014-09-26\n",
            "2014-09-25\n",
            "2014-09-24\n",
            "2014-09-23\n",
            "2014-09-22\n",
            "2014-09-19\n",
            "2014-09-18\n",
            "2014-09-17\n",
            "2014-09-16\n",
            "2014-09-15\n",
            "2014-09-12\n",
            "2014-09-11\n",
            "2014-09-10\n",
            "2014-09-09\n",
            "2014-09-08\n",
            "2014-09-05\n",
            "2014-09-04\n",
            "2014-09-03\n",
            "2014-09-02\n",
            "2014-09-01\n",
            "2014-08-29\n",
            "2014-08-28\n",
            "2014-08-27\n",
            "2014-08-26\n",
            "2014-08-25\n",
            "2014-08-22\n",
            "2014-08-21\n",
            "2014-08-20\n",
            "2014-08-19\n",
            "2014-08-18\n",
            "2014-08-15\n",
            "2014-08-14\n",
            "2014-08-13\n",
            "2014-08-12\n",
            "2014-08-11\n",
            "2014-08-08\n",
            "2014-08-07\n",
            "2014-08-06\n",
            "2014-08-05\n",
            "2014-08-04\n",
            "2014-08-01\n",
            "2014-07-31\n",
            "2014-07-30\n",
            "2014-07-29\n",
            "2014-07-28\n",
            "2014-07-25\n",
            "2014-07-24\n",
            "2014-07-23\n",
            "2014-07-22\n",
            "2014-07-21\n",
            "2014-07-18\n",
            "2014-07-17\n",
            "2014-07-16\n",
            "2014-07-15\n",
            "2014-07-14\n",
            "2014-07-11\n",
            "2014-07-10\n",
            "2014-07-09\n",
            "2014-07-08\n",
            "2014-07-07\n",
            "2014-07-04\n",
            "2014-07-03\n",
            "2014-07-02\n",
            "2014-07-01\n",
            "2014-06-30\n",
            "2014-06-27\n",
            "2014-06-26\n",
            "2014-06-25\n",
            "2014-06-24\n",
            "2014-06-23\n",
            "2014-06-20\n",
            "2014-06-19\n",
            "2014-06-18\n",
            "2014-06-17\n",
            "2014-06-16\n",
            "2014-06-13\n",
            "2014-06-12\n",
            "2014-06-11\n",
            "2014-06-10\n",
            "2014-06-09\n",
            "2014-06-06\n",
            "2014-06-05\n",
            "2014-06-04\n",
            "2014-06-03\n",
            "2014-06-02\n",
            "2014-05-30\n",
            "2014-05-29\n",
            "2014-05-28\n",
            "2014-05-27\n",
            "2014-05-26\n",
            "2014-05-23\n",
            "2014-05-22\n",
            "2014-05-21\n",
            "2014-05-20\n",
            "2014-05-19\n",
            "2014-05-16\n",
            "2014-05-15\n",
            "2014-05-14\n",
            "2014-05-13\n",
            "2014-05-12\n",
            "2014-05-09\n",
            "2014-05-08\n",
            "2014-05-07\n",
            "2014-05-06\n",
            "2014-05-05\n",
            "2014-05-02\n",
            "2014-05-01\n",
            "2014-04-30\n",
            "2014-04-29\n",
            "2014-04-28\n",
            "2014-04-25\n",
            "2014-04-24\n",
            "2014-04-23\n",
            "2014-04-22\n",
            "2014-04-21\n",
            "2014-04-18\n",
            "2014-04-17\n",
            "2014-04-16\n",
            "2014-04-15\n",
            "2014-04-14\n",
            "2014-04-11\n",
            "2014-04-10\n",
            "2014-04-09\n",
            "2014-04-08\n",
            "2014-04-07\n",
            "2014-04-04\n",
            "2014-04-03\n",
            "2014-04-02\n",
            "2014-04-01\n",
            "2014-03-31\n",
            "2014-03-28\n",
            "2014-03-27\n",
            "2014-03-26\n",
            "2014-03-25\n",
            "2014-03-24\n",
            "2014-03-21\n",
            "2014-03-20\n",
            "2014-03-19\n",
            "2014-03-18\n",
            "2014-03-17\n",
            "2014-03-14\n",
            "2014-03-13\n",
            "2014-03-12\n",
            "2014-03-11\n",
            "2014-03-10\n",
            "2014-03-07\n",
            "2014-03-06\n",
            "2014-03-05\n",
            "2014-03-04\n",
            "2014-03-03\n",
            "2014-02-28\n",
            "2014-02-27\n",
            "2014-02-26\n",
            "2014-02-25\n",
            "2014-02-24\n",
            "2014-02-21\n",
            "2014-02-20\n",
            "2014-02-19\n",
            "2014-02-18\n",
            "2014-02-17\n",
            "2014-02-14\n",
            "2014-02-13\n",
            "2014-02-12\n",
            "2014-02-11\n",
            "2014-02-10\n",
            "2014-02-07\n",
            "2014-02-06\n",
            "2014-02-05\n",
            "2014-02-04\n",
            "2014-02-03\n",
            "2014-01-31\n",
            "2014-01-30\n",
            "2014-01-29\n",
            "2014-01-28\n",
            "2014-01-27\n",
            "2014-01-24\n",
            "2014-01-23\n",
            "2014-01-22\n",
            "2014-01-21\n",
            "2014-01-20\n",
            "2014-01-17\n",
            "2014-01-16\n",
            "2014-01-15\n",
            "2014-01-14\n",
            "2014-01-13\n",
            "2014-01-10\n",
            "2014-01-09\n",
            "2014-01-08\n",
            "2014-01-07\n",
            "2014-01-06\n",
            "2014-01-03\n",
            "2014-01-02\n",
            "2014-01-01\n",
            "2013-12-31\n",
            "2013-12-30\n",
            "2013-12-27\n",
            "2013-12-26\n",
            "2013-12-25\n",
            "2013-12-24\n",
            "2013-12-23\n",
            "2013-12-20\n",
            "2013-12-19\n",
            "2013-12-18\n",
            "2013-12-17\n",
            "2013-12-16\n",
            "2013-12-13\n",
            "2013-12-12\n",
            "2013-12-11\n",
            "2013-12-10\n",
            "2013-12-09\n",
            "2013-12-06\n",
            "2013-12-05\n",
            "2013-12-04\n",
            "2013-12-03\n",
            "2013-12-02\n",
            "2013-11-29\n",
            "2013-11-28\n",
            "2013-11-27\n",
            "2013-11-26\n",
            "2013-11-25\n",
            "2013-11-22\n",
            "2013-11-21\n",
            "2013-11-20\n",
            "2013-11-19\n",
            "2013-11-18\n",
            "2013-11-15\n",
            "2013-11-14\n",
            "2013-11-13\n",
            "2013-11-12\n",
            "2013-11-11\n",
            "2013-11-08\n",
            "2013-11-07\n",
            "2013-11-06\n",
            "2013-11-05\n",
            "2013-11-04\n",
            "2013-11-01\n",
            "2013-10-31\n",
            "2013-10-30\n",
            "2013-10-29\n",
            "2013-10-28\n",
            "2013-10-25\n",
            "2013-10-24\n",
            "2013-10-23\n",
            "2013-10-22\n",
            "2013-10-21\n",
            "2013-10-18\n",
            "2013-10-17\n",
            "2013-10-16\n",
            "2013-10-15\n",
            "2013-10-14\n",
            "2013-10-11\n",
            "2013-10-10\n",
            "2013-10-09\n",
            "2013-10-08\n",
            "2013-10-07\n",
            "2013-10-04\n",
            "2013-10-03\n",
            "2013-10-02\n",
            "2013-10-01\n",
            "2013-09-30\n",
            "2013-09-27\n",
            "2013-09-26\n",
            "2013-09-25\n",
            "2013-09-24\n",
            "2013-09-23\n",
            "2013-09-20\n",
            "2013-09-19\n",
            "2013-09-18\n",
            "2013-09-17\n",
            "2013-09-16\n",
            "2013-09-13\n",
            "2013-09-12\n",
            "2013-09-11\n",
            "2013-09-10\n",
            "2013-09-09\n",
            "2013-09-06\n",
            "2013-09-05\n",
            "2013-09-04\n",
            "2013-09-03\n",
            "2013-09-02\n",
            "2013-08-30\n",
            "2013-08-29\n",
            "2013-08-28\n",
            "2013-08-27\n",
            "2013-08-26\n",
            "2013-08-23\n",
            "2013-08-22\n",
            "2013-08-21\n",
            "2013-08-20\n",
            "2013-08-19\n",
            "2013-08-16\n",
            "2013-08-15\n",
            "2013-08-14\n",
            "2013-08-13\n",
            "2013-08-12\n",
            "2013-08-09\n",
            "2013-08-08\n",
            "2013-08-07\n",
            "2013-08-06\n",
            "2013-08-05\n",
            "2013-08-02\n",
            "2013-08-01\n",
            "2013-07-31\n",
            "2013-07-30\n",
            "2013-07-29\n",
            "2013-07-26\n",
            "2013-07-25\n",
            "2013-07-24\n",
            "2013-07-23\n",
            "2013-07-22\n",
            "2013-07-19\n",
            "2013-07-18\n",
            "2013-07-17\n",
            "2013-07-16\n",
            "2013-07-15\n",
            "2013-07-12\n",
            "2013-07-11\n",
            "2013-07-10\n",
            "2013-07-09\n",
            "2013-07-08\n",
            "2013-07-05\n",
            "2013-07-04\n",
            "2013-07-03\n",
            "2013-07-02\n",
            "2013-07-01\n",
            "2013-06-28\n",
            "2013-06-27\n",
            "2013-06-26\n",
            "2013-06-25\n",
            "2013-06-24\n",
            "2013-06-21\n",
            "2013-06-20\n",
            "2013-06-19\n",
            "2013-06-18\n",
            "2013-06-17\n",
            "2013-06-14\n",
            "2013-06-13\n",
            "2013-06-12\n",
            "2013-06-11\n",
            "2013-06-10\n",
            "2013-06-07\n",
            "2013-06-06\n",
            "2013-06-05\n",
            "2013-06-04\n",
            "2013-06-03\n",
            "2013-05-31\n",
            "2013-05-30\n",
            "2013-05-29\n",
            "2013-05-28\n",
            "2013-05-27\n",
            "2013-05-24\n",
            "2013-05-23\n",
            "2013-05-22\n",
            "2013-05-21\n",
            "2013-05-20\n",
            "2013-05-17\n",
            "2013-05-16\n",
            "2013-05-15\n",
            "2013-05-14\n",
            "2013-05-13\n",
            "2013-05-10\n",
            "2013-05-09\n",
            "2013-05-08\n",
            "2013-05-07\n",
            "2013-05-06\n",
            "2013-05-03\n",
            "2013-05-02\n",
            "2013-05-01\n",
            "2013-04-30\n",
            "2013-04-29\n",
            "2013-04-26\n",
            "2013-04-25\n",
            "2013-04-24\n",
            "2013-04-23\n",
            "2013-04-22\n",
            "2013-04-19\n",
            "2013-04-18\n",
            "2013-04-17\n",
            "2013-04-16\n",
            "2013-04-15\n",
            "2013-04-12\n",
            "2013-04-11\n",
            "2013-04-10\n",
            "2013-04-09\n",
            "2013-04-08\n",
            "2013-04-05\n",
            "2013-04-04\n",
            "2013-04-03\n",
            "2013-04-02\n",
            "2013-04-01\n",
            "2013-03-29\n",
            "2013-03-28\n",
            "2013-03-27\n",
            "2013-03-26\n",
            "2013-03-25\n",
            "2013-03-22\n",
            "2013-03-21\n",
            "2013-03-20\n",
            "2013-03-19\n",
            "2013-03-18\n",
            "2013-03-15\n",
            "2013-03-14\n",
            "2013-03-13\n",
            "2013-03-12\n",
            "2013-03-11\n",
            "2013-03-08\n",
            "2013-03-07\n",
            "2013-03-06\n",
            "2013-03-05\n",
            "2013-03-04\n",
            "2013-03-01\n",
            "2013-02-28\n",
            "2013-02-27\n",
            "2013-02-26\n",
            "2013-02-25\n",
            "2013-02-22\n",
            "2013-02-21\n",
            "2013-02-20\n",
            "2013-02-19\n",
            "2013-02-18\n",
            "2013-02-15\n",
            "2013-02-14\n",
            "2013-02-13\n",
            "2013-02-12\n",
            "2013-02-11\n",
            "2013-02-08\n",
            "2013-02-07\n",
            "2013-02-06\n",
            "2013-02-05\n",
            "2013-02-04\n",
            "2013-02-01\n",
            "2013-01-31\n",
            "2013-01-30\n",
            "2013-01-29\n",
            "2013-01-28\n",
            "2013-01-25\n",
            "2013-01-24\n",
            "2013-01-23\n",
            "2013-01-22\n",
            "2013-01-21\n",
            "2013-01-18\n",
            "2013-01-17\n",
            "2013-01-16\n",
            "2013-01-15\n",
            "2013-01-14\n",
            "2013-01-11\n",
            "2013-01-10\n",
            "2013-01-09\n",
            "2013-01-08\n",
            "2013-01-07\n",
            "2013-01-04\n",
            "2013-01-03\n",
            "2013-01-02\n",
            "2013-01-01\n",
            "2012-12-31\n",
            "2012-12-28\n",
            "2012-12-27\n",
            "2012-12-26\n",
            "2012-12-25\n",
            "2012-12-24\n",
            "2012-12-21\n",
            "2012-12-20\n",
            "2012-12-19\n",
            "2012-12-18\n",
            "2012-12-17\n",
            "2012-12-14\n",
            "2012-12-13\n",
            "2012-12-12\n",
            "2012-12-11\n",
            "2012-12-10\n",
            "2012-12-07\n",
            "2012-12-06\n",
            "2012-12-05\n",
            "2012-12-04\n",
            "2012-12-03\n",
            "2012-11-30\n",
            "2012-11-29\n",
            "2012-11-28\n",
            "2012-11-27\n",
            "2012-11-26\n",
            "2012-11-23\n",
            "2012-11-22\n",
            "2012-11-21\n",
            "2012-11-20\n",
            "2012-11-19\n",
            "2012-11-16\n",
            "2012-11-15\n",
            "2012-11-14\n",
            "2012-11-13\n",
            "2012-11-12\n",
            "2012-11-09\n",
            "2012-11-08\n",
            "2012-11-07\n",
            "2012-11-06\n",
            "2012-11-05\n",
            "2012-11-02\n",
            "2012-11-01\n",
            "2012-10-31\n",
            "2012-10-30\n",
            "2012-10-29\n",
            "2012-10-26\n",
            "2012-10-25\n",
            "2012-10-24\n",
            "2012-10-23\n",
            "2012-10-22\n",
            "2012-10-19\n",
            "2012-10-18\n",
            "2012-10-17\n",
            "2012-10-16\n",
            "2012-10-15\n",
            "2012-10-12\n",
            "2012-10-11\n",
            "2012-10-10\n",
            "2012-10-09\n",
            "2012-10-08\n",
            "2012-10-05\n",
            "2012-10-04\n",
            "2012-10-03\n",
            "2012-10-02\n",
            "2012-10-01\n",
            "2012-09-28\n",
            "2012-09-27\n",
            "2012-09-26\n",
            "2012-09-25\n",
            "2012-09-24\n",
            "2012-09-21\n",
            "2012-09-20\n",
            "2012-09-19\n",
            "2012-09-18\n",
            "2012-09-17\n",
            "2012-09-14\n",
            "2012-09-13\n",
            "2012-09-12\n",
            "2012-09-11\n",
            "2012-09-10\n",
            "2012-09-07\n",
            "2012-09-06\n",
            "2012-09-05\n",
            "2012-09-04\n",
            "2012-09-03\n",
            "2012-08-31\n",
            "2012-08-30\n",
            "2012-08-29\n",
            "2012-08-28\n",
            "2012-08-27\n",
            "2012-08-24\n",
            "2012-08-23\n",
            "2012-08-22\n",
            "2012-08-21\n",
            "2012-08-20\n",
            "2012-08-17\n",
            "2012-08-16\n",
            "2012-08-15\n",
            "2012-08-14\n",
            "2012-08-13\n",
            "2012-08-10\n",
            "2012-08-09\n",
            "2012-08-08\n",
            "2012-08-07\n",
            "2012-08-06\n",
            "2012-08-03\n",
            "2012-08-02\n",
            "2012-08-01\n",
            "2012-07-31\n",
            "2012-07-30\n",
            "2012-07-27\n",
            "2012-07-26\n",
            "2012-07-25\n",
            "2012-07-24\n",
            "2012-07-23\n",
            "2012-07-20\n",
            "2012-07-19\n",
            "2012-07-18\n",
            "2012-07-17\n",
            "2012-07-16\n",
            "2012-07-13\n",
            "2012-07-12\n",
            "2012-07-11\n",
            "2012-07-10\n",
            "2012-07-09\n",
            "2012-07-06\n",
            "2012-07-05\n",
            "2012-07-04\n",
            "2012-07-03\n",
            "2012-07-02\n",
            "2012-06-29\n",
            "2012-06-28\n",
            "2012-06-27\n",
            "2012-06-26\n",
            "2012-06-25\n",
            "2012-06-22\n",
            "2012-06-21\n",
            "2012-06-20\n",
            "2012-06-19\n",
            "2012-06-18\n",
            "2012-06-15\n",
            "2012-06-14\n",
            "2012-06-13\n",
            "2012-06-12\n",
            "2012-06-11\n",
            "2012-06-08\n",
            "2012-06-07\n",
            "2012-06-06\n",
            "2012-06-05\n",
            "2012-06-04\n",
            "2012-06-01\n",
            "2012-05-31\n",
            "2012-05-30\n",
            "2012-05-29\n",
            "2012-05-28\n",
            "2012-05-25\n",
            "2012-05-24\n",
            "2012-05-23\n",
            "2012-05-22\n",
            "2012-05-21\n",
            "2012-05-18\n",
            "2012-05-17\n",
            "2012-05-16\n",
            "2012-05-15\n",
            "2012-05-14\n",
            "2012-05-11\n",
            "2012-05-10\n",
            "2012-05-09\n",
            "2012-05-08\n",
            "2012-05-07\n",
            "2012-05-04\n",
            "2012-05-03\n",
            "2012-05-02\n",
            "2012-05-01\n",
            "2012-04-30\n",
            "2012-04-27\n",
            "2012-04-26\n",
            "2012-04-25\n",
            "2012-04-24\n",
            "2012-04-23\n",
            "2012-04-20\n",
            "2012-04-19\n",
            "2012-04-18\n",
            "2012-04-17\n",
            "2012-04-16\n",
            "2012-04-13\n",
            "2012-04-12\n",
            "2012-04-11\n",
            "2012-04-10\n",
            "2012-04-09\n",
            "2012-04-06\n",
            "2012-04-05\n",
            "2012-04-04\n",
            "2012-04-03\n",
            "2012-04-02\n",
            "2012-03-30\n",
            "2012-03-29\n",
            "2012-03-28\n",
            "2012-03-27\n",
            "2012-03-26\n",
            "2012-03-23\n",
            "2012-03-22\n",
            "2012-03-21\n",
            "2012-03-20\n",
            "2012-03-19\n",
            "2012-03-16\n",
            "2012-03-15\n",
            "2012-03-14\n",
            "2012-03-13\n",
            "2012-03-12\n",
            "2012-03-09\n",
            "2012-03-08\n",
            "2012-03-07\n",
            "2012-03-06\n",
            "2012-03-05\n",
            "2012-03-02\n",
            "2012-03-01\n",
            "2012-02-29\n",
            "2012-02-28\n",
            "2012-02-27\n",
            "2012-02-24\n",
            "2012-02-23\n",
            "2012-02-22\n",
            "2012-02-21\n",
            "2012-02-20\n",
            "2012-02-17\n",
            "2012-02-16\n",
            "2012-02-15\n",
            "2012-02-14\n",
            "2012-02-13\n",
            "2012-02-10\n",
            "2012-02-09\n",
            "2012-02-08\n",
            "2012-02-07\n",
            "2012-02-06\n",
            "2012-02-03\n",
            "2012-02-02\n",
            "2012-02-01\n",
            "2012-01-31\n",
            "2012-01-30\n",
            "2012-01-27\n",
            "2012-01-26\n",
            "2012-01-25\n",
            "2012-01-24\n",
            "2012-01-23\n",
            "2012-01-20\n",
            "2012-01-19\n",
            "2012-01-18\n",
            "2012-01-17\n",
            "2012-01-16\n",
            "2012-01-13\n",
            "2012-01-12\n",
            "2012-01-11\n",
            "2012-01-10\n",
            "2012-01-09\n",
            "2012-01-06\n",
            "2012-01-05\n",
            "2012-01-04\n",
            "2012-01-03\n",
            "2012-01-02\n",
            "2011-12-30\n",
            "2011-12-29\n",
            "2011-12-28\n",
            "2011-12-27\n",
            "2011-12-26\n",
            "2011-12-23\n",
            "2011-12-22\n",
            "2011-12-21\n",
            "2011-12-20\n",
            "2011-12-19\n",
            "2011-12-16\n",
            "2011-12-15\n",
            "2011-12-14\n",
            "2011-12-13\n",
            "2011-12-12\n",
            "2011-12-09\n",
            "2011-12-08\n",
            "2011-12-07\n",
            "2011-12-06\n",
            "2011-12-05\n",
            "2011-12-02\n",
            "2011-12-01\n",
            "2011-11-30\n",
            "2011-11-29\n",
            "2011-11-28\n",
            "2011-11-25\n",
            "2011-11-24\n",
            "2011-11-23\n",
            "2011-11-22\n",
            "2011-11-21\n",
            "2011-11-18\n",
            "2011-11-17\n",
            "2011-11-16\n",
            "2011-11-15\n",
            "2011-11-14\n",
            "2011-11-11\n",
            "2011-11-10\n",
            "2011-11-09\n",
            "2011-11-08\n",
            "2011-11-07\n",
            "2011-11-04\n",
            "2011-11-03\n",
            "2011-11-02\n",
            "2011-11-01\n",
            "2011-10-31\n",
            "2011-10-28\n",
            "2011-10-27\n",
            "2011-10-26\n",
            "2011-10-25\n",
            "2011-10-24\n",
            "2011-10-21\n",
            "2011-10-20\n",
            "2011-10-19\n",
            "2011-10-18\n",
            "2011-10-17\n",
            "2011-10-14\n",
            "2011-10-13\n",
            "2011-10-12\n",
            "2011-10-11\n",
            "2011-10-10\n",
            "2011-10-07\n",
            "2011-10-06\n",
            "2011-10-05\n",
            "2011-10-04\n",
            "2011-10-03\n",
            "2011-09-30\n",
            "2011-09-29\n",
            "2011-09-28\n",
            "2011-09-27\n",
            "2011-09-26\n",
            "2011-09-23\n",
            "2011-09-22\n",
            "2011-09-21\n",
            "2011-09-20\n",
            "2011-09-19\n",
            "2011-09-16\n",
            "2011-09-15\n",
            "2011-09-14\n",
            "2011-09-13\n",
            "2011-09-12\n",
            "2011-09-09\n",
            "2011-09-08\n",
            "2011-09-07\n",
            "2011-09-06\n",
            "2011-09-05\n",
            "2011-09-02\n",
            "2011-09-01\n",
            "2011-08-31\n",
            "2011-08-30\n",
            "2011-08-29\n",
            "2011-08-26\n",
            "2011-08-25\n",
            "2011-08-24\n",
            "2011-08-23\n",
            "2011-08-22\n",
            "2011-08-19\n",
            "2011-08-18\n",
            "2011-08-17\n",
            "2011-08-16\n",
            "2011-08-15\n",
            "2011-08-12\n",
            "2011-08-11\n",
            "2011-08-10\n",
            "2011-08-09\n",
            "2011-08-08\n",
            "2011-08-05\n",
            "2011-08-04\n",
            "2011-08-03\n",
            "2011-08-02\n",
            "2011-08-01\n",
            "2011-07-29\n",
            "2011-07-28\n",
            "2011-07-27\n",
            "2011-07-26\n",
            "2011-07-25\n",
            "2011-07-22\n",
            "2011-07-21\n",
            "2011-07-20\n",
            "2011-07-19\n",
            "2011-07-18\n",
            "2011-07-15\n",
            "2011-07-14\n",
            "2011-07-13\n",
            "2011-07-12\n",
            "2011-07-11\n",
            "2011-07-08\n",
            "2011-07-07\n",
            "2011-07-06\n",
            "2011-07-05\n",
            "2011-07-04\n",
            "2011-07-01\n",
            "2011-06-30\n",
            "2011-06-29\n",
            "2011-06-28\n",
            "2011-06-27\n",
            "2011-06-24\n",
            "2011-06-23\n",
            "2011-06-22\n",
            "2011-06-21\n",
            "2011-06-20\n",
            "2011-06-17\n",
            "2011-06-16\n",
            "2011-06-15\n",
            "2011-06-14\n",
            "2011-06-13\n",
            "2011-06-10\n",
            "2011-06-09\n",
            "2011-06-08\n",
            "2011-06-07\n",
            "2011-06-06\n",
            "2011-06-03\n",
            "2011-06-02\n",
            "2011-06-01\n",
            "2011-05-31\n",
            "2011-05-30\n",
            "2011-05-27\n",
            "2011-05-26\n",
            "2011-05-25\n",
            "2011-05-24\n",
            "2011-05-23\n",
            "2011-05-20\n",
            "2011-05-19\n",
            "2011-05-18\n",
            "2011-05-17\n",
            "2011-05-16\n",
            "2011-05-13\n",
            "2011-05-12\n",
            "2011-05-11\n",
            "2011-05-10\n",
            "2011-05-09\n",
            "2011-05-06\n",
            "2011-05-05\n",
            "2011-05-04\n",
            "2011-05-03\n",
            "2011-05-02\n",
            "2011-04-29\n",
            "2011-04-28\n",
            "2011-04-27\n",
            "2011-04-26\n",
            "2011-04-25\n",
            "2011-04-22\n",
            "2011-04-21\n",
            "2011-04-20\n",
            "2011-04-19\n",
            "2011-04-18\n",
            "2011-04-15\n",
            "2011-04-14\n",
            "2011-04-13\n",
            "2011-04-12\n",
            "2011-04-11\n",
            "2011-04-08\n",
            "2011-04-07\n",
            "2011-04-06\n",
            "2011-04-05\n",
            "2011-04-04\n",
            "2011-04-01\n",
            "2011-03-31\n",
            "2011-03-30\n",
            "2011-03-29\n",
            "2011-03-28\n",
            "2011-03-25\n",
            "2011-03-24\n",
            "2011-03-23\n",
            "2011-03-22\n",
            "2011-03-21\n",
            "2011-03-18\n",
            "2011-03-17\n",
            "2011-03-16\n",
            "2011-03-15\n",
            "2011-03-14\n",
            "2011-03-11\n",
            "2011-03-10\n",
            "2011-03-09\n",
            "2011-03-08\n",
            "2011-03-07\n",
            "2011-03-04\n",
            "2011-03-03\n",
            "2011-03-02\n",
            "2011-03-01\n",
            "2011-02-28\n",
            "2011-02-25\n",
            "2011-02-24\n",
            "2011-02-23\n",
            "2011-02-22\n",
            "2011-02-21\n",
            "2011-02-18\n",
            "2011-02-17\n",
            "2011-02-16\n",
            "2011-02-15\n",
            "2011-02-14\n",
            "2011-02-11\n",
            "2011-02-10\n",
            "2011-02-09\n",
            "2011-02-08\n",
            "2011-02-07\n",
            "2011-02-04\n",
            "2011-02-03\n",
            "2011-02-02\n",
            "2011-02-01\n",
            "2011-01-31\n",
            "2011-01-28\n",
            "2011-01-27\n",
            "2011-01-26\n",
            "2011-01-25\n",
            "2011-01-24\n",
            "2011-01-21\n",
            "2011-01-20\n",
            "2011-01-19\n",
            "2011-01-18\n",
            "2011-01-17\n",
            "2011-01-14\n",
            "2011-01-13\n",
            "2011-01-12\n",
            "2011-01-11\n",
            "2011-01-10\n",
            "2011-01-07\n",
            "2011-01-06\n",
            "2011-01-05\n",
            "2011-01-04\n",
            "2011-01-03\n",
            "2010-12-31\n",
            "2010-12-30\n",
            "2010-12-29\n",
            "2010-12-28\n",
            "2010-12-27\n",
            "2010-12-24\n",
            "2010-12-23\n",
            "2010-12-22\n",
            "2010-12-21\n",
            "2010-12-20\n",
            "2010-12-17\n",
            "2010-12-16\n",
            "2010-12-15\n",
            "2010-12-14\n",
            "2010-12-13\n",
            "2010-12-10\n",
            "2010-12-09\n",
            "2010-12-08\n",
            "2010-12-07\n",
            "2010-12-06\n",
            "2010-12-03\n",
            "2010-12-02\n",
            "2010-12-01\n",
            "2010-11-30\n",
            "2010-11-29\n",
            "2010-11-26\n",
            "2010-11-25\n",
            "2010-11-24\n",
            "2010-11-23\n",
            "2010-11-22\n",
            "2010-11-19\n",
            "2010-11-18\n",
            "2010-11-17\n",
            "2010-11-16\n",
            "2010-11-15\n",
            "2010-11-12\n",
            "2010-11-11\n",
            "2010-11-10\n",
            "2010-11-09\n",
            "2010-11-08\n",
            "2010-11-05\n",
            "2010-11-04\n",
            "2010-11-03\n",
            "2010-11-02\n",
            "2010-11-01\n",
            "2010-10-29\n",
            "2010-10-28\n",
            "2010-10-27\n",
            "2010-10-26\n",
            "2010-10-25\n",
            "2010-10-22\n",
            "2010-10-21\n",
            "2010-10-20\n",
            "2010-10-19\n",
            "2010-10-18\n",
            "2010-10-15\n",
            "2010-10-14\n",
            "2010-10-13\n",
            "2010-10-12\n",
            "2010-10-11\n",
            "2010-10-08\n",
            "2010-10-07\n",
            "2010-10-06\n",
            "2010-10-05\n",
            "2010-10-04\n",
            "2010-10-01\n",
            "2010-09-30\n",
            "2010-09-29\n",
            "2010-09-28\n",
            "2010-09-27\n",
            "2010-09-24\n",
            "2010-09-23\n",
            "2010-09-22\n",
            "2010-09-21\n",
            "2010-09-20\n",
            "2010-09-17\n",
            "2010-09-16\n",
            "2010-09-15\n",
            "2010-09-14\n",
            "2010-09-13\n",
            "2010-09-10\n",
            "2010-09-09\n",
            "2010-09-08\n",
            "2010-09-07\n",
            "2010-09-06\n",
            "2010-09-03\n",
            "2010-09-02\n",
            "2010-09-01\n",
            "2010-08-31\n",
            "2010-08-30\n",
            "2010-08-27\n",
            "2010-08-26\n",
            "2010-08-25\n",
            "2010-08-24\n",
            "2010-08-23\n",
            "2010-08-20\n",
            "2010-08-19\n",
            "2010-08-18\n",
            "2010-08-17\n",
            "2010-08-16\n",
            "2010-08-13\n",
            "2010-08-12\n",
            "2010-08-11\n",
            "2010-08-10\n",
            "2010-08-09\n",
            "2010-08-06\n",
            "2010-08-05\n",
            "2010-08-04\n",
            "2010-08-03\n",
            "2010-08-02\n",
            "2010-07-30\n",
            "2010-07-29\n",
            "2010-07-28\n",
            "2010-07-27\n",
            "2010-07-26\n",
            "2010-07-23\n",
            "2010-07-22\n",
            "2010-07-21\n",
            "2010-07-20\n",
            "2010-07-19\n",
            "2010-07-16\n",
            "2010-07-15\n",
            "2010-07-14\n",
            "2010-07-13\n",
            "2010-07-12\n",
            "2010-07-09\n",
            "2010-07-08\n",
            "2010-07-07\n",
            "2010-07-06\n",
            "2010-07-05\n",
            "2010-07-02\n",
            "2010-07-01\n",
            "2010-06-30\n",
            "2010-06-29\n",
            "2010-06-28\n",
            "2010-06-25\n",
            "2010-06-24\n",
            "2010-06-23\n",
            "2010-06-22\n",
            "2010-06-21\n",
            "2010-06-18\n",
            "2010-06-17\n",
            "2010-06-16\n",
            "2010-06-15\n",
            "2010-06-14\n",
            "2010-06-11\n",
            "2010-06-10\n",
            "2010-06-09\n",
            "2010-06-08\n",
            "2010-06-07\n",
            "2010-06-04\n",
            "2010-06-03\n",
            "2010-06-02\n",
            "2010-06-01\n",
            "2010-05-31\n",
            "2010-05-28\n",
            "2010-05-27\n",
            "2010-05-26\n",
            "2010-05-25\n",
            "2010-05-24\n",
            "2010-05-21\n",
            "2010-05-20\n",
            "2010-05-19\n",
            "2010-05-18\n",
            "2010-05-17\n",
            "2010-05-14\n",
            "2010-05-13\n",
            "2010-05-12\n",
            "2010-05-11\n",
            "2010-05-10\n",
            "2010-05-07\n",
            "2010-05-06\n",
            "2010-05-05\n",
            "2010-05-04\n",
            "2010-05-03\n",
            "2010-04-30\n",
            "2010-04-29\n",
            "2010-04-28\n",
            "2010-04-27\n",
            "2010-04-26\n",
            "2010-04-23\n",
            "2010-04-22\n",
            "2010-04-21\n",
            "2010-04-20\n",
            "2010-04-19\n",
            "2010-04-16\n",
            "2010-04-15\n",
            "2010-04-14\n",
            "2010-04-13\n",
            "2010-04-12\n",
            "2010-04-09\n",
            "2010-04-08\n",
            "2010-04-07\n",
            "2010-04-06\n",
            "2010-04-05\n",
            "2010-04-02\n",
            "2010-04-01\n",
            "2010-03-31\n",
            "2010-03-30\n",
            "2010-03-29\n",
            "2010-03-26\n",
            "2010-03-25\n",
            "2010-03-24\n",
            "2010-03-23\n",
            "2010-03-22\n",
            "2010-03-19\n",
            "2010-03-18\n",
            "2010-03-17\n",
            "2010-03-16\n",
            "2010-03-15\n",
            "2010-03-12\n",
            "2010-03-11\n",
            "2010-03-10\n",
            "2010-03-09\n",
            "2010-03-08\n",
            "2010-03-05\n",
            "2010-03-04\n",
            "2010-03-03\n",
            "2010-03-02\n",
            "2010-03-01\n",
            "2010-02-26\n",
            "2010-02-25\n",
            "2010-02-24\n",
            "2010-02-23\n",
            "2010-02-22\n",
            "2010-02-19\n",
            "2010-02-18\n",
            "2010-02-17\n",
            "2010-02-16\n",
            "2010-02-15\n",
            "2010-02-12\n",
            "2010-02-11\n",
            "2010-02-10\n",
            "2010-02-09\n",
            "2010-02-08\n",
            "2010-02-05\n",
            "2010-02-04\n",
            "2010-02-03\n",
            "2010-02-02\n",
            "2010-02-01\n",
            "2010-01-29\n",
            "2010-01-28\n",
            "2010-01-27\n",
            "2010-01-26\n",
            "2010-01-25\n",
            "2010-01-22\n",
            "2010-01-21\n",
            "2010-01-20\n",
            "2010-01-19\n",
            "2010-01-18\n",
            "2010-01-15\n",
            "2010-01-14\n",
            "2010-01-13\n",
            "2010-01-12\n",
            "2010-01-11\n",
            "2010-01-08\n",
            "2010-01-07\n",
            "2010-01-06\n",
            "2010-01-05\n",
            "2010-01-04\n",
            "2010-01-01\n",
            "2009-12-31\n",
            "2009-12-30\n",
            "2009-12-29\n",
            "2009-12-28\n",
            "2009-12-25\n",
            "2009-12-24\n",
            "2009-12-23\n",
            "2009-12-22\n",
            "2009-12-21\n",
            "2009-12-18\n",
            "2009-12-17\n",
            "2009-12-16\n",
            "2009-12-15\n",
            "2009-12-14\n",
            "2009-12-11\n",
            "2009-12-10\n",
            "2009-12-09\n",
            "2009-12-08\n",
            "2009-12-07\n",
            "2009-12-04\n",
            "2009-12-03\n",
            "2009-12-02\n",
            "2009-12-01\n",
            "2009-11-30\n",
            "2009-11-27\n",
            "2009-11-26\n",
            "2009-11-25\n",
            "2009-11-24\n",
            "2009-11-23\n",
            "2009-11-20\n",
            "2009-11-19\n",
            "2009-11-18\n",
            "2009-11-17\n",
            "2009-11-16\n",
            "2009-11-13\n",
            "2009-11-12\n",
            "2009-11-11\n",
            "2009-11-10\n",
            "2009-11-09\n",
            "2009-11-06\n",
            "2009-11-05\n",
            "2009-11-04\n",
            "2009-11-02\n",
            "2009-10-30\n",
            "2009-10-29\n",
            "2009-10-28\n",
            "2009-10-27\n",
            "2009-10-26\n",
            "2009-10-23\n",
            "2009-10-22\n",
            "2009-10-21\n",
            "2009-10-20\n",
            "2009-10-19\n",
            "2009-10-16\n",
            "2009-10-15\n",
            "2009-10-14\n",
            "2009-10-13\n",
            "2009-10-09\n",
            "2009-10-08\n",
            "2009-10-07\n",
            "2009-10-06\n",
            "2009-10-05\n",
            "2009-10-02\n",
            "2009-10-01\n",
            "2009-09-30\n",
            "2009-09-29\n",
            "2009-09-28\n",
            "2009-09-25\n",
            "2009-09-24\n",
            "2009-09-18\n",
            "2009-09-17\n",
            "2009-09-16\n",
            "2009-09-15\n",
            "2009-09-14\n",
            "2009-09-11\n",
            "2009-09-10\n",
            "2009-09-09\n",
            "2009-09-08\n",
            "2009-09-07\n",
            "2009-09-04\n",
            "2009-09-03\n",
            "2009-09-02\n",
            "2009-09-01\n",
            "2009-08-31\n",
            "2009-08-28\n",
            "2009-08-27\n",
            "2009-08-26\n",
            "2009-08-25\n",
            "2009-08-24\n",
            "2009-08-21\n",
            "2009-08-20\n",
            "2009-08-19\n",
            "2009-08-18\n",
            "2009-08-17\n",
            "2009-08-14\n",
            "2009-08-13\n",
            "2009-08-12\n",
            "2009-08-11\n",
            "2009-08-10\n",
            "2009-08-07\n",
            "2009-08-06\n",
            "2009-08-05\n",
            "2009-08-04\n",
            "2009-08-03\n",
            "2009-07-31\n",
            "2009-07-30\n",
            "2009-07-29\n",
            "2009-07-28\n",
            "2009-07-27\n",
            "2009-07-24\n",
            "2009-07-23\n",
            "2009-07-22\n",
            "2009-07-21\n",
            "2009-07-17\n",
            "2009-07-16\n",
            "2009-07-15\n",
            "2009-07-14\n",
            "2009-07-13\n",
            "2009-07-10\n",
            "2009-07-09\n",
            "2009-07-08\n",
            "2009-07-07\n",
            "2009-07-06\n",
            "2009-07-03\n",
            "2009-07-02\n",
            "2009-07-01\n",
            "2009-06-30\n",
            "2009-06-29\n",
            "2009-06-26\n",
            "2009-06-25\n",
            "2009-06-24\n",
            "2009-06-23\n",
            "2009-06-22\n",
            "2009-06-19\n",
            "2009-06-18\n",
            "2009-06-17\n",
            "2009-06-16\n",
            "2009-06-15\n",
            "2009-06-12\n",
            "2009-06-11\n",
            "2009-06-10\n",
            "2009-06-09\n",
            "2009-06-08\n",
            "2009-06-05\n",
            "2009-06-04\n",
            "2009-06-03\n",
            "2009-06-02\n",
            "2009-06-01\n",
            "2009-05-29\n",
            "2009-05-28\n",
            "2009-05-27\n",
            "2009-05-26\n",
            "2009-05-25\n",
            "2009-05-22\n",
            "2009-05-21\n",
            "2009-05-20\n",
            "2009-05-19\n",
            "2009-05-18\n",
            "2009-05-15\n",
            "2009-05-14\n",
            "2009-05-13\n",
            "2009-05-12\n",
            "2009-05-11\n",
            "2009-05-08\n",
            "2009-05-07\n",
            "2009-05-01\n",
            "2009-04-30\n",
            "2009-04-28\n",
            "2009-04-27\n",
            "2009-04-24\n",
            "2009-04-23\n",
            "2009-04-22\n",
            "2009-04-21\n",
            "2009-04-20\n",
            "2009-04-17\n",
            "2009-04-16\n",
            "2009-04-15\n",
            "2009-04-14\n",
            "2009-04-13\n",
            "2009-04-10\n",
            "2009-04-09\n",
            "2009-04-08\n",
            "2009-04-07\n",
            "2009-04-06\n",
            "2009-04-03\n",
            "2009-04-02\n",
            "2009-04-01\n",
            "2009-03-31\n",
            "2009-03-30\n",
            "2009-03-27\n",
            "2009-03-26\n",
            "2009-03-25\n",
            "2009-03-24\n",
            "2009-03-23\n",
            "2009-03-19\n",
            "2009-03-18\n",
            "2009-03-17\n",
            "2009-03-16\n",
            "2009-03-13\n",
            "2009-03-12\n",
            "2009-03-11\n",
            "2009-03-10\n",
            "2009-03-09\n",
            "2009-03-06\n",
            "2009-03-05\n",
            "2009-03-04\n"
          ]
        },
        {
          "data": {
            "text/html": [
              "\n",
              "  <div id=\"df-8f14e58c-067d-460e-95ef-535676498ef6\">\n",
              "    <div class=\"colab-df-container\">\n",
              "      <div>\n",
              "<style scoped>\n",
              "    .dataframe tbody tr th:only-of-type {\n",
              "        vertical-align: middle;\n",
              "    }\n",
              "\n",
              "    .dataframe tbody tr th {\n",
              "        vertical-align: top;\n",
              "    }\n",
              "\n",
              "    .dataframe thead th {\n",
              "        text-align: right;\n",
              "    }\n",
              "</style>\n",
              "<table border=\"1\" class=\"dataframe\">\n",
              "  <thead>\n",
              "    <tr style=\"text-align: right;\">\n",
              "      <th></th>\n",
              "      <th>終値</th>\n",
              "      <th>始値</th>\n",
              "      <th>高値</th>\n",
              "      <th>安値</th>\n",
              "      <th>出来高</th>\n",
              "      <th>前日比%</th>\n",
              "    </tr>\n",
              "    <tr>\n",
              "      <th>日付け</th>\n",
              "      <th></th>\n",
              "      <th></th>\n",
              "      <th></th>\n",
              "      <th></th>\n",
              "      <th></th>\n",
              "      <th></th>\n",
              "    </tr>\n",
              "  </thead>\n",
              "  <tbody>\n",
              "    <tr>\n",
              "      <th>2017-01-31</th>\n",
              "      <td>18980.0</td>\n",
              "      <td>19350.0</td>\n",
              "      <td>19390.0</td>\n",
              "      <td>18970.0</td>\n",
              "      <td>82.98K</td>\n",
              "      <td>-1.81</td>\n",
              "    </tr>\n",
              "    <tr>\n",
              "      <th>2017-01-30</th>\n",
              "      <td>19330.0</td>\n",
              "      <td>19500.0</td>\n",
              "      <td>19560.0</td>\n",
              "      <td>19280.0</td>\n",
              "      <td>48.95K</td>\n",
              "      <td>-0.67</td>\n",
              "    </tr>\n",
              "    <tr>\n",
              "      <th>2017-01-27</th>\n",
              "      <td>19460.0</td>\n",
              "      <td>19450.0</td>\n",
              "      <td>19560.0</td>\n",
              "      <td>19390.0</td>\n",
              "      <td>63.14K</td>\n",
              "      <td>0.00</td>\n",
              "    </tr>\n",
              "  </tbody>\n",
              "</table>\n",
              "</div>\n",
              "      <button class=\"colab-df-convert\" onclick=\"convertToInteractive('df-8f14e58c-067d-460e-95ef-535676498ef6')\"\n",
              "              title=\"Convert this dataframe to an interactive table.\"\n",
              "              style=\"display:none;\">\n",
              "        \n",
              "  <svg xmlns=\"http://www.w3.org/2000/svg\" height=\"24px\"viewBox=\"0 0 24 24\"\n",
              "       width=\"24px\">\n",
              "    <path d=\"M0 0h24v24H0V0z\" fill=\"none\"/>\n",
              "    <path d=\"M18.56 5.44l.94 2.06.94-2.06 2.06-.94-2.06-.94-.94-2.06-.94 2.06-2.06.94zm-11 1L8.5 8.5l.94-2.06 2.06-.94-2.06-.94L8.5 2.5l-.94 2.06-2.06.94zm10 10l.94 2.06.94-2.06 2.06-.94-2.06-.94-.94-2.06-.94 2.06-2.06.94z\"/><path d=\"M17.41 7.96l-1.37-1.37c-.4-.4-.92-.59-1.43-.59-.52 0-1.04.2-1.43.59L10.3 9.45l-7.72 7.72c-.78.78-.78 2.05 0 2.83L4 21.41c.39.39.9.59 1.41.59.51 0 1.02-.2 1.41-.59l7.78-7.78 2.81-2.81c.8-.78.8-2.07 0-2.86zM5.41 20L4 18.59l7.72-7.72 1.47 1.35L5.41 20z\"/>\n",
              "  </svg>\n",
              "      </button>\n",
              "      \n",
              "  <style>\n",
              "    .colab-df-container {\n",
              "      display:flex;\n",
              "      flex-wrap:wrap;\n",
              "      gap: 12px;\n",
              "    }\n",
              "\n",
              "    .colab-df-convert {\n",
              "      background-color: #E8F0FE;\n",
              "      border: none;\n",
              "      border-radius: 50%;\n",
              "      cursor: pointer;\n",
              "      display: none;\n",
              "      fill: #1967D2;\n",
              "      height: 32px;\n",
              "      padding: 0 0 0 0;\n",
              "      width: 32px;\n",
              "    }\n",
              "\n",
              "    .colab-df-convert:hover {\n",
              "      background-color: #E2EBFA;\n",
              "      box-shadow: 0px 1px 2px rgba(60, 64, 67, 0.3), 0px 1px 3px 1px rgba(60, 64, 67, 0.15);\n",
              "      fill: #174EA6;\n",
              "    }\n",
              "\n",
              "    [theme=dark] .colab-df-convert {\n",
              "      background-color: #3B4455;\n",
              "      fill: #D2E3FC;\n",
              "    }\n",
              "\n",
              "    [theme=dark] .colab-df-convert:hover {\n",
              "      background-color: #434B5C;\n",
              "      box-shadow: 0px 1px 3px 1px rgba(0, 0, 0, 0.15);\n",
              "      filter: drop-shadow(0px 1px 2px rgba(0, 0, 0, 0.3));\n",
              "      fill: #FFFFFF;\n",
              "    }\n",
              "  </style>\n",
              "\n",
              "      <script>\n",
              "        const buttonEl =\n",
              "          document.querySelector('#df-8f14e58c-067d-460e-95ef-535676498ef6 button.colab-df-convert');\n",
              "        buttonEl.style.display =\n",
              "          google.colab.kernel.accessAllowed ? 'block' : 'none';\n",
              "\n",
              "        async function convertToInteractive(key) {\n",
              "          const element = document.querySelector('#df-8f14e58c-067d-460e-95ef-535676498ef6');\n",
              "          const dataTable =\n",
              "            await google.colab.kernel.invokeFunction('convertToInteractive',\n",
              "                                                     [key], {});\n",
              "          if (!dataTable) return;\n",
              "\n",
              "          const docLinkHtml = 'Like what you see? Visit the ' +\n",
              "            '<a target=\"_blank\" href=https://colab.research.google.com/notebooks/data_table.ipynb>data table notebook</a>'\n",
              "            + ' to learn more about interactive tables.';\n",
              "          element.innerHTML = '';\n",
              "          dataTable['output_type'] = 'display_data';\n",
              "          await google.colab.output.renderOutput(dataTable, element);\n",
              "          const docLink = document.createElement('div');\n",
              "          docLink.innerHTML = docLinkHtml;\n",
              "          element.appendChild(docLink);\n",
              "        }\n",
              "      </script>\n",
              "    </div>\n",
              "  </div>\n",
              "  "
            ],
            "text/plain": [
              "                 終値       始値       高値       安値     出来高  前日比%\n",
              "日付け                                                         \n",
              "2017-01-31  18980.0  19350.0  19390.0  18970.0  82.98K -1.81\n",
              "2017-01-30  19330.0  19500.0  19560.0  19280.0  48.95K -0.67\n",
              "2017-01-27  19460.0  19450.0  19560.0  19390.0  63.14K  0.00"
            ]
          },
          "execution_count": 5,
          "metadata": {},
          "output_type": "execute_result"
        }
      ],
      "source": [
        "# 年月日を除いてハイフン(-)で繋げる\n",
        "date = []\n",
        "for i in df[\"日付け\"]:\n",
        "  p = i[0:4] + \"-\" + i[5:7] + \"-\" + i[8:10]\n",
        "  print(p)\n",
        "  date.append(p)\n",
        "\n",
        "# 上記処理後、データフレーム化および型(datetime)に変換\n",
        "date = pd.DataFrame({\"日付け\":date})\n",
        "date = pd.to_datetime(date[\"日付け\"])\n",
        "\n",
        "# 元データからカラム(日付)を削除\n",
        "df = df.drop(columns = [\"日付け\"])\n",
        "# 横結合\n",
        "df2 = pd.concat([df, date], axis=1)\n",
        "# 日付のインデックス化\n",
        "df3 = df2.set_index(\"日付け\")\n",
        "df3.head(3)"
      ]
    },
    {
      "cell_type": "code",
      "execution_count": 6,
      "metadata": {
        "colab": {
          "base_uri": "https://localhost:8080/",
          "height": 175
        },
        "id": "j_G1pOzh9YOh",
        "outputId": "81ec2a7b-34ca-4096-fb38-a7fd07960ee6"
      },
      "outputs": [
        {
          "data": {
            "text/html": [
              "\n",
              "  <div id=\"df-59baf4ae-c823-4e4d-ad5b-91fa0ab4a256\">\n",
              "    <div class=\"colab-df-container\">\n",
              "      <div>\n",
              "<style scoped>\n",
              "    .dataframe tbody tr th:only-of-type {\n",
              "        vertical-align: middle;\n",
              "    }\n",
              "\n",
              "    .dataframe tbody tr th {\n",
              "        vertical-align: top;\n",
              "    }\n",
              "\n",
              "    .dataframe thead th {\n",
              "        text-align: right;\n",
              "    }\n",
              "</style>\n",
              "<table border=\"1\" class=\"dataframe\">\n",
              "  <thead>\n",
              "    <tr style=\"text-align: right;\">\n",
              "      <th></th>\n",
              "      <th>終値</th>\n",
              "      <th>始値</th>\n",
              "      <th>高値</th>\n",
              "      <th>安値</th>\n",
              "      <th>出来高</th>\n",
              "      <th>前日比%</th>\n",
              "    </tr>\n",
              "    <tr>\n",
              "      <th>日付け</th>\n",
              "      <th></th>\n",
              "      <th></th>\n",
              "      <th></th>\n",
              "      <th></th>\n",
              "      <th></th>\n",
              "      <th></th>\n",
              "    </tr>\n",
              "  </thead>\n",
              "  <tbody>\n",
              "    <tr>\n",
              "      <th>2017-01-31</th>\n",
              "      <td>18980.0</td>\n",
              "      <td>19350.0</td>\n",
              "      <td>19390.0</td>\n",
              "      <td>18970.0</td>\n",
              "      <td>82.98K</td>\n",
              "      <td>-1.81</td>\n",
              "    </tr>\n",
              "    <tr>\n",
              "      <th>2017-01-30</th>\n",
              "      <td>19330.0</td>\n",
              "      <td>19500.0</td>\n",
              "      <td>19560.0</td>\n",
              "      <td>19280.0</td>\n",
              "      <td>48.95K</td>\n",
              "      <td>-0.67</td>\n",
              "    </tr>\n",
              "    <tr>\n",
              "      <th>2017-01-27</th>\n",
              "      <td>19460.0</td>\n",
              "      <td>19450.0</td>\n",
              "      <td>19560.0</td>\n",
              "      <td>19390.0</td>\n",
              "      <td>63.14K</td>\n",
              "      <td>0.00</td>\n",
              "    </tr>\n",
              "  </tbody>\n",
              "</table>\n",
              "</div>\n",
              "      <button class=\"colab-df-convert\" onclick=\"convertToInteractive('df-59baf4ae-c823-4e4d-ad5b-91fa0ab4a256')\"\n",
              "              title=\"Convert this dataframe to an interactive table.\"\n",
              "              style=\"display:none;\">\n",
              "        \n",
              "  <svg xmlns=\"http://www.w3.org/2000/svg\" height=\"24px\"viewBox=\"0 0 24 24\"\n",
              "       width=\"24px\">\n",
              "    <path d=\"M0 0h24v24H0V0z\" fill=\"none\"/>\n",
              "    <path d=\"M18.56 5.44l.94 2.06.94-2.06 2.06-.94-2.06-.94-.94-2.06-.94 2.06-2.06.94zm-11 1L8.5 8.5l.94-2.06 2.06-.94-2.06-.94L8.5 2.5l-.94 2.06-2.06.94zm10 10l.94 2.06.94-2.06 2.06-.94-2.06-.94-.94-2.06-.94 2.06-2.06.94z\"/><path d=\"M17.41 7.96l-1.37-1.37c-.4-.4-.92-.59-1.43-.59-.52 0-1.04.2-1.43.59L10.3 9.45l-7.72 7.72c-.78.78-.78 2.05 0 2.83L4 21.41c.39.39.9.59 1.41.59.51 0 1.02-.2 1.41-.59l7.78-7.78 2.81-2.81c.8-.78.8-2.07 0-2.86zM5.41 20L4 18.59l7.72-7.72 1.47 1.35L5.41 20z\"/>\n",
              "  </svg>\n",
              "      </button>\n",
              "      \n",
              "  <style>\n",
              "    .colab-df-container {\n",
              "      display:flex;\n",
              "      flex-wrap:wrap;\n",
              "      gap: 12px;\n",
              "    }\n",
              "\n",
              "    .colab-df-convert {\n",
              "      background-color: #E8F0FE;\n",
              "      border: none;\n",
              "      border-radius: 50%;\n",
              "      cursor: pointer;\n",
              "      display: none;\n",
              "      fill: #1967D2;\n",
              "      height: 32px;\n",
              "      padding: 0 0 0 0;\n",
              "      width: 32px;\n",
              "    }\n",
              "\n",
              "    .colab-df-convert:hover {\n",
              "      background-color: #E2EBFA;\n",
              "      box-shadow: 0px 1px 2px rgba(60, 64, 67, 0.3), 0px 1px 3px 1px rgba(60, 64, 67, 0.15);\n",
              "      fill: #174EA6;\n",
              "    }\n",
              "\n",
              "    [theme=dark] .colab-df-convert {\n",
              "      background-color: #3B4455;\n",
              "      fill: #D2E3FC;\n",
              "    }\n",
              "\n",
              "    [theme=dark] .colab-df-convert:hover {\n",
              "      background-color: #434B5C;\n",
              "      box-shadow: 0px 1px 3px 1px rgba(0, 0, 0, 0.15);\n",
              "      filter: drop-shadow(0px 1px 2px rgba(0, 0, 0, 0.3));\n",
              "      fill: #FFFFFF;\n",
              "    }\n",
              "  </style>\n",
              "\n",
              "      <script>\n",
              "        const buttonEl =\n",
              "          document.querySelector('#df-59baf4ae-c823-4e4d-ad5b-91fa0ab4a256 button.colab-df-convert');\n",
              "        buttonEl.style.display =\n",
              "          google.colab.kernel.accessAllowed ? 'block' : 'none';\n",
              "\n",
              "        async function convertToInteractive(key) {\n",
              "          const element = document.querySelector('#df-59baf4ae-c823-4e4d-ad5b-91fa0ab4a256');\n",
              "          const dataTable =\n",
              "            await google.colab.kernel.invokeFunction('convertToInteractive',\n",
              "                                                     [key], {});\n",
              "          if (!dataTable) return;\n",
              "\n",
              "          const docLinkHtml = 'Like what you see? Visit the ' +\n",
              "            '<a target=\"_blank\" href=https://colab.research.google.com/notebooks/data_table.ipynb>data table notebook</a>'\n",
              "            + ' to learn more about interactive tables.';\n",
              "          element.innerHTML = '';\n",
              "          dataTable['output_type'] = 'display_data';\n",
              "          await google.colab.output.renderOutput(dataTable, element);\n",
              "          const docLink = document.createElement('div');\n",
              "          docLink.innerHTML = docLinkHtml;\n",
              "          element.appendChild(docLink);\n",
              "        }\n",
              "      </script>\n",
              "    </div>\n",
              "  </div>\n",
              "  "
            ],
            "text/plain": [
              "                 終値       始値       高値       安値     出来高  前日比%\n",
              "日付け                                                         \n",
              "2017-01-31  18980.0  19350.0  19390.0  18970.0  82.98K -1.81\n",
              "2017-01-30  19330.0  19500.0  19560.0  19280.0  48.95K -0.67\n",
              "2017-01-27  19460.0  19450.0  19560.0  19390.0  63.14K  0.00"
            ]
          },
          "execution_count": 6,
          "metadata": {},
          "output_type": "execute_result"
        }
      ],
      "source": [
        "df3.head(3)\n"
      ]
    },
    {
      "cell_type": "code",
      "execution_count": 7,
      "metadata": {
        "colab": {
          "base_uri": "https://localhost:8080/",
          "height": 455
        },
        "id": "fOhMnEDYZzH3",
        "outputId": "3460b492-5051-4084-cc06-94700ed51d3e"
      },
      "outputs": [
        {
          "data": {
            "text/html": [
              "\n",
              "  <div id=\"df-011cbd37-1f49-44bf-a9ff-1fb3a3e9dc1b\">\n",
              "    <div class=\"colab-df-container\">\n",
              "      <div>\n",
              "<style scoped>\n",
              "    .dataframe tbody tr th:only-of-type {\n",
              "        vertical-align: middle;\n",
              "    }\n",
              "\n",
              "    .dataframe tbody tr th {\n",
              "        vertical-align: top;\n",
              "    }\n",
              "\n",
              "    .dataframe thead th {\n",
              "        text-align: right;\n",
              "    }\n",
              "</style>\n",
              "<table border=\"1\" class=\"dataframe\">\n",
              "  <thead>\n",
              "    <tr style=\"text-align: right;\">\n",
              "      <th></th>\n",
              "      <th>終値</th>\n",
              "    </tr>\n",
              "    <tr>\n",
              "      <th>日付け</th>\n",
              "      <th></th>\n",
              "    </tr>\n",
              "  </thead>\n",
              "  <tbody>\n",
              "    <tr>\n",
              "      <th>2017-01-31</th>\n",
              "      <td>18980.0</td>\n",
              "    </tr>\n",
              "    <tr>\n",
              "      <th>2017-01-30</th>\n",
              "      <td>19330.0</td>\n",
              "    </tr>\n",
              "    <tr>\n",
              "      <th>2017-01-27</th>\n",
              "      <td>19460.0</td>\n",
              "    </tr>\n",
              "    <tr>\n",
              "      <th>2017-01-26</th>\n",
              "      <td>19460.0</td>\n",
              "    </tr>\n",
              "    <tr>\n",
              "      <th>2017-01-25</th>\n",
              "      <td>19070.0</td>\n",
              "    </tr>\n",
              "    <tr>\n",
              "      <th>...</th>\n",
              "      <td>...</td>\n",
              "    </tr>\n",
              "    <tr>\n",
              "      <th>2009-03-10</th>\n",
              "      <td>7040.0</td>\n",
              "    </tr>\n",
              "    <tr>\n",
              "      <th>2009-03-09</th>\n",
              "      <td>7050.0</td>\n",
              "    </tr>\n",
              "    <tr>\n",
              "      <th>2009-03-06</th>\n",
              "      <td>7170.0</td>\n",
              "    </tr>\n",
              "    <tr>\n",
              "      <th>2009-03-05</th>\n",
              "      <td>7410.0</td>\n",
              "    </tr>\n",
              "    <tr>\n",
              "      <th>2009-03-04</th>\n",
              "      <td>7270.0</td>\n",
              "    </tr>\n",
              "  </tbody>\n",
              "</table>\n",
              "<p>2064 rows × 1 columns</p>\n",
              "</div>\n",
              "      <button class=\"colab-df-convert\" onclick=\"convertToInteractive('df-011cbd37-1f49-44bf-a9ff-1fb3a3e9dc1b')\"\n",
              "              title=\"Convert this dataframe to an interactive table.\"\n",
              "              style=\"display:none;\">\n",
              "        \n",
              "  <svg xmlns=\"http://www.w3.org/2000/svg\" height=\"24px\"viewBox=\"0 0 24 24\"\n",
              "       width=\"24px\">\n",
              "    <path d=\"M0 0h24v24H0V0z\" fill=\"none\"/>\n",
              "    <path d=\"M18.56 5.44l.94 2.06.94-2.06 2.06-.94-2.06-.94-.94-2.06-.94 2.06-2.06.94zm-11 1L8.5 8.5l.94-2.06 2.06-.94-2.06-.94L8.5 2.5l-.94 2.06-2.06.94zm10 10l.94 2.06.94-2.06 2.06-.94-2.06-.94-.94-2.06-.94 2.06-2.06.94z\"/><path d=\"M17.41 7.96l-1.37-1.37c-.4-.4-.92-.59-1.43-.59-.52 0-1.04.2-1.43.59L10.3 9.45l-7.72 7.72c-.78.78-.78 2.05 0 2.83L4 21.41c.39.39.9.59 1.41.59.51 0 1.02-.2 1.41-.59l7.78-7.78 2.81-2.81c.8-.78.8-2.07 0-2.86zM5.41 20L4 18.59l7.72-7.72 1.47 1.35L5.41 20z\"/>\n",
              "  </svg>\n",
              "      </button>\n",
              "      \n",
              "  <style>\n",
              "    .colab-df-container {\n",
              "      display:flex;\n",
              "      flex-wrap:wrap;\n",
              "      gap: 12px;\n",
              "    }\n",
              "\n",
              "    .colab-df-convert {\n",
              "      background-color: #E8F0FE;\n",
              "      border: none;\n",
              "      border-radius: 50%;\n",
              "      cursor: pointer;\n",
              "      display: none;\n",
              "      fill: #1967D2;\n",
              "      height: 32px;\n",
              "      padding: 0 0 0 0;\n",
              "      width: 32px;\n",
              "    }\n",
              "\n",
              "    .colab-df-convert:hover {\n",
              "      background-color: #E2EBFA;\n",
              "      box-shadow: 0px 1px 2px rgba(60, 64, 67, 0.3), 0px 1px 3px 1px rgba(60, 64, 67, 0.15);\n",
              "      fill: #174EA6;\n",
              "    }\n",
              "\n",
              "    [theme=dark] .colab-df-convert {\n",
              "      background-color: #3B4455;\n",
              "      fill: #D2E3FC;\n",
              "    }\n",
              "\n",
              "    [theme=dark] .colab-df-convert:hover {\n",
              "      background-color: #434B5C;\n",
              "      box-shadow: 0px 1px 3px 1px rgba(0, 0, 0, 0.15);\n",
              "      filter: drop-shadow(0px 1px 2px rgba(0, 0, 0, 0.3));\n",
              "      fill: #FFFFFF;\n",
              "    }\n",
              "  </style>\n",
              "\n",
              "      <script>\n",
              "        const buttonEl =\n",
              "          document.querySelector('#df-011cbd37-1f49-44bf-a9ff-1fb3a3e9dc1b button.colab-df-convert');\n",
              "        buttonEl.style.display =\n",
              "          google.colab.kernel.accessAllowed ? 'block' : 'none';\n",
              "\n",
              "        async function convertToInteractive(key) {\n",
              "          const element = document.querySelector('#df-011cbd37-1f49-44bf-a9ff-1fb3a3e9dc1b');\n",
              "          const dataTable =\n",
              "            await google.colab.kernel.invokeFunction('convertToInteractive',\n",
              "                                                     [key], {});\n",
              "          if (!dataTable) return;\n",
              "\n",
              "          const docLinkHtml = 'Like what you see? Visit the ' +\n",
              "            '<a target=\"_blank\" href=https://colab.research.google.com/notebooks/data_table.ipynb>data table notebook</a>'\n",
              "            + ' to learn more about interactive tables.';\n",
              "          element.innerHTML = '';\n",
              "          dataTable['output_type'] = 'display_data';\n",
              "          await google.colab.output.renderOutput(dataTable, element);\n",
              "          const docLink = document.createElement('div');\n",
              "          docLink.innerHTML = docLinkHtml;\n",
              "          element.appendChild(docLink);\n",
              "        }\n",
              "      </script>\n",
              "    </div>\n",
              "  </div>\n",
              "  "
            ],
            "text/plain": [
              "                 終値\n",
              "日付け                \n",
              "2017-01-31  18980.0\n",
              "2017-01-30  19330.0\n",
              "2017-01-27  19460.0\n",
              "2017-01-26  19460.0\n",
              "2017-01-25  19070.0\n",
              "...             ...\n",
              "2009-03-10   7040.0\n",
              "2009-03-09   7050.0\n",
              "2009-03-06   7170.0\n",
              "2009-03-05   7410.0\n",
              "2009-03-04   7270.0\n",
              "\n",
              "[2064 rows x 1 columns]"
            ]
          },
          "execution_count": 7,
          "metadata": {},
          "output_type": "execute_result"
        }
      ],
      "source": [
        "df = df3[[\"終値\"]]\n",
        "df"
      ]
    },
    {
      "cell_type": "markdown",
      "metadata": {
        "id": "HMiB6n-jb1GO"
      },
      "source": [
        "ひとまずdfで進むとする。\n",
        "\n",
        "これでfloatに変換.⇒array形式になってしまった。\n",
        "\n"
      ]
    },
    {
      "cell_type": "code",
      "execution_count": 8,
      "metadata": {
        "colab": {
          "base_uri": "https://localhost:8080/"
        },
        "id": "M81sPg1Pb4j1",
        "outputId": "540badb7-cb7b-4fff-e8b5-fe22389018aa"
      },
      "outputs": [
        {
          "data": {
            "text/plain": [
              "array([[18980.],\n",
              "       [19330.],\n",
              "       [19460.],\n",
              "       ...,\n",
              "       [ 7170.],\n",
              "       [ 7410.],\n",
              "       [ 7270.]], dtype=float32)"
            ]
          },
          "execution_count": 8,
          "metadata": {},
          "output_type": "execute_result"
        }
      ],
      "source": [
        "df = df.values          # 辞書の値のみ取得するのが.values\n",
        "df = df.astype('float32')\n",
        "df"
      ]
    },
    {
      "cell_type": "markdown",
      "metadata": {
        "id": "4oWfP4Xz3oRf"
      },
      "source": [
        "### [データ分割](https://premium.aidemy.jp/courses/6160/exercises/ZkSMBMEp7K)\n",
        "前半67%(2/3)を訓練データに、後半33%(1/3)を検証データに分割"
      ]
    },
    {
      "cell_type": "markdown",
      "metadata": {
        "id": "IL1_a1vZ37iG"
      },
      "source": [
        "訓練データは機械学習モデルの学習（調整）を行うためのデータ。\n",
        "\n",
        "検証データはモデルの予測結果の精度を評価するデータ。\n",
        "\n",
        "ランダムにデータを分けてはいけません。⇒シャッフルフォルス\n"
      ]
    },
    {
      "cell_type": "markdown",
      "metadata": {
        "id": "afBG86Kdcj9c"
      },
      "source": [
        "今回は<font color=\"red\">validation</font>を用いません。私があまり理解していないから。"
      ]
    },
    {
      "cell_type": "code",
      "execution_count": 9,
      "metadata": {
        "colab": {
          "base_uri": "https://localhost:8080/"
        },
        "id": "g0EgYw_-c1aO",
        "outputId": "786207dd-ec9d-46a4-b042-c65c28490252"
      },
      "outputs": [
        {
          "name": "stdout",
          "output_type": "stream",
          "text": [
            "2064 1382 682\n"
          ]
        }
      ],
      "source": [
        "#データ分割。シンプルに２つに分ける。\n",
        "#訓練データ、テストデータは2:1になるように。だとよ。\n",
        "\n",
        "train =df[:int(len(df)*0.67)] # この長さまで。\n",
        "test  =df[int(len(df)*0.67):] # この長さ以降。\n",
        "\n",
        "print(len(df), len(train), len(test))"
      ]
    },
    {
      "cell_type": "markdown",
      "metadata": {
        "id": "OeZJk_nC6vAM"
      },
      "source": [
        "### [データスケーリング](https://premium.aidemy.jp/courses/6160/exercises/NpMLLgDLXX)\n",
        "\n",
        "単位や値の範囲が異なるデータをある基準で均一化して尺度を揃える\n",
        "\n",
        "今回は正規化"
      ]
    },
    {
      "cell_type": "markdown",
      "metadata": {
        "id": "TeBMK7xp7GOd"
      },
      "source": [
        "年齢と年収の場合で、\n",
        "\n",
        "年齢：0〜100程度の値\n",
        "\n",
        "年収は0〜1億など広範囲の値。\n",
        "\n",
        "これらの値をそのまま使ってしまうと年齢に対して年収の値が圧倒的に大きな影響を持ってしまう。⇒うまく学習できないといった現象に。\n",
        "　⇒これを防ぐための<font color=\"red\">スケーリング</font>"
      ]
    },
    {
      "cell_type": "markdown",
      "metadata": {
        "id": "cr04RKIF8Ez_"
      },
      "source": [
        "スケーリングの手段⇒正規化と標準化"
      ]
    },
    {
      "cell_type": "markdown",
      "metadata": {
        "id": "ROEclj0i8J8d"
      },
      "source": [
        "<font color=\"red\">正規化</font>（MinMaxScaler）：最低値が0、最高値が1になるように値を変換。\n",
        "\n",
        "<font color=\"red\">標準化</font>（StandardScaler）は平均が0、標準偏差が1になるように元の値を変換。"
      ]
    },
    {
      "cell_type": "markdown",
      "metadata": {
        "id": "kxHLPpVQ88wM"
      },
      "source": [
        "機械学習ではスケーリングは<font color=\"red\">訓練データのみ</font>を基準に行います。\n",
        "\n",
        "下記の例を参照。トレインデータを基準として、トレインとテストを正規化。"
      ]
    },
    {
      "cell_type": "code",
      "execution_count": 10,
      "metadata": {
        "colab": {
          "base_uri": "https://localhost:8080/",
          "height": 143
        },
        "id": "pTP0G6kc9VOG",
        "outputId": "1236a48c-45f2-4d83-9608-e8da037e563f"
      },
      "outputs": [
        {
          "data": {
            "text/html": [
              "\n",
              "  <div id=\"df-5a45792e-eb88-4183-8193-f440209fe819\">\n",
              "    <div class=\"colab-df-container\">\n",
              "      <div>\n",
              "<style scoped>\n",
              "    .dataframe tbody tr th:only-of-type {\n",
              "        vertical-align: middle;\n",
              "    }\n",
              "\n",
              "    .dataframe tbody tr th {\n",
              "        vertical-align: top;\n",
              "    }\n",
              "\n",
              "    .dataframe thead th {\n",
              "        text-align: right;\n",
              "    }\n",
              "</style>\n",
              "<table border=\"1\" class=\"dataframe\">\n",
              "  <thead>\n",
              "    <tr style=\"text-align: right;\">\n",
              "      <th></th>\n",
              "      <th>0</th>\n",
              "    </tr>\n",
              "  </thead>\n",
              "  <tbody>\n",
              "    <tr>\n",
              "      <th>0</th>\n",
              "      <td>0.070189</td>\n",
              "    </tr>\n",
              "    <tr>\n",
              "      <th>1</th>\n",
              "      <td>0.059937</td>\n",
              "    </tr>\n",
              "    <tr>\n",
              "      <th>2</th>\n",
              "      <td>0.044953</td>\n",
              "    </tr>\n",
              "  </tbody>\n",
              "</table>\n",
              "</div>\n",
              "      <button class=\"colab-df-convert\" onclick=\"convertToInteractive('df-5a45792e-eb88-4183-8193-f440209fe819')\"\n",
              "              title=\"Convert this dataframe to an interactive table.\"\n",
              "              style=\"display:none;\">\n",
              "        \n",
              "  <svg xmlns=\"http://www.w3.org/2000/svg\" height=\"24px\"viewBox=\"0 0 24 24\"\n",
              "       width=\"24px\">\n",
              "    <path d=\"M0 0h24v24H0V0z\" fill=\"none\"/>\n",
              "    <path d=\"M18.56 5.44l.94 2.06.94-2.06 2.06-.94-2.06-.94-.94-2.06-.94 2.06-2.06.94zm-11 1L8.5 8.5l.94-2.06 2.06-.94-2.06-.94L8.5 2.5l-.94 2.06-2.06.94zm10 10l.94 2.06.94-2.06 2.06-.94-2.06-.94-.94-2.06-.94 2.06-2.06.94z\"/><path d=\"M17.41 7.96l-1.37-1.37c-.4-.4-.92-.59-1.43-.59-.52 0-1.04.2-1.43.59L10.3 9.45l-7.72 7.72c-.78.78-.78 2.05 0 2.83L4 21.41c.39.39.9.59 1.41.59.51 0 1.02-.2 1.41-.59l7.78-7.78 2.81-2.81c.8-.78.8-2.07 0-2.86zM5.41 20L4 18.59l7.72-7.72 1.47 1.35L5.41 20z\"/>\n",
              "  </svg>\n",
              "      </button>\n",
              "      \n",
              "  <style>\n",
              "    .colab-df-container {\n",
              "      display:flex;\n",
              "      flex-wrap:wrap;\n",
              "      gap: 12px;\n",
              "    }\n",
              "\n",
              "    .colab-df-convert {\n",
              "      background-color: #E8F0FE;\n",
              "      border: none;\n",
              "      border-radius: 50%;\n",
              "      cursor: pointer;\n",
              "      display: none;\n",
              "      fill: #1967D2;\n",
              "      height: 32px;\n",
              "      padding: 0 0 0 0;\n",
              "      width: 32px;\n",
              "    }\n",
              "\n",
              "    .colab-df-convert:hover {\n",
              "      background-color: #E2EBFA;\n",
              "      box-shadow: 0px 1px 2px rgba(60, 64, 67, 0.3), 0px 1px 3px 1px rgba(60, 64, 67, 0.15);\n",
              "      fill: #174EA6;\n",
              "    }\n",
              "\n",
              "    [theme=dark] .colab-df-convert {\n",
              "      background-color: #3B4455;\n",
              "      fill: #D2E3FC;\n",
              "    }\n",
              "\n",
              "    [theme=dark] .colab-df-convert:hover {\n",
              "      background-color: #434B5C;\n",
              "      box-shadow: 0px 1px 3px 1px rgba(0, 0, 0, 0.15);\n",
              "      filter: drop-shadow(0px 1px 2px rgba(0, 0, 0, 0.3));\n",
              "      fill: #FFFFFF;\n",
              "    }\n",
              "  </style>\n",
              "\n",
              "      <script>\n",
              "        const buttonEl =\n",
              "          document.querySelector('#df-5a45792e-eb88-4183-8193-f440209fe819 button.colab-df-convert');\n",
              "        buttonEl.style.display =\n",
              "          google.colab.kernel.accessAllowed ? 'block' : 'none';\n",
              "\n",
              "        async function convertToInteractive(key) {\n",
              "          const element = document.querySelector('#df-5a45792e-eb88-4183-8193-f440209fe819');\n",
              "          const dataTable =\n",
              "            await google.colab.kernel.invokeFunction('convertToInteractive',\n",
              "                                                     [key], {});\n",
              "          if (!dataTable) return;\n",
              "\n",
              "          const docLinkHtml = 'Like what you see? Visit the ' +\n",
              "            '<a target=\"_blank\" href=https://colab.research.google.com/notebooks/data_table.ipynb>data table notebook</a>'\n",
              "            + ' to learn more about interactive tables.';\n",
              "          element.innerHTML = '';\n",
              "          dataTable['output_type'] = 'display_data';\n",
              "          await google.colab.output.renderOutput(dataTable, element);\n",
              "          const docLink = document.createElement('div');\n",
              "          docLink.innerHTML = docLinkHtml;\n",
              "          element.appendChild(docLink);\n",
              "        }\n",
              "      </script>\n",
              "    </div>\n",
              "  </div>\n",
              "  "
            ],
            "text/plain": [
              "          0\n",
              "0  0.070189\n",
              "1  0.059937\n",
              "2  0.044953"
            ]
          },
          "execution_count": 10,
          "metadata": {},
          "output_type": "execute_result"
        }
      ],
      "source": [
        "# データのスケーリング（正規化）⇒最小値が0, 最大値が1となるようにする。\n",
        "# MinMaxScaler()は、データをfeature_rangeで指定した範囲内(今回は0～1)に正規化するモジュール\n",
        "\n",
        "from sklearn.preprocessing import MinMaxScaler\n",
        "scaler = MinMaxScaler(feature_range=(0, 1))\n",
        "\n",
        "\n",
        "# トレインデータを基準として、トレインとテストを正規化。\n",
        "scaler_train = scaler.fit(train)\n",
        "# パラメータを用いて`train`データをスケーリングします\n",
        "train = scaler_train.transform(train)\n",
        "# パラメータを用いて`test`データをスケーリングします\n",
        "test = scaler_train.transform(test)\n",
        "\n",
        "\n",
        "df_train_scale = pd.DataFrame(train)\n",
        "df_test_scale = pd.DataFrame(test)\n",
        "\n",
        "df_train_scale.head(3)\n",
        "df_test_scale.head(3)"
      ]
    },
    {
      "cell_type": "markdown",
      "metadata": {
        "id": "LWAtGLSVB-pR"
      },
      "source": [
        "### [入力データ・正解ラベルの作成](https://premium.aidemy.jp/courses/6160/exercises/SOTuOSnQ2Y)\n",
        "<font color=\"red\">look_back = nのn</font>がいくつ前のデータまで利用するか。\n",
        "　どのくらい前までのデータを利用するのですか？という事。\n",
        "\n",
        "この例だと、基準点含めて３つ前までのデータを利用して次を予測します。という事\n",
        "\n",
        "train⇒train_X, train_Y\n",
        "\n",
        "test ⇒test_X, test_Y\n"
      ]
    },
    {
      "cell_type": "markdown",
      "metadata": {
        "id": "WzBImmpLCRz9"
      },
      "source": [
        "![2022-08-20_11h17_07.png](data:image/png;base64,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)"
      ]
    },
    {
      "cell_type": "code",
      "execution_count": 11,
      "metadata": {
        "colab": {
          "base_uri": "https://localhost:8080/",
          "height": 143
        },
        "id": "sPZfag6TDf3L",
        "outputId": "025e7158-971a-43a2-8d04-43ffd66d88bb"
      },
      "outputs": [
        {
          "data": {
            "text/html": [
              "\n",
              "  <div id=\"df-8e656a08-5ee4-4baf-9760-e86ae5c88824\">\n",
              "    <div class=\"colab-df-container\">\n",
              "      <div>\n",
              "<style scoped>\n",
              "    .dataframe tbody tr th:only-of-type {\n",
              "        vertical-align: middle;\n",
              "    }\n",
              "\n",
              "    .dataframe tbody tr th {\n",
              "        vertical-align: top;\n",
              "    }\n",
              "\n",
              "    .dataframe thead th {\n",
              "        text-align: right;\n",
              "    }\n",
              "</style>\n",
              "<table border=\"1\" class=\"dataframe\">\n",
              "  <thead>\n",
              "    <tr style=\"text-align: right;\">\n",
              "      <th></th>\n",
              "      <th>0</th>\n",
              "    </tr>\n",
              "  </thead>\n",
              "  <tbody>\n",
              "    <tr>\n",
              "      <th>0</th>\n",
              "      <td>0.070189</td>\n",
              "    </tr>\n",
              "    <tr>\n",
              "      <th>1</th>\n",
              "      <td>0.059937</td>\n",
              "    </tr>\n",
              "    <tr>\n",
              "      <th>2</th>\n",
              "      <td>0.044953</td>\n",
              "    </tr>\n",
              "  </tbody>\n",
              "</table>\n",
              "</div>\n",
              "      <button class=\"colab-df-convert\" onclick=\"convertToInteractive('df-8e656a08-5ee4-4baf-9760-e86ae5c88824')\"\n",
              "              title=\"Convert this dataframe to an interactive table.\"\n",
              "              style=\"display:none;\">\n",
              "        \n",
              "  <svg xmlns=\"http://www.w3.org/2000/svg\" height=\"24px\"viewBox=\"0 0 24 24\"\n",
              "       width=\"24px\">\n",
              "    <path d=\"M0 0h24v24H0V0z\" fill=\"none\"/>\n",
              "    <path d=\"M18.56 5.44l.94 2.06.94-2.06 2.06-.94-2.06-.94-.94-2.06-.94 2.06-2.06.94zm-11 1L8.5 8.5l.94-2.06 2.06-.94-2.06-.94L8.5 2.5l-.94 2.06-2.06.94zm10 10l.94 2.06.94-2.06 2.06-.94-2.06-.94-.94-2.06-.94 2.06-2.06.94z\"/><path d=\"M17.41 7.96l-1.37-1.37c-.4-.4-.92-.59-1.43-.59-.52 0-1.04.2-1.43.59L10.3 9.45l-7.72 7.72c-.78.78-.78 2.05 0 2.83L4 21.41c.39.39.9.59 1.41.59.51 0 1.02-.2 1.41-.59l7.78-7.78 2.81-2.81c.8-.78.8-2.07 0-2.86zM5.41 20L4 18.59l7.72-7.72 1.47 1.35L5.41 20z\"/>\n",
              "  </svg>\n",
              "      </button>\n",
              "      \n",
              "  <style>\n",
              "    .colab-df-container {\n",
              "      display:flex;\n",
              "      flex-wrap:wrap;\n",
              "      gap: 12px;\n",
              "    }\n",
              "\n",
              "    .colab-df-convert {\n",
              "      background-color: #E8F0FE;\n",
              "      border: none;\n",
              "      border-radius: 50%;\n",
              "      cursor: pointer;\n",
              "      display: none;\n",
              "      fill: #1967D2;\n",
              "      height: 32px;\n",
              "      padding: 0 0 0 0;\n",
              "      width: 32px;\n",
              "    }\n",
              "\n",
              "    .colab-df-convert:hover {\n",
              "      background-color: #E2EBFA;\n",
              "      box-shadow: 0px 1px 2px rgba(60, 64, 67, 0.3), 0px 1px 3px 1px rgba(60, 64, 67, 0.15);\n",
              "      fill: #174EA6;\n",
              "    }\n",
              "\n",
              "    [theme=dark] .colab-df-convert {\n",
              "      background-color: #3B4455;\n",
              "      fill: #D2E3FC;\n",
              "    }\n",
              "\n",
              "    [theme=dark] .colab-df-convert:hover {\n",
              "      background-color: #434B5C;\n",
              "      box-shadow: 0px 1px 3px 1px rgba(0, 0, 0, 0.15);\n",
              "      filter: drop-shadow(0px 1px 2px rgba(0, 0, 0, 0.3));\n",
              "      fill: #FFFFFF;\n",
              "    }\n",
              "  </style>\n",
              "\n",
              "      <script>\n",
              "        const buttonEl =\n",
              "          document.querySelector('#df-8e656a08-5ee4-4baf-9760-e86ae5c88824 button.colab-df-convert');\n",
              "        buttonEl.style.display =\n",
              "          google.colab.kernel.accessAllowed ? 'block' : 'none';\n",
              "\n",
              "        async function convertToInteractive(key) {\n",
              "          const element = document.querySelector('#df-8e656a08-5ee4-4baf-9760-e86ae5c88824');\n",
              "          const dataTable =\n",
              "            await google.colab.kernel.invokeFunction('convertToInteractive',\n",
              "                                                     [key], {});\n",
              "          if (!dataTable) return;\n",
              "\n",
              "          const docLinkHtml = 'Like what you see? Visit the ' +\n",
              "            '<a target=\"_blank\" href=https://colab.research.google.com/notebooks/data_table.ipynb>data table notebook</a>'\n",
              "            + ' to learn more about interactive tables.';\n",
              "          element.innerHTML = '';\n",
              "          dataTable['output_type'] = 'display_data';\n",
              "          await google.colab.output.renderOutput(dataTable, element);\n",
              "          const docLink = document.createElement('div');\n",
              "          docLink.innerHTML = docLinkHtml;\n",
              "          element.appendChild(docLink);\n",
              "        }\n",
              "      </script>\n",
              "    </div>\n",
              "  </div>\n",
              "  "
            ],
            "text/plain": [
              "          0\n",
              "0  0.070189\n",
              "1  0.059937\n",
              "2  0.044953"
            ]
          },
          "execution_count": 11,
          "metadata": {},
          "output_type": "execute_result"
        }
      ],
      "source": [
        "# trainとtestデータ\n",
        "df_train_scale.head(3)\n",
        "df_test_scale.head(3)"
      ]
    },
    {
      "cell_type": "code",
      "execution_count": 12,
      "metadata": {
        "id": "cljKj2HlDX7s"
      },
      "outputs": [],
      "source": [
        "# LSTn用の入力データ・正解ラベルの作成　独自関数を作成。\n",
        "#　引数に look_back,dataset\n",
        "import numpy as np\n",
        "\n",
        "def create_dataset(dataset, look_back):\n",
        "    data_X, data_Y = [], []\n",
        "    for i in range(look_back, len(dataset)):\n",
        "        data_X.append(dataset[i-look_back:i, 0])\n",
        "        data_Y.append(dataset[i, 0])\n",
        "    return np.array(data_X), np.array(data_Y)"
      ]
    },
    {
      "cell_type": "code",
      "execution_count": 13,
      "metadata": {
        "colab": {
          "base_uri": "https://localhost:8080/",
          "height": 423
        },
        "id": "s20fmFU4E4Se",
        "outputId": "020b09a1-3e36-4f14-f481-d0523e56d118"
      },
      "outputs": [
        {
          "data": {
            "text/html": [
              "\n",
              "  <div id=\"df-48e25df3-d42c-4adf-9f29-e0c563926c0f\">\n",
              "    <div class=\"colab-df-container\">\n",
              "      <div>\n",
              "<style scoped>\n",
              "    .dataframe tbody tr th:only-of-type {\n",
              "        vertical-align: middle;\n",
              "    }\n",
              "\n",
              "    .dataframe tbody tr th {\n",
              "        vertical-align: top;\n",
              "    }\n",
              "\n",
              "    .dataframe thead th {\n",
              "        text-align: right;\n",
              "    }\n",
              "</style>\n",
              "<table border=\"1\" class=\"dataframe\">\n",
              "  <thead>\n",
              "    <tr style=\"text-align: right;\">\n",
              "      <th></th>\n",
              "      <th>0</th>\n",
              "      <th>1</th>\n",
              "      <th>2</th>\n",
              "      <th>3</th>\n",
              "      <th>4</th>\n",
              "    </tr>\n",
              "  </thead>\n",
              "  <tbody>\n",
              "    <tr>\n",
              "      <th>0</th>\n",
              "      <td>0.853312</td>\n",
              "      <td>0.880915</td>\n",
              "      <td>0.891167</td>\n",
              "      <td>0.891167</td>\n",
              "      <td>0.860410</td>\n",
              "    </tr>\n",
              "    <tr>\n",
              "      <th>1</th>\n",
              "      <td>0.880915</td>\n",
              "      <td>0.891167</td>\n",
              "      <td>0.891167</td>\n",
              "      <td>0.860410</td>\n",
              "      <td>0.842271</td>\n",
              "    </tr>\n",
              "    <tr>\n",
              "      <th>2</th>\n",
              "      <td>0.891167</td>\n",
              "      <td>0.891167</td>\n",
              "      <td>0.860410</td>\n",
              "      <td>0.842271</td>\n",
              "      <td>0.848580</td>\n",
              "    </tr>\n",
              "    <tr>\n",
              "      <th>3</th>\n",
              "      <td>0.891167</td>\n",
              "      <td>0.860410</td>\n",
              "      <td>0.842271</td>\n",
              "      <td>0.848580</td>\n",
              "      <td>0.867508</td>\n",
              "    </tr>\n",
              "    <tr>\n",
              "      <th>4</th>\n",
              "      <td>0.860410</td>\n",
              "      <td>0.842271</td>\n",
              "      <td>0.848580</td>\n",
              "      <td>0.867508</td>\n",
              "      <td>0.862776</td>\n",
              "    </tr>\n",
              "    <tr>\n",
              "      <th>...</th>\n",
              "      <td>...</td>\n",
              "      <td>...</td>\n",
              "      <td>...</td>\n",
              "      <td>...</td>\n",
              "      <td>...</td>\n",
              "    </tr>\n",
              "    <tr>\n",
              "      <th>1372</th>\n",
              "      <td>0.026814</td>\n",
              "      <td>0.026025</td>\n",
              "      <td>0.044953</td>\n",
              "      <td>0.040221</td>\n",
              "      <td>0.047319</td>\n",
              "    </tr>\n",
              "    <tr>\n",
              "      <th>1373</th>\n",
              "      <td>0.026025</td>\n",
              "      <td>0.044953</td>\n",
              "      <td>0.040221</td>\n",
              "      <td>0.047319</td>\n",
              "      <td>0.050473</td>\n",
              "    </tr>\n",
              "    <tr>\n",
              "      <th>1374</th>\n",
              "      <td>0.044953</td>\n",
              "      <td>0.040221</td>\n",
              "      <td>0.047319</td>\n",
              "      <td>0.050473</td>\n",
              "      <td>0.049487</td>\n",
              "    </tr>\n",
              "    <tr>\n",
              "      <th>1375</th>\n",
              "      <td>0.040221</td>\n",
              "      <td>0.047319</td>\n",
              "      <td>0.050473</td>\n",
              "      <td>0.049487</td>\n",
              "      <td>0.041798</td>\n",
              "    </tr>\n",
              "    <tr>\n",
              "      <th>1376</th>\n",
              "      <td>0.047319</td>\n",
              "      <td>0.050473</td>\n",
              "      <td>0.049487</td>\n",
              "      <td>0.041798</td>\n",
              "      <td>0.054416</td>\n",
              "    </tr>\n",
              "  </tbody>\n",
              "</table>\n",
              "<p>1377 rows × 5 columns</p>\n",
              "</div>\n",
              "      <button class=\"colab-df-convert\" onclick=\"convertToInteractive('df-48e25df3-d42c-4adf-9f29-e0c563926c0f')\"\n",
              "              title=\"Convert this dataframe to an interactive table.\"\n",
              "              style=\"display:none;\">\n",
              "        \n",
              "  <svg xmlns=\"http://www.w3.org/2000/svg\" height=\"24px\"viewBox=\"0 0 24 24\"\n",
              "       width=\"24px\">\n",
              "    <path d=\"M0 0h24v24H0V0z\" fill=\"none\"/>\n",
              "    <path d=\"M18.56 5.44l.94 2.06.94-2.06 2.06-.94-2.06-.94-.94-2.06-.94 2.06-2.06.94zm-11 1L8.5 8.5l.94-2.06 2.06-.94-2.06-.94L8.5 2.5l-.94 2.06-2.06.94zm10 10l.94 2.06.94-2.06 2.06-.94-2.06-.94-.94-2.06-.94 2.06-2.06.94z\"/><path d=\"M17.41 7.96l-1.37-1.37c-.4-.4-.92-.59-1.43-.59-.52 0-1.04.2-1.43.59L10.3 9.45l-7.72 7.72c-.78.78-.78 2.05 0 2.83L4 21.41c.39.39.9.59 1.41.59.51 0 1.02-.2 1.41-.59l7.78-7.78 2.81-2.81c.8-.78.8-2.07 0-2.86zM5.41 20L4 18.59l7.72-7.72 1.47 1.35L5.41 20z\"/>\n",
              "  </svg>\n",
              "      </button>\n",
              "      \n",
              "  <style>\n",
              "    .colab-df-container {\n",
              "      display:flex;\n",
              "      flex-wrap:wrap;\n",
              "      gap: 12px;\n",
              "    }\n",
              "\n",
              "    .colab-df-convert {\n",
              "      background-color: #E8F0FE;\n",
              "      border: none;\n",
              "      border-radius: 50%;\n",
              "      cursor: pointer;\n",
              "      display: none;\n",
              "      fill: #1967D2;\n",
              "      height: 32px;\n",
              "      padding: 0 0 0 0;\n",
              "      width: 32px;\n",
              "    }\n",
              "\n",
              "    .colab-df-convert:hover {\n",
              "      background-color: #E2EBFA;\n",
              "      box-shadow: 0px 1px 2px rgba(60, 64, 67, 0.3), 0px 1px 3px 1px rgba(60, 64, 67, 0.15);\n",
              "      fill: #174EA6;\n",
              "    }\n",
              "\n",
              "    [theme=dark] .colab-df-convert {\n",
              "      background-color: #3B4455;\n",
              "      fill: #D2E3FC;\n",
              "    }\n",
              "\n",
              "    [theme=dark] .colab-df-convert:hover {\n",
              "      background-color: #434B5C;\n",
              "      box-shadow: 0px 1px 3px 1px rgba(0, 0, 0, 0.15);\n",
              "      filter: drop-shadow(0px 1px 2px rgba(0, 0, 0, 0.3));\n",
              "      fill: #FFFFFF;\n",
              "    }\n",
              "  </style>\n",
              "\n",
              "      <script>\n",
              "        const buttonEl =\n",
              "          document.querySelector('#df-48e25df3-d42c-4adf-9f29-e0c563926c0f button.colab-df-convert');\n",
              "        buttonEl.style.display =\n",
              "          google.colab.kernel.accessAllowed ? 'block' : 'none';\n",
              "\n",
              "        async function convertToInteractive(key) {\n",
              "          const element = document.querySelector('#df-48e25df3-d42c-4adf-9f29-e0c563926c0f');\n",
              "          const dataTable =\n",
              "            await google.colab.kernel.invokeFunction('convertToInteractive',\n",
              "                                                     [key], {});\n",
              "          if (!dataTable) return;\n",
              "\n",
              "          const docLinkHtml = 'Like what you see? Visit the ' +\n",
              "            '<a target=\"_blank\" href=https://colab.research.google.com/notebooks/data_table.ipynb>data table notebook</a>'\n",
              "            + ' to learn more about interactive tables.';\n",
              "          element.innerHTML = '';\n",
              "          dataTable['output_type'] = 'display_data';\n",
              "          await google.colab.output.renderOutput(dataTable, element);\n",
              "          const docLink = document.createElement('div');\n",
              "          docLink.innerHTML = docLinkHtml;\n",
              "          element.appendChild(docLink);\n",
              "        }\n",
              "      </script>\n",
              "    </div>\n",
              "  </div>\n",
              "  "
            ],
            "text/plain": [
              "             0         1         2         3         4\n",
              "0     0.853312  0.880915  0.891167  0.891167  0.860410\n",
              "1     0.880915  0.891167  0.891167  0.860410  0.842271\n",
              "2     0.891167  0.891167  0.860410  0.842271  0.848580\n",
              "3     0.891167  0.860410  0.842271  0.848580  0.867508\n",
              "4     0.860410  0.842271  0.848580  0.867508  0.862776\n",
              "...        ...       ...       ...       ...       ...\n",
              "1372  0.026814  0.026025  0.044953  0.040221  0.047319\n",
              "1373  0.026025  0.044953  0.040221  0.047319  0.050473\n",
              "1374  0.044953  0.040221  0.047319  0.050473  0.049487\n",
              "1375  0.040221  0.047319  0.050473  0.049487  0.041798\n",
              "1376  0.047319  0.050473  0.049487  0.041798  0.054416\n",
              "\n",
              "[1377 rows x 5 columns]"
            ]
          },
          "execution_count": 13,
          "metadata": {},
          "output_type": "execute_result"
        }
      ],
      "source": [
        "# その独自関数の呼び出し\n",
        "look_back = 5\n",
        "\n",
        "train_X, train_Y = create_dataset(train, look_back)\n",
        "test_X, test_Y = create_dataset(test, look_back)\n",
        "\n",
        "train_X_df = pd.DataFrame(train_X)\n",
        "train_X_df"
      ]
    },
    {
      "cell_type": "markdown",
      "metadata": {
        "id": "Vv-7CKsuc_C-"
      },
      "source": [
        "look backが5つなんで、5列あるという訳ですね。\n",
        "\n",
        "そして時系列なので斜めが同じ数値になっている。⇒一つづつズレている。という事に着目。"
      ]
    },
    {
      "cell_type": "code",
      "execution_count": 14,
      "metadata": {
        "colab": {
          "base_uri": "https://localhost:8080/"
        },
        "id": "1Bc2WwpeFPNv",
        "outputId": "2be36435-614e-43b6-faa4-24dec19bc8bd"
      },
      "outputs": [
        {
          "name": "stdout",
          "output_type": "stream",
          "text": [
            "train_X\n",
            "[[0.85331225 0.8809148  0.89116716 0.89116716 0.8604101 ]\n",
            " [0.8809148  0.89116716 0.89116716 0.8604101  0.8422713 ]\n",
            " [0.89116716 0.89116716 0.8604101  0.8422713  0.8485805 ]\n",
            " ...\n",
            " [0.04495269 0.0402208  0.04731864 0.05047321 0.04948741]\n",
            " [0.0402208  0.04731864 0.05047321 0.04948741 0.04179811]\n",
            " [0.04731864 0.05047321 0.04948741 0.04179811 0.05441642]]\n",
            "\n",
            "train_Y\n",
            "[0.8422713  0.8485805  0.8675078  ... 0.04179811 0.05441642 0.06309146]\n",
            "\n",
            "test_X\n",
            "[[ 0.0701893   0.05993688  0.04495269  0.04810727  0.05362779]\n",
            " [ 0.05993688  0.04495269  0.04810727  0.05362779  0.04100949]\n",
            " [ 0.04495269  0.04810727  0.05362779  0.04100949  0.0402208 ]\n",
            " ...\n",
            " [-0.05126184 -0.08438486 -0.06072557 -0.08832806 -0.08753943]\n",
            " [-0.08438486 -0.06072557 -0.08832806 -0.08753943 -0.07807571]\n",
            " [-0.06072557 -0.08832806 -0.08753943 -0.07807571 -0.05914825]]\n",
            "\n",
            "test_Y\n",
            "[ 0.04100949  0.0402208   0.04968452  0.04652995  0.05835962  0.04810727\n",
            "  0.05047321  0.04574132  0.04810727  0.0498817   0.03391165  0.02917981\n",
            "  0.01735014  0.02287066  0.02917981  0.04258674  0.04337537  0.03785491\n",
            "  0.03312302  0.01025236  0.02251577  0.02602524  0.04100949  0.03864354\n",
            "  0.04160094  0.04968452  0.03470033  0.02365929  0.03233439  0.02523661\n",
            "  0.03864354  0.04495269  0.0488959   0.03548896  0.04810727  0.0615142\n",
            "  0.07097793  0.06309146  0.06230283  0.05599368  0.04968452  0.0488959\n",
            "  0.03943217  0.04574132  0.03627759  0.04337537  0.0615142   0.06940061\n",
            "  0.07176656  0.07097793  0.06309146  0.06466877  0.06782335  0.06624603\n",
            "  0.07570976  0.08832806  0.11908519  0.11750787  0.1317035   0.14274448\n",
            "  0.1317035   0.13722396  0.148265    0.15378547  0.14905363  0.15615141\n",
            "  0.14589906  0.14668769  0.13643533  0.14018136  0.14274448  0.1395899\n",
            "  0.14116716  0.13880128  0.15141958  0.15772873  0.15141958  0.15141958\n",
            "  0.14195585  0.14195585  0.13328075  0.1309148   0.12854892  0.11750787\n",
            "  0.11277604  0.11908519  0.11356467  0.1143533   0.101735    0.09384859\n",
            "  0.09305996  0.09858042  0.11198735  0.10804415  0.101735    0.10567826\n",
            "  0.10410094  0.10252368  0.101735    0.09779179  0.10725552  0.10962147\n",
            "  0.12223977  0.12066245  0.10725552  0.10804415  0.10962147  0.09858042\n",
            "  0.10410094  0.10252368  0.11514193  0.11593062  0.11908519  0.11198735\n",
            "  0.11041009  0.11908519  0.12145108  0.13406938  0.1309148   0.13012618\n",
            "  0.13328075  0.12835175  0.13347793  0.13978708  0.14747632  0.13978708\n",
            "  0.13485807  0.12223977  0.10962147  0.11987382  0.11987382  0.11987382\n",
            "  0.1143533   0.10094637  0.11041009  0.11041009  0.11750787  0.11671925\n",
            "  0.11041009  0.1230284   0.1269716   0.11277604  0.1143533   0.11593062\n",
            "  0.12223977  0.12145108  0.12618297  0.12223977  0.10410094  0.09858042\n",
            "  0.101735    0.09384859  0.09621453  0.10804415  0.10429811  0.07649845\n",
            "  0.06072557  0.06624603  0.03785491  0.10252368  0.15851736  0.17429024\n",
            "  0.192429    0.18611985  0.18690854  0.20031548  0.19164038  0.18375397\n",
            "  0.20425868  0.19479495  0.18533123  0.18217665  0.19006312  0.1971609\n",
            "  0.21372241  0.21214509  0.21135646  0.20820189  0.20347005  0.20268136\n",
            "  0.20074922  0.19400632  0.19400632  0.19479495  0.19164038  0.18690854\n",
            "  0.1798107   0.18138802  0.16640377  0.1632492   0.17429024  0.18296528\n",
            "  0.17823344  0.18217665  0.1719243   0.1671924   0.1798107   0.19006312\n",
            "  0.18611985  0.1845426   0.1845426   0.18927443  0.18611985  0.18533123\n",
            "  0.18119085  0.1884858   0.18533123  0.17507887  0.17507887  0.1729101\n",
            "  0.16068614  0.16167194  0.17350155  0.17034698  0.17271292  0.1671924\n",
            "  0.16502368  0.17113566  0.17271292  0.1632492   0.16798109  0.16876972\n",
            "  0.16876972  0.16955835  0.1671924   0.16167194  0.16640377  0.16403782\n",
            "  0.15694004  0.15930599  0.16009462  0.15772873  0.14511043  0.14116716\n",
            "  0.15457416  0.14984226  0.15141958  0.148265    0.13978708  0.15457416\n",
            "  0.14905363  0.14353311  0.1317035   0.12776023  0.1309148   0.12460566\n",
            "  0.13406938  0.13012618  0.12066245  0.1230284   0.11750787  0.09463722\n",
            "  0.08970821  0.07965302  0.07886434  0.08123028  0.09542584  0.09858042\n",
            "  0.09463722  0.10015774  0.09936911  0.09542584  0.09621453  0.10804415\n",
            "  0.10488957  0.10725552  0.11119872  0.09858042  0.09779179  0.11770505\n",
            "  0.11198735  0.12066245  0.12145108  0.10725552  0.09384859  0.09700316\n",
            "  0.09463722  0.11041009  0.10488957  0.10883284  0.09779179  0.09444004\n",
            "  0.10725552  0.10804415  0.11652207  0.11119872  0.10015774  0.10331231\n",
            "  0.08596212  0.08675081  0.08044165  0.06861198  0.06703472  0.08359623\n",
            "  0.08911669  0.0741325   0.06940061  0.06072557  0.05047321  0.07649845\n",
            "  0.06388015  0.05757099  0.0528391   0.06388015  0.0741325   0.07886434\n",
            "  0.09463722  0.08517349  0.07965302  0.08044165  0.08753943  0.08123028\n",
            "  0.08832806  0.10883284  0.11041009  0.11750787  0.11514193  0.10488957\n",
            "  0.11987382  0.11041009  0.10804415  0.12066245  0.12381703  0.10567826\n",
            "  0.10488957  0.10094637  0.08201891  0.08832806  0.08990538  0.085765\n",
            "  0.09779179  0.11908519  0.12854892  0.10804415  0.10962147  0.11198735\n",
            "  0.10883284  0.08911669  0.09384859  0.08675081  0.0828076   0.08044165\n",
            "  0.09463722  0.10962147  0.12066245  0.12460566  0.13801259  0.13722396\n",
            "  0.15378547  0.1632492   0.14511043  0.14589906  0.15220821  0.13249213\n",
            "  0.1356467   0.12223977  0.10646689  0.10410094  0.10804415  0.10646689\n",
            "  0.1395899   0.14037853  0.1143533   0.12460566  0.12618297  0.12933755\n",
            "  0.11750787  0.10488957  0.10094637  0.12618297  0.12381703  0.148265\n",
            "  0.15615141  0.16561514  0.16403782  0.18059939  0.19558358  0.17429024\n",
            "  0.17665613  0.18769717  0.17902207  0.19873816  0.20130128  0.20130128\n",
            "  0.23229498  0.22791797  0.23008674  0.21924287  0.24053627  0.23659307\n",
            "  0.22003156  0.22003156  0.23186117  0.21608835  0.21687698  0.23107255\n",
            "  0.2452681   0.24053627  0.23580444  0.24447948  0.24053627  0.2373817\n",
            "  0.24684542  0.2460568   0.25236595  0.24842268  0.24211359  0.23186117\n",
            "  0.23343849  0.22555202  0.21845424  0.20583594  0.20347005  0.20189273\n",
            "  0.20248425  0.20425868  0.19952679  0.20662463  0.19794953  0.19794953\n",
            "  0.19873816  0.19321764  0.19006312  0.18927443  0.19085175  0.17429024\n",
            "  0.15615141  0.1632492   0.1632492   0.15851736  0.15299684  0.15299684\n",
            "  0.16088331  0.17271292  0.17429024  0.15615141  0.17113566  0.16798109\n",
            "  0.14668769  0.14589906  0.15299684  0.15043378  0.14432174  0.14037853\n",
            "  0.14195585  0.14984226  0.17271292  0.17823344  0.17429024  0.16009462\n",
            "  0.15772873  0.17823344  0.16640377  0.1719243   0.18533123  0.19164038\n",
            "  0.21135646  0.2011041   0.20504731  0.21135646  0.22160882  0.21529967\n",
            "  0.20189273  0.21529967  0.20485014  0.20899051  0.20031548  0.2011041\n",
            "  0.19952679  0.19558358  0.19302052  0.1932571   0.18769717  0.19637221\n",
            "  0.19479495  0.18533123  0.18533123  0.18237382  0.17271292  0.16009462\n",
            "  0.15615141  0.15694004  0.15930599  0.15063089  0.15299684  0.15299684\n",
            "  0.1317035   0.14511043  0.15457416  0.15694004  0.14511043  0.14116716\n",
            "  0.11593062  0.10962147  0.09227127  0.07176656  0.09700316  0.101735\n",
            "  0.09700316  0.10666406  0.10488957  0.10962147  0.11908519  0.12460566\n",
            "  0.12933755  0.12539434  0.12854892  0.1356467   0.13485807  0.12933755\n",
            "  0.12776023  0.12145108  0.1309148   0.1317035   0.14589906  0.1356467\n",
            "  0.15141958  0.16482651  0.17350155  0.16798109  0.16640377  0.17113566\n",
            "  0.17113566  0.16482651  0.16640377  0.16403782  0.15141958  0.15220821\n",
            "  0.14589906  0.13406938  0.12854892  0.11987382  0.11987382  0.12381703\n",
            "  0.14353311  0.15378547  0.15299684  0.14747632  0.16955835  0.18138802\n",
            "  0.1719243   0.17507887  0.16167194  0.16009462  0.15930599  0.17665613\n",
            "  0.18217665  0.1719243   0.17744482  0.16955835  0.16009462  0.16088331\n",
            "  0.16955835  0.1845426   0.18059939  0.18690854  0.18533123  0.19558358\n",
            "  0.1845426   0.1884858   0.1671924   0.17350155  0.16167194  0.16876972\n",
            "  0.16482651  0.19164038  0.18611985  0.1798107   0.19085175  0.1884858\n",
            "  0.17823344  0.17665613  0.16482651  0.17665613  0.17350155  0.17429024\n",
            "  0.16088331  0.15378547  0.15141958  0.15141958  0.14037853  0.12776023\n",
            "  0.12381703  0.11750787  0.09621453  0.09227127  0.08911669  0.08596212\n",
            "  0.06940061  0.08596212  0.09069401  0.09858042  0.11671925  0.12145108\n",
            "  0.13249213  0.13643533  0.1395899   0.1395899   0.1309148   0.13722396\n",
            "  0.12854892  0.11119872  0.10883284  0.1317035   0.1269716   0.12381703\n",
            "  0.1317035   0.1269716   0.148265    0.15615141  0.14668769  0.14432174\n",
            "  0.12776023  0.13328075  0.12776023  0.12066245  0.12618297  0.12223977\n",
            "  0.12066245  0.10646689  0.101735    0.10015774  0.09305996  0.09305996\n",
            "  0.08438486  0.08832806  0.09227127  0.08990538  0.07255518  0.08753943\n",
            "  0.07649845  0.09463722  0.09148264  0.101735    0.10252368  0.09542584\n",
            "  0.06861198  0.05520505  0.02760255  0.04652995  0.04574132  0.0528391\n",
            "  0.04652995  0.04810727  0.06072557  0.0615142   0.04652995  0.04574132\n",
            "  0.05441642  0.05757099  0.06388015  0.06072557  0.03312302  0.05520505\n",
            "  0.05757099  0.04495269  0.04179811  0.01735014 -0.00315458  0.00315458\n",
            "  0.03706622  0.04337537  0.02208203  0.01892745  0.00157732 -0.02365929\n",
            " -0.01892745 -0.0212934  -0.03785491 -0.05126184 -0.08438486 -0.06072557\n",
            " -0.08832806 -0.08753943 -0.07807571 -0.05914825 -0.0701893 ]\n"
          ]
        }
      ],
      "source": [
        "# データの確認\n",
        "print('train_X')\n",
        "print(train_X)\n",
        "print()\n",
        "print('train_Y')\n",
        "print(train_Y)\n",
        "print()\n",
        "print('test_X')\n",
        "print(test_X)\n",
        "print()\n",
        "print('test_Y')\n",
        "print(test_Y)"
      ]
    },
    {
      "cell_type": "markdown",
      "metadata": {
        "id": "orPxGgyoOFmx"
      },
      "source": [
        "### [データ整形](https://premium.aidemy.jp/courses/6160/exercises/3xXX8qwu7-)\n",
        "作成したデータはLSTMで分析できるデータ形式ではない⇒入力データの整形。"
      ]
    },
    {
      "cell_type": "markdown",
      "metadata": {
        "id": "zRmh7-IBOMiy"
      },
      "source": [
        "入力データを<font color=\"red\">行数×変数数×カラム数</font>の3次元の行列に変換、LSTMで分析できるデータ形式に整形する。\n",
        "\n",
        "- 行数：データの総数 　　　　　　　　　　　　　入力データの総数61\n",
        "- 変数数：1セットのデータに含まれる要素数　　１セットの入力データに含まれる要素数look_backで指定した3\n",
        "- カラム数：扱うデータの種別数　　　　　　　　売上データのみを扱うので1"
      ]
    },
    {
      "cell_type": "markdown",
      "metadata": {
        "id": "L-7YalzOOidR"
      },
      "source": [
        "reshapeメソッドを用いて、データを指定した形式の行列に変換します。"
      ]
    },
    {
      "cell_type": "code",
      "execution_count": 15,
      "metadata": {
        "id": "N72B3_ZZPVlA"
      },
      "outputs": [],
      "source": [
        "# 3次元のnumpy.ndarrayに変換します⇒ reshapeでLSTN用に変換している。\n",
        "train_X = train_X.reshape(train_X.shape[0], train_X.shape[1], 1)\n",
        "test_X = test_X.reshape(test_X.shape[0], test_X.shape[1], 1)"
      ]
    },
    {
      "cell_type": "markdown",
      "metadata": {
        "id": "aOn6IO_15pE7"
      },
      "source": [
        "### [LSTMネットワークの構築と訓練](https://premium.aidemy.jp/courses/6160/exercises/mRBWTDAXqs)\n",
        "\n",
        "、LSTMネットワークを構築し、これまでに用意したデータを用いてモデルの訓練（学習）と予測、評価\n",
        "\n",
        "忘備録として、私の進捗を残しましたが、4回目のみ実装して頂ければ平気かと。"
      ]
    },
    {
      "cell_type": "markdown",
      "metadata": {
        "id": "PTscOUIICOGL"
      },
      "source": [
        "#### 1回目の学習"
      ]
    },
    {
      "cell_type": "markdown",
      "metadata": {
        "id": "NRXz7TUM7Sdt"
      },
      "source": [
        "6行目のレイヤーはモデルの最初のレイヤーのため、引数input_shapeを指定します。以降の層では、引数input_shapeは指定しない。"
      ]
    },
    {
      "cell_type": "markdown",
      "metadata": {
        "id": "ZHe5RsidAQ4d"
      },
      "source": [
        "出力層：モデル最後のレイヤー：出力結果を吐き出す物。\n",
        "1つのノードを持つ全結合層を追加します。"
      ]
    },
    {
      "cell_type": "markdown",
      "metadata": {
        "id": "ZMioxDloAsGT"
      },
      "source": [
        "訓練過程における損失関数（loss）と最適化アルゴリズム（optimizer）の定義"
      ]
    },
    {
      "cell_type": "markdown",
      "metadata": {
        "id": "7VqdEaNDAzFb"
      },
      "source": [
        "正解ラベルと出力の誤差がより小さくなるように。⇒損失関数の値が小さいほど予測が正確。\n",
        "\n",
        "分類：categorical_crossentropy\n",
        "\n",
        "回帰：mean_squared_error"
      ]
    },
    {
      "cell_type": "markdown",
      "metadata": {
        "id": "ttbk5kLnBP1D"
      },
      "source": [
        "最適化アルゴリズムとは、損失関数の値を減少させるように、重みを更新するアルゴリズム。\n",
        "\n",
        "どれが有効化は分からないので、毎度確認していく。"
      ]
    },
    {
      "cell_type": "code",
      "execution_count": 16,
      "metadata": {
        "colab": {
          "base_uri": "https://localhost:8080/"
        },
        "id": "rrsr-8-MBjp8",
        "outputId": "1424f580-c31e-4f8d-c9a2-f5880cb1bd69"
      },
      "outputs": [
        {
          "name": "stdout",
          "output_type": "stream",
          "text": [
            "Epoch 1/20\n",
            "1377/1377 - 8s - loss: 0.0269 - 8s/epoch - 6ms/step\n",
            "Epoch 2/20\n",
            "1377/1377 - 4s - loss: 8.7941e-04 - 4s/epoch - 3ms/step\n",
            "Epoch 3/20\n",
            "1377/1377 - 5s - loss: 8.9369e-04 - 5s/epoch - 3ms/step\n",
            "Epoch 4/20\n",
            "1377/1377 - 3s - loss: 8.1830e-04 - 3s/epoch - 2ms/step\n",
            "Epoch 5/20\n",
            "1377/1377 - 3s - loss: 7.7729e-04 - 3s/epoch - 2ms/step\n",
            "Epoch 6/20\n",
            "1377/1377 - 3s - loss: 7.1320e-04 - 3s/epoch - 2ms/step\n",
            "Epoch 7/20\n",
            "1377/1377 - 3s - loss: 6.5403e-04 - 3s/epoch - 2ms/step\n",
            "Epoch 8/20\n",
            "1377/1377 - 3s - loss: 6.1782e-04 - 3s/epoch - 2ms/step\n",
            "Epoch 9/20\n",
            "1377/1377 - 3s - loss: 5.7806e-04 - 3s/epoch - 2ms/step\n",
            "Epoch 10/20\n",
            "1377/1377 - 3s - loss: 5.4898e-04 - 3s/epoch - 2ms/step\n",
            "Epoch 11/20\n",
            "1377/1377 - 3s - loss: 4.8279e-04 - 3s/epoch - 2ms/step\n",
            "Epoch 12/20\n",
            "1377/1377 - 3s - loss: 4.1269e-04 - 3s/epoch - 2ms/step\n",
            "Epoch 13/20\n",
            "1377/1377 - 3s - loss: 3.9308e-04 - 3s/epoch - 2ms/step\n",
            "Epoch 14/20\n",
            "1377/1377 - 3s - loss: 4.0327e-04 - 3s/epoch - 2ms/step\n",
            "Epoch 15/20\n",
            "1377/1377 - 3s - loss: 4.0471e-04 - 3s/epoch - 2ms/step\n",
            "Epoch 16/20\n",
            "1377/1377 - 3s - loss: 3.6757e-04 - 3s/epoch - 2ms/step\n",
            "Epoch 17/20\n",
            "1377/1377 - 3s - loss: 3.8566e-04 - 3s/epoch - 2ms/step\n",
            "Epoch 18/20\n",
            "1377/1377 - 3s - loss: 3.7665e-04 - 3s/epoch - 2ms/step\n",
            "Epoch 19/20\n",
            "1377/1377 - 3s - loss: 3.6709e-04 - 3s/epoch - 2ms/step\n",
            "Epoch 20/20\n",
            "1377/1377 - 3s - loss: 3.6523e-04 - 3s/epoch - 2ms/step\n",
            "Epoch 1/20\n",
            "1377/1377 - 3s - loss: 3.5902e-04 - 3s/epoch - 2ms/step\n",
            "Epoch 2/20\n",
            "1377/1377 - 3s - loss: 3.7483e-04 - 3s/epoch - 2ms/step\n",
            "Epoch 3/20\n",
            "1377/1377 - 3s - loss: 3.5780e-04 - 3s/epoch - 2ms/step\n",
            "Epoch 4/20\n",
            "1377/1377 - 3s - loss: 3.5885e-04 - 3s/epoch - 2ms/step\n",
            "Epoch 5/20\n",
            "1377/1377 - 3s - loss: 3.4881e-04 - 3s/epoch - 2ms/step\n",
            "Epoch 6/20\n",
            "1377/1377 - 3s - loss: 3.5192e-04 - 3s/epoch - 2ms/step\n",
            "Epoch 7/20\n",
            "1377/1377 - 4s - loss: 3.5570e-04 - 4s/epoch - 3ms/step\n",
            "Epoch 8/20\n",
            "1377/1377 - 3s - loss: 3.5487e-04 - 3s/epoch - 2ms/step\n",
            "Epoch 9/20\n",
            "1377/1377 - 3s - loss: 3.5150e-04 - 3s/epoch - 2ms/step\n",
            "Epoch 10/20\n",
            "1377/1377 - 3s - loss: 3.4218e-04 - 3s/epoch - 2ms/step\n",
            "Epoch 11/20\n",
            "1377/1377 - 3s - loss: 3.3676e-04 - 3s/epoch - 2ms/step\n",
            "Epoch 12/20\n",
            "1377/1377 - 3s - loss: 3.4176e-04 - 3s/epoch - 2ms/step\n",
            "Epoch 13/20\n",
            "1377/1377 - 3s - loss: 3.2948e-04 - 3s/epoch - 2ms/step\n",
            "Epoch 14/20\n",
            "1377/1377 - 3s - loss: 3.4592e-04 - 3s/epoch - 2ms/step\n",
            "Epoch 15/20\n",
            "1377/1377 - 3s - loss: 3.5739e-04 - 3s/epoch - 2ms/step\n",
            "Epoch 16/20\n",
            "1377/1377 - 3s - loss: 3.4264e-04 - 3s/epoch - 2ms/step\n",
            "Epoch 17/20\n",
            "1377/1377 - 3s - loss: 3.4540e-04 - 3s/epoch - 2ms/step\n",
            "Epoch 18/20\n",
            "1377/1377 - 3s - loss: 3.4333e-04 - 3s/epoch - 2ms/step\n",
            "Epoch 19/20\n",
            "1377/1377 - 3s - loss: 3.4588e-04 - 3s/epoch - 2ms/step\n",
            "Epoch 20/20\n",
            "1377/1377 - 3s - loss: 3.4520e-04 - 3s/epoch - 2ms/step\n"
          ]
        }
      ],
      "source": [
        "import tensorflow as tf\n",
        "from tensorflow import keras\n",
        "from tensorflow.keras import layers\n",
        "\n",
        "# LSTMモデルの作成｡\n",
        "model = keras.Sequential()                                                      \n",
        "model.add(layers.LSTM(8, input_shape=(look_back, 1))) # 8つのLSTMブロックからなるレイヤー(層)を追加。\n",
        "model.add(layers.Dense(1))                                                   # 出力層だから今回は１固定。\n",
        "\n",
        "model.compile(loss='mean_squared_error', optimizer='adam')\n",
        "\n",
        "\n",
        "# LSTMネットワークの訓練（学習）\n",
        "model.fit(train_X, train_Y, epochs=20, batch_size=1, verbose=2)\n",
        "\n",
        "history = model.fit(train_X, train_Y, epochs=20, batch_size=1, verbose=2)\n",
        "\n",
        "#loss: loss: 8.5483e-04 "
      ]
    },
    {
      "cell_type": "code",
      "execution_count": 17,
      "metadata": {
        "colab": {
          "base_uri": "https://localhost:8080/",
          "height": 283
        },
        "id": "mW4CHR76kyW1",
        "outputId": "e6c25801-a4e8-45cf-f03d-8768e757541f"
      },
      "outputs": [
        {
          "data": {
            "text/plain": [
              "<matplotlib.legend.Legend at 0x7fe86faa2f50>"
            ]
          },
          "execution_count": 17,
          "metadata": {},
          "output_type": "execute_result"
        },
        {
          "data": {
            "image/png": "[encoded data removed]",
            "text/plain": [
              "<Figure size 432x288 with 1 Axes>"
            ]
          },
          "metadata": {
            "needs_background": "light"
          },
          "output_type": "display_data"
        }
      ],
      "source": [
        "import matplotlib.pyplot as plt\n",
        "import seaborn as sns\n",
        "# 学習過程のプロット\n",
        "plt.plot(history.epoch, history.history[\"loss\"], label=\"loss\")\n",
        "plt.legend()"
      ]
    },
    {
      "cell_type": "markdown",
      "metadata": {
        "id": "BWCnCJEYCUZi"
      },
      "source": [
        "#### 1回目を考慮した2回目の学習"
      ]
    },
    {
      "cell_type": "markdown",
      "metadata": {
        "id": "jDtoRRVuCaWy"
      },
      "source": [
        "これはAidemyの教材通り"
      ]
    },
    {
      "cell_type": "markdown",
      "metadata": {
        "id": "QoOUI1FVC5aS"
      },
      "source": [
        "64,32という数字はどこから来たのか？何を持って決めたのか？⇒\n",
        "2の乗数で決まる。\n",
        "\n",
        "batch_sizeも何をもって決めたのか？"
      ]
    },
    {
      "cell_type": "markdown",
      "metadata": {
        "id": "t-OcY041HJJC"
      },
      "source": [
        "return_sequences=True ⇒LSTNの時系列データで使用する際に引数として使用する。\n",
        "\n",
        "最後の出力層で model.add(layers.Dense(1)) になるじゃないですか。\n",
        "\n",
        "それと<font color=\"red\">**くっつくレイヤーにはreturn_sequences=Trueは不要**</font>です。"
      ]
    },
    {
      "cell_type": "code",
      "execution_count": 18,
      "metadata": {
        "colab": {
          "base_uri": "https://localhost:8080/"
        },
        "id": "qCikJgvrCdJq",
        "outputId": "199a8a5b-a17f-45c2-9fce-80a3f195bcae"
      },
      "outputs": [
        {
          "name": "stdout",
          "output_type": "stream",
          "text": [
            "Epoch 1/15\n",
            "1377/1377 - 15s - loss: 0.0063 - 15s/epoch - 11ms/step\n",
            "Epoch 2/15\n",
            "1377/1377 - 9s - loss: 0.0017 - 9s/epoch - 7ms/step\n",
            "Epoch 3/15\n",
            "1377/1377 - 9s - loss: 0.0015 - 9s/epoch - 7ms/step\n",
            "Epoch 4/15\n",
            "1377/1377 - 9s - loss: 0.0015 - 9s/epoch - 7ms/step\n",
            "Epoch 5/15\n",
            "1377/1377 - 9s - loss: 0.0013 - 9s/epoch - 7ms/step\n",
            "Epoch 6/15\n",
            "1377/1377 - 9s - loss: 0.0013 - 9s/epoch - 7ms/step\n",
            "Epoch 7/15\n",
            "1377/1377 - 9s - loss: 0.0013 - 9s/epoch - 7ms/step\n",
            "Epoch 8/15\n",
            "1377/1377 - 9s - loss: 0.0011 - 9s/epoch - 7ms/step\n",
            "Epoch 9/15\n",
            "1377/1377 - 10s - loss: 0.0011 - 10s/epoch - 7ms/step\n",
            "Epoch 10/15\n",
            "1377/1377 - 10s - loss: 0.0010 - 10s/epoch - 7ms/step\n",
            "Epoch 11/15\n",
            "1377/1377 - 10s - loss: 7.6424e-04 - 10s/epoch - 7ms/step\n",
            "Epoch 12/15\n",
            "1377/1377 - 9s - loss: 6.2076e-04 - 9s/epoch - 7ms/step\n",
            "Epoch 13/15\n",
            "1377/1377 - 9s - loss: 6.1408e-04 - 9s/epoch - 7ms/step\n",
            "Epoch 14/15\n",
            "1377/1377 - 10s - loss: 5.6047e-04 - 10s/epoch - 7ms/step\n",
            "Epoch 15/15\n",
            "1377/1377 - 10s - loss: 5.5316e-04 - 10s/epoch - 7ms/step\n"
          ]
        }
      ],
      "source": [
        "# LSTMモデルの作成\n",
        "model2 = keras.Sequential()\n",
        "\n",
        "model2.add(layers.LSTM(64, input_shape=(look_back, 1), return_sequences=True))\n",
        "model2.add(layers.LSTM(32,return_sequences=True))\n",
        "\n",
        "model2.add(layers.LSTM(16,return_sequences=True)) #私が追加しました。\n",
        "model2.add(layers.LSTM(8)) #私が追加しました。\n",
        "\n",
        "model2.add(layers.Dense(1))\n",
        "# モデルをコンパイルしてください\n",
        "model2.compile(loss='mean_squared_error', optimizer='adam')\n",
        "# 訓練を行ってください\n",
        "# model.fit(train_X, train_Y, epochs=15, batch_size=1, verbose=2)\n",
        "\n",
        "history2 = model2.fit(train_X, train_Y, epochs=15, batch_size=1, verbose=2)\n",
        "# loss: 5.9269e-04"
      ]
    },
    {
      "cell_type": "code",
      "execution_count": 19,
      "metadata": {
        "colab": {
          "base_uri": "https://localhost:8080/",
          "height": 283
        },
        "id": "oNT4fVADFkc3",
        "outputId": "f8a32c01-42e4-44da-c545-a004c9a40776"
      },
      "outputs": [
        {
          "data": {
            "text/plain": [
              "<matplotlib.legend.Legend at 0x7fe86fa78f50>"
            ]
          },
          "execution_count": 19,
          "metadata": {},
          "output_type": "execute_result"
        },
        {
          "data": {
            "image/png": "[encoded data removed]",
            "text/plain": [
              "<Figure size 432x288 with 1 Axes>"
            ]
          },
          "metadata": {
            "needs_background": "light"
          },
          "output_type": "display_data"
        }
      ],
      "source": [
        "import matplotlib.pyplot as plt\n",
        "import seaborn as sns\n",
        "# 学習過程のプロット\n",
        "plt.plot(history2.epoch, history2.history[\"loss\"], label=\"loss\")\n",
        "plt.legend()"
      ]
    },
    {
      "cell_type": "markdown",
      "metadata": {
        "id": "zCRq96xOJAJ7"
      },
      "source": [
        "#### 3回目の学習\n",
        "Aidemyの教材通り"
      ]
    },
    {
      "cell_type": "code",
      "execution_count": 20,
      "metadata": {
        "colab": {
          "base_uri": "https://localhost:8080/"
        },
        "id": "bIdY4tkoJGcx",
        "outputId": "d03a09df-18fc-46a4-c0f5-80c0e675aa0e"
      },
      "outputs": [
        {
          "name": "stdout",
          "output_type": "stream",
          "text": [
            "Epoch 1/15\n",
            "1377/1377 - 8s - loss: 0.0041 - 8s/epoch - 6ms/step\n",
            "Epoch 2/15\n",
            "1377/1377 - 6s - loss: 0.0012 - 6s/epoch - 4ms/step\n",
            "Epoch 3/15\n",
            "1377/1377 - 6s - loss: 0.0011 - 6s/epoch - 4ms/step\n",
            "Epoch 4/15\n",
            "1377/1377 - 5s - loss: 0.0010 - 5s/epoch - 4ms/step\n",
            "Epoch 5/15\n",
            "1377/1377 - 6s - loss: 9.4933e-04 - 6s/epoch - 4ms/step\n",
            "Epoch 6/15\n",
            "1377/1377 - 5s - loss: 7.3662e-04 - 5s/epoch - 4ms/step\n",
            "Epoch 7/15\n",
            "1377/1377 - 5s - loss: 6.2203e-04 - 5s/epoch - 4ms/step\n",
            "Epoch 8/15\n",
            "1377/1377 - 5s - loss: 5.6603e-04 - 5s/epoch - 4ms/step\n",
            "Epoch 9/15\n",
            "1377/1377 - 5s - loss: 5.6985e-04 - 5s/epoch - 4ms/step\n",
            "Epoch 10/15\n",
            "1377/1377 - 6s - loss: 5.1503e-04 - 6s/epoch - 4ms/step\n",
            "Epoch 11/15\n",
            "1377/1377 - 5s - loss: 5.4040e-04 - 5s/epoch - 4ms/step\n",
            "Epoch 12/15\n",
            "1377/1377 - 6s - loss: 4.9741e-04 - 6s/epoch - 4ms/step\n",
            "Epoch 13/15\n",
            "1377/1377 - 6s - loss: 4.7429e-04 - 6s/epoch - 4ms/step\n",
            "Epoch 14/15\n",
            "1377/1377 - 5s - loss: 4.7932e-04 - 5s/epoch - 4ms/step\n",
            "Epoch 15/15\n",
            "1377/1377 - 5s - loss: 4.8156e-04 - 5s/epoch - 4ms/step\n"
          ]
        }
      ],
      "source": [
        "# LSTMモデルを作成してください\n",
        "model3 = keras.Sequential()\n",
        "model3.add(layers.LSTM(64, input_shape=(look_back, 1), return_sequences=True))\n",
        "model3.add(layers.LSTM(32))\n",
        "model3.add(layers.Dense(1))\n",
        "# モデルをコンパイルしてください\n",
        "model3.compile(loss='mean_squared_error', optimizer='adam')\n",
        "# 訓練を行ってください\n",
        "# model.fit(train_X, train_Y, epochs=15, batch_size=1, verbose=2)\n",
        "# 学習\n",
        "history3 = model3.fit(train_X, train_Y, epochs=15, batch_size=1, verbose=2)\n",
        "# loss: 4.3211e-04 "
      ]
    },
    {
      "cell_type": "code",
      "execution_count": 22,
      "metadata": {
        "colab": {
          "base_uri": "https://localhost:8080/",
          "height": 283
        },
        "id": "hYNAjtgDjiK0",
        "outputId": "726dc848-a833-42af-d7dc-b3a778832a42"
      },
      "outputs": [
        {
          "data": {
            "text/plain": [
              "<matplotlib.legend.Legend at 0x7fe865672d10>"
            ]
          },
          "execution_count": 22,
          "metadata": {},
          "output_type": "execute_result"
        },
        {
          "data": {
            "image/png": "[encoded data removed]",
            "text/plain": [
              "<Figure size 432x288 with 1 Axes>"
            ]
          },
          "metadata": {
            "needs_background": "light"
          },
          "output_type": "display_data"
        }
      ],
      "source": [
        "import matplotlib.pyplot as plt\n",
        "import seaborn as sns\n",
        "# 学習過程のプロット\n",
        "plt.plot(history3.epoch, history3.history[\"loss\"], label=\"loss\")\n",
        "plt.legend()"
      ]
    },
    {
      "cell_type": "markdown",
      "metadata": {
        "id": "M1xeyo1lbwzU"
      },
      "source": [
        "#### 4回目の学習\n",
        "call backを用いたもの。"
      ]
    },
    {
      "cell_type": "code",
      "execution_count": 23,
      "metadata": {
        "id": "LGi316YafPuc"
      },
      "outputs": [],
      "source": [
        "import tensorflow as tf\n",
        "from tensorflow import keras\n",
        "from tensorflow.keras import layers\n",
        "\n",
        "# LSTMモデルの作成｡\n",
        "model4 = keras.Sequential()                                                      \n",
        "model4.add(layers.LSTM(8, input_shape=(look_back, 1))) # 8つのLSTMブロックからなるレイヤー(層)を追加。\n",
        "model4.add(layers.Dense(1))                                                   # 出力層だから今回は１固定。\n",
        "\n",
        "model4.compile(loss='mean_squared_error', optimizer='adam')"
      ]
    },
    {
      "cell_type": "code",
      "execution_count": 24,
      "metadata": {
        "colab": {
          "base_uri": "https://localhost:8080/"
        },
        "id": "BH1ODZw7lQLj",
        "outputId": "e2be4050-f06e-4e46-9dc2-a59caa4971ab"
      },
      "outputs": [
        {
          "name": "stdout",
          "output_type": "stream",
          "text": [
            "Epoch 1/300\n",
            "1366/1377 [============================>.] - ETA: 0s - loss: 0.0050"
          ]
        },
        {
          "name": "stderr",
          "output_type": "stream",
          "text": [
            "WARNING:tensorflow:Can save best model only with  available, skipping.\n"
          ]
        },
        {
          "name": "stdout",
          "output_type": "stream",
          "text": [
            "\b\b\b\b\b\b\b\b\b\b\b\b\b\b\b\b\b\b\b\b\b\b\b\b\b\b\b\b\b\b\b\b\b\b\b\b\b\b\b\b\b\b\b\b\b\b\b\b\b\b\b\b\b\b\b\b\b\b\b\b\b\b\b\b\b\b\b\r1377/1377 [==============================] - 10s 5ms/step - loss: 0.0050 - val_loss: 3.2267e-04\n",
            "Epoch 2/300\n",
            "1361/1377 [============================>.] - ETA: 0s - loss: 6.8367e-04"
          ]
        },
        {
          "name": "stderr",
          "output_type": "stream",
          "text": [
            "WARNING:tensorflow:Can save best model only with  available, skipping.\n"
          ]
        },
        {
          "name": "stdout",
          "output_type": "stream",
          "text": [
            "\b\b\b\b\b\b\b\b\b\b\b\b\b\b\b\b\b\b\b\b\b\b\b\b\b\b\b\b\b\b\b\b\b\b\b\b\b\b\b\b\b\b\b\b\b\b\b\b\b\b\b\b\b\b\b\b\b\b\b\b\b\b\b\b\b\b\b\b\b\b\b\r1377/1377 [==============================] - 4s 3ms/step - loss: 6.8162e-04 - val_loss: 3.1568e-04\n",
            "Epoch 3/300\n",
            "1367/1377 [============================>.] - ETA: 0s - loss: 6.7624e-04"
          ]
        },
        {
          "name": "stderr",
          "output_type": "stream",
          "text": [
            "WARNING:tensorflow:Can save best model only with  available, skipping.\n"
          ]
        },
        {
          "name": "stdout",
          "output_type": "stream",
          "text": [
            "\b\b\b\b\b\b\b\b\b\b\b\b\b\b\b\b\b\b\b\b\b\b\b\b\b\b\b\b\b\b\b\b\b\b\b\b\b\b\b\b\b\b\b\b\b\b\b\b\b\b\b\b\b\b\b\b\b\b\b\b\b\b\b\b\b\b\b\b\b\b\b\r1377/1377 [==============================] - 5s 3ms/step - loss: 6.8231e-04 - val_loss: 3.0362e-04\n",
            "Epoch 4/300\n",
            "1377/1377 [==============================] - ETA: 0s - loss: 6.6180e-04"
          ]
        },
        {
          "name": "stderr",
          "output_type": "stream",
          "text": [
            "WARNING:tensorflow:Can save best model only with  available, skipping.\n"
          ]
        },
        {
          "name": "stdout",
          "output_type": "stream",
          "text": [
            "\b\b\b\b\b\b\b\b\b\b\b\b\b\b\b\b\b\b\b\b\b\b\b\b\b\b\b\b\b\b\b\b\b\b\b\b\b\b\b\b\b\b\b\b\b\b\b\b\b\b\b\b\b\b\b\b\b\b\b\b\b\b\b\b\b\b\b\b\b\b\b\r1377/1377 [==============================] - 5s 3ms/step - loss: 6.6180e-04 - val_loss: 3.1730e-04\n",
            "Epoch 5/300\n",
            "1365/1377 [============================>.] - ETA: 0s - loss: 5.9772e-04"
          ]
        },
        {
          "name": "stderr",
          "output_type": "stream",
          "text": [
            "WARNING:tensorflow:Can save best model only with  available, skipping.\n"
          ]
        },
        {
          "name": "stdout",
          "output_type": "stream",
          "text": [
            "\b\b\b\b\b\b\b\b\b\b\b\b\b\b\b\b\b\b\b\b\b\b\b\b\b\b\b\b\b\b\b\b\b\b\b\b\b\b\b\b\b\b\b\b\b\b\b\b\b\b\b\b\b\b\b\b\b\b\b\b\b\b\b\b\b\b\b\b\b\b\b\r1377/1377 [==============================] - 5s 3ms/step - loss: 5.9575e-04 - val_loss: 2.4325e-04\n",
            "Epoch 6/300\n",
            "1368/1377 [============================>.] - ETA: 0s - loss: 5.9868e-04"
          ]
        },
        {
          "name": "stderr",
          "output_type": "stream",
          "text": [
            "WARNING:tensorflow:Can save best model only with  available, skipping.\n"
          ]
        },
        {
          "name": "stdout",
          "output_type": "stream",
          "text": [
            "\b\b\b\b\b\b\b\b\b\b\b\b\b\b\b\b\b\b\b\b\b\b\b\b\b\b\b\b\b\b\b\b\b\b\b\b\b\b\b\b\b\b\b\b\b\b\b\b\b\b\b\b\b\b\b\b\b\b\b\b\b\b\b\b\b\b\b\b\b\b\b\r1377/1377 [==============================] - 4s 3ms/step - loss: 5.9870e-04 - val_loss: 2.3528e-04\n",
            "Epoch 7/300\n",
            "1362/1377 [============================>.] - ETA: 0s - loss: 5.9810e-04"
          ]
        },
        {
          "name": "stderr",
          "output_type": "stream",
          "text": [
            "WARNING:tensorflow:Can save best model only with  available, skipping.\n"
          ]
        },
        {
          "name": "stdout",
          "output_type": "stream",
          "text": [
            "\b\b\b\b\b\b\b\b\b\b\b\b\b\b\b\b\b\b\b\b\b\b\b\b\b\b\b\b\b\b\b\b\b\b\b\b\b\b\b\b\b\b\b\b\b\b\b\b\b\b\b\b\b\b\b\b\b\b\b\b\b\b\b\b\b\b\b\b\b\b\b\r1377/1377 [==============================] - 4s 3ms/step - loss: 6.0086e-04 - val_loss: 2.3414e-04\n",
            "Epoch 8/300\n",
            "1375/1377 [============================>.] - ETA: 0s - loss: 5.3544e-04"
          ]
        },
        {
          "name": "stderr",
          "output_type": "stream",
          "text": [
            "WARNING:tensorflow:Can save best model only with  available, skipping.\n"
          ]
        },
        {
          "name": "stdout",
          "output_type": "stream",
          "text": [
            "\b\b\b\b\b\b\b\b\b\b\b\b\b\b\b\b\b\b\b\b\b\b\b\b\b\b\b\b\b\b\b\b\b\b\b\b\b\b\b\b\b\b\b\b\b\b\b\b\b\b\b\b\b\b\b\b\b\b\b\b\b\b\b\b\b\b\b\b\b\b\b\r1377/1377 [==============================] - 5s 4ms/step - loss: 5.3497e-04 - val_loss: 2.1296e-04\n",
            "Epoch 9/300\n",
            "1366/1377 [============================>.] - ETA: 0s - loss: 5.1670e-04"
          ]
        },
        {
          "name": "stderr",
          "output_type": "stream",
          "text": [
            "WARNING:tensorflow:Can save best model only with  available, skipping.\n"
          ]
        },
        {
          "name": "stdout",
          "output_type": "stream",
          "text": [
            "\b\b\b\b\b\b\b\b\b\b\b\b\b\b\b\b\b\b\b\b\b\b\b\b\b\b\b\b\b\b\b\b\b\b\b\b\b\b\b\b\b\b\b\b\b\b\b\b\b\b\b\b\b\b\b\b\b\b\b\b\b\b\b\b\b\b\b\b\b\b\b\r1377/1377 [==============================] - 5s 4ms/step - loss: 5.1465e-04 - val_loss: 2.2334e-04\n",
            "Epoch 10/300\n",
            "1371/1377 [============================>.] - ETA: 0s - loss: 4.8415e-04"
          ]
        },
        {
          "name": "stderr",
          "output_type": "stream",
          "text": [
            "WARNING:tensorflow:Can save best model only with  available, skipping.\n"
          ]
        },
        {
          "name": "stdout",
          "output_type": "stream",
          "text": [
            "\b\b\b\b\b\b\b\b\b\b\b\b\b\b\b\b\b\b\b\b\b\b\b\b\b\b\b\b\b\b\b\b\b\b\b\b\b\b\b\b\b\b\b\b\b\b\b\b\b\b\b\b\b\b\b\b\b\b\b\b\b\b\b\b\b\b\b\b\b\b\b\r1377/1377 [==============================] - 4s 3ms/step - loss: 4.8317e-04 - val_loss: 2.0501e-04\n",
            "Epoch 11/300\n",
            "1377/1377 [==============================] - ETA: 0s - loss: 4.5688e-04"
          ]
        },
        {
          "name": "stderr",
          "output_type": "stream",
          "text": [
            "WARNING:tensorflow:Can save best model only with  available, skipping.\n"
          ]
        },
        {
          "name": "stdout",
          "output_type": "stream",
          "text": [
            "\b\b\b\b\b\b\b\b\b\b\b\b\b\b\b\b\b\b\b\b\b\b\b\b\b\b\b\b\b\b\b\b\b\b\b\b\b\b\b\b\b\b\b\b\b\b\b\b\b\b\b\b\b\b\b\b\b\b\b\b\b\b\b\b\b\b\b\b\b\b\b\r1377/1377 [==============================] - 5s 4ms/step - loss: 4.5688e-04 - val_loss: 2.6624e-04\n",
            "Epoch 12/300\n",
            "1361/1377 [============================>.] - ETA: 0s - loss: 4.4639e-04"
          ]
        },
        {
          "name": "stderr",
          "output_type": "stream",
          "text": [
            "WARNING:tensorflow:Can save best model only with  available, skipping.\n"
          ]
        },
        {
          "name": "stdout",
          "output_type": "stream",
          "text": [
            "\b\b\b\b\b\b\b\b\b\b\b\b\b\b\b\b\b\b\b\b\b\b\b\b\b\b\b\b\b\b\b\b\b\b\b\b\b\b\b\b\b\b\b\b\b\b\b\b\b\b\b\b\b\b\b\b\b\b\b\b\b\b\b\b\b\b\b\b\b\b\b\r1377/1377 [==============================] - 5s 4ms/step - loss: 4.4540e-04 - val_loss: 1.8243e-04\n",
            "Epoch 13/300\n",
            "1361/1377 [============================>.] - ETA: 0s - loss: 4.0903e-04"
          ]
        },
        {
          "name": "stderr",
          "output_type": "stream",
          "text": [
            "WARNING:tensorflow:Can save best model only with  available, skipping.\n"
          ]
        },
        {
          "name": "stdout",
          "output_type": "stream",
          "text": [
            "\b\b\b\b\b\b\b\b\b\b\b\b\b\b\b\b\b\b\b\b\b\b\b\b\b\b\b\b\b\b\b\b\b\b\b\b\b\b\b\b\b\b\b\b\b\b\b\b\b\b\b\b\b\b\b\b\b\b\b\b\b\b\b\b\b\b\b\b\b\b\b\r1377/1377 [==============================] - 5s 3ms/step - loss: 4.0551e-04 - val_loss: 1.7823e-04\n",
            "Epoch 14/300\n",
            "1358/1377 [============================>.] - ETA: 0s - loss: 4.0408e-04"
          ]
        },
        {
          "name": "stderr",
          "output_type": "stream",
          "text": [
            "WARNING:tensorflow:Can save best model only with  available, skipping.\n"
          ]
        },
        {
          "name": "stdout",
          "output_type": "stream",
          "text": [
            "\b\b\b\b\b\b\b\b\b\b\b\b\b\b\b\b\b\b\b\b\b\b\b\b\b\b\b\b\b\b\b\b\b\b\b\b\b\b\b\b\b\b\b\b\b\b\b\b\b\b\b\b\b\b\b\b\b\b\b\b\b\b\b\b\b\b\b\b\b\b\b\r1377/1377 [==============================] - 5s 3ms/step - loss: 4.0169e-04 - val_loss: 1.6919e-04\n",
            "Epoch 15/300\n",
            "1374/1377 [============================>.] - ETA: 0s - loss: 3.7819e-04"
          ]
        },
        {
          "name": "stderr",
          "output_type": "stream",
          "text": [
            "WARNING:tensorflow:Can save best model only with  available, skipping.\n"
          ]
        },
        {
          "name": "stdout",
          "output_type": "stream",
          "text": [
            "\b\b\b\b\b\b\b\b\b\b\b\b\b\b\b\b\b\b\b\b\b\b\b\b\b\b\b\b\b\b\b\b\b\b\b\b\b\b\b\b\b\b\b\b\b\b\b\b\b\b\b\b\b\b\b\b\b\b\b\b\b\b\b\b\b\b\b\b\b\b\b\r1377/1377 [==============================] - 5s 3ms/step - loss: 3.7783e-04 - val_loss: 1.5746e-04\n",
            "Epoch 16/300\n",
            "1361/1377 [============================>.] - ETA: 0s - loss: 3.8053e-04"
          ]
        },
        {
          "name": "stderr",
          "output_type": "stream",
          "text": [
            "WARNING:tensorflow:Can save best model only with  available, skipping.\n"
          ]
        },
        {
          "name": "stdout",
          "output_type": "stream",
          "text": [
            "\b\b\b\b\b\b\b\b\b\b\b\b\b\b\b\b\b\b\b\b\b\b\b\b\b\b\b\b\b\b\b\b\b\b\b\b\b\b\b\b\b\b\b\b\b\b\b\b\b\b\b\b\b\b\b\b\b\b\b\b\b\b\b\b\b\b\b\b\b\b\b\r1377/1377 [==============================] - 5s 3ms/step - loss: 3.7956e-04 - val_loss: 1.6040e-04\n",
            "Epoch 17/300\n",
            "1359/1377 [============================>.] - ETA: 0s - loss: 3.5838e-04"
          ]
        },
        {
          "name": "stderr",
          "output_type": "stream",
          "text": [
            "WARNING:tensorflow:Can save best model only with  available, skipping.\n"
          ]
        },
        {
          "name": "stdout",
          "output_type": "stream",
          "text": [
            "\b\b\b\b\b\b\b\b\b\b\b\b\b\b\b\b\b\b\b\b\b\b\b\b\b\b\b\b\b\b\b\b\b\b\b\b\b\b\b\b\b\b\b\b\b\b\b\b\b\b\b\b\b\b\b\b\b\b\b\b\b\b\b\b\b\b\b\b\b\b\b\r1377/1377 [==============================] - 4s 3ms/step - loss: 3.5922e-04 - val_loss: 2.2501e-04\n",
            "Epoch 18/300\n",
            "1376/1377 [============================>.] - ETA: 0s - loss: 3.6983e-04"
          ]
        },
        {
          "name": "stderr",
          "output_type": "stream",
          "text": [
            "WARNING:tensorflow:Can save best model only with  available, skipping.\n"
          ]
        },
        {
          "name": "stdout",
          "output_type": "stream",
          "text": [
            "\b\b\b\b\b\b\b\b\b\b\b\b\b\b\b\b\b\b\b\b\b\b\b\b\b\b\b\b\b\b\b\b\b\b\b\b\b\b\b\b\b\b\b\b\b\b\b\b\b\b\b\b\b\b\b\b\b\b\b\b\b\b\b\b\b\b\b\b\b\b\b\r1377/1377 [==============================] - 5s 4ms/step - loss: 3.6959e-04 - val_loss: 1.4576e-04\n",
            "Epoch 19/300\n",
            "1374/1377 [============================>.] - ETA: 0s - loss: 3.7791e-04"
          ]
        },
        {
          "name": "stderr",
          "output_type": "stream",
          "text": [
            "WARNING:tensorflow:Can save best model only with  available, skipping.\n"
          ]
        },
        {
          "name": "stdout",
          "output_type": "stream",
          "text": [
            "\b\b\b\b\b\b\b\b\b\b\b\b\b\b\b\b\b\b\b\b\b\b\b\b\b\b\b\b\b\b\b\b\b\b\b\b\b\b\b\b\b\b\b\b\b\b\b\b\b\b\b\b\b\b\b\b\b\b\b\b\b\b\b\b\b\b\b\b\b\b\b\r1377/1377 [==============================] - 6s 5ms/step - loss: 3.7737e-04 - val_loss: 1.4183e-04\n",
            "Epoch 20/300\n",
            "1376/1377 [============================>.] - ETA: 0s - loss: 3.6407e-04"
          ]
        },
        {
          "name": "stderr",
          "output_type": "stream",
          "text": [
            "WARNING:tensorflow:Can save best model only with  available, skipping.\n"
          ]
        },
        {
          "name": "stdout",
          "output_type": "stream",
          "text": [
            "\b\b\b\b\b\b\b\b\b\b\b\b\b\b\b\b\b\b\b\b\b\b\b\b\b\b\b\b\b\b\b\b\b\b\b\b\b\b\b\b\b\b\b\b\b\b\b\b\b\b\b\b\b\b\b\b\b\b\b\b\b\b\b\b\b\b\b\b\b\b\b\r1377/1377 [==============================] - 5s 3ms/step - loss: 3.6381e-04 - val_loss: 1.5944e-04\n",
            "Epoch 21/300\n",
            "1375/1377 [============================>.] - ETA: 0s - loss: 3.5563e-04"
          ]
        },
        {
          "name": "stderr",
          "output_type": "stream",
          "text": [
            "WARNING:tensorflow:Can save best model only with  available, skipping.\n"
          ]
        },
        {
          "name": "stdout",
          "output_type": "stream",
          "text": [
            "\b\b\b\b\b\b\b\b\b\b\b\b\b\b\b\b\b\b\b\b\b\b\b\b\b\b\b\b\b\b\b\b\b\b\b\b\b\b\b\b\b\b\b\b\b\b\b\b\b\b\b\b\b\b\b\b\b\b\b\b\b\b\b\b\b\b\b\b\b\b\b\r1377/1377 [==============================] - 4s 3ms/step - loss: 3.5537e-04 - val_loss: 1.5824e-04\n",
            "Epoch 22/300\n",
            "1356/1377 [============================>.] - ETA: 0s - loss: 3.6557e-04"
          ]
        },
        {
          "name": "stderr",
          "output_type": "stream",
          "text": [
            "WARNING:tensorflow:Can save best model only with  available, skipping.\n"
          ]
        },
        {
          "name": "stdout",
          "output_type": "stream",
          "text": [
            "\b\b\b\b\b\b\b\b\b\b\b\b\b\b\b\b\b\b\b\b\b\b\b\b\b\b\b\b\b\b\b\b\b\b\b\b\b\b\b\b\b\b\b\b\b\b\b\b\b\b\b\b\b\b\b\b\b\b\b\b\b\b\b\b\b\b\b\b\b\b\b\r1377/1377 [==============================] - 5s 3ms/step - loss: 3.6266e-04 - val_loss: 1.6622e-04\n",
            "Epoch 23/300\n",
            "1362/1377 [============================>.] - ETA: 0s - loss: 3.7088e-04"
          ]
        },
        {
          "name": "stderr",
          "output_type": "stream",
          "text": [
            "WARNING:tensorflow:Can save best model only with  available, skipping.\n"
          ]
        },
        {
          "name": "stdout",
          "output_type": "stream",
          "text": [
            "\b\b\b\b\b\b\b\b\b\b\b\b\b\b\b\b\b\b\b\b\b\b\b\b\b\b\b\b\b\b\b\b\b\b\b\b\b\b\b\b\b\b\b\b\b\b\b\b\b\b\b\b\b\b\b\b\b\b\b\b\b\b\b\b\b\b\b\b\b\b\b\r1377/1377 [==============================] - 5s 3ms/step - loss: 3.6814e-04 - val_loss: 1.3914e-04\n",
            "Epoch 24/300\n",
            "1372/1377 [============================>.] - ETA: 0s - loss: 3.6823e-04"
          ]
        },
        {
          "name": "stderr",
          "output_type": "stream",
          "text": [
            "WARNING:tensorflow:Can save best model only with  available, skipping.\n"
          ]
        },
        {
          "name": "stdout",
          "output_type": "stream",
          "text": [
            "\b\b\b\b\b\b\b\b\b\b\b\b\b\b\b\b\b\b\b\b\b\b\b\b\b\b\b\b\b\b\b\b\b\b\b\b\b\b\b\b\b\b\b\b\b\b\b\b\b\b\b\b\b\b\b\b\b\b\b\b\b\b\b\b\b\b\b\b\b\b\b\r1377/1377 [==============================] - 4s 3ms/step - loss: 3.7235e-04 - val_loss: 1.4505e-04\n",
            "Epoch 25/300\n",
            "1363/1377 [============================>.] - ETA: 0s - loss: 3.6026e-04"
          ]
        },
        {
          "name": "stderr",
          "output_type": "stream",
          "text": [
            "WARNING:tensorflow:Can save best model only with  available, skipping.\n"
          ]
        },
        {
          "name": "stdout",
          "output_type": "stream",
          "text": [
            "\b\b\b\b\b\b\b\b\b\b\b\b\b\b\b\b\b\b\b\b\b\b\b\b\b\b\b\b\b\b\b\b\b\b\b\b\b\b\b\b\b\b\b\b\b\b\b\b\b\b\b\b\b\b\b\b\b\b\b\b\b\b\b\b\b\b\b\b\b\b\b\r1377/1377 [==============================] - 4s 3ms/step - loss: 3.6026e-04 - val_loss: 1.4367e-04\n",
            "Epoch 26/300\n",
            "1360/1377 [============================>.] - ETA: 0s - loss: 3.5997e-04"
          ]
        },
        {
          "name": "stderr",
          "output_type": "stream",
          "text": [
            "WARNING:tensorflow:Can save best model only with  available, skipping.\n"
          ]
        },
        {
          "name": "stdout",
          "output_type": "stream",
          "text": [
            "\b\b\b\b\b\b\b\b\b\b\b\b\b\b\b\b\b\b\b\b\b\b\b\b\b\b\b\b\b\b\b\b\b\b\b\b\b\b\b\b\b\b\b\b\b\b\b\b\b\b\b\b\b\b\b\b\b\b\b\b\b\b\b\b\b\b\b\b\b\b\b\r1377/1377 [==============================] - 5s 3ms/step - loss: 3.5908e-04 - val_loss: 2.1794e-04\n",
            "Epoch 27/300\n",
            "1376/1377 [============================>.] - ETA: 0s - loss: 3.4497e-04"
          ]
        },
        {
          "name": "stderr",
          "output_type": "stream",
          "text": [
            "WARNING:tensorflow:Can save best model only with  available, skipping.\n"
          ]
        },
        {
          "name": "stdout",
          "output_type": "stream",
          "text": [
            "\b\b\b\b\b\b\b\b\b\b\b\b\b\b\b\b\b\b\b\b\b\b\b\b\b\b\b\b\b\b\b\b\b\b\b\b\b\b\b\b\b\b\b\b\b\b\b\b\b\b\b\b\b\b\b\b\b\b\b\b\b\b\b\b\b\b\b\b\b\b\b\r1377/1377 [==============================] - 5s 3ms/step - loss: 3.4481e-04 - val_loss: 1.3481e-04\n",
            "Epoch 28/300\n",
            "1361/1377 [============================>.] - ETA: 0s - loss: 3.7193e-04"
          ]
        },
        {
          "name": "stderr",
          "output_type": "stream",
          "text": [
            "WARNING:tensorflow:Can save best model only with  available, skipping.\n"
          ]
        },
        {
          "name": "stdout",
          "output_type": "stream",
          "text": [
            "\b\b\b\b\b\b\b\b\b\b\b\b\b\b\b\b\b\b\b\b\b\b\b\b\b\b\b\b\b\b\b\b\b\b\b\b\b\b\b\b\b\b\b\b\b\b\b\b\b\b\b\b\b\b\b\b\b\b\b\b\b\b\b\b\b\b\b\b\b\b\b\r1377/1377 [==============================] - 5s 4ms/step - loss: 3.6906e-04 - val_loss: 1.8044e-04\n",
            "Epoch 29/300\n",
            "1360/1377 [============================>.] - ETA: 0s - loss: 3.5663e-04"
          ]
        },
        {
          "name": "stderr",
          "output_type": "stream",
          "text": [
            "WARNING:tensorflow:Can save best model only with  available, skipping.\n"
          ]
        },
        {
          "name": "stdout",
          "output_type": "stream",
          "text": [
            "\b\b\b\b\b\b\b\b\b\b\b\b\b\b\b\b\b\b\b\b\b\b\b\b\b\b\b\b\b\b\b\b\b\b\b\b\b\b\b\b\b\b\b\b\b\b\b\b\b\b\b\b\b\b\b\b\b\b\b\b\b\b\b\b\b\b\b\b\b\b\b\r1377/1377 [==============================] - 4s 3ms/step - loss: 3.5908e-04 - val_loss: 1.9057e-04\n",
            "Epoch 30/300\n",
            "1369/1377 [============================>.] - ETA: 0s - loss: 3.4642e-04"
          ]
        },
        {
          "name": "stderr",
          "output_type": "stream",
          "text": [
            "WARNING:tensorflow:Can save best model only with  available, skipping.\n"
          ]
        },
        {
          "name": "stdout",
          "output_type": "stream",
          "text": [
            "\b\b\b\b\b\b\b\b\b\b\b\b\b\b\b\b\b\b\b\b\b\b\b\b\b\b\b\b\b\b\b\b\b\b\b\b\b\b\b\b\b\b\b\b\b\b\b\b\b\b\b\b\b\b\b\b\b\b\b\b\b\b\b\b\b\b\b\b\b\b\b\r1377/1377 [==============================] - 4s 3ms/step - loss: 3.4559e-04 - val_loss: 2.0366e-04\n",
            "Epoch 31/300\n",
            "1367/1377 [============================>.] - ETA: 0s - loss: 3.5359e-04"
          ]
        },
        {
          "name": "stderr",
          "output_type": "stream",
          "text": [
            "WARNING:tensorflow:Can save best model only with  available, skipping.\n"
          ]
        },
        {
          "name": "stdout",
          "output_type": "stream",
          "text": [
            "\b\b\b\b\b\b\b\b\b\b\b\b\b\b\b\b\b\b\b\b\b\b\b\b\b\b\b\b\b\b\b\b\b\b\b\b\b\b\b\b\b\b\b\b\b\b\b\b\b\b\b\b\b\b\b\b\b\b\b\b\b\b\b\b\b\b\b\b\b\b\b\r1377/1377 [==============================] - 5s 3ms/step - loss: 3.5460e-04 - val_loss: 1.7365e-04\n",
            "Epoch 32/300\n",
            "1367/1377 [============================>.] - ETA: 0s - loss: 3.5005e-04"
          ]
        },
        {
          "name": "stderr",
          "output_type": "stream",
          "text": [
            "WARNING:tensorflow:Can save best model only with  available, skipping.\n"
          ]
        },
        {
          "name": "stdout",
          "output_type": "stream",
          "text": [
            "\b\b\b\b\b\b\b\b\b\b\b\b\b\b\b\b\b\b\b\b\b\b\b\b\b\b\b\b\b\b\b\b\b\b\b\b\b\b\b\b\b\b\b\b\b\b\b\b\b\b\b\b\b\b\b\b\b\b\b\b\b\b\b\b\b\b\b\b\b\b\b\r1377/1377 [==============================] - 5s 3ms/step - loss: 3.4936e-04 - val_loss: 1.3450e-04\n",
            "Epoch 33/300\n",
            "1359/1377 [============================>.] - ETA: 0s - loss: 3.4877e-04"
          ]
        },
        {
          "name": "stderr",
          "output_type": "stream",
          "text": [
            "WARNING:tensorflow:Can save best model only with  available, skipping.\n"
          ]
        },
        {
          "name": "stdout",
          "output_type": "stream",
          "text": [
            "\b\b\b\b\b\b\b\b\b\b\b\b\b\b\b\b\b\b\b\b\b\b\b\b\b\b\b\b\b\b\b\b\b\b\b\b\b\b\b\b\b\b\b\b\b\b\b\b\b\b\b\b\b\b\b\b\b\b\b\b\b\b\b\b\b\b\b\b\b\b\b\r1377/1377 [==============================] - 5s 4ms/step - loss: 3.4844e-04 - val_loss: 1.3449e-04\n",
            "Epoch 34/300\n",
            "1365/1377 [============================>.] - ETA: 0s - loss: 3.5805e-04"
          ]
        },
        {
          "name": "stderr",
          "output_type": "stream",
          "text": [
            "WARNING:tensorflow:Can save best model only with  available, skipping.\n"
          ]
        },
        {
          "name": "stdout",
          "output_type": "stream",
          "text": [
            "\b\b\b\b\b\b\b\b\b\b\b\b\b\b\b\b\b\b\b\b\b\b\b\b\b\b\b\b\b\b\b\b\b\b\b\b\b\b\b\b\b\b\b\b\b\b\b\b\b\b\b\b\b\b\b\b\b\b\b\b\b\b\b\b\b\b\b\b\b\b\b\r1377/1377 [==============================] - 5s 3ms/step - loss: 3.5780e-04 - val_loss: 2.0605e-04\n",
            "Epoch 35/300\n",
            "1370/1377 [============================>.] - ETA: 0s - loss: 3.5634e-04"
          ]
        },
        {
          "name": "stderr",
          "output_type": "stream",
          "text": [
            "WARNING:tensorflow:Can save best model only with  available, skipping.\n"
          ]
        },
        {
          "name": "stdout",
          "output_type": "stream",
          "text": [
            "\b\b\b\b\b\b\b\b\b\b\b\b\b\b\b\b\b\b\b\b\b\b\b\b\b\b\b\b\b\b\b\b\b\b\b\b\b\b\b\b\b\b\b\b\b\b\b\b\b\b\b\b\b\b\b\b\b\b\b\b\b\b\b\b\b\b\b\b\b\b\b\r1377/1377 [==============================] - 4s 3ms/step - loss: 3.5534e-04 - val_loss: 1.3925e-04\n",
            "Epoch 36/300\n",
            "1371/1377 [============================>.] - ETA: 0s - loss: 3.4785e-04"
          ]
        },
        {
          "name": "stderr",
          "output_type": "stream",
          "text": [
            "WARNING:tensorflow:Can save best model only with  available, skipping.\n"
          ]
        },
        {
          "name": "stdout",
          "output_type": "stream",
          "text": [
            "\b\b\b\b\b\b\b\b\b\b\b\b\b\b\b\b\b\b\b\b\b\b\b\b\b\b\b\b\b\b\b\b\b\b\b\b\b\b\b\b\b\b\b\b\b\b\b\b\b\b\b\b\b\b\b\b\b\b\b\b\b\b\b\b\b\b\b\b\b\b\b\r1377/1377 [==============================] - 5s 4ms/step - loss: 3.4746e-04 - val_loss: 2.2240e-04\n",
            "Epoch 37/300\n",
            "1358/1377 [============================>.] - ETA: 0s - loss: 3.4245e-04"
          ]
        },
        {
          "name": "stderr",
          "output_type": "stream",
          "text": [
            "WARNING:tensorflow:Can save best model only with  available, skipping.\n"
          ]
        },
        {
          "name": "stdout",
          "output_type": "stream",
          "text": [
            "\b\b\b\b\b\b\b\b\b\b\b\b\b\b\b\b\b\b\b\b\b\b\b\b\b\b\b\b\b\b\b\b\b\b\b\b\b\b\b\b\b\b\b\b\b\b\b\b\b\b\b\b\b\b\b\b\b\b\b\b\b\b\b\b\b\b\b\b\b\b\b\r1377/1377 [==============================] - 5s 3ms/step - loss: 3.4323e-04 - val_loss: 1.3355e-04\n",
            "Epoch 38/300\n",
            "1363/1377 [============================>.] - ETA: 0s - loss: 3.5255e-04"
          ]
        },
        {
          "name": "stderr",
          "output_type": "stream",
          "text": [
            "WARNING:tensorflow:Can save best model only with  available, skipping.\n"
          ]
        },
        {
          "name": "stdout",
          "output_type": "stream",
          "text": [
            "\b\b\b\b\b\b\b\b\b\b\b\b\b\b\b\b\b\b\b\b\b\b\b\b\b\b\b\b\b\b\b\b\b\b\b\b\b\b\b\b\b\b\b\b\b\b\b\b\b\b\b\b\b\b\b\b\b\b\b\b\b\b\b\b\b\b\b\b\b\b\b\r1377/1377 [==============================] - 5s 3ms/step - loss: 3.5291e-04 - val_loss: 1.6735e-04\n",
            "Epoch 39/300\n",
            "1370/1377 [============================>.] - ETA: 0s - loss: 3.4295e-04"
          ]
        },
        {
          "name": "stderr",
          "output_type": "stream",
          "text": [
            "WARNING:tensorflow:Can save best model only with  available, skipping.\n"
          ]
        },
        {
          "name": "stdout",
          "output_type": "stream",
          "text": [
            "\b\b\b\b\b\b\b\b\b\b\b\b\b\b\b\b\b\b\b\b\b\b\b\b\b\b\b\b\b\b\b\b\b\b\b\b\b\b\b\b\b\b\b\b\b\b\b\b\b\b\b\b\b\b\b\b\b\b\b\b\b\b\b\b\b\b\b\b\b\b\b\r1377/1377 [==============================] - 4s 3ms/step - loss: 3.4173e-04 - val_loss: 1.5572e-04\n",
            "Epoch 40/300\n",
            "1373/1377 [============================>.] - ETA: 0s - loss: 3.4218e-04"
          ]
        },
        {
          "name": "stderr",
          "output_type": "stream",
          "text": [
            "WARNING:tensorflow:Can save best model only with  available, skipping.\n"
          ]
        },
        {
          "name": "stdout",
          "output_type": "stream",
          "text": [
            "\b\b\b\b\b\b\b\b\b\b\b\b\b\b\b\b\b\b\b\b\b\b\b\b\b\b\b\b\b\b\b\b\b\b\b\b\b\b\b\b\b\b\b\b\b\b\b\b\b\b\b\b\b\b\b\b\b\b\b\b\b\b\b\b\b\b\b\b\b\b\b\r1377/1377 [==============================] - 4s 3ms/step - loss: 3.4216e-04 - val_loss: 1.3050e-04\n",
            "Epoch 41/300\n",
            "1369/1377 [============================>.] - ETA: 0s - loss: 3.4684e-04"
          ]
        },
        {
          "name": "stderr",
          "output_type": "stream",
          "text": [
            "WARNING:tensorflow:Can save best model only with  available, skipping.\n"
          ]
        },
        {
          "name": "stdout",
          "output_type": "stream",
          "text": [
            "\b\b\b\b\b\b\b\b\b\b\b\b\b\b\b\b\b\b\b\b\b\b\b\b\b\b\b\b\b\b\b\b\b\b\b\b\b\b\b\b\b\b\b\b\b\b\b\b\b\b\b\b\b\b\b\b\b\b\b\b\b\b\b\b\b\b\b\b\b\b\b\r1377/1377 [==============================] - 5s 3ms/step - loss: 3.4527e-04 - val_loss: 1.3136e-04\n",
            "Epoch 42/300\n",
            "1357/1377 [============================>.] - ETA: 0s - loss: 3.5553e-04"
          ]
        },
        {
          "name": "stderr",
          "output_type": "stream",
          "text": [
            "WARNING:tensorflow:Can save best model only with  available, skipping.\n"
          ]
        },
        {
          "name": "stdout",
          "output_type": "stream",
          "text": [
            "\b\b\b\b\b\b\b\b\b\b\b\b\b\b\b\b\b\b\b\b\b\b\b\b\b\b\b\b\b\b\b\b\b\b\b\b\b\b\b\b\b\b\b\b\b\b\b\b\b\b\b\b\b\b\b\b\b\b\b\b\b\b\b\b\b\b\b\b\b\b\b\r1377/1377 [==============================] - 5s 3ms/step - loss: 3.5208e-04 - val_loss: 2.2255e-04\n",
            "Epoch 43/300\n",
            "1374/1377 [============================>.] - ETA: 0s - loss: 3.4572e-04"
          ]
        },
        {
          "name": "stderr",
          "output_type": "stream",
          "text": [
            "WARNING:tensorflow:Can save best model only with  available, skipping.\n"
          ]
        },
        {
          "name": "stdout",
          "output_type": "stream",
          "text": [
            "\b\b\b\b\b\b\b\b\b\b\b\b\b\b\b\b\b\b\b\b\b\b\b\b\b\b\b\b\b\b\b\b\b\b\b\b\b\b\b\b\b\b\b\b\b\b\b\b\b\b\b\b\b\b\b\b\b\b\b\b\b\b\b\b\b\b\b\b\b\b\b\r1377/1377 [==============================] - 4s 3ms/step - loss: 3.4553e-04 - val_loss: 1.5508e-04\n",
            "Epoch 44/300\n",
            "1366/1377 [============================>.] - ETA: 0s - loss: 3.5053e-04"
          ]
        },
        {
          "name": "stderr",
          "output_type": "stream",
          "text": [
            "WARNING:tensorflow:Can save best model only with  available, skipping.\n"
          ]
        },
        {
          "name": "stdout",
          "output_type": "stream",
          "text": [
            "\b\b\b\b\b\b\b\b\b\b\b\b\b\b\b\b\b\b\b\b\b\b\b\b\b\b\b\b\b\b\b\b\b\b\b\b\b\b\b\b\b\b\b\b\b\b\b\b\b\b\b\b\b\b\b\b\b\b\b\b\b\b\b\b\b\b\b\b\b\b\b\r1377/1377 [==============================] - 4s 3ms/step - loss: 3.5060e-04 - val_loss: 1.3015e-04\n",
            "Epoch 45/300\n",
            "1375/1377 [============================>.] - ETA: 0s - loss: 3.5565e-04"
          ]
        },
        {
          "name": "stderr",
          "output_type": "stream",
          "text": [
            "WARNING:tensorflow:Can save best model only with  available, skipping.\n"
          ]
        },
        {
          "name": "stdout",
          "output_type": "stream",
          "text": [
            "\b\b\b\b\b\b\b\b\b\b\b\b\b\b\b\b\b\b\b\b\b\b\b\b\b\b\b\b\b\b\b\b\b\b\b\b\b\b\b\b\b\b\b\b\b\b\b\b\b\b\b\b\b\b\b\b\b\b\b\b\b\b\b\b\b\b\b\b\b\b\b\r1377/1377 [==============================] - 5s 3ms/step - loss: 3.5551e-04 - val_loss: 1.4501e-04\n",
            "Epoch 46/300\n",
            "1373/1377 [============================>.] - ETA: 0s - loss: 3.3727e-04"
          ]
        },
        {
          "name": "stderr",
          "output_type": "stream",
          "text": [
            "WARNING:tensorflow:Can save best model only with  available, skipping.\n"
          ]
        },
        {
          "name": "stdout",
          "output_type": "stream",
          "text": [
            "\b\b\b\b\b\b\b\b\b\b\b\b\b\b\b\b\b\b\b\b\b\b\b\b\b\b\b\b\b\b\b\b\b\b\b\b\b\b\b\b\b\b\b\b\b\b\b\b\b\b\b\b\b\b\b\b\b\b\b\b\b\b\b\b\b\b\b\b\b\b\b\r1377/1377 [==============================] - 5s 4ms/step - loss: 3.3671e-04 - val_loss: 1.3070e-04\n",
            "Epoch 47/300\n",
            "1370/1377 [============================>.] - ETA: 0s - loss: 3.4671e-04"
          ]
        },
        {
          "name": "stderr",
          "output_type": "stream",
          "text": [
            "WARNING:tensorflow:Can save best model only with  available, skipping.\n"
          ]
        },
        {
          "name": "stdout",
          "output_type": "stream",
          "text": [
            "\b\b\b\b\b\b\b\b\b\b\b\b\b\b\b\b\b\b\b\b\b\b\b\b\b\b\b\b\b\b\b\b\b\b\b\b\b\b\b\b\b\b\b\b\b\b\b\b\b\b\b\b\b\b\b\b\b\b\b\b\b\b\b\b\b\b\b\b\b\b\b\r1377/1377 [==============================] - 4s 3ms/step - loss: 3.4575e-04 - val_loss: 1.3743e-04\n",
            "Epoch 48/300\n",
            "1369/1377 [============================>.] - ETA: 0s - loss: 3.3530e-04"
          ]
        },
        {
          "name": "stderr",
          "output_type": "stream",
          "text": [
            "WARNING:tensorflow:Can save best model only with  available, skipping.\n"
          ]
        },
        {
          "name": "stdout",
          "output_type": "stream",
          "text": [
            "\b\b\b\b\b\b\b\b\b\b\b\b\b\b\b\b\b\b\b\b\b\b\b\b\b\b\b\b\b\b\b\b\b\b\b\b\b\b\b\b\b\b\b\b\b\b\b\b\b\b\b\b\b\b\b\b\b\b\b\b\b\b\b\b\b\b\b\b\b\b\b\r1377/1377 [==============================] - 5s 3ms/step - loss: 3.3414e-04 - val_loss: 1.4019e-04\n",
            "Epoch 49/300\n",
            "1362/1377 [============================>.] - ETA: 0s - loss: 3.2680e-04"
          ]
        },
        {
          "name": "stderr",
          "output_type": "stream",
          "text": [
            "WARNING:tensorflow:Can save best model only with  available, skipping.\n"
          ]
        },
        {
          "name": "stdout",
          "output_type": "stream",
          "text": [
            "\b\b\b\b\b\b\b\b\b\b\b\b\b\b\b\b\b\b\b\b\b\b\b\b\b\b\b\b\b\b\b\b\b\b\b\b\b\b\b\b\b\b\b\b\b\b\b\b\b\b\b\b\b\b\b\b\b\b\b\b\b\b\b\b\b\b\b\b\b\b\b\r1377/1377 [==============================] - 4s 3ms/step - loss: 3.2572e-04 - val_loss: 1.4108e-04\n",
            "Epoch 50/300\n",
            "1371/1377 [============================>.] - ETA: 0s - loss: 3.4783e-04"
          ]
        },
        {
          "name": "stderr",
          "output_type": "stream",
          "text": [
            "WARNING:tensorflow:Can save best model only with  available, skipping.\n"
          ]
        },
        {
          "name": "stdout",
          "output_type": "stream",
          "text": [
            "\b\b\b\b\b\b\b\b\b\b\b\b\b\b\b\b\b\b\b\b\b\b\b\b\b\b\b\b\b\b\b\b\b\b\b\b\b\b\b\b\b\b\b\b\b\b\b\b\b\b\b\b\b\b\b\b\b\b\b\b\b\b\b\b\b\b\b\b\b\b\b\r1377/1377 [==============================] - 4s 3ms/step - loss: 3.4699e-04 - val_loss: 2.0388e-04\n",
            "Epoch 51/300\n",
            "1361/1377 [============================>.] - ETA: 0s - loss: 3.2446e-04"
          ]
        },
        {
          "name": "stderr",
          "output_type": "stream",
          "text": [
            "WARNING:tensorflow:Can save best model only with  available, skipping.\n"
          ]
        },
        {
          "name": "stdout",
          "output_type": "stream",
          "text": [
            "\b\b\b\b\b\b\b\b\b\b\b\b\b\b\b\b\b\b\b\b\b\b\b\b\b\b\b\b\b\b\b\b\b\b\b\b\b\b\b\b\b\b\b\b\b\b\b\b\b\b\b\b\b\b\b\b\b\b\b\b\b\b\b\b\b\b\b\b\b\b\b\r1377/1377 [==============================] - 5s 3ms/step - loss: 3.3426e-04 - val_loss: 1.9232e-04\n",
            "Epoch 52/300\n",
            "1376/1377 [============================>.] - ETA: 0s - loss: 3.4056e-04"
          ]
        },
        {
          "name": "stderr",
          "output_type": "stream",
          "text": [
            "WARNING:tensorflow:Can save best model only with  available, skipping.\n"
          ]
        },
        {
          "name": "stdout",
          "output_type": "stream",
          "text": [
            "\b\b\b\b\b\b\b\b\b\b\b\b\b\b\b\b\b\b\b\b\b\b\b\b\b\b\b\b\b\b\b\b\b\b\b\b\b\b\b\b\b\b\b\b\b\b\b\b\b\b\b\b\b\b\b\b\b\b\b\b\b\b\b\b\b\b\b\b\b\b\b\r1377/1377 [==============================] - 5s 3ms/step - loss: 3.4037e-04 - val_loss: 2.5107e-04\n",
            "Epoch 53/300\n",
            "1362/1377 [============================>.] - ETA: 0s - loss: 3.4231e-04"
          ]
        },
        {
          "name": "stderr",
          "output_type": "stream",
          "text": [
            "WARNING:tensorflow:Can save best model only with  available, skipping.\n"
          ]
        },
        {
          "name": "stdout",
          "output_type": "stream",
          "text": [
            "\b\b\b\b\b\b\b\b\b\b\b\b\b\b\b\b\b\b\b\b\b\b\b\b\b\b\b\b\b\b\b\b\b\b\b\b\b\b\b\b\b\b\b\b\b\b\b\b\b\b\b\b\b\b\b\b\b\b\b\b\b\b\b\b\b\b\b\b\b\b\b\r1377/1377 [==============================] - 4s 3ms/step - loss: 3.4075e-04 - val_loss: 1.3249e-04\n",
            "Epoch 54/300\n",
            "1360/1377 [============================>.] - ETA: 0s - loss: 3.4589e-04"
          ]
        },
        {
          "name": "stderr",
          "output_type": "stream",
          "text": [
            "WARNING:tensorflow:Can save best model only with  available, skipping.\n"
          ]
        },
        {
          "name": "stdout",
          "output_type": "stream",
          "text": [
            "\b\b\b\b\b\b\b\b\b\b\b\b\b\b\b\b\b\b\b\b\b\b\b\b\b\b\b\b\b\b\b\b\b\b\b\b\b\b\b\b\b\b\b\b\b\b\b\b\b\b\b\b\b\b\b\b\b\b\b\b\b\b\b\b\b\b\b\b\b\b\b\r1377/1377 [==============================] - 4s 3ms/step - loss: 3.4319e-04 - val_loss: 1.4303e-04\n",
            "Epoch 55/300\n",
            "1356/1377 [============================>.] - ETA: 0s - loss: 3.2707e-04"
          ]
        },
        {
          "name": "stderr",
          "output_type": "stream",
          "text": [
            "WARNING:tensorflow:Can save best model only with  available, skipping.\n"
          ]
        },
        {
          "name": "stdout",
          "output_type": "stream",
          "text": [
            "\b\b\b\b\b\b\b\b\b\b\b\b\b\b\b\b\b\b\b\b\b\b\b\b\b\b\b\b\b\b\b\b\b\b\b\b\b\b\b\b\b\b\b\b\b\b\b\b\b\b\b\b\b\b\b\b\b\b\b\b\b\b\b\b\b\b\b\b\b\b\b\r1377/1377 [==============================] - 5s 3ms/step - loss: 3.3289e-04 - val_loss: 1.2774e-04\n",
            "Epoch 56/300\n",
            "1365/1377 [============================>.] - ETA: 0s - loss: 3.3376e-04"
          ]
        },
        {
          "name": "stderr",
          "output_type": "stream",
          "text": [
            "WARNING:tensorflow:Can save best model only with  available, skipping.\n"
          ]
        },
        {
          "name": "stdout",
          "output_type": "stream",
          "text": [
            "\b\b\b\b\b\b\b\b\b\b\b\b\b\b\b\b\b\b\b\b\b\b\b\b\b\b\b\b\b\b\b\b\b\b\b\b\b\b\b\b\b\b\b\b\b\b\b\b\b\b\b\b\b\b\b\b\b\b\b\b\b\b\b\b\b\b\b\b\b\b\b\r1377/1377 [==============================] - 4s 3ms/step - loss: 3.3607e-04 - val_loss: 1.4145e-04\n",
            "Epoch 57/300\n",
            "1359/1377 [============================>.] - ETA: 0s - loss: 3.5062e-04"
          ]
        },
        {
          "name": "stderr",
          "output_type": "stream",
          "text": [
            "WARNING:tensorflow:Can save best model only with  available, skipping.\n"
          ]
        },
        {
          "name": "stdout",
          "output_type": "stream",
          "text": [
            "\b\b\b\b\b\b\b\b\b\b\b\b\b\b\b\b\b\b\b\b\b\b\b\b\b\b\b\b\b\b\b\b\b\b\b\b\b\b\b\b\b\b\b\b\b\b\b\b\b\b\b\b\b\b\b\b\b\b\b\b\b\b\b\b\b\b\b\b\b\b\b\r1377/1377 [==============================] - 4s 3ms/step - loss: 3.4796e-04 - val_loss: 1.3911e-04\n",
            "Epoch 58/300\n",
            "1375/1377 [============================>.] - ETA: 0s - loss: 3.3914e-04"
          ]
        },
        {
          "name": "stderr",
          "output_type": "stream",
          "text": [
            "WARNING:tensorflow:Can save best model only with  available, skipping.\n"
          ]
        },
        {
          "name": "stdout",
          "output_type": "stream",
          "text": [
            "\b\b\b\b\b\b\b\b\b\b\b\b\b\b\b\b\b\b\b\b\b\b\b\b\b\b\b\b\b\b\b\b\b\b\b\b\b\b\b\b\b\b\b\b\b\b\b\b\b\b\b\b\b\b\b\b\b\b\b\b\b\b\b\b\b\b\b\b\b\b\b\r1377/1377 [==============================] - 4s 3ms/step - loss: 3.3891e-04 - val_loss: 1.6881e-04\n",
            "Epoch 59/300\n",
            "1367/1377 [============================>.] - ETA: 0s - loss: 3.3226e-04"
          ]
        },
        {
          "name": "stderr",
          "output_type": "stream",
          "text": [
            "WARNING:tensorflow:Can save best model only with  available, skipping.\n"
          ]
        },
        {
          "name": "stdout",
          "output_type": "stream",
          "text": [
            "\b\b\b\b\b\b\b\b\b\b\b\b\b\b\b\b\b\b\b\b\b\b\b\b\b\b\b\b\b\b\b\b\b\b\b\b\b\b\b\b\b\b\b\b\b\b\b\b\b\b\b\b\b\b\b\b\b\b\b\b\b\b\b\b\b\b\b\b\b\b\b\r1377/1377 [==============================] - 4s 3ms/step - loss: 3.3147e-04 - val_loss: 1.4031e-04\n",
            "Epoch 60/300\n",
            "1364/1377 [============================>.] - ETA: 0s - loss: 3.4862e-04"
          ]
        },
        {
          "name": "stderr",
          "output_type": "stream",
          "text": [
            "WARNING:tensorflow:Can save best model only with  available, skipping.\n"
          ]
        },
        {
          "name": "stdout",
          "output_type": "stream",
          "text": [
            "\b\b\b\b\b\b\b\b\b\b\b\b\b\b\b\b\b\b\b\b\b\b\b\b\b\b\b\b\b\b\b\b\b\b\b\b\b\b\b\b\b\b\b\b\b\b\b\b\b\b\b\b\b\b\b\b\b\b\b\b\b\b\b\b\b\b\b\b\b\b\b\r1377/1377 [==============================] - 4s 3ms/step - loss: 3.4724e-04 - val_loss: 1.4140e-04\n",
            "Epoch 61/300\n",
            "1376/1377 [============================>.] - ETA: 0s - loss: 3.3371e-04"
          ]
        },
        {
          "name": "stderr",
          "output_type": "stream",
          "text": [
            "WARNING:tensorflow:Can save best model only with  available, skipping.\n"
          ]
        },
        {
          "name": "stdout",
          "output_type": "stream",
          "text": [
            "\b\b\b\b\b\b\b\b\b\b\b\b\b\b\b\b\b\b\b\b\b\b\b\b\b\b\b\b\b\b\b\b\b\b\b\b\b\b\b\b\b\b\b\b\b\b\b\b\b\b\b\b\b\b\b\b\b\b\b\b\b\b\b\b\b\b\b\b\b\b\b\r1377/1377 [==============================] - 4s 3ms/step - loss: 3.3392e-04 - val_loss: 1.6746e-04\n",
            "Epoch 62/300\n",
            "1369/1377 [============================>.] - ETA: 0s - loss: 3.3510e-04"
          ]
        },
        {
          "name": "stderr",
          "output_type": "stream",
          "text": [
            "WARNING:tensorflow:Can save best model only with  available, skipping.\n"
          ]
        },
        {
          "name": "stdout",
          "output_type": "stream",
          "text": [
            "\b\b\b\b\b\b\b\b\b\b\b\b\b\b\b\b\b\b\b\b\b\b\b\b\b\b\b\b\b\b\b\b\b\b\b\b\b\b\b\b\b\b\b\b\b\b\b\b\b\b\b\b\b\b\b\b\b\b\b\b\b\b\b\b\b\b\b\b\b\b\b\r1377/1377 [==============================] - 5s 4ms/step - loss: 3.3519e-04 - val_loss: 1.2555e-04\n",
            "Epoch 63/300\n",
            "1362/1377 [============================>.] - ETA: 0s - loss: 3.3702e-04"
          ]
        },
        {
          "name": "stderr",
          "output_type": "stream",
          "text": [
            "WARNING:tensorflow:Can save best model only with  available, skipping.\n"
          ]
        },
        {
          "name": "stdout",
          "output_type": "stream",
          "text": [
            "\b\b\b\b\b\b\b\b\b\b\b\b\b\b\b\b\b\b\b\b\b\b\b\b\b\b\b\b\b\b\b\b\b\b\b\b\b\b\b\b\b\b\b\b\b\b\b\b\b\b\b\b\b\b\b\b\b\b\b\b\b\b\b\b\b\b\b\b\b\b\b\r1377/1377 [==============================] - 5s 3ms/step - loss: 3.3411e-04 - val_loss: 1.3539e-04\n",
            "Epoch 64/300\n",
            "1366/1377 [============================>.] - ETA: 0s - loss: 3.4084e-04"
          ]
        },
        {
          "name": "stderr",
          "output_type": "stream",
          "text": [
            "WARNING:tensorflow:Can save best model only with  available, skipping.\n"
          ]
        },
        {
          "name": "stdout",
          "output_type": "stream",
          "text": [
            "\b\b\b\b\b\b\b\b\b\b\b\b\b\b\b\b\b\b\b\b\b\b\b\b\b\b\b\b\b\b\b\b\b\b\b\b\b\b\b\b\b\b\b\b\b\b\b\b\b\b\b\b\b\b\b\b\b\b\b\b\b\b\b\b\b\b\b\b\b\b\b\r1377/1377 [==============================] - 4s 3ms/step - loss: 3.4086e-04 - val_loss: 1.3904e-04\n",
            "Epoch 65/300\n",
            "1358/1377 [============================>.] - ETA: 0s - loss: 3.2885e-04"
          ]
        },
        {
          "name": "stderr",
          "output_type": "stream",
          "text": [
            "WARNING:tensorflow:Can save best model only with  available, skipping.\n"
          ]
        },
        {
          "name": "stdout",
          "output_type": "stream",
          "text": [
            "\b\b\b\b\b\b\b\b\b\b\b\b\b\b\b\b\b\b\b\b\b\b\b\b\b\b\b\b\b\b\b\b\b\b\b\b\b\b\b\b\b\b\b\b\b\b\b\b\b\b\b\b\b\b\b\b\b\b\b\b\b\b\b\b\b\b\b\b\b\b\b\r1377/1377 [==============================] - 5s 3ms/step - loss: 3.3027e-04 - val_loss: 1.2885e-04\n",
            "Epoch 66/300\n",
            "1364/1377 [============================>.] - ETA: 0s - loss: 3.4140e-04"
          ]
        },
        {
          "name": "stderr",
          "output_type": "stream",
          "text": [
            "WARNING:tensorflow:Can save best model only with  available, skipping.\n"
          ]
        },
        {
          "name": "stdout",
          "output_type": "stream",
          "text": [
            "\b\b\b\b\b\b\b\b\b\b\b\b\b\b\b\b\b\b\b\b\b\b\b\b\b\b\b\b\b\b\b\b\b\b\b\b\b\b\b\b\b\b\b\b\b\b\b\b\b\b\b\b\b\b\b\b\b\b\b\b\b\b\b\b\b\b\b\b\b\b\b\r1377/1377 [==============================] - 4s 3ms/step - loss: 3.4109e-04 - val_loss: 1.8165e-04\n",
            "Epoch 67/300\n",
            "1372/1377 [============================>.] - ETA: 0s - loss: 3.3350e-04"
          ]
        },
        {
          "name": "stderr",
          "output_type": "stream",
          "text": [
            "WARNING:tensorflow:Can save best model only with  available, skipping.\n"
          ]
        },
        {
          "name": "stdout",
          "output_type": "stream",
          "text": [
            "\b\b\b\b\b\b\b\b\b\b\b\b\b\b\b\b\b\b\b\b\b\b\b\b\b\b\b\b\b\b\b\b\b\b\b\b\b\b\b\b\b\b\b\b\b\b\b\b\b\b\b\b\b\b\b\b\b\b\b\b\b\b\b\b\b\b\b\b\b\b\b\r1377/1377 [==============================] - 4s 3ms/step - loss: 3.3277e-04 - val_loss: 2.1749e-04\n",
            "Epoch 68/300\n",
            "1368/1377 [============================>.] - ETA: 0s - loss: 3.4460e-04"
          ]
        },
        {
          "name": "stderr",
          "output_type": "stream",
          "text": [
            "WARNING:tensorflow:Can save best model only with  available, skipping.\n"
          ]
        },
        {
          "name": "stdout",
          "output_type": "stream",
          "text": [
            "\b\b\b\b\b\b\b\b\b\b\b\b\b\b\b\b\b\b\b\b\b\b\b\b\b\b\b\b\b\b\b\b\b\b\b\b\b\b\b\b\b\b\b\b\b\b\b\b\b\b\b\b\b\b\b\b\b\b\b\b\b\b\b\b\b\b\b\b\b\b\b\r1377/1377 [==============================] - 4s 3ms/step - loss: 3.4375e-04 - val_loss: 1.2588e-04\n",
            "Epoch 69/300\n",
            "1374/1377 [============================>.] - ETA: 0s - loss: 3.3815e-04"
          ]
        },
        {
          "name": "stderr",
          "output_type": "stream",
          "text": [
            "WARNING:tensorflow:Can save best model only with  available, skipping.\n"
          ]
        },
        {
          "name": "stdout",
          "output_type": "stream",
          "text": [
            "\b\b\b\b\b\b\b\b\b\b\b\b\b\b\b\b\b\b\b\b\b\b\b\b\b\b\b\b\b\b\b\b\b\b\b\b\b\b\b\b\b\b\b\b\b\b\b\b\b\b\b\b\b\b\b\b\b\b\b\b\b\b\b\b\b\b\b\b\b\b\b\r1377/1377 [==============================] - 4s 3ms/step - loss: 3.3776e-04 - val_loss: 1.7238e-04\n",
            "Epoch 70/300\n",
            "1356/1377 [============================>.] - ETA: 0s - loss: 3.3885e-04"
          ]
        },
        {
          "name": "stderr",
          "output_type": "stream",
          "text": [
            "WARNING:tensorflow:Can save best model only with  available, skipping.\n"
          ]
        },
        {
          "name": "stdout",
          "output_type": "stream",
          "text": [
            "\b\b\b\b\b\b\b\b\b\b\b\b\b\b\b\b\b\b\b\b\b\b\b\b\b\b\b\b\b\b\b\b\b\b\b\b\b\b\b\b\b\b\b\b\b\b\b\b\b\b\b\b\b\b\b\b\b\b\b\b\b\b\b\b\b\b\b\b\b\b\b\r1377/1377 [==============================] - 5s 3ms/step - loss: 3.3657e-04 - val_loss: 1.2906e-04\n",
            "Epoch 71/300\n",
            "1362/1377 [============================>.] - ETA: 0s - loss: 3.3869e-04"
          ]
        },
        {
          "name": "stderr",
          "output_type": "stream",
          "text": [
            "WARNING:tensorflow:Can save best model only with  available, skipping.\n"
          ]
        },
        {
          "name": "stdout",
          "output_type": "stream",
          "text": [
            "\b\b\b\b\b\b\b\b\b\b\b\b\b\b\b\b\b\b\b\b\b\b\b\b\b\b\b\b\b\b\b\b\b\b\b\b\b\b\b\b\b\b\b\b\b\b\b\b\b\b\b\b\b\b\b\b\b\b\b\b\b\b\b\b\b\b\b\b\b\b\b\r1377/1377 [==============================] - 5s 3ms/step - loss: 3.3881e-04 - val_loss: 1.8124e-04\n",
            "Epoch 72/300\n",
            "1377/1377 [==============================] - ETA: 0s - loss: 3.2678e-04"
          ]
        },
        {
          "name": "stderr",
          "output_type": "stream",
          "text": [
            "WARNING:tensorflow:Can save best model only with  available, skipping.\n"
          ]
        },
        {
          "name": "stdout",
          "output_type": "stream",
          "text": [
            "\b\b\b\b\b\b\b\b\b\b\b\b\b\b\b\b\b\b\b\b\b\b\b\b\b\b\b\b\b\b\b\b\b\b\b\b\b\b\b\b\b\b\b\b\b\b\b\b\b\b\b\b\b\b\b\b\b\b\b\b\b\b\b\b\b\b\b\b\b\b\b\r1377/1377 [==============================] - 4s 3ms/step - loss: 3.2678e-04 - val_loss: 1.3409e-04\n",
            "Epoch 73/300\n",
            "1367/1377 [============================>.] - ETA: 0s - loss: 3.2024e-04"
          ]
        },
        {
          "name": "stderr",
          "output_type": "stream",
          "text": [
            "WARNING:tensorflow:Can save best model only with  available, skipping.\n"
          ]
        },
        {
          "name": "stdout",
          "output_type": "stream",
          "text": [
            "\b\b\b\b\b\b\b\b\b\b\b\b\b\b\b\b\b\b\b\b\b\b\b\b\b\b\b\b\b\b\b\b\b\b\b\b\b\b\b\b\b\b\b\b\b\b\b\b\b\b\b\b\b\b\b\b\b\b\b\b\b\b\b\b\b\b\b\b\b\b\b\r1377/1377 [==============================] - 4s 3ms/step - loss: 3.2195e-04 - val_loss: 1.3256e-04\n",
            "Epoch 74/300\n",
            "1367/1377 [============================>.] - ETA: 0s - loss: 3.3979e-04"
          ]
        },
        {
          "name": "stderr",
          "output_type": "stream",
          "text": [
            "WARNING:tensorflow:Can save best model only with  available, skipping.\n"
          ]
        },
        {
          "name": "stdout",
          "output_type": "stream",
          "text": [
            "\b\b\b\b\b\b\b\b\b\b\b\b\b\b\b\b\b\b\b\b\b\b\b\b\b\b\b\b\b\b\b\b\b\b\b\b\b\b\b\b\b\b\b\b\b\b\b\b\b\b\b\b\b\b\b\b\b\b\b\b\b\b\b\b\b\b\b\b\b\b\b\r1377/1377 [==============================] - 5s 4ms/step - loss: 3.3908e-04 - val_loss: 1.7281e-04\n",
            "Epoch 75/300\n",
            "1359/1377 [============================>.] - ETA: 0s - loss: 3.2766e-04"
          ]
        },
        {
          "name": "stderr",
          "output_type": "stream",
          "text": [
            "WARNING:tensorflow:Can save best model only with  available, skipping.\n"
          ]
        },
        {
          "name": "stdout",
          "output_type": "stream",
          "text": [
            "\b\b\b\b\b\b\b\b\b\b\b\b\b\b\b\b\b\b\b\b\b\b\b\b\b\b\b\b\b\b\b\b\b\b\b\b\b\b\b\b\b\b\b\b\b\b\b\b\b\b\b\b\b\b\b\b\b\b\b\b\b\b\b\b\b\b\b\b\b\b\b\r1377/1377 [==============================] - 4s 3ms/step - loss: 3.3130e-04 - val_loss: 1.2880e-04\n",
            "Epoch 76/300\n",
            "1377/1377 [==============================] - ETA: 0s - loss: 3.3205e-04"
          ]
        },
        {
          "name": "stderr",
          "output_type": "stream",
          "text": [
            "WARNING:tensorflow:Can save best model only with  available, skipping.\n"
          ]
        },
        {
          "name": "stdout",
          "output_type": "stream",
          "text": [
            "\b\b\b\b\b\b\b\b\b\b\b\b\b\b\b\b\b\b\b\b\b\b\b\b\b\b\b\b\b\b\b\b\b\b\b\b\b\b\b\b\b\b\b\b\b\b\b\b\b\b\b\b\b\b\b\b\b\b\b\b\b\b\b\b\b\b\b\b\b\b\b\r1377/1377 [==============================] - 5s 3ms/step - loss: 3.3205e-04 - val_loss: 1.2351e-04\n",
            "Epoch 77/300\n",
            "1371/1377 [============================>.] - ETA: 0s - loss: 3.4864e-04"
          ]
        },
        {
          "name": "stderr",
          "output_type": "stream",
          "text": [
            "WARNING:tensorflow:Can save best model only with  available, skipping.\n"
          ]
        },
        {
          "name": "stdout",
          "output_type": "stream",
          "text": [
            "\b\b\b\b\b\b\b\b\b\b\b\b\b\b\b\b\b\b\b\b\b\b\b\b\b\b\b\b\b\b\b\b\b\b\b\b\b\b\b\b\b\b\b\b\b\b\b\b\b\b\b\b\b\b\b\b\b\b\b\b\b\b\b\b\b\b\b\b\b\b\b\r1377/1377 [==============================] - 4s 3ms/step - loss: 3.4774e-04 - val_loss: 1.4560e-04\n",
            "Epoch 78/300\n",
            "1356/1377 [============================>.] - ETA: 0s - loss: 3.4345e-04"
          ]
        },
        {
          "name": "stderr",
          "output_type": "stream",
          "text": [
            "WARNING:tensorflow:Can save best model only with  available, skipping.\n"
          ]
        },
        {
          "name": "stdout",
          "output_type": "stream",
          "text": [
            "\b\b\b\b\b\b\b\b\b\b\b\b\b\b\b\b\b\b\b\b\b\b\b\b\b\b\b\b\b\b\b\b\b\b\b\b\b\b\b\b\b\b\b\b\b\b\b\b\b\b\b\b\b\b\b\b\b\b\b\b\b\b\b\b\b\b\b\b\b\b\b\r1377/1377 [==============================] - 4s 3ms/step - loss: 3.4395e-04 - val_loss: 2.3560e-04\n",
            "Epoch 79/300\n",
            "1356/1377 [============================>.] - ETA: 0s - loss: 3.3174e-04"
          ]
        },
        {
          "name": "stderr",
          "output_type": "stream",
          "text": [
            "WARNING:tensorflow:Can save best model only with  available, skipping.\n"
          ]
        },
        {
          "name": "stdout",
          "output_type": "stream",
          "text": [
            "\b\b\b\b\b\b\b\b\b\b\b\b\b\b\b\b\b\b\b\b\b\b\b\b\b\b\b\b\b\b\b\b\b\b\b\b\b\b\b\b\b\b\b\b\b\b\b\b\b\b\b\b\b\b\b\b\b\b\b\b\b\b\b\b\b\b\b\b\b\b\b\r1377/1377 [==============================] - 5s 3ms/step - loss: 3.3068e-04 - val_loss: 1.7671e-04\n",
            "Epoch 80/300\n",
            "1364/1377 [============================>.] - ETA: 0s - loss: 3.3164e-04"
          ]
        },
        {
          "name": "stderr",
          "output_type": "stream",
          "text": [
            "WARNING:tensorflow:Can save best model only with  available, skipping.\n"
          ]
        },
        {
          "name": "stdout",
          "output_type": "stream",
          "text": [
            "\b\b\b\b\b\b\b\b\b\b\b\b\b\b\b\b\b\b\b\b\b\b\b\b\b\b\b\b\b\b\b\b\b\b\b\b\b\b\b\b\b\b\b\b\b\b\b\b\b\b\b\b\b\b\b\b\b\b\b\b\b\b\b\b\b\b\b\b\b\b\b\r1377/1377 [==============================] - 4s 3ms/step - loss: 3.3262e-04 - val_loss: 1.3087e-04\n",
            "Epoch 81/300\n",
            "1369/1377 [============================>.] - ETA: 0s - loss: 3.3472e-04"
          ]
        },
        {
          "name": "stderr",
          "output_type": "stream",
          "text": [
            "WARNING:tensorflow:Can save best model only with  available, skipping.\n"
          ]
        },
        {
          "name": "stdout",
          "output_type": "stream",
          "text": [
            "\b\b\b\b\b\b\b\b\b\b\b\b\b\b\b\b\b\b\b\b\b\b\b\b\b\b\b\b\b\b\b\b\b\b\b\b\b\b\b\b\b\b\b\b\b\b\b\b\b\b\b\b\b\b\b\b\b\b\b\b\b\b\b\b\b\b\b\b\b\b\b\r1377/1377 [==============================] - 4s 3ms/step - loss: 3.3552e-04 - val_loss: 2.3685e-04\n",
            "Epoch 82/300\n",
            "1362/1377 [============================>.] - ETA: 0s - loss: 3.2645e-04"
          ]
        },
        {
          "name": "stderr",
          "output_type": "stream",
          "text": [
            "WARNING:tensorflow:Can save best model only with  available, skipping.\n"
          ]
        },
        {
          "name": "stdout",
          "output_type": "stream",
          "text": [
            "\b\b\b\b\b\b\b\b\b\b\b\b\b\b\b\b\b\b\b\b\b\b\b\b\b\b\b\b\b\b\b\b\b\b\b\b\b\b\b\b\b\b\b\b\b\b\b\b\b\b\b\b\b\b\b\b\b\b\b\b\b\b\b\b\b\b\b\b\b\b\b\r1377/1377 [==============================] - 4s 3ms/step - loss: 3.3359e-04 - val_loss: 1.2254e-04\n",
            "Epoch 83/300\n",
            "1365/1377 [============================>.] - ETA: 0s - loss: 3.2354e-04"
          ]
        },
        {
          "name": "stderr",
          "output_type": "stream",
          "text": [
            "WARNING:tensorflow:Can save best model only with  available, skipping.\n"
          ]
        },
        {
          "name": "stdout",
          "output_type": "stream",
          "text": [
            "\b\b\b\b\b\b\b\b\b\b\b\b\b\b\b\b\b\b\b\b\b\b\b\b\b\b\b\b\b\b\b\b\b\b\b\b\b\b\b\b\b\b\b\b\b\b\b\b\b\b\b\b\b\b\b\b\b\b\b\b\b\b\b\b\b\b\b\b\b\b\b\r1377/1377 [==============================] - 5s 3ms/step - loss: 3.2279e-04 - val_loss: 1.2510e-04\n",
            "Epoch 84/300\n",
            "1369/1377 [============================>.] - ETA: 0s - loss: 3.2711e-04"
          ]
        },
        {
          "name": "stderr",
          "output_type": "stream",
          "text": [
            "WARNING:tensorflow:Can save best model only with  available, skipping.\n"
          ]
        },
        {
          "name": "stdout",
          "output_type": "stream",
          "text": [
            "\b\b\b\b\b\b\b\b\b\b\b\b\b\b\b\b\b\b\b\b\b\b\b\b\b\b\b\b\b\b\b\b\b\b\b\b\b\b\b\b\b\b\b\b\b\b\b\b\b\b\b\b\b\b\b\b\b\b\b\b\b\b\b\b\b\b\b\b\b\b\b\r1377/1377 [==============================] - 4s 3ms/step - loss: 3.3084e-04 - val_loss: 1.7616e-04\n",
            "Epoch 85/300\n",
            "1373/1377 [============================>.] - ETA: 0s - loss: 3.2632e-04"
          ]
        },
        {
          "name": "stderr",
          "output_type": "stream",
          "text": [
            "WARNING:tensorflow:Can save best model only with  available, skipping.\n"
          ]
        },
        {
          "name": "stdout",
          "output_type": "stream",
          "text": [
            "\b\b\b\b\b\b\b\b\b\b\b\b\b\b\b\b\b\b\b\b\b\b\b\b\b\b\b\b\b\b\b\b\b\b\b\b\b\b\b\b\b\b\b\b\b\b\b\b\b\b\b\b\b\b\b\b\b\b\b\b\b\b\b\b\b\b\b\b\b\b\b\r1377/1377 [==============================] - 5s 3ms/step - loss: 3.2607e-04 - val_loss: 1.7207e-04\n",
            "Epoch 86/300\n",
            "1357/1377 [============================>.] - ETA: 0s - loss: 3.3756e-04"
          ]
        },
        {
          "name": "stderr",
          "output_type": "stream",
          "text": [
            "WARNING:tensorflow:Can save best model only with  available, skipping.\n"
          ]
        },
        {
          "name": "stdout",
          "output_type": "stream",
          "text": [
            "\b\b\b\b\b\b\b\b\b\b\b\b\b\b\b\b\b\b\b\b\b\b\b\b\b\b\b\b\b\b\b\b\b\b\b\b\b\b\b\b\b\b\b\b\b\b\b\b\b\b\b\b\b\b\b\b\b\b\b\b\b\b\b\b\b\b\b\b\b\b\b\r1377/1377 [==============================] - 4s 3ms/step - loss: 3.3512e-04 - val_loss: 1.2250e-04\n",
            "Epoch 87/300\n",
            "1365/1377 [============================>.] - ETA: 0s - loss: 3.3442e-04"
          ]
        },
        {
          "name": "stderr",
          "output_type": "stream",
          "text": [
            "WARNING:tensorflow:Can save best model only with  available, skipping.\n"
          ]
        },
        {
          "name": "stdout",
          "output_type": "stream",
          "text": [
            "\b\b\b\b\b\b\b\b\b\b\b\b\b\b\b\b\b\b\b\b\b\b\b\b\b\b\b\b\b\b\b\b\b\b\b\b\b\b\b\b\b\b\b\b\b\b\b\b\b\b\b\b\b\b\b\b\b\b\b\b\b\b\b\b\b\b\b\b\b\b\b\r1377/1377 [==============================] - 4s 3ms/step - loss: 3.3478e-04 - val_loss: 1.2956e-04\n",
            "Epoch 88/300\n",
            "1371/1377 [============================>.] - ETA: 0s - loss: 3.3062e-04"
          ]
        },
        {
          "name": "stderr",
          "output_type": "stream",
          "text": [
            "WARNING:tensorflow:Can save best model only with  available, skipping.\n"
          ]
        },
        {
          "name": "stdout",
          "output_type": "stream",
          "text": [
            "\b\b\b\b\b\b\b\b\b\b\b\b\b\b\b\b\b\b\b\b\b\b\b\b\b\b\b\b\b\b\b\b\b\b\b\b\b\b\b\b\b\b\b\b\b\b\b\b\b\b\b\b\b\b\b\b\b\b\b\b\b\b\b\b\b\b\b\b\b\b\b\r1377/1377 [==============================] - 5s 3ms/step - loss: 3.3082e-04 - val_loss: 1.4194e-04\n",
            "Epoch 89/300\n",
            "1373/1377 [============================>.] - ETA: 0s - loss: 3.3688e-04"
          ]
        },
        {
          "name": "stderr",
          "output_type": "stream",
          "text": [
            "WARNING:tensorflow:Can save best model only with  available, skipping.\n"
          ]
        },
        {
          "name": "stdout",
          "output_type": "stream",
          "text": [
            "\b\b\b\b\b\b\b\b\b\b\b\b\b\b\b\b\b\b\b\b\b\b\b\b\b\b\b\b\b\b\b\b\b\b\b\b\b\b\b\b\b\b\b\b\b\b\b\b\b\b\b\b\b\b\b\b\b\b\b\b\b\b\b\b\b\b\b\b\b\b\b\r1377/1377 [==============================] - 5s 3ms/step - loss: 3.3763e-04 - val_loss: 1.7465e-04\n",
            "Epoch 90/300\n",
            "1356/1377 [============================>.] - ETA: 0s - loss: 3.3287e-04"
          ]
        },
        {
          "name": "stderr",
          "output_type": "stream",
          "text": [
            "WARNING:tensorflow:Can save best model only with  available, skipping.\n"
          ]
        },
        {
          "name": "stdout",
          "output_type": "stream",
          "text": [
            "\b\b\b\b\b\b\b\b\b\b\b\b\b\b\b\b\b\b\b\b\b\b\b\b\b\b\b\b\b\b\b\b\b\b\b\b\b\b\b\b\b\b\b\b\b\b\b\b\b\b\b\b\b\b\b\b\b\b\b\b\b\b\b\b\b\b\b\b\b\b\b\r1377/1377 [==============================] - 5s 3ms/step - loss: 3.3070e-04 - val_loss: 1.3385e-04\n",
            "Epoch 91/300\n",
            "1374/1377 [============================>.] - ETA: 0s - loss: 3.3740e-04"
          ]
        },
        {
          "name": "stderr",
          "output_type": "stream",
          "text": [
            "WARNING:tensorflow:Can save best model only with  available, skipping.\n"
          ]
        },
        {
          "name": "stdout",
          "output_type": "stream",
          "text": [
            "\b\b\b\b\b\b\b\b\b\b\b\b\b\b\b\b\b\b\b\b\b\b\b\b\b\b\b\b\b\b\b\b\b\b\b\b\b\b\b\b\b\b\b\b\b\b\b\b\b\b\b\b\b\b\b\b\b\b\b\b\b\b\b\b\b\b\b\b\b\b\b\r1377/1377 [==============================] - 5s 4ms/step - loss: 3.3669e-04 - val_loss: 1.3543e-04\n",
            "Epoch 92/300\n",
            "1356/1377 [============================>.] - ETA: 0s - loss: 3.4025e-04"
          ]
        },
        {
          "name": "stderr",
          "output_type": "stream",
          "text": [
            "WARNING:tensorflow:Can save best model only with  available, skipping.\n"
          ]
        },
        {
          "name": "stdout",
          "output_type": "stream",
          "text": [
            "\b\b\b\b\b\b\b\b\b\b\b\b\b\b\b\b\b\b\b\b\b\b\b\b\b\b\b\b\b\b\b\b\b\b\b\b\b\b\b\b\b\b\b\b\b\b\b\b\b\b\b\b\b\b\b\b\b\b\b\b\b\b\b\b\b\b\b\b\b\b\b\r1377/1377 [==============================] - 5s 3ms/step - loss: 3.3790e-04 - val_loss: 1.2940e-04\n",
            "Epoch 93/300\n",
            "1372/1377 [============================>.] - ETA: 0s - loss: 3.4323e-04"
          ]
        },
        {
          "name": "stderr",
          "output_type": "stream",
          "text": [
            "WARNING:tensorflow:Can save best model only with  available, skipping.\n"
          ]
        },
        {
          "name": "stdout",
          "output_type": "stream",
          "text": [
            "\b\b\b\b\b\b\b\b\b\b\b\b\b\b\b\b\b\b\b\b\b\b\b\b\b\b\b\b\b\b\b\b\b\b\b\b\b\b\b\b\b\b\b\b\b\b\b\b\b\b\b\b\b\b\b\b\b\b\b\b\b\b\b\b\b\b\b\b\b\b\b\r1377/1377 [==============================] - 4s 3ms/step - loss: 3.4220e-04 - val_loss: 1.2239e-04\n",
            "Epoch 94/300\n",
            "1361/1377 [============================>.] - ETA: 0s - loss: 3.2611e-04"
          ]
        },
        {
          "name": "stderr",
          "output_type": "stream",
          "text": [
            "WARNING:tensorflow:Can save best model only with  available, skipping.\n"
          ]
        },
        {
          "name": "stdout",
          "output_type": "stream",
          "text": [
            "\b\b\b\b\b\b\b\b\b\b\b\b\b\b\b\b\b\b\b\b\b\b\b\b\b\b\b\b\b\b\b\b\b\b\b\b\b\b\b\b\b\b\b\b\b\b\b\b\b\b\b\b\b\b\b\b\b\b\b\b\b\b\b\b\b\b\b\b\b\b\b\r1377/1377 [==============================] - 5s 3ms/step - loss: 3.2387e-04 - val_loss: 1.3065e-04\n",
            "Epoch 95/300\n",
            "1371/1377 [============================>.] - ETA: 0s - loss: 3.2274e-04"
          ]
        },
        {
          "name": "stderr",
          "output_type": "stream",
          "text": [
            "WARNING:tensorflow:Can save best model only with  available, skipping.\n"
          ]
        },
        {
          "name": "stdout",
          "output_type": "stream",
          "text": [
            "\b\b\b\b\b\b\b\b\b\b\b\b\b\b\b\b\b\b\b\b\b\b\b\b\b\b\b\b\b\b\b\b\b\b\b\b\b\b\b\b\b\b\b\b\b\b\b\b\b\b\b\b\b\b\b\b\b\b\b\b\b\b\b\b\b\b\b\b\b\b\b\r1377/1377 [==============================] - 5s 3ms/step - loss: 3.2240e-04 - val_loss: 1.3954e-04\n",
            "Epoch 96/300\n",
            "1372/1377 [============================>.] - ETA: 0s - loss: 3.2281e-04"
          ]
        },
        {
          "name": "stderr",
          "output_type": "stream",
          "text": [
            "WARNING:tensorflow:Can save best model only with  available, skipping.\n"
          ]
        },
        {
          "name": "stdout",
          "output_type": "stream",
          "text": [
            "\b\b\b\b\b\b\b\b\b\b\b\b\b\b\b\b\b\b\b\b\b\b\b\b\b\b\b\b\b\b\b\b\b\b\b\b\b\b\b\b\b\b\b\b\b\b\b\b\b\b\b\b\b\b\b\b\b\b\b\b\b\b\b\b\b\b\b\b\b\b\b\r1377/1377 [==============================] - 4s 3ms/step - loss: 3.2262e-04 - val_loss: 1.2119e-04\n",
            "Epoch 97/300\n",
            "1367/1377 [============================>.] - ETA: 0s - loss: 3.2961e-04"
          ]
        },
        {
          "name": "stderr",
          "output_type": "stream",
          "text": [
            "WARNING:tensorflow:Can save best model only with  available, skipping.\n"
          ]
        },
        {
          "name": "stdout",
          "output_type": "stream",
          "text": [
            "\b\b\b\b\b\b\b\b\b\b\b\b\b\b\b\b\b\b\b\b\b\b\b\b\b\b\b\b\b\b\b\b\b\b\b\b\b\b\b\b\b\b\b\b\b\b\b\b\b\b\b\b\b\b\b\b\b\b\b\b\b\b\b\b\b\b\b\b\b\b\b\r1377/1377 [==============================] - 4s 3ms/step - loss: 3.2862e-04 - val_loss: 1.2921e-04\n",
            "Epoch 98/300\n",
            "1366/1377 [============================>.] - ETA: 0s - loss: 3.2948e-04"
          ]
        },
        {
          "name": "stderr",
          "output_type": "stream",
          "text": [
            "WARNING:tensorflow:Can save best model only with  available, skipping.\n"
          ]
        },
        {
          "name": "stdout",
          "output_type": "stream",
          "text": [
            "\b\b\b\b\b\b\b\b\b\b\b\b\b\b\b\b\b\b\b\b\b\b\b\b\b\b\b\b\b\b\b\b\b\b\b\b\b\b\b\b\b\b\b\b\b\b\b\b\b\b\b\b\b\b\b\b\b\b\b\b\b\b\b\b\b\b\b\b\b\b\b\r1377/1377 [==============================] - 4s 3ms/step - loss: 3.2937e-04 - val_loss: 1.6635e-04\n",
            "Epoch 99/300\n",
            "1371/1377 [============================>.] - ETA: 0s - loss: 3.2289e-04"
          ]
        },
        {
          "name": "stderr",
          "output_type": "stream",
          "text": [
            "WARNING:tensorflow:Can save best model only with  available, skipping.\n"
          ]
        },
        {
          "name": "stdout",
          "output_type": "stream",
          "text": [
            "\b\b\b\b\b\b\b\b\b\b\b\b\b\b\b\b\b\b\b\b\b\b\b\b\b\b\b\b\b\b\b\b\b\b\b\b\b\b\b\b\b\b\b\b\b\b\b\b\b\b\b\b\b\b\b\b\b\b\b\b\b\b\b\b\b\b\b\b\b\b\b\r1377/1377 [==============================] - 5s 3ms/step - loss: 3.2231e-04 - val_loss: 1.2356e-04\n",
            "Epoch 100/300\n",
            "1367/1377 [============================>.] - ETA: 0s - loss: 3.3017e-04"
          ]
        },
        {
          "name": "stderr",
          "output_type": "stream",
          "text": [
            "WARNING:tensorflow:Can save best model only with  available, skipping.\n"
          ]
        },
        {
          "name": "stdout",
          "output_type": "stream",
          "text": [
            "\b\b\b\b\b\b\b\b\b\b\b\b\b\b\b\b\b\b\b\b\b\b\b\b\b\b\b\b\b\b\b\b\b\b\b\b\b\b\b\b\b\b\b\b\b\b\b\b\b\b\b\b\b\b\b\b\b\b\b\b\b\b\b\b\b\b\b\b\b\b\b\r1377/1377 [==============================] - 5s 4ms/step - loss: 3.3127e-04 - val_loss: 1.2055e-04\n",
            "Epoch 101/300\n",
            "1371/1377 [============================>.] - ETA: 0s - loss: 3.3108e-04"
          ]
        },
        {
          "name": "stderr",
          "output_type": "stream",
          "text": [
            "WARNING:tensorflow:Can save best model only with  available, skipping.\n"
          ]
        },
        {
          "name": "stdout",
          "output_type": "stream",
          "text": [
            "\b\b\b\b\b\b\b\b\b\b\b\b\b\b\b\b\b\b\b\b\b\b\b\b\b\b\b\b\b\b\b\b\b\b\b\b\b\b\b\b\b\b\b\b\b\b\b\b\b\b\b\b\b\b\b\b\b\b\b\b\b\b\b\b\b\b\b\b\b\b\b\r1377/1377 [==============================] - 5s 3ms/step - loss: 3.3004e-04 - val_loss: 1.2154e-04\n",
            "Epoch 102/300\n",
            "1365/1377 [============================>.] - ETA: 0s - loss: 3.3110e-04"
          ]
        },
        {
          "name": "stderr",
          "output_type": "stream",
          "text": [
            "WARNING:tensorflow:Can save best model only with  available, skipping.\n"
          ]
        },
        {
          "name": "stdout",
          "output_type": "stream",
          "text": [
            "\b\b\b\b\b\b\b\b\b\b\b\b\b\b\b\b\b\b\b\b\b\b\b\b\b\b\b\b\b\b\b\b\b\b\b\b\b\b\b\b\b\b\b\b\b\b\b\b\b\b\b\b\b\b\b\b\b\b\b\b\b\b\b\b\b\b\b\b\b\b\b\r1377/1377 [==============================] - 4s 3ms/step - loss: 3.2946e-04 - val_loss: 1.9435e-04\n",
            "Epoch 103/300\n",
            "1366/1377 [============================>.] - ETA: 0s - loss: 3.2653e-04"
          ]
        },
        {
          "name": "stderr",
          "output_type": "stream",
          "text": [
            "WARNING:tensorflow:Can save best model only with  available, skipping.\n"
          ]
        },
        {
          "name": "stdout",
          "output_type": "stream",
          "text": [
            "\b\b\b\b\b\b\b\b\b\b\b\b\b\b\b\b\b\b\b\b\b\b\b\b\b\b\b\b\b\b\b\b\b\b\b\b\b\b\b\b\b\b\b\b\b\b\b\b\b\b\b\b\b\b\b\b\b\b\b\b\b\b\b\b\b\b\b\b\b\b\b\r1377/1377 [==============================] - 5s 3ms/step - loss: 3.2551e-04 - val_loss: 1.3367e-04\n",
            "Epoch 104/300\n",
            "1373/1377 [============================>.] - ETA: 0s - loss: 3.2870e-04"
          ]
        },
        {
          "name": "stderr",
          "output_type": "stream",
          "text": [
            "WARNING:tensorflow:Can save best model only with  available, skipping.\n"
          ]
        },
        {
          "name": "stdout",
          "output_type": "stream",
          "text": [
            "\b\b\b\b\b\b\b\b\b\b\b\b\b\b\b\b\b\b\b\b\b\b\b\b\b\b\b\b\b\b\b\b\b\b\b\b\b\b\b\b\b\b\b\b\b\b\b\b\b\b\b\b\b\b\b\b\b\b\b\b\b\b\b\b\b\b\b\b\b\b\b\r1377/1377 [==============================] - 4s 3ms/step - loss: 3.2824e-04 - val_loss: 2.4246e-04\n",
            "Epoch 105/300\n",
            "1372/1377 [============================>.] - ETA: 0s - loss: 3.3495e-04"
          ]
        },
        {
          "name": "stderr",
          "output_type": "stream",
          "text": [
            "WARNING:tensorflow:Can save best model only with  available, skipping.\n"
          ]
        },
        {
          "name": "stdout",
          "output_type": "stream",
          "text": [
            "\b\b\b\b\b\b\b\b\b\b\b\b\b\b\b\b\b\b\b\b\b\b\b\b\b\b\b\b\b\b\b\b\b\b\b\b\b\b\b\b\b\b\b\b\b\b\b\b\b\b\b\b\b\b\b\b\b\b\b\b\b\b\b\b\b\b\b\b\b\b\b\r1377/1377 [==============================] - 5s 3ms/step - loss: 3.3424e-04 - val_loss: 1.1852e-04\n",
            "Epoch 106/300\n",
            "1375/1377 [============================>.] - ETA: 0s - loss: 3.2557e-04"
          ]
        },
        {
          "name": "stderr",
          "output_type": "stream",
          "text": [
            "WARNING:tensorflow:Can save best model only with  available, skipping.\n"
          ]
        },
        {
          "name": "stdout",
          "output_type": "stream",
          "text": [
            "\b\b\b\b\b\b\b\b\b\b\b\b\b\b\b\b\b\b\b\b\b\b\b\b\b\b\b\b\b\b\b\b\b\b\b\b\b\b\b\b\b\b\b\b\b\b\b\b\b\b\b\b\b\b\b\b\b\b\b\b\b\b\b\b\b\b\b\b\b\b\b\r1377/1377 [==============================] - 4s 3ms/step - loss: 3.2520e-04 - val_loss: 1.2592e-04\n",
            "Epoch 107/300\n",
            "1359/1377 [============================>.] - ETA: 0s - loss: 3.3219e-04"
          ]
        },
        {
          "name": "stderr",
          "output_type": "stream",
          "text": [
            "WARNING:tensorflow:Can save best model only with  available, skipping.\n"
          ]
        },
        {
          "name": "stdout",
          "output_type": "stream",
          "text": [
            "\b\b\b\b\b\b\b\b\b\b\b\b\b\b\b\b\b\b\b\b\b\b\b\b\b\b\b\b\b\b\b\b\b\b\b\b\b\b\b\b\b\b\b\b\b\b\b\b\b\b\b\b\b\b\b\b\b\b\b\b\b\b\b\b\b\b\b\b\b\b\b\r1377/1377 [==============================] - 4s 3ms/step - loss: 3.2882e-04 - val_loss: 1.4452e-04\n",
            "Epoch 108/300\n",
            "1376/1377 [============================>.] - ETA: 0s - loss: 3.2907e-04"
          ]
        },
        {
          "name": "stderr",
          "output_type": "stream",
          "text": [
            "WARNING:tensorflow:Can save best model only with  available, skipping.\n"
          ]
        },
        {
          "name": "stdout",
          "output_type": "stream",
          "text": [
            "\b\b\b\b\b\b\b\b\b\b\b\b\b\b\b\b\b\b\b\b\b\b\b\b\b\b\b\b\b\b\b\b\b\b\b\b\b\b\b\b\b\b\b\b\b\b\b\b\b\b\b\b\b\b\b\b\b\b\b\b\b\b\b\b\b\b\b\b\b\b\b\r1377/1377 [==============================] - 5s 3ms/step - loss: 3.2910e-04 - val_loss: 1.3443e-04\n",
            "Epoch 109/300\n",
            "1370/1377 [============================>.] - ETA: 0s - loss: 3.2747e-04"
          ]
        },
        {
          "name": "stderr",
          "output_type": "stream",
          "text": [
            "WARNING:tensorflow:Can save best model only with  available, skipping.\n"
          ]
        },
        {
          "name": "stdout",
          "output_type": "stream",
          "text": [
            "\b\b\b\b\b\b\b\b\b\b\b\b\b\b\b\b\b\b\b\b\b\b\b\b\b\b\b\b\b\b\b\b\b\b\b\b\b\b\b\b\b\b\b\b\b\b\b\b\b\b\b\b\b\b\b\b\b\b\b\b\b\b\b\b\b\b\b\b\b\b\b\r1377/1377 [==============================] - 4s 3ms/step - loss: 3.2777e-04 - val_loss: 1.7571e-04\n",
            "Epoch 110/300\n",
            "1364/1377 [============================>.] - ETA: 0s - loss: 3.2592e-04"
          ]
        },
        {
          "name": "stderr",
          "output_type": "stream",
          "text": [
            "WARNING:tensorflow:Can save best model only with  available, skipping.\n"
          ]
        },
        {
          "name": "stdout",
          "output_type": "stream",
          "text": [
            "\b\b\b\b\b\b\b\b\b\b\b\b\b\b\b\b\b\b\b\b\b\b\b\b\b\b\b\b\b\b\b\b\b\b\b\b\b\b\b\b\b\b\b\b\b\b\b\b\b\b\b\b\b\b\b\b\b\b\b\b\b\b\b\b\b\b\b\b\b\b\b\r1377/1377 [==============================] - 4s 3ms/step - loss: 3.2678e-04 - val_loss: 1.2205e-04\n",
            "Epoch 111/300\n",
            "1363/1377 [============================>.] - ETA: 0s - loss: 3.2752e-04"
          ]
        },
        {
          "name": "stderr",
          "output_type": "stream",
          "text": [
            "WARNING:tensorflow:Can save best model only with  available, skipping.\n"
          ]
        },
        {
          "name": "stdout",
          "output_type": "stream",
          "text": [
            "\b\b\b\b\b\b\b\b\b\b\b\b\b\b\b\b\b\b\b\b\b\b\b\b\b\b\b\b\b\b\b\b\b\b\b\b\b\b\b\b\b\b\b\b\b\b\b\b\b\b\b\b\b\b\b\b\b\b\b\b\b\b\b\b\b\b\b\b\b\b\b\r1377/1377 [==============================] - 4s 3ms/step - loss: 3.2485e-04 - val_loss: 1.2799e-04\n",
            "Epoch 112/300\n",
            "1373/1377 [============================>.] - ETA: 0s - loss: 3.2611e-04"
          ]
        },
        {
          "name": "stderr",
          "output_type": "stream",
          "text": [
            "WARNING:tensorflow:Can save best model only with  available, skipping.\n"
          ]
        },
        {
          "name": "stdout",
          "output_type": "stream",
          "text": [
            "\b\b\b\b\b\b\b\b\b\b\b\b\b\b\b\b\b\b\b\b\b\b\b\b\b\b\b\b\b\b\b\b\b\b\b\b\b\b\b\b\b\b\b\b\b\b\b\b\b\b\b\b\b\b\b\b\b\b\b\b\b\b\b\b\b\b\b\b\b\b\b\r1377/1377 [==============================] - 4s 3ms/step - loss: 3.2724e-04 - val_loss: 1.1846e-04\n",
            "Epoch 113/300\n",
            "1360/1377 [============================>.] - ETA: 0s - loss: 3.3660e-04"
          ]
        },
        {
          "name": "stderr",
          "output_type": "stream",
          "text": [
            "WARNING:tensorflow:Can save best model only with  available, skipping.\n"
          ]
        },
        {
          "name": "stdout",
          "output_type": "stream",
          "text": [
            "\b\b\b\b\b\b\b\b\b\b\b\b\b\b\b\b\b\b\b\b\b\b\b\b\b\b\b\b\b\b\b\b\b\b\b\b\b\b\b\b\b\b\b\b\b\b\b\b\b\b\b\b\b\b\b\b\b\b\b\b\b\b\b\b\b\b\b\b\b\b\b\r1377/1377 [==============================] - 4s 3ms/step - loss: 3.3529e-04 - val_loss: 1.2239e-04\n",
            "Epoch 114/300\n",
            "1362/1377 [============================>.] - ETA: 0s - loss: 3.1579e-04"
          ]
        },
        {
          "name": "stderr",
          "output_type": "stream",
          "text": [
            "WARNING:tensorflow:Can save best model only with  available, skipping.\n"
          ]
        },
        {
          "name": "stdout",
          "output_type": "stream",
          "text": [
            "\b\b\b\b\b\b\b\b\b\b\b\b\b\b\b\b\b\b\b\b\b\b\b\b\b\b\b\b\b\b\b\b\b\b\b\b\b\b\b\b\b\b\b\b\b\b\b\b\b\b\b\b\b\b\b\b\b\b\b\b\b\b\b\b\b\b\b\b\b\b\b\r1377/1377 [==============================] - 5s 3ms/step - loss: 3.1823e-04 - val_loss: 1.4747e-04\n",
            "Epoch 115/300\n",
            "1377/1377 [==============================] - ETA: 0s - loss: 3.3178e-04"
          ]
        },
        {
          "name": "stderr",
          "output_type": "stream",
          "text": [
            "WARNING:tensorflow:Can save best model only with  available, skipping.\n"
          ]
        },
        {
          "name": "stdout",
          "output_type": "stream",
          "text": [
            "\b\b\b\b\b\b\b\b\b\b\b\b\b\b\b\b\b\b\b\b\b\b\b\b\b\b\b\b\b\b\b\b\b\b\b\b\b\b\b\b\b\b\b\b\b\b\b\b\b\b\b\b\b\b\b\b\b\b\b\b\b\b\b\b\b\b\b\b\b\b\b\r1377/1377 [==============================] - 4s 3ms/step - loss: 3.3178e-04 - val_loss: 1.4247e-04\n",
            "Epoch 116/300\n",
            "1376/1377 [============================>.] - ETA: 0s - loss: 3.1890e-04"
          ]
        },
        {
          "name": "stderr",
          "output_type": "stream",
          "text": [
            "WARNING:tensorflow:Can save best model only with  available, skipping.\n"
          ]
        },
        {
          "name": "stdout",
          "output_type": "stream",
          "text": [
            "\b\b\b\b\b\b\b\b\b\b\b\b\b\b\b\b\b\b\b\b\b\b\b\b\b\b\b\b\b\b\b\b\b\b\b\b\b\b\b\b\b\b\b\b\b\b\b\b\b\b\b\b\b\b\b\b\b\b\b\b\b\b\b\b\b\b\b\b\b\b\b\r1377/1377 [==============================] - 5s 3ms/step - loss: 3.1878e-04 - val_loss: 1.1813e-04\n",
            "Epoch 117/300\n",
            "1363/1377 [============================>.] - ETA: 0s - loss: 3.2214e-04"
          ]
        },
        {
          "name": "stderr",
          "output_type": "stream",
          "text": [
            "WARNING:tensorflow:Can save best model only with  available, skipping.\n"
          ]
        },
        {
          "name": "stdout",
          "output_type": "stream",
          "text": [
            "\b\b\b\b\b\b\b\b\b\b\b\b\b\b\b\b\b\b\b\b\b\b\b\b\b\b\b\b\b\b\b\b\b\b\b\b\b\b\b\b\b\b\b\b\b\b\b\b\b\b\b\b\b\b\b\b\b\b\b\b\b\b\b\b\b\b\b\b\b\b\b\r1377/1377 [==============================] - 4s 3ms/step - loss: 3.2954e-04 - val_loss: 1.1915e-04\n",
            "Epoch 118/300\n",
            "1359/1377 [============================>.] - ETA: 0s - loss: 3.3533e-04"
          ]
        },
        {
          "name": "stderr",
          "output_type": "stream",
          "text": [
            "WARNING:tensorflow:Can save best model only with  available, skipping.\n"
          ]
        },
        {
          "name": "stdout",
          "output_type": "stream",
          "text": [
            "\b\b\b\b\b\b\b\b\b\b\b\b\b\b\b\b\b\b\b\b\b\b\b\b\b\b\b\b\b\b\b\b\b\b\b\b\b\b\b\b\b\b\b\b\b\b\b\b\b\b\b\b\b\b\b\b\b\b\b\b\b\b\b\b\b\b\b\b\b\b\b\r1377/1377 [==============================] - 5s 3ms/step - loss: 3.3601e-04 - val_loss: 1.2424e-04\n",
            "Epoch 119/300\n",
            "1367/1377 [============================>.] - ETA: 0s - loss: 3.4867e-04"
          ]
        },
        {
          "name": "stderr",
          "output_type": "stream",
          "text": [
            "WARNING:tensorflow:Can save best model only with  available, skipping.\n"
          ]
        },
        {
          "name": "stdout",
          "output_type": "stream",
          "text": [
            "\b\b\b\b\b\b\b\b\b\b\b\b\b\b\b\b\b\b\b\b\b\b\b\b\b\b\b\b\b\b\b\b\b\b\b\b\b\b\b\b\b\b\b\b\b\b\b\b\b\b\b\b\b\b\b\b\b\b\b\b\b\b\b\b\b\b\b\b\b\b\b\r1377/1377 [==============================] - 4s 3ms/step - loss: 3.4783e-04 - val_loss: 1.5619e-04\n",
            "Epoch 120/300\n",
            "1372/1377 [============================>.] - ETA: 0s - loss: 3.2779e-04"
          ]
        },
        {
          "name": "stderr",
          "output_type": "stream",
          "text": [
            "WARNING:tensorflow:Can save best model only with  available, skipping.\n"
          ]
        },
        {
          "name": "stdout",
          "output_type": "stream",
          "text": [
            "\b\b\b\b\b\b\b\b\b\b\b\b\b\b\b\b\b\b\b\b\b\b\b\b\b\b\b\b\b\b\b\b\b\b\b\b\b\b\b\b\b\b\b\b\b\b\b\b\b\b\b\b\b\b\b\b\b\b\b\b\b\b\b\b\b\b\b\b\b\b\b\r1377/1377 [==============================] - 5s 3ms/step - loss: 3.2701e-04 - val_loss: 1.1885e-04\n",
            "Epoch 121/300\n",
            "1356/1377 [============================>.] - ETA: 0s - loss: 3.2351e-04"
          ]
        },
        {
          "name": "stderr",
          "output_type": "stream",
          "text": [
            "WARNING:tensorflow:Can save best model only with  available, skipping.\n"
          ]
        },
        {
          "name": "stdout",
          "output_type": "stream",
          "text": [
            "\b\b\b\b\b\b\b\b\b\b\b\b\b\b\b\b\b\b\b\b\b\b\b\b\b\b\b\b\b\b\b\b\b\b\b\b\b\b\b\b\b\b\b\b\b\b\b\b\b\b\b\b\b\b\b\b\b\b\b\b\b\b\b\b\b\b\b\b\b\b\b\r1377/1377 [==============================] - 5s 3ms/step - loss: 3.2510e-04 - val_loss: 1.2070e-04\n",
            "Epoch 122/300\n",
            "1372/1377 [============================>.] - ETA: 0s - loss: 3.1959e-04"
          ]
        },
        {
          "name": "stderr",
          "output_type": "stream",
          "text": [
            "WARNING:tensorflow:Can save best model only with  available, skipping.\n"
          ]
        },
        {
          "name": "stdout",
          "output_type": "stream",
          "text": [
            "\b\b\b\b\b\b\b\b\b\b\b\b\b\b\b\b\b\b\b\b\b\b\b\b\b\b\b\b\b\b\b\b\b\b\b\b\b\b\b\b\b\b\b\b\b\b\b\b\b\b\b\b\b\b\b\b\b\b\b\b\b\b\b\b\b\b\b\b\b\b\b\r1377/1377 [==============================] - 5s 3ms/step - loss: 3.2046e-04 - val_loss: 1.2533e-04\n",
            "Epoch 123/300\n",
            "1360/1377 [============================>.] - ETA: 0s - loss: 3.1998e-04"
          ]
        },
        {
          "name": "stderr",
          "output_type": "stream",
          "text": [
            "WARNING:tensorflow:Can save best model only with  available, skipping.\n"
          ]
        },
        {
          "name": "stdout",
          "output_type": "stream",
          "text": [
            "\b\b\b\b\b\b\b\b\b\b\b\b\b\b\b\b\b\b\b\b\b\b\b\b\b\b\b\b\b\b\b\b\b\b\b\b\b\b\b\b\b\b\b\b\b\b\b\b\b\b\b\b\b\b\b\b\b\b\b\b\b\b\b\b\b\b\b\b\b\b\b\r1377/1377 [==============================] - 5s 3ms/step - loss: 3.1921e-04 - val_loss: 1.2375e-04\n",
            "Epoch 124/300\n",
            "1363/1377 [============================>.] - ETA: 0s - loss: 3.2935e-04"
          ]
        },
        {
          "name": "stderr",
          "output_type": "stream",
          "text": [
            "WARNING:tensorflow:Can save best model only with  available, skipping.\n"
          ]
        },
        {
          "name": "stdout",
          "output_type": "stream",
          "text": [
            "\b\b\b\b\b\b\b\b\b\b\b\b\b\b\b\b\b\b\b\b\b\b\b\b\b\b\b\b\b\b\b\b\b\b\b\b\b\b\b\b\b\b\b\b\b\b\b\b\b\b\b\b\b\b\b\b\b\b\b\b\b\b\b\b\b\b\b\b\b\b\b\r1377/1377 [==============================] - 4s 3ms/step - loss: 3.2957e-04 - val_loss: 1.2012e-04\n",
            "Epoch 125/300\n",
            "1367/1377 [============================>.] - ETA: 0s - loss: 3.2860e-04"
          ]
        },
        {
          "name": "stderr",
          "output_type": "stream",
          "text": [
            "WARNING:tensorflow:Can save best model only with  available, skipping.\n"
          ]
        },
        {
          "name": "stdout",
          "output_type": "stream",
          "text": [
            "\b\b\b\b\b\b\b\b\b\b\b\b\b\b\b\b\b\b\b\b\b\b\b\b\b\b\b\b\b\b\b\b\b\b\b\b\b\b\b\b\b\b\b\b\b\b\b\b\b\b\b\b\b\b\b\b\b\b\b\b\b\b\b\b\b\b\b\b\b\b\b\r1377/1377 [==============================] - 5s 3ms/step - loss: 3.2659e-04 - val_loss: 1.9064e-04\n",
            "Epoch 126/300\n",
            "1375/1377 [============================>.] - ETA: 0s - loss: 3.2802e-04"
          ]
        },
        {
          "name": "stderr",
          "output_type": "stream",
          "text": [
            "WARNING:tensorflow:Can save best model only with  available, skipping.\n"
          ]
        },
        {
          "name": "stdout",
          "output_type": "stream",
          "text": [
            "\b\b\b\b\b\b\b\b\b\b\b\b\b\b\b\b\b\b\b\b\b\b\b\b\b\b\b\b\b\b\b\b\b\b\b\b\b\b\b\b\b\b\b\b\b\b\b\b\b\b\b\b\b\b\b\b\b\b\b\b\b\b\b\b\b\b\b\b\b\b\b\r1377/1377 [==============================] - 4s 3ms/step - loss: 3.2788e-04 - val_loss: 1.2093e-04\n",
            "Epoch 127/300\n",
            "1364/1377 [============================>.] - ETA: 0s - loss: 3.2517e-04"
          ]
        },
        {
          "name": "stderr",
          "output_type": "stream",
          "text": [
            "WARNING:tensorflow:Can save best model only with  available, skipping.\n"
          ]
        },
        {
          "name": "stdout",
          "output_type": "stream",
          "text": [
            "\b\b\b\b\b\b\b\b\b\b\b\b\b\b\b\b\b\b\b\b\b\b\b\b\b\b\b\b\b\b\b\b\b\b\b\b\b\b\b\b\b\b\b\b\b\b\b\b\b\b\b\b\b\b\b\b\b\b\b\b\b\b\b\b\b\b\b\b\b\b\b\r1377/1377 [==============================] - 5s 3ms/step - loss: 3.2382e-04 - val_loss: 1.2322e-04\n",
            "Epoch 128/300\n",
            "1362/1377 [============================>.] - ETA: 0s - loss: 3.2475e-04"
          ]
        },
        {
          "name": "stderr",
          "output_type": "stream",
          "text": [
            "WARNING:tensorflow:Can save best model only with  available, skipping.\n"
          ]
        },
        {
          "name": "stdout",
          "output_type": "stream",
          "text": [
            "\b\b\b\b\b\b\b\b\b\b\b\b\b\b\b\b\b\b\b\b\b\b\b\b\b\b\b\b\b\b\b\b\b\b\b\b\b\b\b\b\b\b\b\b\b\b\b\b\b\b\b\b\b\b\b\b\b\b\b\b\b\b\b\b\b\b\b\b\b\b\b\r1377/1377 [==============================] - 4s 3ms/step - loss: 3.2342e-04 - val_loss: 1.7573e-04\n",
            "Epoch 129/300\n",
            "1374/1377 [============================>.] - ETA: 0s - loss: 3.1805e-04"
          ]
        },
        {
          "name": "stderr",
          "output_type": "stream",
          "text": [
            "WARNING:tensorflow:Can save best model only with  available, skipping.\n"
          ]
        },
        {
          "name": "stdout",
          "output_type": "stream",
          "text": [
            "\b\b\b\b\b\b\b\b\b\b\b\b\b\b\b\b\b\b\b\b\b\b\b\b\b\b\b\b\b\b\b\b\b\b\b\b\b\b\b\b\b\b\b\b\b\b\b\b\b\b\b\b\b\b\b\b\b\b\b\b\b\b\b\b\b\b\b\b\b\b\b\r1377/1377 [==============================] - 4s 3ms/step - loss: 3.1815e-04 - val_loss: 1.3543e-04\n",
            "Epoch 130/300\n",
            "1362/1377 [============================>.] - ETA: 0s - loss: 3.3460e-04"
          ]
        },
        {
          "name": "stderr",
          "output_type": "stream",
          "text": [
            "WARNING:tensorflow:Can save best model only with  available, skipping.\n"
          ]
        },
        {
          "name": "stdout",
          "output_type": "stream",
          "text": [
            "\b\b\b\b\b\b\b\b\b\b\b\b\b\b\b\b\b\b\b\b\b\b\b\b\b\b\b\b\b\b\b\b\b\b\b\b\b\b\b\b\b\b\b\b\b\b\b\b\b\b\b\b\b\b\b\b\b\b\b\b\b\b\b\b\b\b\b\b\b\b\b\r1377/1377 [==============================] - 5s 3ms/step - loss: 3.3429e-04 - val_loss: 1.9314e-04\n",
            "Epoch 131/300\n",
            "1363/1377 [============================>.] - ETA: 0s - loss: 3.3021e-04"
          ]
        },
        {
          "name": "stderr",
          "output_type": "stream",
          "text": [
            "WARNING:tensorflow:Can save best model only with  available, skipping.\n"
          ]
        },
        {
          "name": "stdout",
          "output_type": "stream",
          "text": [
            "\b\b\b\b\b\b\b\b\b\b\b\b\b\b\b\b\b\b\b\b\b\b\b\b\b\b\b\b\b\b\b\b\b\b\b\b\b\b\b\b\b\b\b\b\b\b\b\b\b\b\b\b\b\b\b\b\b\b\b\b\b\b\b\b\b\b\b\b\b\b\b\r1377/1377 [==============================] - 4s 3ms/step - loss: 3.2784e-04 - val_loss: 1.2347e-04\n",
            "Epoch 132/300\n",
            "1376/1377 [============================>.] - ETA: 0s - loss: 3.2704e-04"
          ]
        },
        {
          "name": "stderr",
          "output_type": "stream",
          "text": [
            "WARNING:tensorflow:Can save best model only with  available, skipping.\n"
          ]
        },
        {
          "name": "stdout",
          "output_type": "stream",
          "text": [
            "\b\b\b\b\b\b\b\b\b\b\b\b\b\b\b\b\b\b\b\b\b\b\b\b\b\b\b\b\b\b\b\b\b\b\b\b\b\b\b\b\b\b\b\b\b\b\b\b\b\b\b\b\b\b\b\b\b\b\b\b\b\b\b\b\b\b\b\b\b\b\b\r1377/1377 [==============================] - 5s 3ms/step - loss: 3.2708e-04 - val_loss: 1.8684e-04\n",
            "Epoch 133/300\n",
            "1374/1377 [============================>.] - ETA: 0s - loss: 3.2627e-04"
          ]
        },
        {
          "name": "stderr",
          "output_type": "stream",
          "text": [
            "WARNING:tensorflow:Can save best model only with  available, skipping.\n"
          ]
        },
        {
          "name": "stdout",
          "output_type": "stream",
          "text": [
            "\b\b\b\b\b\b\b\b\b\b\b\b\b\b\b\b\b\b\b\b\b\b\b\b\b\b\b\b\b\b\b\b\b\b\b\b\b\b\b\b\b\b\b\b\b\b\b\b\b\b\b\b\b\b\b\b\b\b\b\b\b\b\b\b\b\b\b\b\b\b\b\r1377/1377 [==============================] - 4s 3ms/step - loss: 3.2592e-04 - val_loss: 1.2615e-04\n",
            "Epoch 134/300\n",
            "1364/1377 [============================>.] - ETA: 0s - loss: 3.3432e-04"
          ]
        },
        {
          "name": "stderr",
          "output_type": "stream",
          "text": [
            "WARNING:tensorflow:Can save best model only with  available, skipping.\n"
          ]
        },
        {
          "name": "stdout",
          "output_type": "stream",
          "text": [
            "\b\b\b\b\b\b\b\b\b\b\b\b\b\b\b\b\b\b\b\b\b\b\b\b\b\b\b\b\b\b\b\b\b\b\b\b\b\b\b\b\b\b\b\b\b\b\b\b\b\b\b\b\b\b\b\b\b\b\b\b\b\b\b\b\b\b\b\b\b\b\b\r1377/1377 [==============================] - 4s 3ms/step - loss: 3.3278e-04 - val_loss: 2.0035e-04\n",
            "Epoch 135/300\n",
            "1368/1377 [============================>.] - ETA: 0s - loss: 3.2795e-04"
          ]
        },
        {
          "name": "stderr",
          "output_type": "stream",
          "text": [
            "WARNING:tensorflow:Can save best model only with  available, skipping.\n"
          ]
        },
        {
          "name": "stdout",
          "output_type": "stream",
          "text": [
            "\b\b\b\b\b\b\b\b\b\b\b\b\b\b\b\b\b\b\b\b\b\b\b\b\b\b\b\b\b\b\b\b\b\b\b\b\b\b\b\b\b\b\b\b\b\b\b\b\b\b\b\b\b\b\b\b\b\b\b\b\b\b\b\b\b\b\b\b\b\b\b\r1377/1377 [==============================] - 4s 3ms/step - loss: 3.2695e-04 - val_loss: 1.1917e-04\n",
            "Epoch 136/300\n",
            "1358/1377 [============================>.] - ETA: 0s - loss: 3.3845e-04"
          ]
        },
        {
          "name": "stderr",
          "output_type": "stream",
          "text": [
            "WARNING:tensorflow:Can save best model only with  available, skipping.\n"
          ]
        },
        {
          "name": "stdout",
          "output_type": "stream",
          "text": [
            "\b\b\b\b\b\b\b\b\b\b\b\b\b\b\b\b\b\b\b\b\b\b\b\b\b\b\b\b\b\b\b\b\b\b\b\b\b\b\b\b\b\b\b\b\b\b\b\b\b\b\b\b\b\b\b\b\b\b\b\b\b\b\b\b\b\b\b\b\b\b\b\r1377/1377 [==============================] - 4s 3ms/step - loss: 3.3954e-04 - val_loss: 1.1935e-04\n",
            "Epoch 137/300\n",
            "1368/1377 [============================>.] - ETA: 0s - loss: 3.3241e-04"
          ]
        },
        {
          "name": "stderr",
          "output_type": "stream",
          "text": [
            "WARNING:tensorflow:Can save best model only with  available, skipping.\n"
          ]
        },
        {
          "name": "stdout",
          "output_type": "stream",
          "text": [
            "\b\b\b\b\b\b\b\b\b\b\b\b\b\b\b\b\b\b\b\b\b\b\b\b\b\b\b\b\b\b\b\b\b\b\b\b\b\b\b\b\b\b\b\b\b\b\b\b\b\b\b\b\b\b\b\b\b\b\b\b\b\b\b\b\b\b\b\b\b\b\b\r1377/1377 [==============================] - 5s 3ms/step - loss: 3.3074e-04 - val_loss: 1.2066e-04\n",
            "Epoch 138/300\n",
            "1360/1377 [============================>.] - ETA: 0s - loss: 3.2498e-04"
          ]
        },
        {
          "name": "stderr",
          "output_type": "stream",
          "text": [
            "WARNING:tensorflow:Can save best model only with  available, skipping.\n"
          ]
        },
        {
          "name": "stdout",
          "output_type": "stream",
          "text": [
            "\b\b\b\b\b\b\b\b\b\b\b\b\b\b\b\b\b\b\b\b\b\b\b\b\b\b\b\b\b\b\b\b\b\b\b\b\b\b\b\b\b\b\b\b\b\b\b\b\b\b\b\b\b\b\b\b\b\b\b\b\b\b\b\b\b\b\b\b\b\b\b\r1377/1377 [==============================] - 4s 3ms/step - loss: 3.2641e-04 - val_loss: 1.2345e-04\n",
            "Epoch 139/300\n",
            "1362/1377 [============================>.] - ETA: 0s - loss: 3.2605e-04"
          ]
        },
        {
          "name": "stderr",
          "output_type": "stream",
          "text": [
            "WARNING:tensorflow:Can save best model only with  available, skipping.\n"
          ]
        },
        {
          "name": "stdout",
          "output_type": "stream",
          "text": [
            "\b\b\b\b\b\b\b\b\b\b\b\b\b\b\b\b\b\b\b\b\b\b\b\b\b\b\b\b\b\b\b\b\b\b\b\b\b\b\b\b\b\b\b\b\b\b\b\b\b\b\b\b\b\b\b\b\b\b\b\b\b\b\b\b\b\b\b\b\b\b\b\r1377/1377 [==============================] - 5s 3ms/step - loss: 3.2355e-04 - val_loss: 1.2334e-04\n",
            "Epoch 140/300\n",
            "1377/1377 [==============================] - ETA: 0s - loss: 3.2673e-04"
          ]
        },
        {
          "name": "stderr",
          "output_type": "stream",
          "text": [
            "WARNING:tensorflow:Can save best model only with  available, skipping.\n"
          ]
        },
        {
          "name": "stdout",
          "output_type": "stream",
          "text": [
            "\b\b\b\b\b\b\b\b\b\b\b\b\b\b\b\b\b\b\b\b\b\b\b\b\b\b\b\b\b\b\b\b\b\b\b\b\b\b\b\b\b\b\b\b\b\b\b\b\b\b\b\b\b\b\b\b\b\b\b\b\b\b\b\b\b\b\b\b\b\b\b\r1377/1377 [==============================] - 5s 3ms/step - loss: 3.2673e-04 - val_loss: 1.2497e-04\n",
            "Epoch 141/300\n",
            "1376/1377 [============================>.] - ETA: 0s - loss: 3.2841e-04"
          ]
        },
        {
          "name": "stderr",
          "output_type": "stream",
          "text": [
            "WARNING:tensorflow:Can save best model only with  available, skipping.\n"
          ]
        },
        {
          "name": "stdout",
          "output_type": "stream",
          "text": [
            "\b\b\b\b\b\b\b\b\b\b\b\b\b\b\b\b\b\b\b\b\b\b\b\b\b\b\b\b\b\b\b\b\b\b\b\b\b\b\b\b\b\b\b\b\b\b\b\b\b\b\b\b\b\b\b\b\b\b\b\b\b\b\b\b\b\b\b\b\b\b\b\r1377/1377 [==============================] - 5s 4ms/step - loss: 3.2827e-04 - val_loss: 1.4930e-04\n",
            "Epoch 142/300\n",
            "1372/1377 [============================>.] - ETA: 0s - loss: 3.2289e-04"
          ]
        },
        {
          "name": "stderr",
          "output_type": "stream",
          "text": [
            "WARNING:tensorflow:Can save best model only with  available, skipping.\n"
          ]
        },
        {
          "name": "stdout",
          "output_type": "stream",
          "text": [
            "\b\b\b\b\b\b\b\b\b\b\b\b\b\b\b\b\b\b\b\b\b\b\b\b\b\b\b\b\b\b\b\b\b\b\b\b\b\b\b\b\b\b\b\b\b\b\b\b\b\b\b\b\b\b\b\b\b\b\b\b\b\b\b\b\b\b\b\b\b\b\b\r1377/1377 [==============================] - 5s 3ms/step - loss: 3.2195e-04 - val_loss: 1.2879e-04\n",
            "Epoch 143/300\n",
            "1358/1377 [============================>.] - ETA: 0s - loss: 3.2855e-04"
          ]
        },
        {
          "name": "stderr",
          "output_type": "stream",
          "text": [
            "WARNING:tensorflow:Can save best model only with  available, skipping.\n"
          ]
        },
        {
          "name": "stdout",
          "output_type": "stream",
          "text": [
            "\b\b\b\b\b\b\b\b\b\b\b\b\b\b\b\b\b\b\b\b\b\b\b\b\b\b\b\b\b\b\b\b\b\b\b\b\b\b\b\b\b\b\b\b\b\b\b\b\b\b\b\b\b\b\b\b\b\b\b\b\b\b\b\b\b\b\b\b\b\b\b\r1377/1377 [==============================] - 5s 3ms/step - loss: 3.2942e-04 - val_loss: 1.2029e-04\n",
            "Epoch 144/300\n",
            "1362/1377 [============================>.] - ETA: 0s - loss: 3.3512e-04"
          ]
        },
        {
          "name": "stderr",
          "output_type": "stream",
          "text": [
            "WARNING:tensorflow:Can save best model only with  available, skipping.\n"
          ]
        },
        {
          "name": "stdout",
          "output_type": "stream",
          "text": [
            "\b\b\b\b\b\b\b\b\b\b\b\b\b\b\b\b\b\b\b\b\b\b\b\b\b\b\b\b\b\b\b\b\b\b\b\b\b\b\b\b\b\b\b\b\b\b\b\b\b\b\b\b\b\b\b\b\b\b\b\b\b\b\b\b\b\b\b\b\b\b\b\r1377/1377 [==============================] - 5s 4ms/step - loss: 3.3418e-04 - val_loss: 1.2005e-04\n",
            "Epoch 145/300\n",
            "1363/1377 [============================>.] - ETA: 0s - loss: 3.1999e-04"
          ]
        },
        {
          "name": "stderr",
          "output_type": "stream",
          "text": [
            "WARNING:tensorflow:Can save best model only with  available, skipping.\n"
          ]
        },
        {
          "name": "stdout",
          "output_type": "stream",
          "text": [
            "\b\b\b\b\b\b\b\b\b\b\b\b\b\b\b\b\b\b\b\b\b\b\b\b\b\b\b\b\b\b\b\b\b\b\b\b\b\b\b\b\b\b\b\b\b\b\b\b\b\b\b\b\b\b\b\b\b\b\b\b\b\b\b\b\b\b\b\b\b\b\b\r1377/1377 [==============================] - 5s 3ms/step - loss: 3.2039e-04 - val_loss: 1.5860e-04\n",
            "Epoch 146/300\n",
            "1371/1377 [============================>.] - ETA: 0s - loss: 3.2262e-04"
          ]
        },
        {
          "name": "stderr",
          "output_type": "stream",
          "text": [
            "WARNING:tensorflow:Can save best model only with  available, skipping.\n"
          ]
        },
        {
          "name": "stdout",
          "output_type": "stream",
          "text": [
            "\b\b\b\b\b\b\b\b\b\b\b\b\b\b\b\b\b\b\b\b\b\b\b\b\b\b\b\b\b\b\b\b\b\b\b\b\b\b\b\b\b\b\b\b\b\b\b\b\b\b\b\b\b\b\b\b\b\b\b\b\b\b\b\b\b\b\b\b\b\b\b\r1377/1377 [==============================] - 5s 3ms/step - loss: 3.2279e-04 - val_loss: 1.6200e-04\n"
          ]
        }
      ],
      "source": [
        "from keras import callbacks                   # コールバック（1epoch終了毎に呼び出される）\n",
        "# モデルの学習\n",
        "history4 = model4.fit(\n",
        "    train_X,\n",
        "    train_Y,\n",
        "    batch_size=1,\n",
        "    epochs=300, \n",
        "    validation_data=(test_X, test_Y),        # コールバックする際はvalidation dataも準備する。\n",
        "    callbacks=[\n",
        "        callbacks.EarlyStopping(monitor='val_loss',patience=30),\n",
        "        callbacks.ModelCheckpoint(filepath = './model/best_model.h5',monitor='val_loss', save_best_only=True)\n",
        "        ]\n",
        ")\n",
        "# val_lossが最も優れている学習結果を自動保存致します。"
      ]
    },
    {
      "cell_type": "code",
      "execution_count": 25,
      "metadata": {
        "colab": {
          "base_uri": "https://localhost:8080/",
          "height": 283
        },
        "id": "kVzrzb_gmMRd",
        "outputId": "8a229b14-adc3-4207-93d4-466e848aad9c"
      },
      "outputs": [
        {
          "data": {
            "text/plain": [
              "<matplotlib.legend.Legend at 0x7fe86a211190>"
            ]
          },
          "execution_count": 25,
          "metadata": {},
          "output_type": "execute_result"
        },
        {
          "data": {
            "image/png": "[encoded data removed]",
            "text/plain": [
              "<Figure size 432x288 with 1 Axes>"
            ]
          },
          "metadata": {
            "needs_background": "light"
          },
          "output_type": "display_data"
        }
      ],
      "source": [
        "import matplotlib.pyplot as plt\n",
        "import seaborn as sns\n",
        "# 学習過程のプロット\n",
        "plt.plot(history4.epoch, history4.history[\"loss\"], label=\"loss\")\n",
        "plt.legend()"
      ]
    },
    {
      "cell_type": "code",
      "execution_count": 26,
      "metadata": {
        "colab": {
          "base_uri": "https://localhost:8080/"
        },
        "id": "16cwKgPWI2O5",
        "outputId": "00a55021-cb29-46a4-a448-96d5df97a168"
      },
      "outputs": [
        {
          "data": {
            "text/plain": [
              "array([[0.8422713 ],\n",
              "       [0.8485805 ],\n",
              "       [0.8675078 ],\n",
              "       ...,\n",
              "       [0.04179811],\n",
              "       [0.05441642],\n",
              "       [0.06309146]], dtype=float32)"
            ]
          },
          "execution_count": 26,
          "metadata": {},
          "output_type": "execute_result"
        }
      ],
      "source": [
        "# history = model.fit(train_X, train_Y, epochs=15, batch_size=1, verbose=2)\n",
        "# loss: 4.3211e-04 \n",
        "train_X\n",
        "train_Y\n",
        "train_Y = train_Y.reshape(-1,1)\n",
        "train_Y"
      ]
    },
    {
      "cell_type": "markdown",
      "metadata": {
        "id": "YvqidX_kI0CB"
      },
      "source": [
        "### [データの予測と評価](https://premium.aidemy.jp/courses/6160/exercises/ZNnpEhme53)"
      ]
    },
    {
      "cell_type": "markdown",
      "metadata": {
        "id": "zqRqyoeTL47Y"
      },
      "source": [
        "#### 正規化を元に戻す\n",
        "予測したデータや結果を正しく評価、可視化する為の処理ですね。"
      ]
    },
    {
      "cell_type": "markdown",
      "metadata": {
        "id": "ygO5EJZUdzJU"
      },
      "source": [
        "4回目の学習がhistory4"
      ]
    },
    {
      "cell_type": "code",
      "execution_count": 27,
      "metadata": {
        "id": "lyjNS3ptJ3VS"
      },
      "outputs": [],
      "source": [
        "#予測データの作成\n",
        "train_predict =model.predict(train_X)\n",
        "test_predict = model.predict(test_X) \n",
        "\n",
        "train_predict2 =model2.predict(train_X)\n",
        "test_predict2 = model2.predict(test_X) \n",
        "\n",
        "train_predict3 =model3.predict(train_X)\n",
        "test_predict3 = model3.predict(test_X) \n",
        "\n",
        "train_predict4 =model4.predict(train_X)\n",
        "test_predict4 = model4.predict(test_X) "
      ]
    },
    {
      "cell_type": "markdown",
      "metadata": {
        "id": "fhikf_CPKHb6"
      },
      "source": [
        "\n",
        "予測データを作成しました。その予測データを正しく評価するには<font color=\"red\">スケーリングしたデータを元に戻す</font>必要があります。\n",
        "\n",
        "元に戻すには<font color=\"red\">inverse_transform()メソッド</font>"
      ]
    },
    {
      "cell_type": "markdown",
      "metadata": {
        "id": "fcGje0QdLmOq"
      },
      "source": [
        "**正規化したらもとに戻す**という手順が必要。"
      ]
    },
    {
      "cell_type": "markdown",
      "metadata": {
        "id": "dpHaCaF8nHxX"
      },
      "source": [
        "test_Yの整形 ⇒ ちゃんと比較対象を統一させましょう。677行1列なのか、1列677行なのか。\n",
        "\n",
        "rmseで使用"
      ]
    },
    {
      "cell_type": "code",
      "execution_count": 28,
      "metadata": {
        "colab": {
          "base_uri": "https://localhost:8080/"
        },
        "id": "TULcdXUFKNRT",
        "outputId": "b7af3b97-9a24-47f5-d1de-94bb26283cbb"
      },
      "outputs": [
        {
          "data": {
            "text/plain": [
              "array([[ 8680.    ],\n",
              "       [ 8670.    ],\n",
              "       [ 8790.    ],\n",
              "       [ 8750.    ],\n",
              "       [ 8900.    ],\n",
              "       [ 8770.    ],\n",
              "       [ 8800.    ],\n",
              "       [ 8740.    ],\n",
              "       [ 8770.    ],\n",
              "       [ 8792.5   ],\n",
              "       [ 8590.    ],\n",
              "       [ 8530.    ],\n",
              "       [ 8380.    ],\n",
              "       [ 8450.    ],\n",
              "       [ 8530.    ],\n",
              "       [ 8700.    ],\n",
              "       [ 8710.    ],\n",
              "       [ 8640.    ],\n",
              "       [ 8580.    ],\n",
              "       [ 8290.    ],\n",
              "       [ 8445.5   ],\n",
              "       [ 8490.    ],\n",
              "       [ 8680.    ],\n",
              "       [ 8650.    ],\n",
              "       [ 8687.5   ],\n",
              "       [ 8790.    ],\n",
              "       [ 8600.    ],\n",
              "       [ 8460.    ],\n",
              "       [ 8570.    ],\n",
              "       [ 8480.    ],\n",
              "       [ 8650.    ],\n",
              "       [ 8730.    ],\n",
              "       [ 8780.    ],\n",
              "       [ 8610.    ],\n",
              "       [ 8770.    ],\n",
              "       [ 8940.    ],\n",
              "       [ 9060.    ],\n",
              "       [ 8960.    ],\n",
              "       [ 8950.    ],\n",
              "       [ 8870.    ],\n",
              "       [ 8790.    ],\n",
              "       [ 8780.    ],\n",
              "       [ 8660.    ],\n",
              "       [ 8740.    ],\n",
              "       [ 8620.    ],\n",
              "       [ 8710.    ],\n",
              "       [ 8940.    ],\n",
              "       [ 9040.    ],\n",
              "       [ 9070.    ],\n",
              "       [ 9060.    ],\n",
              "       [ 8960.    ],\n",
              "       [ 8980.    ],\n",
              "       [ 9020.    ],\n",
              "       [ 9000.    ],\n",
              "       [ 9120.    ],\n",
              "       [ 9280.    ],\n",
              "       [ 9670.    ],\n",
              "       [ 9650.    ],\n",
              "       [ 9830.    ],\n",
              "       [ 9970.    ],\n",
              "       [ 9830.    ],\n",
              "       [ 9900.    ],\n",
              "       [10040.    ],\n",
              "       [10110.    ],\n",
              "       [10050.    ],\n",
              "       [10140.    ],\n",
              "       [10010.    ],\n",
              "       [10020.    ],\n",
              "       [ 9890.    ],\n",
              "       [ 9937.5   ],\n",
              "       [ 9970.    ],\n",
              "       [ 9930.    ],\n",
              "       [ 9950.    ],\n",
              "       [ 9920.    ],\n",
              "       [10080.    ],\n",
              "       [10160.    ],\n",
              "       [10080.    ],\n",
              "       [10080.    ],\n",
              "       [ 9960.    ],\n",
              "       [ 9960.    ],\n",
              "       [ 9850.    ],\n",
              "       [ 9820.    ],\n",
              "       [ 9790.    ],\n",
              "       [ 9650.    ],\n",
              "       [ 9590.    ],\n",
              "       [ 9670.    ],\n",
              "       [ 9600.    ],\n",
              "       [ 9610.    ],\n",
              "       [ 9450.    ],\n",
              "       [ 9350.    ],\n",
              "       [ 9340.    ],\n",
              "       [ 9410.    ],\n",
              "       [ 9580.    ],\n",
              "       [ 9530.    ],\n",
              "       [ 9450.    ],\n",
              "       [ 9500.    ],\n",
              "       [ 9480.    ],\n",
              "       [ 9460.    ],\n",
              "       [ 9450.    ],\n",
              "       [ 9400.    ],\n",
              "       [ 9520.    ],\n",
              "       [ 9550.    ],\n",
              "       [ 9710.    ],\n",
              "       [ 9690.    ],\n",
              "       [ 9520.    ],\n",
              "       [ 9530.    ],\n",
              "       [ 9550.    ],\n",
              "       [ 9410.    ],\n",
              "       [ 9480.    ],\n",
              "       [ 9460.    ],\n",
              "       [ 9620.    ],\n",
              "       [ 9630.    ],\n",
              "       [ 9670.    ],\n",
              "       [ 9580.    ],\n",
              "       [ 9560.    ],\n",
              "       [ 9670.    ],\n",
              "       [ 9700.    ],\n",
              "       [ 9860.    ],\n",
              "       [ 9820.    ],\n",
              "       [ 9810.    ],\n",
              "       [ 9850.    ],\n",
              "       [ 9787.5   ],\n",
              "       [ 9852.5   ],\n",
              "       [ 9932.5   ],\n",
              "       [10030.    ],\n",
              "       [ 9932.5   ],\n",
              "       [ 9870.    ],\n",
              "       [ 9710.    ],\n",
              "       [ 9550.    ],\n",
              "       [ 9680.    ],\n",
              "       [ 9680.    ],\n",
              "       [ 9680.    ],\n",
              "       [ 9610.    ],\n",
              "       [ 9440.    ],\n",
              "       [ 9560.    ],\n",
              "       [ 9560.    ],\n",
              "       [ 9650.    ],\n",
              "       [ 9640.    ],\n",
              "       [ 9560.    ],\n",
              "       [ 9720.    ],\n",
              "       [ 9770.    ],\n",
              "       [ 9590.    ],\n",
              "       [ 9610.    ],\n",
              "       [ 9630.    ],\n",
              "       [ 9710.    ],\n",
              "       [ 9700.    ],\n",
              "       [ 9760.    ],\n",
              "       [ 9710.    ],\n",
              "       [ 9480.    ],\n",
              "       [ 9410.    ],\n",
              "       [ 9450.    ],\n",
              "       [ 9350.    ],\n",
              "       [ 9380.    ],\n",
              "       [ 9530.    ],\n",
              "       [ 9482.5   ],\n",
              "       [ 9130.    ],\n",
              "       [ 8930.    ],\n",
              "       [ 9000.    ],\n",
              "       [ 8640.    ],\n",
              "       [ 9460.    ],\n",
              "       [10170.    ],\n",
              "       [10370.    ],\n",
              "       [10600.    ],\n",
              "       [10520.    ],\n",
              "       [10530.    ],\n",
              "       [10700.    ],\n",
              "       [10590.    ],\n",
              "       [10490.    ],\n",
              "       [10750.    ],\n",
              "       [10630.    ],\n",
              "       [10510.    ],\n",
              "       [10470.    ],\n",
              "       [10570.    ],\n",
              "       [10660.    ],\n",
              "       [10870.    ],\n",
              "       [10850.    ],\n",
              "       [10840.    ],\n",
              "       [10800.    ],\n",
              "       [10740.    ],\n",
              "       [10730.    ],\n",
              "       [10705.5   ],\n",
              "       [10620.    ],\n",
              "       [10620.    ],\n",
              "       [10630.    ],\n",
              "       [10590.    ],\n",
              "       [10530.    ],\n",
              "       [10440.    ],\n",
              "       [10460.    ],\n",
              "       [10270.    ],\n",
              "       [10230.    ],\n",
              "       [10370.    ],\n",
              "       [10480.    ],\n",
              "       [10420.    ],\n",
              "       [10470.    ],\n",
              "       [10340.    ],\n",
              "       [10280.    ],\n",
              "       [10440.    ],\n",
              "       [10570.    ],\n",
              "       [10520.    ],\n",
              "       [10500.    ],\n",
              "       [10500.    ],\n",
              "       [10560.    ],\n",
              "       [10520.    ],\n",
              "       [10510.    ],\n",
              "       [10457.5   ],\n",
              "       [10550.    ],\n",
              "       [10510.    ],\n",
              "       [10380.    ],\n",
              "       [10380.    ],\n",
              "       [10352.5   ],\n",
              "       [10197.5   ],\n",
              "       [10210.    ],\n",
              "       [10360.    ],\n",
              "       [10320.    ],\n",
              "       [10350.    ],\n",
              "       [10280.    ],\n",
              "       [10252.5   ],\n",
              "       [10330.    ],\n",
              "       [10350.    ],\n",
              "       [10230.    ],\n",
              "       [10290.    ],\n",
              "       [10300.    ],\n",
              "       [10300.    ],\n",
              "       [10310.    ],\n",
              "       [10280.    ],\n",
              "       [10210.    ],\n",
              "       [10270.    ],\n",
              "       [10240.    ],\n",
              "       [10150.    ],\n",
              "       [10180.    ],\n",
              "       [10190.    ],\n",
              "       [10160.    ],\n",
              "       [10000.    ],\n",
              "       [ 9950.    ],\n",
              "       [10120.    ],\n",
              "       [10060.    ],\n",
              "       [10080.    ],\n",
              "       [10040.    ],\n",
              "       [ 9932.5   ],\n",
              "       [10120.    ],\n",
              "       [10050.    ],\n",
              "       [ 9980.    ],\n",
              "       [ 9830.    ],\n",
              "       [ 9780.    ],\n",
              "       [ 9820.    ],\n",
              "       [ 9740.    ],\n",
              "       [ 9860.    ],\n",
              "       [ 9810.    ],\n",
              "       [ 9690.    ],\n",
              "       [ 9720.    ],\n",
              "       [ 9650.    ],\n",
              "       [ 9360.    ],\n",
              "       [ 9297.5   ],\n",
              "       [ 9170.    ],\n",
              "       [ 9160.    ],\n",
              "       [ 9190.    ],\n",
              "       [ 9370.    ],\n",
              "       [ 9410.    ],\n",
              "       [ 9360.    ],\n",
              "       [ 9430.    ],\n",
              "       [ 9420.    ],\n",
              "       [ 9370.    ],\n",
              "       [ 9380.    ],\n",
              "       [ 9530.    ],\n",
              "       [ 9490.    ],\n",
              "       [ 9520.    ],\n",
              "       [ 9570.    ],\n",
              "       [ 9410.    ],\n",
              "       [ 9400.    ],\n",
              "       [ 9652.5   ],\n",
              "       [ 9580.    ],\n",
              "       [ 9690.    ],\n",
              "       [ 9700.    ],\n",
              "       [ 9520.    ],\n",
              "       [ 9350.    ],\n",
              "       [ 9390.    ],\n",
              "       [ 9360.    ],\n",
              "       [ 9560.    ],\n",
              "       [ 9490.    ],\n",
              "       [ 9540.    ],\n",
              "       [ 9400.    ],\n",
              "       [ 9357.5   ],\n",
              "       [ 9520.    ],\n",
              "       [ 9530.    ],\n",
              "       [ 9637.5   ],\n",
              "       [ 9570.    ],\n",
              "       [ 9430.    ],\n",
              "       [ 9470.    ],\n",
              "       [ 9250.    ],\n",
              "       [ 9260.    ],\n",
              "       [ 9180.    ],\n",
              "       [ 9030.    ],\n",
              "       [ 9010.    ],\n",
              "       [ 9220.    ],\n",
              "       [ 9290.    ],\n",
              "       [ 9100.    ],\n",
              "       [ 9040.    ],\n",
              "       [ 8930.    ],\n",
              "       [ 8800.    ],\n",
              "       [ 9130.    ],\n",
              "       [ 8970.    ],\n",
              "       [ 8890.    ],\n",
              "       [ 8830.    ],\n",
              "       [ 8970.    ],\n",
              "       [ 9100.    ],\n",
              "       [ 9160.    ],\n",
              "       [ 9360.    ],\n",
              "       [ 9240.    ],\n",
              "       [ 9170.    ],\n",
              "       [ 9180.    ],\n",
              "       [ 9270.    ],\n",
              "       [ 9190.    ],\n",
              "       [ 9280.    ],\n",
              "       [ 9540.    ],\n",
              "       [ 9560.    ],\n",
              "       [ 9650.    ],\n",
              "       [ 9620.    ],\n",
              "       [ 9490.    ],\n",
              "       [ 9680.    ],\n",
              "       [ 9560.    ],\n",
              "       [ 9530.    ],\n",
              "       [ 9690.    ],\n",
              "       [ 9730.    ],\n",
              "       [ 9500.    ],\n",
              "       [ 9490.    ],\n",
              "       [ 9440.    ],\n",
              "       [ 9200.    ],\n",
              "       [ 9280.    ],\n",
              "       [ 9300.    ],\n",
              "       [ 9247.5   ],\n",
              "       [ 9400.    ],\n",
              "       [ 9670.    ],\n",
              "       [ 9790.    ],\n",
              "       [ 9530.    ],\n",
              "       [ 9550.    ],\n",
              "       [ 9580.    ],\n",
              "       [ 9540.    ],\n",
              "       [ 9290.    ],\n",
              "       [ 9350.    ],\n",
              "       [ 9260.    ],\n",
              "       [ 9210.    ],\n",
              "       [ 9180.    ],\n",
              "       [ 9360.    ],\n",
              "       [ 9550.    ],\n",
              "       [ 9690.    ],\n",
              "       [ 9740.    ],\n",
              "       [ 9910.    ],\n",
              "       [ 9900.    ],\n",
              "       [10110.    ],\n",
              "       [10230.    ],\n",
              "       [10000.    ],\n",
              "       [10010.    ],\n",
              "       [10090.    ],\n",
              "       [ 9840.    ],\n",
              "       [ 9880.    ],\n",
              "       [ 9710.    ],\n",
              "       [ 9510.    ],\n",
              "       [ 9480.    ],\n",
              "       [ 9530.    ],\n",
              "       [ 9510.    ],\n",
              "       [ 9930.    ],\n",
              "       [ 9940.    ],\n",
              "       [ 9610.    ],\n",
              "       [ 9740.    ],\n",
              "       [ 9760.    ],\n",
              "       [ 9800.    ],\n",
              "       [ 9650.    ],\n",
              "       [ 9490.    ],\n",
              "       [ 9440.    ],\n",
              "       [ 9760.    ],\n",
              "       [ 9730.    ],\n",
              "       [10040.    ],\n",
              "       [10140.    ],\n",
              "       [10260.    ],\n",
              "       [10240.    ],\n",
              "       [10450.    ],\n",
              "       [10640.    ],\n",
              "       [10370.    ],\n",
              "       [10400.    ],\n",
              "       [10540.    ],\n",
              "       [10430.    ],\n",
              "       [10680.    ],\n",
              "       [10712.5   ],\n",
              "       [10712.5   ],\n",
              "       [11105.5   ],\n",
              "       [11050.    ],\n",
              "       [11077.5   ],\n",
              "       [10940.    ],\n",
              "       [11210.    ],\n",
              "       [11160.    ],\n",
              "       [10950.    ],\n",
              "       [10950.    ],\n",
              "       [11100.    ],\n",
              "       [10900.    ],\n",
              "       [10910.    ],\n",
              "       [11090.    ],\n",
              "       [11270.    ],\n",
              "       [11210.    ],\n",
              "       [11150.    ],\n",
              "       [11260.    ],\n",
              "       [11210.    ],\n",
              "       [11170.    ],\n",
              "       [11290.    ],\n",
              "       [11280.    ],\n",
              "       [11360.    ],\n",
              "       [11310.    ],\n",
              "       [11230.    ],\n",
              "       [11100.    ],\n",
              "       [11120.    ],\n",
              "       [11020.    ],\n",
              "       [10930.    ],\n",
              "       [10770.    ],\n",
              "       [10740.    ],\n",
              "       [10720.    ],\n",
              "       [10727.5   ],\n",
              "       [10750.    ],\n",
              "       [10690.    ],\n",
              "       [10780.    ],\n",
              "       [10670.    ],\n",
              "       [10670.    ],\n",
              "       [10680.    ],\n",
              "       [10610.    ],\n",
              "       [10570.    ],\n",
              "       [10560.    ],\n",
              "       [10580.    ],\n",
              "       [10370.    ],\n",
              "       [10140.    ],\n",
              "       [10230.    ],\n",
              "       [10230.    ],\n",
              "       [10170.    ],\n",
              "       [10100.    ],\n",
              "       [10100.    ],\n",
              "       [10200.    ],\n",
              "       [10350.    ],\n",
              "       [10370.    ],\n",
              "       [10140.    ],\n",
              "       [10330.    ],\n",
              "       [10290.    ],\n",
              "       [10020.    ],\n",
              "       [10010.    ],\n",
              "       [10100.    ],\n",
              "       [10067.5   ],\n",
              "       [ 9990.    ],\n",
              "       [ 9940.    ],\n",
              "       [ 9960.    ],\n",
              "       [10060.    ],\n",
              "       [10350.    ],\n",
              "       [10420.    ],\n",
              "       [10370.    ],\n",
              "       [10190.    ],\n",
              "       [10160.    ],\n",
              "       [10420.    ],\n",
              "       [10270.    ],\n",
              "       [10340.    ],\n",
              "       [10510.    ],\n",
              "       [10590.    ],\n",
              "       [10840.    ],\n",
              "       [10710.    ],\n",
              "       [10760.    ],\n",
              "       [10840.    ],\n",
              "       [10970.    ],\n",
              "       [10890.    ],\n",
              "       [10720.    ],\n",
              "       [10890.    ],\n",
              "       [10757.5   ],\n",
              "       [10810.    ],\n",
              "       [10700.    ],\n",
              "       [10710.    ],\n",
              "       [10690.    ],\n",
              "       [10640.    ],\n",
              "       [10607.5   ],\n",
              "       [10610.5   ],\n",
              "       [10540.    ],\n",
              "       [10650.    ],\n",
              "       [10630.    ],\n",
              "       [10510.    ],\n",
              "       [10510.    ],\n",
              "       [10472.5   ],\n",
              "       [10350.    ],\n",
              "       [10190.    ],\n",
              "       [10140.    ],\n",
              "       [10150.    ],\n",
              "       [10180.    ],\n",
              "       [10070.    ],\n",
              "       [10100.    ],\n",
              "       [10100.    ],\n",
              "       [ 9830.    ],\n",
              "       [10000.    ],\n",
              "       [10120.    ],\n",
              "       [10150.    ],\n",
              "       [10000.    ],\n",
              "       [ 9950.    ],\n",
              "       [ 9630.    ],\n",
              "       [ 9550.    ],\n",
              "       [ 9330.    ],\n",
              "       [ 9070.    ],\n",
              "       [ 9390.    ],\n",
              "       [ 9450.    ],\n",
              "       [ 9390.    ],\n",
              "       [ 9512.5   ],\n",
              "       [ 9490.    ],\n",
              "       [ 9550.    ],\n",
              "       [ 9670.    ],\n",
              "       [ 9740.    ],\n",
              "       [ 9800.    ],\n",
              "       [ 9750.    ],\n",
              "       [ 9790.    ],\n",
              "       [ 9880.    ],\n",
              "       [ 9870.    ],\n",
              "       [ 9800.    ],\n",
              "       [ 9780.    ],\n",
              "       [ 9700.    ],\n",
              "       [ 9820.    ],\n",
              "       [ 9830.    ],\n",
              "       [10010.    ],\n",
              "       [ 9880.    ],\n",
              "       [10080.    ],\n",
              "       [10250.    ],\n",
              "       [10360.    ],\n",
              "       [10290.    ],\n",
              "       [10270.    ],\n",
              "       [10330.    ],\n",
              "       [10330.    ],\n",
              "       [10250.    ],\n",
              "       [10270.    ],\n",
              "       [10240.    ],\n",
              "       [10080.    ],\n",
              "       [10090.    ],\n",
              "       [10010.    ],\n",
              "       [ 9860.    ],\n",
              "       [ 9790.    ],\n",
              "       [ 9680.    ],\n",
              "       [ 9680.    ],\n",
              "       [ 9730.    ],\n",
              "       [ 9980.    ],\n",
              "       [10110.    ],\n",
              "       [10100.    ],\n",
              "       [10030.    ],\n",
              "       [10310.    ],\n",
              "       [10460.    ],\n",
              "       [10340.    ],\n",
              "       [10380.    ],\n",
              "       [10210.    ],\n",
              "       [10190.    ],\n",
              "       [10180.    ],\n",
              "       [10400.    ],\n",
              "       [10470.    ],\n",
              "       [10340.    ],\n",
              "       [10410.    ],\n",
              "       [10310.    ],\n",
              "       [10190.    ],\n",
              "       [10200.    ],\n",
              "       [10310.    ],\n",
              "       [10500.    ],\n",
              "       [10450.    ],\n",
              "       [10530.    ],\n",
              "       [10510.    ],\n",
              "       [10640.    ],\n",
              "       [10500.    ],\n",
              "       [10550.    ],\n",
              "       [10280.    ],\n",
              "       [10360.    ],\n",
              "       [10210.    ],\n",
              "       [10300.    ],\n",
              "       [10250.    ],\n",
              "       [10590.    ],\n",
              "       [10520.    ],\n",
              "       [10440.    ],\n",
              "       [10580.    ],\n",
              "       [10550.    ],\n",
              "       [10420.    ],\n",
              "       [10400.    ],\n",
              "       [10250.    ],\n",
              "       [10400.    ],\n",
              "       [10360.    ],\n",
              "       [10370.    ],\n",
              "       [10200.    ],\n",
              "       [10110.    ],\n",
              "       [10080.    ],\n",
              "       [10080.    ],\n",
              "       [ 9940.    ],\n",
              "       [ 9780.    ],\n",
              "       [ 9730.    ],\n",
              "       [ 9650.    ],\n",
              "       [ 9380.    ],\n",
              "       [ 9330.    ],\n",
              "       [ 9290.    ],\n",
              "       [ 9250.    ],\n",
              "       [ 9040.    ],\n",
              "       [ 9250.    ],\n",
              "       [ 9310.    ],\n",
              "       [ 9410.    ],\n",
              "       [ 9640.    ],\n",
              "       [ 9700.    ],\n",
              "       [ 9840.    ],\n",
              "       [ 9890.    ],\n",
              "       [ 9930.    ],\n",
              "       [ 9930.    ],\n",
              "       [ 9820.    ],\n",
              "       [ 9900.    ],\n",
              "       [ 9790.    ],\n",
              "       [ 9570.    ],\n",
              "       [ 9540.    ],\n",
              "       [ 9830.    ],\n",
              "       [ 9770.    ],\n",
              "       [ 9730.    ],\n",
              "       [ 9830.    ],\n",
              "       [ 9770.    ],\n",
              "       [10040.    ],\n",
              "       [10140.    ],\n",
              "       [10020.    ],\n",
              "       [ 9990.    ],\n",
              "       [ 9780.    ],\n",
              "       [ 9850.    ],\n",
              "       [ 9780.    ],\n",
              "       [ 9690.    ],\n",
              "       [ 9760.    ],\n",
              "       [ 9710.    ],\n",
              "       [ 9690.    ],\n",
              "       [ 9510.    ],\n",
              "       [ 9450.    ],\n",
              "       [ 9430.    ],\n",
              "       [ 9340.    ],\n",
              "       [ 9340.    ],\n",
              "       [ 9230.    ],\n",
              "       [ 9280.    ],\n",
              "       [ 9330.    ],\n",
              "       [ 9300.    ],\n",
              "       [ 9080.    ],\n",
              "       [ 9270.    ],\n",
              "       [ 9130.    ],\n",
              "       [ 9360.    ],\n",
              "       [ 9320.    ],\n",
              "       [ 9450.    ],\n",
              "       [ 9460.    ],\n",
              "       [ 9370.    ],\n",
              "       [ 9030.    ],\n",
              "       [ 8860.    ],\n",
              "       [ 8510.    ],\n",
              "       [ 8750.    ],\n",
              "       [ 8740.    ],\n",
              "       [ 8830.    ],\n",
              "       [ 8750.    ],\n",
              "       [ 8770.    ],\n",
              "       [ 8930.    ],\n",
              "       [ 8940.    ],\n",
              "       [ 8750.    ],\n",
              "       [ 8740.    ],\n",
              "       [ 8850.    ],\n",
              "       [ 8890.    ],\n",
              "       [ 8970.    ],\n",
              "       [ 8930.    ],\n",
              "       [ 8580.    ],\n",
              "       [ 8860.    ],\n",
              "       [ 8890.    ],\n",
              "       [ 8730.    ],\n",
              "       [ 8690.    ],\n",
              "       [ 8380.    ],\n",
              "       [ 8120.    ],\n",
              "       [ 8200.    ],\n",
              "       [ 8630.    ],\n",
              "       [ 8710.    ],\n",
              "       [ 8440.    ],\n",
              "       [ 8400.    ],\n",
              "       [ 8180.0005],\n",
              "       [ 7860.    ],\n",
              "       [ 7920.    ],\n",
              "       [ 7889.9995],\n",
              "       [ 7679.9995],\n",
              "       [ 7510.    ],\n",
              "       [ 7090.    ],\n",
              "       [ 7389.9995],\n",
              "       [ 7040.    ],\n",
              "       [ 7050.    ],\n",
              "       [ 7170.    ],\n",
              "       [ 7410.    ],\n",
              "       [ 7269.9995]], dtype=float32)"
            ]
          },
          "execution_count": 28,
          "metadata": {},
          "output_type": "execute_result"
        }
      ],
      "source": [
        "# ちゃんと677行１列にする。\n",
        "\n",
        "test_Y.shape\n",
        "test_Y = test_Y.reshape(-1,1)\n",
        "test_Y.shape\n",
        "test_Y\n",
        "\n",
        "test_Y = scaler_train.inverse_transform(test_Y)\n",
        "test_Y"
      ]
    },
    {
      "cell_type": "markdown",
      "metadata": {
        "id": "P8eKKVEKoQML"
      },
      "source": [
        "算出した予測値の整形"
      ]
    },
    {
      "cell_type": "code",
      "execution_count": 29,
      "metadata": {
        "colab": {
          "base_uri": "https://localhost:8080/"
        },
        "id": "2VIQ8nNdqrMl",
        "outputId": "b1b34dac-19de-417a-8af4-868b6a351e5e"
      },
      "outputs": [
        {
          "data": {
            "text/plain": [
              "(677, 1)"
            ]
          },
          "execution_count": 29,
          "metadata": {},
          "output_type": "execute_result"
        }
      ],
      "source": [
        "test_predict\n",
        "test_predict.shape"
      ]
    },
    {
      "cell_type": "code",
      "execution_count": 30,
      "metadata": {
        "id": "fxyROhn0oeVb"
      },
      "outputs": [],
      "source": [
        "test_predict  = scaler_train.inverse_transform(test_predict)\n",
        "test_predict2 = scaler_train.inverse_transform(test_predict2)\n",
        "test_predict3 = scaler_train.inverse_transform(test_predict3)\n",
        "test_predict4 = scaler_train.inverse_transform(test_predict4)"
      ]
    },
    {
      "cell_type": "markdown",
      "metadata": {
        "id": "5Rbnn47EoBpc"
      },
      "source": [
        "あまり"
      ]
    },
    {
      "cell_type": "markdown",
      "metadata": {
        "id": "d2Ecp8zHMHpY"
      },
      "source": [
        "#### rmseの算出\n",
        "ちゃんと双方のデータ形式をそろえる事。"
      ]
    },
    {
      "cell_type": "markdown",
      "metadata": {
        "id": "ldEkyegyHOJO"
      },
      "source": [
        "まずはrmse比較する２つのデータの形状を確認して必要ならばそろえる。\n",
        "\n",
        "その必要があったので揃えます。"
      ]
    },
    {
      "cell_type": "code",
      "execution_count": 31,
      "metadata": {
        "colab": {
          "base_uri": "https://localhost:8080/"
        },
        "id": "Cpvc1XVRG8fF",
        "outputId": "d7078452-c991-47ad-a64d-7ada34f052d5"
      },
      "outputs": [
        {
          "data": {
            "text/plain": [
              "(677, 1)"
            ]
          },
          "execution_count": 31,
          "metadata": {},
          "output_type": "execute_result"
        }
      ],
      "source": [
        "# まずはrmse比較する２つのデータの形状を確認して必要ならばそろえる。\n",
        "test_predict.shape\n",
        "\n",
        "# test_Y      # これがおかしい。1列29行になってる。　ちゃんと29行1列にしないと。"
      ]
    },
    {
      "cell_type": "code",
      "execution_count": 32,
      "metadata": {
        "colab": {
          "base_uri": "https://localhost:8080/"
        },
        "id": "4SMYaHcBHTTd",
        "outputId": "aa4d3a1a-8ea8-4b90-d85f-30734f308d66"
      },
      "outputs": [
        {
          "name": "stdout",
          "output_type": "stream",
          "text": [
            "(677, 1)\n",
            "(677, 1)\n",
            "(677, 1)\n",
            "(677, 1)\n",
            "(677, 1)\n"
          ]
        }
      ],
      "source": [
        "# これで変換\n",
        "import numpy as np\n",
        "# test_Y = test_Y.reshape(29,1)\n",
        "\n",
        "# 返還後は確認しましょう。\n",
        "print(test_predict.shape)\n",
        "print(test_predict2.shape)\n",
        "print(test_predict3.shape)\n",
        "print(test_predict4.shape)\n",
        "print(test_Y.shape)"
      ]
    },
    {
      "cell_type": "code",
      "execution_count": 33,
      "metadata": {
        "colab": {
          "base_uri": "https://localhost:8080/"
        },
        "id": "v_mAsz3DJA0P",
        "outputId": "20519924-d26e-4e27-f4a7-f4533289dc95"
      },
      "outputs": [
        {
          "name": "stdout",
          "output_type": "stream",
          "text": [
            "No1のRMSE 145.98297\n",
            "No2のRMSE 189.88597\n",
            "No3のRMSE 144.85132\n",
            "No4のRMSE 161.38802\n"
          ]
        }
      ],
      "source": [
        "import numpy as np\n",
        "from sklearn.metrics import mean_squared_error as MSE\n",
        "# y_trainと予測値のRMSEを出す\n",
        "\n",
        "print(\"No1のRMSE\",np.sqrt(MSE(test_predict,test_Y)))\n",
        "print(\"No2のRMSE\",np.sqrt(MSE(test_predict2,test_Y)))\n",
        "print(\"No3のRMSE\",np.sqrt(MSE(test_predict3,test_Y)))\n",
        "print(\"No4のRMSE\",np.sqrt(MSE(test_predict4,test_Y)))"
      ]
    },
    {
      "cell_type": "markdown",
      "metadata": {
        "id": "5woJCu6JR1Bw"
      },
      "source": [
        "#### [データ可視化](https://premium.aidemy.jp/courses/6160/exercises/9ShLDO1Ukc)\n",
        "可視化する時もデータを整形する事。"
      ]
    },
    {
      "cell_type": "markdown",
      "metadata": {
        "id": "h0aJFlPaMGDF"
      },
      "source": [
        "こちら私が可視化したもの。"
      ]
    },
    {
      "cell_type": "markdown",
      "metadata": {
        "id": "jphhGHcOps7F"
      },
      "source": [
        "プロット時にこのようにデータ出力範囲を限定させました。\n",
        "\n",
        "```\n",
        "plt.plot(df[1200:], label='dataset',color = \"blue\")\n",
        "```"
      ]
    },
    {
      "cell_type": "code",
      "execution_count": 34,
      "metadata": {
        "colab": {
          "base_uri": "https://localhost:8080/",
          "height": 621
        },
        "id": "MKJseOFWSkxM",
        "outputId": "07e969a2-3309-4ec4-ee06-b1ac2f20438c"
      },
      "outputs": [
        {
          "data": {
            "image/png": "[encoded data removed]",
            "text/plain": [
              "<Figure size 1440x720 with 1 Axes>"
            ]
          },
          "metadata": {
            "needs_background": "light"
          },
          "output_type": "display_data"
        }
      ],
      "source": [
        "import matplotlib.pyplot as plt\n",
        "plt.rc(\"figure\",figsize=(20,10))\n",
        "# 検証データから予測したデータの整形\n",
        "# 既存の配列`dataset`と同じ大きさ（行数・列数）、データ型で\n",
        "# 値を０に初期化したプロット用の空の配列を作成します\n",
        "test_predict_plot = np.empty_like(df)\n",
        "\n",
        "# 空の配列のすべての値を欠損値`nan`にします\n",
        "test_predict_plot[:, :] = np.nan\n",
        "\n",
        "# 訓練データの予測値と位置を合わせます\n",
        "test_predict_plot[len(train_predict)+(look_back*2):len(df), :] = test_predict4\n",
        "\n",
        "# データのプロット\n",
        "plt.title(\"monthly-champagne-sales-in-1000s\")\n",
        "plt.xlabel(\"time(month)\")\n",
        "plt.ylabel(\"Earnings\")\n",
        "\n",
        "# 読み込んだままのデータをプロットします\n",
        "# plt.plot(df, label='dataset',color = \"blue\")\n",
        "plt.plot(df[1200:], label='dataset',color = \"blue\")\n",
        "\n",
        "# 検証データから予測した値をプロットします\n",
        "plt.plot(test_predict_plot[1200:], label='predict',color = \"red\")\n",
        "\n",
        "plt.legend(loc='lower right') # 右下に表示しますと。\n",
        "\n",
        "\n",
        "\n",
        "\n",
        "\n",
        "plt.show()"
      ]
    },
    {
      "cell_type": "markdown",
      "metadata": {
        "id": "g7wHo31xeMq7"
      },
      "source": [
        "決して悪くないんじゃないですか？　"
      ]
    },
    {
      "cell_type": "code",
      "execution_count": 35,
      "metadata": {
        "colab": {
          "base_uri": "https://localhost:8080/"
        },
        "id": "Xt6hTTGhqK87",
        "outputId": "8bd14ec3-d8ac-43a8-89d2-4faf6a6d9f53"
      },
      "outputs": [
        {
          "name": "stdout",
          "output_type": "stream",
          "text": [
            "(677, 1)\n",
            "(677, 1)\n"
          ]
        }
      ],
      "source": [
        "print(test_predict4.shape)\n",
        "print(test_Y.shape)"
      ]
    },
    {
      "cell_type": "code",
      "execution_count": 36,
      "metadata": {
        "colab": {
          "base_uri": "https://localhost:8080/"
        },
        "id": "fAHEvDZ-qXm8",
        "outputId": "51f6b916-0352-4182-ce4f-ac4112895838"
      },
      "outputs": [
        {
          "data": {
            "text/plain": [
              "array([[18980.],\n",
              "       [19330.],\n",
              "       [19460.],\n",
              "       ...,\n",
              "       [ 7170.],\n",
              "       [ 7410.],\n",
              "       [ 7270.]], dtype=float32)"
            ]
          },
          "execution_count": 36,
          "metadata": {},
          "output_type": "execute_result"
        }
      ],
      "source": [
        "test_Y\n",
        "df"
      ]
    }
  ],
  "metadata": {
    "celltoolbar": "Edit Metadata",
    "colab": {
      "collapsed_sections": [
        "-8A4PciAV4Y8"
      ],
      "include_colab_link": true,
      "name": "時系列株価予測git用.ipynb",
      "provenance": []
    },
    "kernelspec": {
      "display_name": "Python 3",
      "language": "python",
      "name": "python3"
    },
    "language_info": {
      "codemirror_mode": {
        "name": "ipython",
        "version": 3
      },
      "file_extension": ".py",
      "mimetype": "text/x-python",
      "name": "python",
      "nbconvert_exporter": "python",
      "pygments_lexer": "ipython3",
      "version": "3.6.4"
    },
    "toc": {
      "base_numbering": 1,
      "nav_menu": {},
      "number_sections": true,
      "sideBar": true,
      "skip_h1_title": false,
      "title_cell": "Table of Contents",
      "title_sidebar": "Contents",
      "toc_cell": false,
      "toc_position": {},
      "toc_section_display": true,
      "toc_window_display": false
    }
  },
  "nbformat": 4,
  "nbformat_minor": 0
}
