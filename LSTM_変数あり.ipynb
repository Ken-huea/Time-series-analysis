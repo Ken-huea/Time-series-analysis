{
  "cells": [
    {
      "cell_type": "markdown",
      "metadata": {
        "id": "view-in-github",
        "colab_type": "text"
      },
      "source": [
        "<a href=\"https://colab.research.google.com/github/Ken-huea/Time-series-analysis/blob/main/LSTM_%E5%A4%89%E6%95%B0%E3%81%82%E3%82%8A.ipynb\" target=\"_parent\"><img src=\"https://colab.research.google.com/assets/colab-badge.svg\" alt=\"Open In Colab\"/></a>"
      ]
    },
    {
      "cell_type": "markdown",
      "metadata": {
        "id": "TL5xkVwYJPpf"
      },
      "source": [
        "### 説明"
      ]
    },
    {
      "cell_type": "markdown",
      "source": [
        "[参考動画](https://www.youtube.com/watch?v=y-XvMZq33c4&t=2159s)\n",
        "\n",
        "[元データはこちら](https://analysis-navi.com/?p=3868)"
      ],
      "metadata": {
        "id": "SIJ-nLK8VYl0"
      }
    },
    {
      "cell_type": "markdown",
      "metadata": {
        "id": "eZHJHEYLJPpn"
      },
      "source": [
        "- 以前扱ったSARIMAなどのモデリングは「データが生まれた背景を知ること」に重きを置いた方法**（AIの結果を元に、人間が判断）**\n",
        "- ディープラーニングは「精度の良い予測」に重きを置いた方法**（AIがすべて判断）**\n",
        "\n",
        "\n",
        "- 時系列のディープラーニングには通常RNN（Recurrent neural network）が使用される\n",
        "- その中でも、今回はより高精度が出やすいと言われるLSTM(Long Short-Term Memory)を使用\n"
      ]
    },
    {
      "cell_type": "markdown",
      "source": [
        "以前の変数無しではドロップを用いて変数を落としました。\n",
        "\n",
        "今回はこれらの変数を落とさずに<font color=\"red\">精度を上げるための材料</font>に使います。"
      ],
      "metadata": {
        "id": "BHhONdN5aXDs"
      }
    },
    {
      "cell_type": "markdown",
      "source": [
        "また、重複するところは横着致します。悪しからず。"
      ],
      "metadata": {
        "id": "ddBbH0G0ap-i"
      }
    },
    {
      "cell_type": "markdown",
      "metadata": {
        "id": "Mpgv2OJbJPpo"
      },
      "source": [
        "### ライブラリ&データの準備"
      ]
    },
    {
      "cell_type": "code",
      "execution_count": null,
      "metadata": {
        "colab": {
          "base_uri": "https://localhost:8080/"
        },
        "id": "qOygblJsJPpp",
        "outputId": "77b1b09e-e870-4bf8-f7c9-8d54b428616f"
      },
      "outputs": [
        {
          "output_type": "stream",
          "name": "stderr",
          "text": [
            "/usr/local/lib/python3.7/dist-packages/ipykernel_launcher.py:21: FutureWarning: Indexing a DataFrame with a datetimelike index using a single string to slice the rows, like `frame[string]`, is deprecated and will be removed in a future version. Use `frame.loc[string]` instead.\n"
          ]
        }
      ],
      "source": [
        "#いろいろインポート\n",
        "import tensorflow as tf\n",
        "import pandas as pd\n",
        "import numpy as np\n",
        "from datetime import datetime\n",
        "import seaborn as sns\n",
        "import matplotlib.pyplot as plt\n",
        "\n",
        "#データ読み込み\n",
        "df = pd.read_csv(\"3-4_TS_sample2.csv\",index_col=\"年月日\",encoding=\"shift_jis\",parse_dates=True)\n",
        "\n",
        "df_week = df.resample(\"W\").mean() #週ごとに集計\n",
        "\n",
        "#0〜1にスケーリング\n",
        "from sklearn.preprocessing import MinMaxScaler\n",
        "scaler = MinMaxScaler(feature_range=(0, 1))\n",
        "df_week_scale = pd.DataFrame(scaler.fit_transform(df_week),index=df_week.index,columns=df_week.columns)\n",
        "\n",
        "#学習データ、試験データに分離\n",
        "df_week_scale_train = df_week_scale[\"2010\":\"2018\"]\n",
        "df_week_scale_test = df_week_scale[\"2019\"]\n"
      ]
    },
    {
      "cell_type": "code",
      "execution_count": null,
      "metadata": {
        "colab": {
          "base_uri": "https://localhost:8080/",
          "height": 256
        },
        "id": "YHU3QuAQJPps",
        "outputId": "943f6850-9cfd-4872-842c-02fa00cec733"
      },
      "outputs": [
        {
          "output_type": "stream",
          "name": "stdout",
          "text": [
            "(470, 3) (52, 3)\n"
          ]
        },
        {
          "output_type": "execute_result",
          "data": {
            "text/plain": [
              "             平均気温(℃)  降水量の合計(mm)  日照時間(時間)\n",
              "年月日                                       \n",
              "2010-01-03  0.132150    0.000000  0.665068\n",
              "2010-01-10  0.182446    0.008078  0.631894\n",
              "2010-01-17  0.094675    0.021002  0.505995\n",
              "2010-01-24  0.227811    0.000000  0.545564\n",
              "2010-01-31  0.241124    0.000000  0.564748"
            ],
            "text/html": [
              "\n",
              "  <div id=\"df-dbd68521-3966-46ce-a4e7-cd35474f2ecd\">\n",
              "    <div class=\"colab-df-container\">\n",
              "      <div>\n",
              "<style scoped>\n",
              "    .dataframe tbody tr th:only-of-type {\n",
              "        vertical-align: middle;\n",
              "    }\n",
              "\n",
              "    .dataframe tbody tr th {\n",
              "        vertical-align: top;\n",
              "    }\n",
              "\n",
              "    .dataframe thead th {\n",
              "        text-align: right;\n",
              "    }\n",
              "</style>\n",
              "<table border=\"1\" class=\"dataframe\">\n",
              "  <thead>\n",
              "    <tr style=\"text-align: right;\">\n",
              "      <th></th>\n",
              "      <th>平均気温(℃)</th>\n",
              "      <th>降水量の合計(mm)</th>\n",
              "      <th>日照時間(時間)</th>\n",
              "    </tr>\n",
              "    <tr>\n",
              "      <th>年月日</th>\n",
              "      <th></th>\n",
              "      <th></th>\n",
              "      <th></th>\n",
              "    </tr>\n",
              "  </thead>\n",
              "  <tbody>\n",
              "    <tr>\n",
              "      <th>2010-01-03</th>\n",
              "      <td>0.132150</td>\n",
              "      <td>0.000000</td>\n",
              "      <td>0.665068</td>\n",
              "    </tr>\n",
              "    <tr>\n",
              "      <th>2010-01-10</th>\n",
              "      <td>0.182446</td>\n",
              "      <td>0.008078</td>\n",
              "      <td>0.631894</td>\n",
              "    </tr>\n",
              "    <tr>\n",
              "      <th>2010-01-17</th>\n",
              "      <td>0.094675</td>\n",
              "      <td>0.021002</td>\n",
              "      <td>0.505995</td>\n",
              "    </tr>\n",
              "    <tr>\n",
              "      <th>2010-01-24</th>\n",
              "      <td>0.227811</td>\n",
              "      <td>0.000000</td>\n",
              "      <td>0.545564</td>\n",
              "    </tr>\n",
              "    <tr>\n",
              "      <th>2010-01-31</th>\n",
              "      <td>0.241124</td>\n",
              "      <td>0.000000</td>\n",
              "      <td>0.564748</td>\n",
              "    </tr>\n",
              "  </tbody>\n",
              "</table>\n",
              "</div>\n",
              "      <button class=\"colab-df-convert\" onclick=\"convertToInteractive('df-dbd68521-3966-46ce-a4e7-cd35474f2ecd')\"\n",
              "              title=\"Convert this dataframe to an interactive table.\"\n",
              "              style=\"display:none;\">\n",
              "        \n",
              "  <svg xmlns=\"http://www.w3.org/2000/svg\" height=\"24px\"viewBox=\"0 0 24 24\"\n",
              "       width=\"24px\">\n",
              "    <path d=\"M0 0h24v24H0V0z\" fill=\"none\"/>\n",
              "    <path d=\"M18.56 5.44l.94 2.06.94-2.06 2.06-.94-2.06-.94-.94-2.06-.94 2.06-2.06.94zm-11 1L8.5 8.5l.94-2.06 2.06-.94-2.06-.94L8.5 2.5l-.94 2.06-2.06.94zm10 10l.94 2.06.94-2.06 2.06-.94-2.06-.94-.94-2.06-.94 2.06-2.06.94z\"/><path d=\"M17.41 7.96l-1.37-1.37c-.4-.4-.92-.59-1.43-.59-.52 0-1.04.2-1.43.59L10.3 9.45l-7.72 7.72c-.78.78-.78 2.05 0 2.83L4 21.41c.39.39.9.59 1.41.59.51 0 1.02-.2 1.41-.59l7.78-7.78 2.81-2.81c.8-.78.8-2.07 0-2.86zM5.41 20L4 18.59l7.72-7.72 1.47 1.35L5.41 20z\"/>\n",
              "  </svg>\n",
              "      </button>\n",
              "      \n",
              "  <style>\n",
              "    .colab-df-container {\n",
              "      display:flex;\n",
              "      flex-wrap:wrap;\n",
              "      gap: 12px;\n",
              "    }\n",
              "\n",
              "    .colab-df-convert {\n",
              "      background-color: #E8F0FE;\n",
              "      border: none;\n",
              "      border-radius: 50%;\n",
              "      cursor: pointer;\n",
              "      display: none;\n",
              "      fill: #1967D2;\n",
              "      height: 32px;\n",
              "      padding: 0 0 0 0;\n",
              "      width: 32px;\n",
              "    }\n",
              "\n",
              "    .colab-df-convert:hover {\n",
              "      background-color: #E2EBFA;\n",
              "      box-shadow: 0px 1px 2px rgba(60, 64, 67, 0.3), 0px 1px 3px 1px rgba(60, 64, 67, 0.15);\n",
              "      fill: #174EA6;\n",
              "    }\n",
              "\n",
              "    [theme=dark] .colab-df-convert {\n",
              "      background-color: #3B4455;\n",
              "      fill: #D2E3FC;\n",
              "    }\n",
              "\n",
              "    [theme=dark] .colab-df-convert:hover {\n",
              "      background-color: #434B5C;\n",
              "      box-shadow: 0px 1px 3px 1px rgba(0, 0, 0, 0.15);\n",
              "      filter: drop-shadow(0px 1px 2px rgba(0, 0, 0, 0.3));\n",
              "      fill: #FFFFFF;\n",
              "    }\n",
              "  </style>\n",
              "\n",
              "      <script>\n",
              "        const buttonEl =\n",
              "          document.querySelector('#df-dbd68521-3966-46ce-a4e7-cd35474f2ecd button.colab-df-convert');\n",
              "        buttonEl.style.display =\n",
              "          google.colab.kernel.accessAllowed ? 'block' : 'none';\n",
              "\n",
              "        async function convertToInteractive(key) {\n",
              "          const element = document.querySelector('#df-dbd68521-3966-46ce-a4e7-cd35474f2ecd');\n",
              "          const dataTable =\n",
              "            await google.colab.kernel.invokeFunction('convertToInteractive',\n",
              "                                                     [key], {});\n",
              "          if (!dataTable) return;\n",
              "\n",
              "          const docLinkHtml = 'Like what you see? Visit the ' +\n",
              "            '<a target=\"_blank\" href=https://colab.research.google.com/notebooks/data_table.ipynb>data table notebook</a>'\n",
              "            + ' to learn more about interactive tables.';\n",
              "          element.innerHTML = '';\n",
              "          dataTable['output_type'] = 'display_data';\n",
              "          await google.colab.output.renderOutput(dataTable, element);\n",
              "          const docLink = document.createElement('div');\n",
              "          docLink.innerHTML = docLinkHtml;\n",
              "          element.appendChild(docLink);\n",
              "        }\n",
              "      </script>\n",
              "    </div>\n",
              "  </div>\n",
              "  "
            ]
          },
          "metadata": {},
          "execution_count": 2
        }
      ],
      "source": [
        "print(df_week_scale_train.shape,df_week_scale_test.shape)\n",
        "df_week_scale_train.head(5)\n",
        "# 降水量と日照時間がどのように作用するのか。楽しみですね。"
      ]
    },
    {
      "cell_type": "markdown",
      "metadata": {
        "id": "EkgxmyFwJPpu"
      },
      "source": [
        "### RNN用入力データへの整形\n",
        "\n",
        "kerasの場合、入力データを\n",
        "\n",
        "X = [\n",
        "\n",
        "[[時点1におけるx1,時点1におけるx2,...],[時点2におけるx1,時点2におけるx2,...],...,[時点30におけるx1,時点30におけるx2,...]],\n",
        "\n",
        "[[時点2におけるx1,時点2におけるx2,...],[時点3におけるx1,時点3におけるx2,...],...,[時点31におけるx1,時点31におけるx2,...]],\n",
        "\n",
        "[[時点3におけるx1,時点3におけるx2,...],[時点4におけるx1,時点4におけるx2,...],...,[時点32におけるx1,時点32におけるx2,...]],\n",
        "\n",
        "...\n",
        "\n",
        "]\n",
        "\n",
        "y = [\n",
        "\n",
        "[[時点31におけるy]],\n",
        "\n",
        "[[時点32におけるy]],\n",
        "\n",
        "[[時点33におけるy]],\n",
        "\n",
        "...\n",
        "\n",
        "]\n",
        "\n",
        "\n",
        "という形状にする必要がある。"
      ]
    },
    {
      "cell_type": "code",
      "execution_count": null,
      "metadata": {
        "id": "p24juxzSJPpv"
      },
      "outputs": [],
      "source": [
        "look_back = 30 #どれくらい過去まで見るか\n",
        "\n",
        "def create_input_data(data, look_back):    \n",
        "    raw_data = data.T.values.tolist()\n",
        "    data_size = len(data) - look_back\n",
        "\n",
        "    X = [[] for i in range(len(raw_data))] \n",
        "    y = [[] for i in range(len(raw_data))] \n",
        "\n",
        "    for i in range(data_size):\n",
        "        for j in range(len(raw_data)):\n",
        "            X[j].append(raw_data[j][i:i + look_back])\n",
        "            y[j].append([raw_data[j][i + look_back]])\n",
        "\n",
        "    X_tmp = X[-1]\n",
        "    y_tmp = y[-1]\n",
        "    \n",
        "    for i in range(len(raw_data)-1):\n",
        "        X_tmp = np.insert(X_tmp,np.arange(0, (look_back-1)*(i+1)+1, i+1),X[-i-2],axis=1)\n",
        "        y_tmp = np.insert(y_tmp,np.arange(0, (i+1), i+1),y[-i-2],axis=1)\n",
        "    \n",
        "    X = np.array(X_tmp).reshape(data_size, look_back, len(raw_data))\n",
        "    y = np.array(y_tmp).reshape(data_size, 1, len(raw_data))\n",
        "    \n",
        "    return y, X\n",
        "\n",
        "y_train,X_train = create_input_data(\n",
        "    data=df_week_scale_train,\n",
        "    look_back=look_back\n",
        ")\n",
        "\n",
        "y_test,X_test = create_input_data(\n",
        "    data=df_week_scale_test,\n",
        "    look_back=look_back\n",
        ")\n"
      ]
    },
    {
      "cell_type": "code",
      "execution_count": null,
      "metadata": {
        "colab": {
          "base_uri": "https://localhost:8080/"
        },
        "id": "YuJ10n8rJPpx",
        "outputId": "05d09367-5d9d-4d4b-8de1-74897cdfce30"
      },
      "outputs": [
        {
          "output_type": "execute_result",
          "data": {
            "text/plain": [
              "((440, 30, 3), (440, 1, 3), (22, 30, 3), (22, 1, 3))"
            ]
          },
          "metadata": {},
          "execution_count": 4
        }
      ],
      "source": [
        "# こんな感じで\n",
        "X_train.shape,y_train.shape,X_test.shape,y_test.shape"
      ]
    },
    {
      "cell_type": "markdown",
      "metadata": {
        "id": "LX0HdWEqJPpy"
      },
      "source": [
        "### モデル定義"
      ]
    },
    {
      "cell_type": "markdown",
      "source": [
        "return_sequences=True　　層を重ねる時に必要。次の層に結果を伝えますと。"
      ],
      "metadata": {
        "id": "EyUJIg1FLqXn"
      }
    },
    {
      "cell_type": "code",
      "execution_count": null,
      "metadata": {
        "id": "Ee67-32bJPpz"
      },
      "outputs": [],
      "source": [
        "from tensorflow.keras.models import Sequential\n",
        "from tensorflow.keras.layers import Dense, Activation\n",
        "from tensorflow.keras.layers import LSTM\n",
        "from tensorflow.keras.optimizers import Adam\n",
        "\n",
        "model = Sequential()\n",
        "x = model.add(LSTM(10, return_sequences=True, input_shape=(X_train.shape[1], X_train.shape[2])))\n",
        "model.add(LSTM(8))# 最後の出力時には return_sequences=True はいらない。\n",
        "\n",
        "model.add(Dense(len(df.columns))) #出力層はデータ数に合わせる 今回はカラム数 3\n",
        "\n",
        "model.compile(loss='mean_squared_error', optimizer='adam')"
      ]
    },
    {
      "cell_type": "code",
      "execution_count": null,
      "metadata": {
        "id": "mQ0uoQ3OJPp0"
      },
      "outputs": [],
      "source": [
        ""
      ]
    },
    {
      "cell_type": "markdown",
      "metadata": {
        "id": "0H9wjxBHJPp1"
      },
      "source": [
        "### 学習実行"
      ]
    },
    {
      "cell_type": "code",
      "execution_count": null,
      "metadata": {
        "colab": {
          "base_uri": "https://localhost:8080/"
        },
        "id": "sHNq2fjMJPp1",
        "outputId": "e746607b-a929-4d53-d3ec-37c3a2b6cda3"
      },
      "outputs": [
        {
          "output_type": "stream",
          "name": "stdout",
          "text": [
            "Epoch 1/30\n",
            "440/440 [==============================] - 11s 26ms/step - loss: 0.0175\n",
            "Epoch 2/30\n",
            "440/440 [==============================] - 6s 13ms/step - loss: 0.0172\n",
            "Epoch 3/30\n",
            "440/440 [==============================] - 6s 13ms/step - loss: 0.0174\n",
            "Epoch 4/30\n",
            "440/440 [==============================] - 6s 13ms/step - loss: 0.0170\n",
            "Epoch 5/30\n",
            "440/440 [==============================] - 6s 13ms/step - loss: 0.0170\n",
            "Epoch 6/30\n",
            "440/440 [==============================] - 6s 13ms/step - loss: 0.0168\n",
            "Epoch 7/30\n",
            "440/440 [==============================] - 6s 13ms/step - loss: 0.0167\n",
            "Epoch 8/30\n",
            "440/440 [==============================] - 6s 13ms/step - loss: 0.0167\n",
            "Epoch 9/30\n",
            "440/440 [==============================] - 6s 13ms/step - loss: 0.0165\n",
            "Epoch 10/30\n",
            "440/440 [==============================] - 6s 13ms/step - loss: 0.0165\n",
            "Epoch 11/30\n",
            "440/440 [==============================] - 6s 13ms/step - loss: 0.0166\n",
            "Epoch 12/30\n",
            "440/440 [==============================] - 6s 13ms/step - loss: 0.0165\n",
            "Epoch 13/30\n",
            "440/440 [==============================] - 6s 13ms/step - loss: 0.0164\n",
            "Epoch 14/30\n",
            "440/440 [==============================] - 6s 13ms/step - loss: 0.0165\n",
            "Epoch 15/30\n",
            "440/440 [==============================] - 6s 13ms/step - loss: 0.0163\n",
            "Epoch 16/30\n",
            "440/440 [==============================] - 6s 13ms/step - loss: 0.0162\n",
            "Epoch 17/30\n",
            "440/440 [==============================] - 6s 13ms/step - loss: 0.0161\n",
            "Epoch 18/30\n",
            "440/440 [==============================] - 6s 13ms/step - loss: 0.0162\n",
            "Epoch 19/30\n",
            "440/440 [==============================] - 5s 12ms/step - loss: 0.0161\n",
            "Epoch 20/30\n",
            "440/440 [==============================] - 6s 13ms/step - loss: 0.0161\n",
            "Epoch 21/30\n",
            "440/440 [==============================] - 6s 13ms/step - loss: 0.0160\n",
            "Epoch 22/30\n",
            "440/440 [==============================] - 6s 13ms/step - loss: 0.0163\n",
            "Epoch 23/30\n",
            "440/440 [==============================] - 6s 13ms/step - loss: 0.0161\n",
            "Epoch 24/30\n",
            "440/440 [==============================] - 6s 13ms/step - loss: 0.0158\n",
            "Epoch 25/30\n",
            "440/440 [==============================] - 6s 14ms/step - loss: 0.0159\n",
            "Epoch 26/30\n",
            "440/440 [==============================] - 7s 16ms/step - loss: 0.0159\n",
            "Epoch 27/30\n",
            "440/440 [==============================] - 6s 13ms/step - loss: 0.0161\n",
            "Epoch 28/30\n",
            "440/440 [==============================] - 6s 13ms/step - loss: 0.0157\n",
            "Epoch 29/30\n",
            "440/440 [==============================] - 6s 13ms/step - loss: 0.0158\n",
            "Epoch 30/30\n",
            "440/440 [==============================] - 6s 13ms/step - loss: 0.0159\n"
          ]
        }
      ],
      "source": [
        "history = model.fit(X_train, y_train, epochs=30, batch_size=1)"
      ]
    },
    {
      "cell_type": "markdown",
      "metadata": {
        "id": "AxzXIoBuJPp3"
      },
      "source": [
        "### 精度の確認\n",
        "\n",
        "データが同じ時しか比較できません。 Xの数が異なるので変数無しとは単純比較は不可能。"
      ]
    },
    {
      "cell_type": "code",
      "execution_count": null,
      "metadata": {
        "colab": {
          "base_uri": "https://localhost:8080/"
        },
        "id": "MBgiQFRmJPp4",
        "outputId": "5a21dd4f-a19e-4638-85db-2f413dd603bb"
      },
      "outputs": [
        {
          "output_type": "stream",
          "name": "stdout",
          "text": [
            "22/22 [==============================] - 0s 5ms/step - loss: 0.0275\n"
          ]
        },
        {
          "output_type": "execute_result",
          "data": {
            "text/plain": [
              "0.027461517602205276"
            ]
          },
          "metadata": {},
          "execution_count": 18
        }
      ],
      "source": [
        "model.evaluate(X_test,y_test,batch_size=1)"
      ]
    },
    {
      "cell_type": "markdown",
      "metadata": {
        "id": "-0fIR3MXJPp5"
      },
      "source": [
        "### 学習曲線の確認"
      ]
    },
    {
      "cell_type": "code",
      "execution_count": null,
      "metadata": {
        "colab": {
          "base_uri": "https://localhost:8080/",
          "height": 406
        },
        "id": "wB2nT7EPJPp5",
        "outputId": "825c788d-c80d-41bb-9dc0-90f870d883b2"
      },
      "outputs": [
        {
          "output_type": "execute_result",
          "data": {
            "text/plain": [
              "[<matplotlib.lines.Line2D at 0x7fbaee8ef350>]"
            ]
          },
          "metadata": {},
          "execution_count": 19
        },
        {
          "output_type": "display_data",
          "data": {
            "text/plain": [
              "<Figure size 864x432 with 1 Axes>"
            ],
            "image/png": "[encoded data removed]"
          },
          "metadata": {}
        }
      ],
      "source": [
        "sns.set(context=\"talk\")\n",
        "fig = plt.subplots(figsize=(12,6))\n",
        "plt.plot(history.history['loss'])"
      ]
    },
    {
      "cell_type": "markdown",
      "source": [
        "学習曲線があまりよくないですね。こういう場合は<font color=\"red\">callback</font>を使用するものです。\n",
        "\n",
        "①学習している時にそれ以上精度の向上が見込めない場合に学習を途中で打ち切る。\n",
        "\n",
        "②今まで重ねた学習の中から一番良いものを選択する。"
      ],
      "metadata": {
        "id": "hP0XfswlnE5Z"
      }
    },
    {
      "cell_type": "code",
      "source": [
        "from keras import callbacks                   # コールバック（1epoch終了毎に呼び出される）\n",
        "# モデルの学習\n",
        "history = model.fit(\n",
        "    X_train,\n",
        "    y_train,\n",
        "    batch_size=1,\n",
        "    epochs=300, \n",
        "    validation_data=(X_test,y_test),        # コールバックする際はvalidation dataも準備する。\n",
        "    callbacks=[\n",
        "        callbacks.EarlyStopping(monitor='val_loss',patience=10),\n",
        "        callbacks.ModelCheckpoint(filepath = './model/best_model.h5',monitor='', save_best_only=True)\n",
        "        ]\n",
        ")\n"
      ],
      "metadata": {
        "colab": {
          "base_uri": "https://localhost:8080/"
        },
        "id": "a01loUL5mpUB",
        "outputId": "9be91e65-9e66-473e-b094-c3f27b6b0038"
      },
      "execution_count": null,
      "outputs": [
        {
          "output_type": "stream",
          "name": "stdout",
          "text": [
            "Epoch 1/300\n",
            "436/440 [============================>.] - ETA: 0s - loss: 0.0156"
          ]
        },
        {
          "output_type": "stream",
          "name": "stderr",
          "text": [
            "WARNING:tensorflow:Can save best model only with  available, skipping.\n"
          ]
        },
        {
          "output_type": "stream",
          "name": "stdout",
          "text": [
            "\b\b\b\b\b\b\b\b\b\b\b\b\b\b\b\b\b\b\b\b\b\b\b\b\b\b\b\b\b\b\b\b\b\b\b\b\b\b\b\b\b\b\b\b\b\b\b\b\b\b\b\b\b\b\b\b\b\b\b\b\b\b\b\b\b\r440/440 [==============================] - 6s 13ms/step - loss: 0.0156 - val_loss: 0.0282\n",
            "Epoch 2/300\n",
            "439/440 [============================>.] - ETA: 0s - loss: 0.0157"
          ]
        },
        {
          "output_type": "stream",
          "name": "stderr",
          "text": [
            "WARNING:tensorflow:Can save best model only with  available, skipping.\n"
          ]
        },
        {
          "output_type": "stream",
          "name": "stdout",
          "text": [
            "\b\b\b\b\b\b\b\b\b\b\b\b\b\b\b\b\b\b\b\b\b\b\b\b\b\b\b\b\b\b\b\b\b\b\b\b\b\b\b\b\b\b\b\b\b\b\b\b\b\b\b\b\b\b\b\b\b\b\b\b\b\b\b\b\b\r440/440 [==============================] - 6s 13ms/step - loss: 0.0157 - val_loss: 0.0259\n",
            "Epoch 3/300\n",
            "439/440 [============================>.] - ETA: 0s - loss: 0.0157"
          ]
        },
        {
          "output_type": "stream",
          "name": "stderr",
          "text": [
            "WARNING:tensorflow:Can save best model only with  available, skipping.\n"
          ]
        },
        {
          "output_type": "stream",
          "name": "stdout",
          "text": [
            "\b\b\b\b\b\b\b\b\b\b\b\b\b\b\b\b\b\b\b\b\b\b\b\b\b\b\b\b\b\b\b\b\b\b\b\b\b\b\b\b\b\b\b\b\b\b\b\b\b\b\b\b\b\b\b\b\b\b\b\b\b\b\b\b\b\r440/440 [==============================] - 9s 19ms/step - loss: 0.0157 - val_loss: 0.0257\n",
            "Epoch 4/300\n",
            "438/440 [============================>.] - ETA: 0s - loss: 0.0155"
          ]
        },
        {
          "output_type": "stream",
          "name": "stderr",
          "text": [
            "WARNING:tensorflow:Can save best model only with  available, skipping.\n"
          ]
        },
        {
          "output_type": "stream",
          "name": "stdout",
          "text": [
            "\b\b\b\b\b\b\b\b\b\b\b\b\b\b\b\b\b\b\b\b\b\b\b\b\b\b\b\b\b\b\b\b\b\b\b\b\b\b\b\b\b\b\b\b\b\b\b\b\b\b\b\b\b\b\b\b\b\b\b\b\b\b\b\b\b\r440/440 [==============================] - 6s 14ms/step - loss: 0.0156 - val_loss: 0.0265\n",
            "Epoch 5/300\n",
            "437/440 [============================>.] - ETA: 0s - loss: 0.0156"
          ]
        },
        {
          "output_type": "stream",
          "name": "stderr",
          "text": [
            "WARNING:tensorflow:Can save best model only with  available, skipping.\n"
          ]
        },
        {
          "output_type": "stream",
          "name": "stdout",
          "text": [
            "\b\b\b\b\b\b\b\b\b\b\b\b\b\b\b\b\b\b\b\b\b\b\b\b\b\b\b\b\b\b\b\b\b\b\b\b\b\b\b\b\b\b\b\b\b\b\b\b\b\b\b\b\b\b\b\b\b\b\b\b\b\b\b\b\b\r440/440 [==============================] - 6s 13ms/step - loss: 0.0156 - val_loss: 0.0259\n",
            "Epoch 6/300\n",
            "437/440 [============================>.] - ETA: 0s - loss: 0.0155"
          ]
        },
        {
          "output_type": "stream",
          "name": "stderr",
          "text": [
            "WARNING:tensorflow:Can save best model only with  available, skipping.\n"
          ]
        },
        {
          "output_type": "stream",
          "name": "stdout",
          "text": [
            "\b\b\b\b\b\b\b\b\b\b\b\b\b\b\b\b\b\b\b\b\b\b\b\b\b\b\b\b\b\b\b\b\b\b\b\b\b\b\b\b\b\b\b\b\b\b\b\b\b\b\b\b\b\b\b\b\b\b\b\b\b\b\b\b\b\r440/440 [==============================] - 6s 13ms/step - loss: 0.0155 - val_loss: 0.0251\n",
            "Epoch 7/300\n",
            "436/440 [============================>.] - ETA: 0s - loss: 0.0154"
          ]
        },
        {
          "output_type": "stream",
          "name": "stderr",
          "text": [
            "WARNING:tensorflow:Can save best model only with  available, skipping.\n"
          ]
        },
        {
          "output_type": "stream",
          "name": "stdout",
          "text": [
            "\b\b\b\b\b\b\b\b\b\b\b\b\b\b\b\b\b\b\b\b\b\b\b\b\b\b\b\b\b\b\b\b\b\b\b\b\b\b\b\b\b\b\b\b\b\b\b\b\b\b\b\b\b\b\b\b\b\b\b\b\b\b\b\b\b\r440/440 [==============================] - 6s 14ms/step - loss: 0.0154 - val_loss: 0.0283\n",
            "Epoch 8/300\n",
            "438/440 [============================>.] - ETA: 0s - loss: 0.0155"
          ]
        },
        {
          "output_type": "stream",
          "name": "stderr",
          "text": [
            "WARNING:tensorflow:Can save best model only with  available, skipping.\n"
          ]
        },
        {
          "output_type": "stream",
          "name": "stdout",
          "text": [
            "\b\b\b\b\b\b\b\b\b\b\b\b\b\b\b\b\b\b\b\b\b\b\b\b\b\b\b\b\b\b\b\b\b\b\b\b\b\b\b\b\b\b\b\b\b\b\b\b\b\b\b\b\b\b\b\b\b\b\b\b\b\b\b\b\b\r440/440 [==============================] - 6s 13ms/step - loss: 0.0154 - val_loss: 0.0261\n",
            "Epoch 9/300\n",
            "440/440 [==============================] - ETA: 0s - loss: 0.0153"
          ]
        },
        {
          "output_type": "stream",
          "name": "stderr",
          "text": [
            "WARNING:tensorflow:Can save best model only with  available, skipping.\n"
          ]
        },
        {
          "output_type": "stream",
          "name": "stdout",
          "text": [
            "\b\b\b\b\b\b\b\b\b\b\b\b\b\b\b\b\b\b\b\b\b\b\b\b\b\b\b\b\b\b\b\b\b\b\b\b\b\b\b\b\b\b\b\b\b\b\b\b\b\b\b\b\b\b\b\b\b\b\b\b\b\b\b\b\b\r440/440 [==============================] - 6s 13ms/step - loss: 0.0153 - val_loss: 0.0256\n",
            "Epoch 10/300\n",
            "440/440 [==============================] - ETA: 0s - loss: 0.0155"
          ]
        },
        {
          "output_type": "stream",
          "name": "stderr",
          "text": [
            "WARNING:tensorflow:Can save best model only with  available, skipping.\n"
          ]
        },
        {
          "output_type": "stream",
          "name": "stdout",
          "text": [
            "\b\b\b\b\b\b\b\b\b\b\b\b\b\b\b\b\b\b\b\b\b\b\b\b\b\b\b\b\b\b\b\b\b\b\b\b\b\b\b\b\b\b\b\b\b\b\b\b\b\b\b\b\b\b\b\b\b\b\b\b\b\b\b\b\b\r440/440 [==============================] - 6s 13ms/step - loss: 0.0155 - val_loss: 0.0268\n",
            "Epoch 11/300\n",
            "438/440 [============================>.] - ETA: 0s - loss: 0.0153"
          ]
        },
        {
          "output_type": "stream",
          "name": "stderr",
          "text": [
            "WARNING:tensorflow:Can save best model only with  available, skipping.\n"
          ]
        },
        {
          "output_type": "stream",
          "name": "stdout",
          "text": [
            "\b\b\b\b\b\b\b\b\b\b\b\b\b\b\b\b\b\b\b\b\b\b\b\b\b\b\b\b\b\b\b\b\b\b\b\b\b\b\b\b\b\b\b\b\b\b\b\b\b\b\b\b\b\b\b\b\b\b\b\b\b\b\b\b\b\r440/440 [==============================] - 6s 13ms/step - loss: 0.0152 - val_loss: 0.0247\n",
            "Epoch 12/300\n",
            "439/440 [============================>.] - ETA: 0s - loss: 0.0154"
          ]
        },
        {
          "output_type": "stream",
          "name": "stderr",
          "text": [
            "WARNING:tensorflow:Can save best model only with  available, skipping.\n"
          ]
        },
        {
          "output_type": "stream",
          "name": "stdout",
          "text": [
            "\b\b\b\b\b\b\b\b\b\b\b\b\b\b\b\b\b\b\b\b\b\b\b\b\b\b\b\b\b\b\b\b\b\b\b\b\b\b\b\b\b\b\b\b\b\b\b\b\b\b\b\b\b\b\b\b\b\b\b\b\b\b\b\b\b\r440/440 [==============================] - 6s 13ms/step - loss: 0.0154 - val_loss: 0.0282\n",
            "Epoch 13/300\n",
            "437/440 [============================>.] - ETA: 0s - loss: 0.0152"
          ]
        },
        {
          "output_type": "stream",
          "name": "stderr",
          "text": [
            "WARNING:tensorflow:Can save best model only with  available, skipping.\n"
          ]
        },
        {
          "output_type": "stream",
          "name": "stdout",
          "text": [
            "\b\b\b\b\b\b\b\b\b\b\b\b\b\b\b\b\b\b\b\b\b\b\b\b\b\b\b\b\b\b\b\b\b\b\b\b\b\b\b\b\b\b\b\b\b\b\b\b\b\b\b\b\b\b\b\b\b\b\b\b\b\b\b\b\b\r440/440 [==============================] - 6s 13ms/step - loss: 0.0152 - val_loss: 0.0293\n",
            "Epoch 14/300\n",
            "437/440 [============================>.] - ETA: 0s - loss: 0.0152"
          ]
        },
        {
          "output_type": "stream",
          "name": "stderr",
          "text": [
            "WARNING:tensorflow:Can save best model only with  available, skipping.\n"
          ]
        },
        {
          "output_type": "stream",
          "name": "stdout",
          "text": [
            "\b\b\b\b\b\b\b\b\b\b\b\b\b\b\b\b\b\b\b\b\b\b\b\b\b\b\b\b\b\b\b\b\b\b\b\b\b\b\b\b\b\b\b\b\b\b\b\b\b\b\b\b\b\b\b\b\b\b\b\b\b\b\b\b\b\r440/440 [==============================] - 6s 13ms/step - loss: 0.0152 - val_loss: 0.0278\n",
            "Epoch 15/300\n",
            "440/440 [==============================] - ETA: 0s - loss: 0.0151"
          ]
        },
        {
          "output_type": "stream",
          "name": "stderr",
          "text": [
            "WARNING:tensorflow:Can save best model only with  available, skipping.\n"
          ]
        },
        {
          "output_type": "stream",
          "name": "stdout",
          "text": [
            "\b\b\b\b\b\b\b\b\b\b\b\b\b\b\b\b\b\b\b\b\b\b\b\b\b\b\b\b\b\b\b\b\b\b\b\b\b\b\b\b\b\b\b\b\b\b\b\b\b\b\b\b\b\b\b\b\b\b\b\b\b\b\b\b\b\r440/440 [==============================] - 6s 13ms/step - loss: 0.0151 - val_loss: 0.0265\n",
            "Epoch 16/300\n",
            "439/440 [============================>.] - ETA: 0s - loss: 0.0151"
          ]
        },
        {
          "output_type": "stream",
          "name": "stderr",
          "text": [
            "WARNING:tensorflow:Can save best model only with  available, skipping.\n"
          ]
        },
        {
          "output_type": "stream",
          "name": "stdout",
          "text": [
            "\b\b\b\b\b\b\b\b\b\b\b\b\b\b\b\b\b\b\b\b\b\b\b\b\b\b\b\b\b\b\b\b\b\b\b\b\b\b\b\b\b\b\b\b\b\b\b\b\b\b\b\b\b\b\b\b\b\b\b\b\b\b\b\b\b\r440/440 [==============================] - 6s 13ms/step - loss: 0.0150 - val_loss: 0.0246\n",
            "Epoch 17/300\n",
            "440/440 [==============================] - ETA: 0s - loss: 0.0151"
          ]
        },
        {
          "output_type": "stream",
          "name": "stderr",
          "text": [
            "WARNING:tensorflow:Can save best model only with  available, skipping.\n"
          ]
        },
        {
          "output_type": "stream",
          "name": "stdout",
          "text": [
            "\b\b\b\b\b\b\b\b\b\b\b\b\b\b\b\b\b\b\b\b\b\b\b\b\b\b\b\b\b\b\b\b\b\b\b\b\b\b\b\b\b\b\b\b\b\b\b\b\b\b\b\b\b\b\b\b\b\b\b\b\b\b\b\b\b\r440/440 [==============================] - 6s 13ms/step - loss: 0.0151 - val_loss: 0.0267\n",
            "Epoch 18/300\n",
            "440/440 [==============================] - ETA: 0s - loss: 0.0152"
          ]
        },
        {
          "output_type": "stream",
          "name": "stderr",
          "text": [
            "WARNING:tensorflow:Can save best model only with  available, skipping.\n"
          ]
        },
        {
          "output_type": "stream",
          "name": "stdout",
          "text": [
            "\b\b\b\b\b\b\b\b\b\b\b\b\b\b\b\b\b\b\b\b\b\b\b\b\b\b\b\b\b\b\b\b\b\b\b\b\b\b\b\b\b\b\b\b\b\b\b\b\b\b\b\b\b\b\b\b\b\b\b\b\b\b\b\b\b\r440/440 [==============================] - 7s 15ms/step - loss: 0.0152 - val_loss: 0.0247\n",
            "Epoch 19/300\n",
            "439/440 [============================>.] - ETA: 0s - loss: 0.0150"
          ]
        },
        {
          "output_type": "stream",
          "name": "stderr",
          "text": [
            "WARNING:tensorflow:Can save best model only with  available, skipping.\n"
          ]
        },
        {
          "output_type": "stream",
          "name": "stdout",
          "text": [
            "\b\b\b\b\b\b\b\b\b\b\b\b\b\b\b\b\b\b\b\b\b\b\b\b\b\b\b\b\b\b\b\b\b\b\b\b\b\b\b\b\b\b\b\b\b\b\b\b\b\b\b\b\b\b\b\b\b\b\b\b\b\b\b\b\b\r440/440 [==============================] - 6s 13ms/step - loss: 0.0152 - val_loss: 0.0251\n",
            "Epoch 20/300\n",
            "437/440 [============================>.] - ETA: 0s - loss: 0.0151"
          ]
        },
        {
          "output_type": "stream",
          "name": "stderr",
          "text": [
            "WARNING:tensorflow:Can save best model only with  available, skipping.\n"
          ]
        },
        {
          "output_type": "stream",
          "name": "stdout",
          "text": [
            "\b\b\b\b\b\b\b\b\b\b\b\b\b\b\b\b\b\b\b\b\b\b\b\b\b\b\b\b\b\b\b\b\b\b\b\b\b\b\b\b\b\b\b\b\b\b\b\b\b\b\b\b\b\b\b\b\b\b\b\b\b\b\b\b\b\r440/440 [==============================] - 6s 13ms/step - loss: 0.0151 - val_loss: 0.0246\n",
            "Epoch 21/300\n",
            "439/440 [============================>.] - ETA: 0s - loss: 0.0150"
          ]
        },
        {
          "output_type": "stream",
          "name": "stderr",
          "text": [
            "WARNING:tensorflow:Can save best model only with  available, skipping.\n"
          ]
        },
        {
          "output_type": "stream",
          "name": "stdout",
          "text": [
            "\b\b\b\b\b\b\b\b\b\b\b\b\b\b\b\b\b\b\b\b\b\b\b\b\b\b\b\b\b\b\b\b\b\b\b\b\b\b\b\b\b\b\b\b\b\b\b\b\b\b\b\b\b\b\b\b\b\b\b\b\b\b\b\b\b\r440/440 [==============================] - 6s 14ms/step - loss: 0.0150 - val_loss: 0.0275\n",
            "Epoch 22/300\n",
            "439/440 [============================>.] - ETA: 0s - loss: 0.0149"
          ]
        },
        {
          "output_type": "stream",
          "name": "stderr",
          "text": [
            "WARNING:tensorflow:Can save best model only with  available, skipping.\n"
          ]
        },
        {
          "output_type": "stream",
          "name": "stdout",
          "text": [
            "\b\b\b\b\b\b\b\b\b\b\b\b\b\b\b\b\b\b\b\b\b\b\b\b\b\b\b\b\b\b\b\b\b\b\b\b\b\b\b\b\b\b\b\b\b\b\b\b\b\b\b\b\b\b\b\b\b\b\b\b\b\b\b\b\b\r440/440 [==============================] - 6s 13ms/step - loss: 0.0149 - val_loss: 0.0246\n",
            "Epoch 23/300\n",
            "437/440 [============================>.] - ETA: 0s - loss: 0.0149"
          ]
        },
        {
          "output_type": "stream",
          "name": "stderr",
          "text": [
            "WARNING:tensorflow:Can save best model only with  available, skipping.\n"
          ]
        },
        {
          "output_type": "stream",
          "name": "stdout",
          "text": [
            "\b\b\b\b\b\b\b\b\b\b\b\b\b\b\b\b\b\b\b\b\b\b\b\b\b\b\b\b\b\b\b\b\b\b\b\b\b\b\b\b\b\b\b\b\b\b\b\b\b\b\b\b\b\b\b\b\b\b\b\b\b\b\b\b\b\r440/440 [==============================] - 6s 13ms/step - loss: 0.0148 - val_loss: 0.0288\n",
            "Epoch 24/300\n",
            "436/440 [============================>.] - ETA: 0s - loss: 0.0151"
          ]
        },
        {
          "output_type": "stream",
          "name": "stderr",
          "text": [
            "WARNING:tensorflow:Can save best model only with  available, skipping.\n"
          ]
        },
        {
          "output_type": "stream",
          "name": "stdout",
          "text": [
            "\b\b\b\b\b\b\b\b\b\b\b\b\b\b\b\b\b\b\b\b\b\b\b\b\b\b\b\b\b\b\b\b\b\b\b\b\b\b\b\b\b\b\b\b\b\b\b\b\b\b\b\b\b\b\b\b\b\b\b\b\b\b\b\b\b\r440/440 [==============================] - 6s 13ms/step - loss: 0.0151 - val_loss: 0.0234\n",
            "Epoch 25/300\n",
            "440/440 [==============================] - ETA: 0s - loss: 0.0148"
          ]
        },
        {
          "output_type": "stream",
          "name": "stderr",
          "text": [
            "WARNING:tensorflow:Can save best model only with  available, skipping.\n"
          ]
        },
        {
          "output_type": "stream",
          "name": "stdout",
          "text": [
            "\b\b\b\b\b\b\b\b\b\b\b\b\b\b\b\b\b\b\b\b\b\b\b\b\b\b\b\b\b\b\b\b\b\b\b\b\b\b\b\b\b\b\b\b\b\b\b\b\b\b\b\b\b\b\b\b\b\b\b\b\b\b\b\b\b\r440/440 [==============================] - 6s 13ms/step - loss: 0.0148 - val_loss: 0.0271\n",
            "Epoch 26/300\n",
            "439/440 [============================>.] - ETA: 0s - loss: 0.0149"
          ]
        },
        {
          "output_type": "stream",
          "name": "stderr",
          "text": [
            "WARNING:tensorflow:Can save best model only with  available, skipping.\n"
          ]
        },
        {
          "output_type": "stream",
          "name": "stdout",
          "text": [
            "\b\b\b\b\b\b\b\b\b\b\b\b\b\b\b\b\b\b\b\b\b\b\b\b\b\b\b\b\b\b\b\b\b\b\b\b\b\b\b\b\b\b\b\b\b\b\b\b\b\b\b\b\b\b\b\b\b\b\b\b\b\b\b\b\b\r440/440 [==============================] - 6s 14ms/step - loss: 0.0149 - val_loss: 0.0283\n",
            "Epoch 27/300\n",
            "436/440 [============================>.] - ETA: 0s - loss: 0.0147"
          ]
        },
        {
          "output_type": "stream",
          "name": "stderr",
          "text": [
            "WARNING:tensorflow:Can save best model only with  available, skipping.\n"
          ]
        },
        {
          "output_type": "stream",
          "name": "stdout",
          "text": [
            "\b\b\b\b\b\b\b\b\b\b\b\b\b\b\b\b\b\b\b\b\b\b\b\b\b\b\b\b\b\b\b\b\b\b\b\b\b\b\b\b\b\b\b\b\b\b\b\b\b\b\b\b\b\b\b\b\b\b\b\b\b\b\b\b\b\r440/440 [==============================] - 6s 14ms/step - loss: 0.0148 - val_loss: 0.0300\n",
            "Epoch 28/300\n",
            "440/440 [==============================] - ETA: 0s - loss: 0.0150"
          ]
        },
        {
          "output_type": "stream",
          "name": "stderr",
          "text": [
            "WARNING:tensorflow:Can save best model only with  available, skipping.\n"
          ]
        },
        {
          "output_type": "stream",
          "name": "stdout",
          "text": [
            "\b\b\b\b\b\b\b\b\b\b\b\b\b\b\b\b\b\b\b\b\b\b\b\b\b\b\b\b\b\b\b\b\b\b\b\b\b\b\b\b\b\b\b\b\b\b\b\b\b\b\b\b\b\b\b\b\b\b\b\b\b\b\b\b\b\r440/440 [==============================] - 6s 14ms/step - loss: 0.0150 - val_loss: 0.0229\n",
            "Epoch 29/300\n",
            "438/440 [============================>.] - ETA: 0s - loss: 0.0150"
          ]
        },
        {
          "output_type": "stream",
          "name": "stderr",
          "text": [
            "WARNING:tensorflow:Can save best model only with  available, skipping.\n"
          ]
        },
        {
          "output_type": "stream",
          "name": "stdout",
          "text": [
            "\b\b\b\b\b\b\b\b\b\b\b\b\b\b\b\b\b\b\b\b\b\b\b\b\b\b\b\b\b\b\b\b\b\b\b\b\b\b\b\b\b\b\b\b\b\b\b\b\b\b\b\b\b\b\b\b\b\b\b\b\b\b\b\b\b\r440/440 [==============================] - 8s 18ms/step - loss: 0.0150 - val_loss: 0.0268\n",
            "Epoch 30/300\n",
            "439/440 [============================>.] - ETA: 0s - loss: 0.0149"
          ]
        },
        {
          "output_type": "stream",
          "name": "stderr",
          "text": [
            "WARNING:tensorflow:Can save best model only with  available, skipping.\n"
          ]
        },
        {
          "output_type": "stream",
          "name": "stdout",
          "text": [
            "\b\b\b\b\b\b\b\b\b\b\b\b\b\b\b\b\b\b\b\b\b\b\b\b\b\b\b\b\b\b\b\b\b\b\b\b\b\b\b\b\b\b\b\b\b\b\b\b\b\b\b\b\b\b\b\b\b\b\b\b\b\b\b\b\b\r440/440 [==============================] - 12s 27ms/step - loss: 0.0149 - val_loss: 0.0280\n",
            "Epoch 31/300\n",
            "440/440 [==============================] - ETA: 0s - loss: 0.0147"
          ]
        },
        {
          "output_type": "stream",
          "name": "stderr",
          "text": [
            "WARNING:tensorflow:Can save best model only with  available, skipping.\n"
          ]
        },
        {
          "output_type": "stream",
          "name": "stdout",
          "text": [
            "\b\b\b\b\b\b\b\b\b\b\b\b\b\b\b\b\b\b\b\b\b\b\b\b\b\b\b\b\b\b\b\b\b\b\b\b\b\b\b\b\b\b\b\b\b\b\b\b\b\b\b\b\b\b\b\b\b\b\b\b\b\b\b\b\b\r440/440 [==============================] - 6s 14ms/step - loss: 0.0147 - val_loss: 0.0284\n",
            "Epoch 32/300\n",
            "440/440 [==============================] - ETA: 0s - loss: 0.0151"
          ]
        },
        {
          "output_type": "stream",
          "name": "stderr",
          "text": [
            "WARNING:tensorflow:Can save best model only with  available, skipping.\n"
          ]
        },
        {
          "output_type": "stream",
          "name": "stdout",
          "text": [
            "\b\b\b\b\b\b\b\b\b\b\b\b\b\b\b\b\b\b\b\b\b\b\b\b\b\b\b\b\b\b\b\b\b\b\b\b\b\b\b\b\b\b\b\b\b\b\b\b\b\b\b\b\b\b\b\b\b\b\b\b\b\b\b\b\b\r440/440 [==============================] - 6s 13ms/step - loss: 0.0151 - val_loss: 0.0275\n",
            "Epoch 33/300\n",
            "436/440 [============================>.] - ETA: 0s - loss: 0.0148"
          ]
        },
        {
          "output_type": "stream",
          "name": "stderr",
          "text": [
            "WARNING:tensorflow:Can save best model only with  available, skipping.\n"
          ]
        },
        {
          "output_type": "stream",
          "name": "stdout",
          "text": [
            "\b\b\b\b\b\b\b\b\b\b\b\b\b\b\b\b\b\b\b\b\b\b\b\b\b\b\b\b\b\b\b\b\b\b\b\b\b\b\b\b\b\b\b\b\b\b\b\b\b\b\b\b\b\b\b\b\b\b\b\b\b\b\b\b\b\r440/440 [==============================] - 6s 13ms/step - loss: 0.0147 - val_loss: 0.0288\n",
            "Epoch 34/300\n",
            "438/440 [============================>.] - ETA: 0s - loss: 0.0146"
          ]
        },
        {
          "output_type": "stream",
          "name": "stderr",
          "text": [
            "WARNING:tensorflow:Can save best model only with  available, skipping.\n"
          ]
        },
        {
          "output_type": "stream",
          "name": "stdout",
          "text": [
            "\b\b\b\b\b\b\b\b\b\b\b\b\b\b\b\b\b\b\b\b\b\b\b\b\b\b\b\b\b\b\b\b\b\b\b\b\b\b\b\b\b\b\b\b\b\b\b\b\b\b\b\b\b\b\b\b\b\b\b\b\b\b\b\b\b\r440/440 [==============================] - 6s 13ms/step - loss: 0.0146 - val_loss: 0.0263\n",
            "Epoch 35/300\n",
            "438/440 [============================>.] - ETA: 0s - loss: 0.0146"
          ]
        },
        {
          "output_type": "stream",
          "name": "stderr",
          "text": [
            "WARNING:tensorflow:Can save best model only with  available, skipping.\n"
          ]
        },
        {
          "output_type": "stream",
          "name": "stdout",
          "text": [
            "\b\b\b\b\b\b\b\b\b\b\b\b\b\b\b\b\b\b\b\b\b\b\b\b\b\b\b\b\b\b\b\b\b\b\b\b\b\b\b\b\b\b\b\b\b\b\b\b\b\b\b\b\b\b\b\b\b\b\b\b\b\b\b\b\b\r440/440 [==============================] - 6s 13ms/step - loss: 0.0146 - val_loss: 0.0306\n",
            "Epoch 36/300\n",
            "439/440 [============================>.] - ETA: 0s - loss: 0.0147"
          ]
        },
        {
          "output_type": "stream",
          "name": "stderr",
          "text": [
            "WARNING:tensorflow:Can save best model only with  available, skipping.\n"
          ]
        },
        {
          "output_type": "stream",
          "name": "stdout",
          "text": [
            "\b\b\b\b\b\b\b\b\b\b\b\b\b\b\b\b\b\b\b\b\b\b\b\b\b\b\b\b\b\b\b\b\b\b\b\b\b\b\b\b\b\b\b\b\b\b\b\b\b\b\b\b\b\b\b\b\b\b\b\b\b\b\b\b\b\r440/440 [==============================] - 8s 17ms/step - loss: 0.0147 - val_loss: 0.0284\n",
            "Epoch 37/300\n",
            "437/440 [============================>.] - ETA: 0s - loss: 0.0146"
          ]
        },
        {
          "output_type": "stream",
          "name": "stderr",
          "text": [
            "WARNING:tensorflow:Can save best model only with  available, skipping.\n"
          ]
        },
        {
          "output_type": "stream",
          "name": "stdout",
          "text": [
            "\b\b\b\b\b\b\b\b\b\b\b\b\b\b\b\b\b\b\b\b\b\b\b\b\b\b\b\b\b\b\b\b\b\b\b\b\b\b\b\b\b\b\b\b\b\b\b\b\b\b\b\b\b\b\b\b\b\b\b\b\b\b\b\b\b\r440/440 [==============================] - 6s 14ms/step - loss: 0.0145 - val_loss: 0.0272\n",
            "Epoch 38/300\n",
            "440/440 [==============================] - ETA: 0s - loss: 0.0148"
          ]
        },
        {
          "output_type": "stream",
          "name": "stderr",
          "text": [
            "WARNING:tensorflow:Can save best model only with  available, skipping.\n"
          ]
        },
        {
          "output_type": "stream",
          "name": "stdout",
          "text": [
            "\b\b\b\b\b\b\b\b\b\b\b\b\b\b\b\b\b\b\b\b\b\b\b\b\b\b\b\b\b\b\b\b\b\b\b\b\b\b\b\b\b\b\b\b\b\b\b\b\b\b\b\b\b\b\b\b\b\b\b\b\b\b\b\b\b\r440/440 [==============================] - 6s 13ms/step - loss: 0.0148 - val_loss: 0.0275\n"
          ]
        }
      ]
    },
    {
      "cell_type": "code",
      "source": [
        "X_train\n",
        "# X_test"
      ],
      "metadata": {
        "colab": {
          "base_uri": "https://localhost:8080/"
        },
        "id": "l_wcwMrrm1Tm",
        "outputId": "f1e5dd9b-5bf7-45b8-ce7e-6bdb48dc7252"
      },
      "execution_count": null,
      "outputs": [
        {
          "output_type": "execute_result",
          "data": {
            "text/plain": [
              "array([[[0.1321499 , 0.        , 0.66506795],\n",
              "        [0.18244576, 0.00807754, 0.63189448],\n",
              "        [0.09467456, 0.02100162, 0.5059952 ],\n",
              "        ...,\n",
              "        [0.85009862, 0.12439418, 0.3057554 ],\n",
              "        [0.87968442, 0.02100162, 0.38968825],\n",
              "        [0.99704142, 0.00323102, 0.90047962]],\n",
              "\n",
              "       [[0.18244576, 0.00807754, 0.63189448],\n",
              "        [0.09467456, 0.02100162, 0.5059952 ],\n",
              "        [0.22781065, 0.        , 0.54556355],\n",
              "        ...,\n",
              "        [0.87968442, 0.02100162, 0.38968825],\n",
              "        [0.99704142, 0.00323102, 0.90047962],\n",
              "        [0.92751479, 0.0371567 , 0.46402878]],\n",
              "\n",
              "       [[0.09467456, 0.02100162, 0.5059952 ],\n",
              "        [0.22781065, 0.        , 0.54556355],\n",
              "        [0.24112426, 0.        , 0.5647482 ],\n",
              "        ...,\n",
              "        [0.99704142, 0.00323102, 0.90047962],\n",
              "        [0.92751479, 0.0371567 , 0.46402878],\n",
              "        [0.95808679, 0.        , 0.65107914]],\n",
              "\n",
              "       ...,\n",
              "\n",
              "       [[0.6913215 , 0.        , 0.73381295],\n",
              "        [0.65927022, 0.04846527, 0.63908873],\n",
              "        [0.68491124, 0.02746365, 0.38848921],\n",
              "        ...,\n",
              "        [0.32001972, 0.04846527, 0.32973621],\n",
              "        [0.37031558, 0.00161551, 0.44604317],\n",
              "        [0.3683432 , 0.05815832, 0.16666667]],\n",
              "\n",
              "       [[0.65927022, 0.04846527, 0.63908873],\n",
              "        [0.68491124, 0.02746365, 0.38848921],\n",
              "        [0.7209073 , 0.14862682, 0.49160671],\n",
              "        ...,\n",
              "        [0.37031558, 0.00161551, 0.44604317],\n",
              "        [0.3683432 , 0.05815832, 0.16666667],\n",
              "        [0.13560158, 0.0726979 , 0.23021583]],\n",
              "\n",
              "       [[0.68491124, 0.02746365, 0.38848921],\n",
              "        [0.7209073 , 0.14862682, 0.49160671],\n",
              "        [0.59812623, 0.20193861, 0.06594724],\n",
              "        ...,\n",
              "        [0.3683432 , 0.05815832, 0.16666667],\n",
              "        [0.13560158, 0.0726979 , 0.23021583],\n",
              "        [0.2357002 , 0.01130856, 0.41366906]]])"
            ]
          },
          "metadata": {},
          "execution_count": 16
        }
      ]
    },
    {
      "cell_type": "markdown",
      "metadata": {
        "id": "IO3KRSzZJPp6"
      },
      "source": [
        "### 予測"
      ]
    },
    {
      "cell_type": "markdown",
      "source": [
        "　黒が本物の線。\n",
        "　青が学習済みの予測した線、\n",
        "　赤が見学習の予測済みの線、\n",
        "　緑が未来予測の線"
      ],
      "metadata": {
        "id": "XwotQZ4ZOSPp"
      }
    },
    {
      "cell_type": "code",
      "execution_count": null,
      "metadata": {
        "colab": {
          "base_uri": "https://localhost:8080/",
          "height": 1000
        },
        "id": "t-gaNJnVJPp6",
        "outputId": "169d7932-07fc-487e-bbe0-a6c5a385aaf8"
      },
      "outputs": [
        {
          "output_type": "stream",
          "name": "stdout",
          "text": [
            "14/14 [==============================] - 0s 7ms/step\n",
            "1/1 [==============================] - 0s 24ms/step\n",
            "1/1 [==============================] - 0s 38ms/step\n",
            "1/1 [==============================] - 0s 32ms/step\n",
            "1/1 [==============================] - 0s 30ms/step\n",
            "1/1 [==============================] - 0s 37ms/step\n",
            "1/1 [==============================] - 0s 31ms/step\n",
            "1/1 [==============================] - 0s 37ms/step\n",
            "1/1 [==============================] - 0s 33ms/step\n",
            "1/1 [==============================] - 0s 43ms/step\n",
            "1/1 [==============================] - 0s 34ms/step\n",
            "1/1 [==============================] - 0s 35ms/step\n",
            "1/1 [==============================] - 0s 34ms/step\n",
            "1/1 [==============================] - 0s 37ms/step\n",
            "1/1 [==============================] - 0s 31ms/step\n",
            "1/1 [==============================] - 0s 31ms/step\n",
            "1/1 [==============================] - 0s 38ms/step\n",
            "1/1 [==============================] - 0s 33ms/step\n",
            "1/1 [==============================] - 0s 35ms/step\n",
            "1/1 [==============================] - 0s 34ms/step\n",
            "1/1 [==============================] - 0s 33ms/step\n",
            "1/1 [==============================] - 0s 35ms/step\n",
            "1/1 [==============================] - 0s 31ms/step\n",
            "1/1 [==============================] - 0s 31ms/step\n",
            "1/1 [==============================] - 0s 31ms/step\n",
            "1/1 [==============================] - 0s 32ms/step\n",
            "1/1 [==============================] - 0s 35ms/step\n",
            "1/1 [==============================] - 0s 33ms/step\n",
            "1/1 [==============================] - 0s 33ms/step\n",
            "1/1 [==============================] - 0s 35ms/step\n",
            "1/1 [==============================] - 0s 35ms/step\n",
            "1/1 [==============================] - 0s 34ms/step\n",
            "1/1 [==============================] - 0s 34ms/step\n",
            "1/1 [==============================] - 0s 33ms/step\n",
            "1/1 [==============================] - 0s 34ms/step\n",
            "1/1 [==============================] - 0s 33ms/step\n",
            "1/1 [==============================] - 0s 34ms/step\n",
            "1/1 [==============================] - 0s 31ms/step\n",
            "1/1 [==============================] - 0s 34ms/step\n",
            "1/1 [==============================] - 0s 31ms/step\n",
            "1/1 [==============================] - 0s 31ms/step\n",
            "1/1 [==============================] - 0s 32ms/step\n",
            "1/1 [==============================] - 0s 35ms/step\n",
            "1/1 [==============================] - 0s 38ms/step\n",
            "1/1 [==============================] - 0s 35ms/step\n",
            "1/1 [==============================] - 0s 36ms/step\n",
            "1/1 [==============================] - 0s 35ms/step\n",
            "1/1 [==============================] - 0s 32ms/step\n",
            "1/1 [==============================] - 0s 36ms/step\n",
            "1/1 [==============================] - 0s 41ms/step\n",
            "1/1 [==============================] - 0s 36ms/step\n",
            "1/1 [==============================] - 0s 37ms/step\n"
          ]
        },
        {
          "output_type": "execute_result",
          "data": {
            "text/plain": [
              "[<matplotlib.lines.Line2D at 0x7fbaee7a9a50>]"
            ]
          },
          "metadata": {},
          "execution_count": 20
        },
        {
          "output_type": "display_data",
          "data": {
            "text/plain": [
              "<Figure size 1440x864 with 1 Axes>"
            ],
            "image/png": "[encoded data removed]"
          },
          "metadata": {}
        }
      ],
      "source": [
        "sns.set(context=\"poster\",font=\"Hiragino Maru Gothic Pro\")\n",
        "fig = plt.subplots(figsize=(20,12))\n",
        "\n",
        "#正解のプロット\n",
        "df_week = pd.DataFrame(scaler.inverse_transform(df_week_scale),\n",
        "                       index=df_week.index,columns=df_week.columns)\n",
        "plt.plot(df_week[\"2017\":][\"平均気温(℃)\"],color=\"black\")\n",
        "\n",
        "#学習用データ予測結果のプロット\n",
        "df_week_train_pred = pd.DataFrame(scaler.inverse_transform(model.predict(X_train)),\n",
        "                                  index=df_week_scale_train.index[look_back:],columns=df_week_scale_train.columns)\n",
        "plt.plot(df_week_train_pred[\"2017\":][\"平均気温(℃)\"],color=\"blue\")\n",
        "\n",
        "#評価用データ予測結果のプロット\n",
        "df_week_test_pred = pd.DataFrame(scaler.inverse_transform(model.predict(X_test)),\n",
        "                                 index=df_week_scale_test.index[look_back:],columns=df_week_scale_test.columns)\n",
        "plt.plot(df_week_test_pred[\"2017\":][\"平均気温(℃)\"],color=\"red\")\n",
        "\n",
        "#未来予測\n",
        "future_steps = 50\n",
        "X_future = [df_week_scale_test[-look_back:].values.tolist()]\n",
        "y_future_list = []\n",
        "\n",
        "for step in range(future_steps):\n",
        "    y_future = model.predict(X_future)\n",
        "    y_future_list.append(y_future[0])\n",
        "    X_future = [X_future[0][1:] + y_future.tolist()]\n",
        "    \n",
        "df_week_future = pd.DataFrame(scaler.inverse_transform(y_future_list),\n",
        "                              index=pd.date_range('2020-01-01', periods=future_steps, freq='W'),columns=df_week.columns)\n",
        "plt.plot(df_week_future[\"2017\":][\"平均気温(℃)\"],color=\"green\")"
      ]
    },
    {
      "cell_type": "markdown",
      "source": [
        "そして「降水量の予測」も行ってみますか。⇒実際は上手く行きませんでした。そういうものです。"
      ],
      "metadata": {
        "id": "iZ77fXlGPKrn"
      }
    },
    {
      "cell_type": "code",
      "execution_count": null,
      "metadata": {
        "colab": {
          "base_uri": "https://localhost:8080/",
          "height": 1000
        },
        "id": "zUCXyULWJPp7",
        "outputId": "e6101114-8013-4faf-e26d-ef054aec5930"
      },
      "outputs": [
        {
          "output_type": "stream",
          "name": "stdout",
          "text": [
            "14/14 [==============================] - 0s 5ms/step\n",
            "1/1 [==============================] - 0s 21ms/step\n",
            "1/1 [==============================] - 0s 30ms/step\n",
            "1/1 [==============================] - 0s 30ms/step\n",
            "1/1 [==============================] - 0s 30ms/step\n",
            "1/1 [==============================] - 0s 30ms/step\n",
            "1/1 [==============================] - 0s 34ms/step\n",
            "1/1 [==============================] - 0s 34ms/step\n",
            "1/1 [==============================] - 0s 33ms/step\n",
            "1/1 [==============================] - 0s 36ms/step\n",
            "1/1 [==============================] - 0s 33ms/step\n",
            "1/1 [==============================] - 0s 30ms/step\n",
            "1/1 [==============================] - 0s 32ms/step\n",
            "1/1 [==============================] - 0s 29ms/step\n",
            "1/1 [==============================] - 0s 42ms/step\n",
            "1/1 [==============================] - 0s 31ms/step\n",
            "1/1 [==============================] - 0s 40ms/step\n",
            "1/1 [==============================] - 0s 35ms/step\n",
            "1/1 [==============================] - 0s 35ms/step\n",
            "1/1 [==============================] - 0s 30ms/step\n",
            "1/1 [==============================] - 0s 35ms/step\n",
            "1/1 [==============================] - 0s 35ms/step\n",
            "1/1 [==============================] - 0s 34ms/step\n",
            "1/1 [==============================] - 0s 30ms/step\n",
            "1/1 [==============================] - 0s 30ms/step\n",
            "1/1 [==============================] - 0s 32ms/step\n",
            "1/1 [==============================] - 0s 30ms/step\n",
            "1/1 [==============================] - 0s 31ms/step\n",
            "1/1 [==============================] - 0s 38ms/step\n",
            "1/1 [==============================] - 0s 31ms/step\n",
            "1/1 [==============================] - 0s 34ms/step\n",
            "1/1 [==============================] - 0s 32ms/step\n",
            "1/1 [==============================] - 0s 36ms/step\n",
            "1/1 [==============================] - 0s 38ms/step\n",
            "1/1 [==============================] - 0s 32ms/step\n",
            "1/1 [==============================] - 0s 34ms/step\n",
            "1/1 [==============================] - 0s 31ms/step\n",
            "1/1 [==============================] - 0s 29ms/step\n",
            "1/1 [==============================] - 0s 34ms/step\n",
            "1/1 [==============================] - 0s 35ms/step\n",
            "1/1 [==============================] - 0s 32ms/step\n",
            "1/1 [==============================] - 0s 31ms/step\n",
            "1/1 [==============================] - 0s 33ms/step\n",
            "1/1 [==============================] - 0s 33ms/step\n",
            "1/1 [==============================] - 0s 30ms/step\n",
            "1/1 [==============================] - 0s 34ms/step\n",
            "1/1 [==============================] - 0s 35ms/step\n",
            "1/1 [==============================] - 0s 33ms/step\n",
            "1/1 [==============================] - 0s 34ms/step\n",
            "1/1 [==============================] - 0s 33ms/step\n",
            "1/1 [==============================] - 0s 31ms/step\n",
            "1/1 [==============================] - 0s 32ms/step\n"
          ]
        },
        {
          "output_type": "execute_result",
          "data": {
            "text/plain": [
              "[<matplotlib.lines.Line2D at 0x7fbaefc6a0d0>]"
            ]
          },
          "metadata": {},
          "execution_count": 10
        },
        {
          "output_type": "display_data",
          "data": {
            "text/plain": [
              "<Figure size 1440x864 with 1 Axes>"
            ],
            "image/png": "[encoded data removed]"
          },
          "metadata": {}
        }
      ],
      "source": [
        "sns.set(context=\"poster\",font=\"Hiragino Maru Gothic Pro\")\n",
        "fig = plt.subplots(figsize=(20,12))\n",
        "\n",
        "#正解のプロット\n",
        "df_week = pd.DataFrame(scaler.inverse_transform(df_week_scale),\n",
        "                       index=df_week.index,columns=df_week.columns)\n",
        "plt.plot(df_week[\"2017\":][\"降水量の合計(mm)\"],color=\"black\")\n",
        "\n",
        "#学習用データ予測結果のプロット\n",
        "df_week_train_pred = pd.DataFrame(scaler.inverse_transform(model.predict(X_train)),\n",
        "                                  index=df_week_scale_train.index[look_back:],columns=df_week_scale_train.columns)\n",
        "plt.plot(df_week_train_pred[\"2017\":][\"降水量の合計(mm)\"],color=\"blue\")\n",
        "\n",
        "#評価用データ予測結果のプロット\n",
        "df_week_test_pred = pd.DataFrame(scaler.inverse_transform(model.predict(X_test)),\n",
        "                                 index=df_week_scale_test.index[look_back:],columns=df_week_scale_test.columns)\n",
        "plt.plot(df_week_test_pred[\"2017\":][\"降水量の合計(mm)\"],color=\"red\")\n",
        "\n",
        "#未来予測\n",
        "future_steps = 50\n",
        "X_future = [df_week_scale_test[-look_back:].values.tolist()]\n",
        "y_future_list = []\n",
        "\n",
        "for step in range(future_steps):\n",
        "    y_future = model.predict(X_future)\n",
        "    y_future_list.append(y_future[0])\n",
        "    X_future = [X_future[0][1:] + y_future.tolist()]\n",
        "    \n",
        "df_week_future = pd.DataFrame(scaler.inverse_transform(y_future_list),\n",
        "                              index=pd.date_range('2020-01-01', periods=future_steps, freq='W'),columns=df_week.columns)\n",
        "plt.plot(df_week_future[\"2017\":][\"降水量の合計(mm)\"],color=\"green\")"
      ]
    },
    {
      "cell_type": "markdown",
      "source": [
        "そして上手く行かなかったら、ニューラルネットワークの色々な変数をいじってみましょう。"
      ],
      "metadata": {
        "id": "aR3Xk-DWPo2Q"
      }
    },
    {
      "cell_type": "markdown",
      "source": [
        "### rmse算出"
      ],
      "metadata": {
        "id": "XU2-Aa-AI6EQ"
      }
    },
    {
      "cell_type": "markdown",
      "source": [
        "面倒ですが、ここまで来たらrmse算出しますか。"
      ],
      "metadata": {
        "id": "scKX8kdSI8Zf"
      }
    },
    {
      "cell_type": "code",
      "source": [
        "df_week.head(10)"
      ],
      "metadata": {
        "id": "TGocp6o9sROW",
        "outputId": "e9b671da-ce79-493a-a146-434d563dbb01",
        "colab": {
          "base_uri": "https://localhost:8080/",
          "height": 394
        }
      },
      "execution_count": null,
      "outputs": [
        {
          "output_type": "execute_result",
          "data": {
            "text/plain": [
              "              平均気温(℃)  降水量の合計(mm)  日照時間(時間)\n",
              "年月日                                        \n",
              "2010-01-03   5.600000    0.000000  8.266667\n",
              "2010-01-10   7.057143    0.357143  7.871429\n",
              "2010-01-17   4.514286    0.928571  6.371429\n",
              "2010-01-24   8.371429    0.000000  6.842857\n",
              "2010-01-31   8.757143    0.000000  7.071429\n",
              "2010-02-07   4.242857    4.785714  6.500000\n",
              "2010-02-14   5.914286    1.785714  3.085714\n",
              "2010-02-21   4.942857    2.785714  2.871429\n",
              "2010-02-28  10.900000    7.071429  4.442857\n",
              "2010-03-07   8.628571    3.500000  2.671429"
            ],
            "text/html": [
              "\n",
              "  <div id=\"df-3fbd3162-9358-4275-8f73-1bb688ca0693\">\n",
              "    <div class=\"colab-df-container\">\n",
              "      <div>\n",
              "<style scoped>\n",
              "    .dataframe tbody tr th:only-of-type {\n",
              "        vertical-align: middle;\n",
              "    }\n",
              "\n",
              "    .dataframe tbody tr th {\n",
              "        vertical-align: top;\n",
              "    }\n",
              "\n",
              "    .dataframe thead th {\n",
              "        text-align: right;\n",
              "    }\n",
              "</style>\n",
              "<table border=\"1\" class=\"dataframe\">\n",
              "  <thead>\n",
              "    <tr style=\"text-align: right;\">\n",
              "      <th></th>\n",
              "      <th>平均気温(℃)</th>\n",
              "      <th>降水量の合計(mm)</th>\n",
              "      <th>日照時間(時間)</th>\n",
              "    </tr>\n",
              "    <tr>\n",
              "      <th>年月日</th>\n",
              "      <th></th>\n",
              "      <th></th>\n",
              "      <th></th>\n",
              "    </tr>\n",
              "  </thead>\n",
              "  <tbody>\n",
              "    <tr>\n",
              "      <th>2010-01-03</th>\n",
              "      <td>5.600000</td>\n",
              "      <td>0.000000</td>\n",
              "      <td>8.266667</td>\n",
              "    </tr>\n",
              "    <tr>\n",
              "      <th>2010-01-10</th>\n",
              "      <td>7.057143</td>\n",
              "      <td>0.357143</td>\n",
              "      <td>7.871429</td>\n",
              "    </tr>\n",
              "    <tr>\n",
              "      <th>2010-01-17</th>\n",
              "      <td>4.514286</td>\n",
              "      <td>0.928571</td>\n",
              "      <td>6.371429</td>\n",
              "    </tr>\n",
              "    <tr>\n",
              "      <th>2010-01-24</th>\n",
              "      <td>8.371429</td>\n",
              "      <td>0.000000</td>\n",
              "      <td>6.842857</td>\n",
              "    </tr>\n",
              "    <tr>\n",
              "      <th>2010-01-31</th>\n",
              "      <td>8.757143</td>\n",
              "      <td>0.000000</td>\n",
              "      <td>7.071429</td>\n",
              "    </tr>\n",
              "    <tr>\n",
              "      <th>2010-02-07</th>\n",
              "      <td>4.242857</td>\n",
              "      <td>4.785714</td>\n",
              "      <td>6.500000</td>\n",
              "    </tr>\n",
              "    <tr>\n",
              "      <th>2010-02-14</th>\n",
              "      <td>5.914286</td>\n",
              "      <td>1.785714</td>\n",
              "      <td>3.085714</td>\n",
              "    </tr>\n",
              "    <tr>\n",
              "      <th>2010-02-21</th>\n",
              "      <td>4.942857</td>\n",
              "      <td>2.785714</td>\n",
              "      <td>2.871429</td>\n",
              "    </tr>\n",
              "    <tr>\n",
              "      <th>2010-02-28</th>\n",
              "      <td>10.900000</td>\n",
              "      <td>7.071429</td>\n",
              "      <td>4.442857</td>\n",
              "    </tr>\n",
              "    <tr>\n",
              "      <th>2010-03-07</th>\n",
              "      <td>8.628571</td>\n",
              "      <td>3.500000</td>\n",
              "      <td>2.671429</td>\n",
              "    </tr>\n",
              "  </tbody>\n",
              "</table>\n",
              "</div>\n",
              "      <button class=\"colab-df-convert\" onclick=\"convertToInteractive('df-3fbd3162-9358-4275-8f73-1bb688ca0693')\"\n",
              "              title=\"Convert this dataframe to an interactive table.\"\n",
              "              style=\"display:none;\">\n",
              "        \n",
              "  <svg xmlns=\"http://www.w3.org/2000/svg\" height=\"24px\"viewBox=\"0 0 24 24\"\n",
              "       width=\"24px\">\n",
              "    <path d=\"M0 0h24v24H0V0z\" fill=\"none\"/>\n",
              "    <path d=\"M18.56 5.44l.94 2.06.94-2.06 2.06-.94-2.06-.94-.94-2.06-.94 2.06-2.06.94zm-11 1L8.5 8.5l.94-2.06 2.06-.94-2.06-.94L8.5 2.5l-.94 2.06-2.06.94zm10 10l.94 2.06.94-2.06 2.06-.94-2.06-.94-.94-2.06-.94 2.06-2.06.94z\"/><path d=\"M17.41 7.96l-1.37-1.37c-.4-.4-.92-.59-1.43-.59-.52 0-1.04.2-1.43.59L10.3 9.45l-7.72 7.72c-.78.78-.78 2.05 0 2.83L4 21.41c.39.39.9.59 1.41.59.51 0 1.02-.2 1.41-.59l7.78-7.78 2.81-2.81c.8-.78.8-2.07 0-2.86zM5.41 20L4 18.59l7.72-7.72 1.47 1.35L5.41 20z\"/>\n",
              "  </svg>\n",
              "      </button>\n",
              "      \n",
              "  <style>\n",
              "    .colab-df-container {\n",
              "      display:flex;\n",
              "      flex-wrap:wrap;\n",
              "      gap: 12px;\n",
              "    }\n",
              "\n",
              "    .colab-df-convert {\n",
              "      background-color: #E8F0FE;\n",
              "      border: none;\n",
              "      border-radius: 50%;\n",
              "      cursor: pointer;\n",
              "      display: none;\n",
              "      fill: #1967D2;\n",
              "      height: 32px;\n",
              "      padding: 0 0 0 0;\n",
              "      width: 32px;\n",
              "    }\n",
              "\n",
              "    .colab-df-convert:hover {\n",
              "      background-color: #E2EBFA;\n",
              "      box-shadow: 0px 1px 2px rgba(60, 64, 67, 0.3), 0px 1px 3px 1px rgba(60, 64, 67, 0.15);\n",
              "      fill: #174EA6;\n",
              "    }\n",
              "\n",
              "    [theme=dark] .colab-df-convert {\n",
              "      background-color: #3B4455;\n",
              "      fill: #D2E3FC;\n",
              "    }\n",
              "\n",
              "    [theme=dark] .colab-df-convert:hover {\n",
              "      background-color: #434B5C;\n",
              "      box-shadow: 0px 1px 3px 1px rgba(0, 0, 0, 0.15);\n",
              "      filter: drop-shadow(0px 1px 2px rgba(0, 0, 0, 0.3));\n",
              "      fill: #FFFFFF;\n",
              "    }\n",
              "  </style>\n",
              "\n",
              "      <script>\n",
              "        const buttonEl =\n",
              "          document.querySelector('#df-3fbd3162-9358-4275-8f73-1bb688ca0693 button.colab-df-convert');\n",
              "        buttonEl.style.display =\n",
              "          google.colab.kernel.accessAllowed ? 'block' : 'none';\n",
              "\n",
              "        async function convertToInteractive(key) {\n",
              "          const element = document.querySelector('#df-3fbd3162-9358-4275-8f73-1bb688ca0693');\n",
              "          const dataTable =\n",
              "            await google.colab.kernel.invokeFunction('convertToInteractive',\n",
              "                                                     [key], {});\n",
              "          if (!dataTable) return;\n",
              "\n",
              "          const docLinkHtml = 'Like what you see? Visit the ' +\n",
              "            '<a target=\"_blank\" href=https://colab.research.google.com/notebooks/data_table.ipynb>data table notebook</a>'\n",
              "            + ' to learn more about interactive tables.';\n",
              "          element.innerHTML = '';\n",
              "          dataTable['output_type'] = 'display_data';\n",
              "          await google.colab.output.renderOutput(dataTable, element);\n",
              "          const docLink = document.createElement('div');\n",
              "          docLink.innerHTML = docLinkHtml;\n",
              "          element.appendChild(docLink);\n",
              "        }\n",
              "      </script>\n",
              "    </div>\n",
              "  </div>\n",
              "  "
            ]
          },
          "metadata": {},
          "execution_count": 21
        }
      ]
    },
    {
      "cell_type": "markdown",
      "source": [
        "rmse用のデータを作成します。今回は\"2019-09-01\" <= 年月日 < \"2019-12-29\"までで。"
      ],
      "metadata": {
        "id": "oMw15a4_jQzC"
      }
    },
    {
      "cell_type": "code",
      "source": [
        "# 何行目から何行目までとかじゃない。datetimeで、2019-09-01から2019-12-29まで。\n",
        "#これは予測値\n",
        "df_week_test_pred2 = df_week_test_pred.query('\"2019-09-01\" <= 年月日 < \"2019-12-29\"')\n",
        "df_week_test_pred2"
      ],
      "metadata": {
        "id": "wUwXa3dwpuD3",
        "colab": {
          "base_uri": "https://localhost:8080/",
          "height": 614
        },
        "outputId": "5bf89dff-b55a-4fb3-ccc1-47d0265baa58"
      },
      "execution_count": null,
      "outputs": [
        {
          "output_type": "execute_result",
          "data": {
            "text/plain": [
              "              平均気温(℃)  降水量の合計(mm)  日照時間(時間)\n",
              "年月日                                        \n",
              "2019-09-01  26.105154    5.650876  5.213512\n",
              "2019-09-08  25.445349    7.090033  4.948630\n",
              "2019-09-15  24.766977    8.631776  4.898962\n",
              "2019-09-22  23.604704    9.566956  4.492909\n",
              "2019-09-29  22.923855    9.796398  4.492729\n",
              "2019-10-06  21.487631   10.278147  4.397624\n",
              "2019-10-13  19.845011    8.896468  4.335024\n",
              "2019-10-20  18.027832    5.870172  4.365109\n",
              "2019-10-27  16.210098    3.541753  4.896089\n",
              "2019-11-03  14.809795    1.678666  5.800701\n",
              "2019-11-10  14.281756    0.169207  6.109149\n",
              "2019-11-17  13.534850    0.291803  6.247111\n",
              "2019-11-24  12.443300    1.093989  6.231083\n",
              "2019-12-01  11.069795    1.336495  6.516740\n",
              "2019-12-08   9.579788    1.109430  6.595390\n",
              "2019-12-15   8.613335    1.172571  6.783706\n",
              "2019-12-22   7.788161    1.228040  6.825720"
            ],
            "text/html": [
              "\n",
              "  <div id=\"df-5783f469-e33a-4710-99dd-ad7b84a54534\">\n",
              "    <div class=\"colab-df-container\">\n",
              "      <div>\n",
              "<style scoped>\n",
              "    .dataframe tbody tr th:only-of-type {\n",
              "        vertical-align: middle;\n",
              "    }\n",
              "\n",
              "    .dataframe tbody tr th {\n",
              "        vertical-align: top;\n",
              "    }\n",
              "\n",
              "    .dataframe thead th {\n",
              "        text-align: right;\n",
              "    }\n",
              "</style>\n",
              "<table border=\"1\" class=\"dataframe\">\n",
              "  <thead>\n",
              "    <tr style=\"text-align: right;\">\n",
              "      <th></th>\n",
              "      <th>平均気温(℃)</th>\n",
              "      <th>降水量の合計(mm)</th>\n",
              "      <th>日照時間(時間)</th>\n",
              "    </tr>\n",
              "    <tr>\n",
              "      <th>年月日</th>\n",
              "      <th></th>\n",
              "      <th></th>\n",
              "      <th></th>\n",
              "    </tr>\n",
              "  </thead>\n",
              "  <tbody>\n",
              "    <tr>\n",
              "      <th>2019-09-01</th>\n",
              "      <td>26.105154</td>\n",
              "      <td>5.650876</td>\n",
              "      <td>5.213512</td>\n",
              "    </tr>\n",
              "    <tr>\n",
              "      <th>2019-09-08</th>\n",
              "      <td>25.445349</td>\n",
              "      <td>7.090033</td>\n",
              "      <td>4.948630</td>\n",
              "    </tr>\n",
              "    <tr>\n",
              "      <th>2019-09-15</th>\n",
              "      <td>24.766977</td>\n",
              "      <td>8.631776</td>\n",
              "      <td>4.898962</td>\n",
              "    </tr>\n",
              "    <tr>\n",
              "      <th>2019-09-22</th>\n",
              "      <td>23.604704</td>\n",
              "      <td>9.566956</td>\n",
              "      <td>4.492909</td>\n",
              "    </tr>\n",
              "    <tr>\n",
              "      <th>2019-09-29</th>\n",
              "      <td>22.923855</td>\n",
              "      <td>9.796398</td>\n",
              "      <td>4.492729</td>\n",
              "    </tr>\n",
              "    <tr>\n",
              "      <th>2019-10-06</th>\n",
              "      <td>21.487631</td>\n",
              "      <td>10.278147</td>\n",
              "      <td>4.397624</td>\n",
              "    </tr>\n",
              "    <tr>\n",
              "      <th>2019-10-13</th>\n",
              "      <td>19.845011</td>\n",
              "      <td>8.896468</td>\n",
              "      <td>4.335024</td>\n",
              "    </tr>\n",
              "    <tr>\n",
              "      <th>2019-10-20</th>\n",
              "      <td>18.027832</td>\n",
              "      <td>5.870172</td>\n",
              "      <td>4.365109</td>\n",
              "    </tr>\n",
              "    <tr>\n",
              "      <th>2019-10-27</th>\n",
              "      <td>16.210098</td>\n",
              "      <td>3.541753</td>\n",
              "      <td>4.896089</td>\n",
              "    </tr>\n",
              "    <tr>\n",
              "      <th>2019-11-03</th>\n",
              "      <td>14.809795</td>\n",
              "      <td>1.678666</td>\n",
              "      <td>5.800701</td>\n",
              "    </tr>\n",
              "    <tr>\n",
              "      <th>2019-11-10</th>\n",
              "      <td>14.281756</td>\n",
              "      <td>0.169207</td>\n",
              "      <td>6.109149</td>\n",
              "    </tr>\n",
              "    <tr>\n",
              "      <th>2019-11-17</th>\n",
              "      <td>13.534850</td>\n",
              "      <td>0.291803</td>\n",
              "      <td>6.247111</td>\n",
              "    </tr>\n",
              "    <tr>\n",
              "      <th>2019-11-24</th>\n",
              "      <td>12.443300</td>\n",
              "      <td>1.093989</td>\n",
              "      <td>6.231083</td>\n",
              "    </tr>\n",
              "    <tr>\n",
              "      <th>2019-12-01</th>\n",
              "      <td>11.069795</td>\n",
              "      <td>1.336495</td>\n",
              "      <td>6.516740</td>\n",
              "    </tr>\n",
              "    <tr>\n",
              "      <th>2019-12-08</th>\n",
              "      <td>9.579788</td>\n",
              "      <td>1.109430</td>\n",
              "      <td>6.595390</td>\n",
              "    </tr>\n",
              "    <tr>\n",
              "      <th>2019-12-15</th>\n",
              "      <td>8.613335</td>\n",
              "      <td>1.172571</td>\n",
              "      <td>6.783706</td>\n",
              "    </tr>\n",
              "    <tr>\n",
              "      <th>2019-12-22</th>\n",
              "      <td>7.788161</td>\n",
              "      <td>1.228040</td>\n",
              "      <td>6.825720</td>\n",
              "    </tr>\n",
              "  </tbody>\n",
              "</table>\n",
              "</div>\n",
              "      <button class=\"colab-df-convert\" onclick=\"convertToInteractive('df-5783f469-e33a-4710-99dd-ad7b84a54534')\"\n",
              "              title=\"Convert this dataframe to an interactive table.\"\n",
              "              style=\"display:none;\">\n",
              "        \n",
              "  <svg xmlns=\"http://www.w3.org/2000/svg\" height=\"24px\"viewBox=\"0 0 24 24\"\n",
              "       width=\"24px\">\n",
              "    <path d=\"M0 0h24v24H0V0z\" fill=\"none\"/>\n",
              "    <path d=\"M18.56 5.44l.94 2.06.94-2.06 2.06-.94-2.06-.94-.94-2.06-.94 2.06-2.06.94zm-11 1L8.5 8.5l.94-2.06 2.06-.94-2.06-.94L8.5 2.5l-.94 2.06-2.06.94zm10 10l.94 2.06.94-2.06 2.06-.94-2.06-.94-.94-2.06-.94 2.06-2.06.94z\"/><path d=\"M17.41 7.96l-1.37-1.37c-.4-.4-.92-.59-1.43-.59-.52 0-1.04.2-1.43.59L10.3 9.45l-7.72 7.72c-.78.78-.78 2.05 0 2.83L4 21.41c.39.39.9.59 1.41.59.51 0 1.02-.2 1.41-.59l7.78-7.78 2.81-2.81c.8-.78.8-2.07 0-2.86zM5.41 20L4 18.59l7.72-7.72 1.47 1.35L5.41 20z\"/>\n",
              "  </svg>\n",
              "      </button>\n",
              "      \n",
              "  <style>\n",
              "    .colab-df-container {\n",
              "      display:flex;\n",
              "      flex-wrap:wrap;\n",
              "      gap: 12px;\n",
              "    }\n",
              "\n",
              "    .colab-df-convert {\n",
              "      background-color: #E8F0FE;\n",
              "      border: none;\n",
              "      border-radius: 50%;\n",
              "      cursor: pointer;\n",
              "      display: none;\n",
              "      fill: #1967D2;\n",
              "      height: 32px;\n",
              "      padding: 0 0 0 0;\n",
              "      width: 32px;\n",
              "    }\n",
              "\n",
              "    .colab-df-convert:hover {\n",
              "      background-color: #E2EBFA;\n",
              "      box-shadow: 0px 1px 2px rgba(60, 64, 67, 0.3), 0px 1px 3px 1px rgba(60, 64, 67, 0.15);\n",
              "      fill: #174EA6;\n",
              "    }\n",
              "\n",
              "    [theme=dark] .colab-df-convert {\n",
              "      background-color: #3B4455;\n",
              "      fill: #D2E3FC;\n",
              "    }\n",
              "\n",
              "    [theme=dark] .colab-df-convert:hover {\n",
              "      background-color: #434B5C;\n",
              "      box-shadow: 0px 1px 3px 1px rgba(0, 0, 0, 0.15);\n",
              "      filter: drop-shadow(0px 1px 2px rgba(0, 0, 0, 0.3));\n",
              "      fill: #FFFFFF;\n",
              "    }\n",
              "  </style>\n",
              "\n",
              "      <script>\n",
              "        const buttonEl =\n",
              "          document.querySelector('#df-5783f469-e33a-4710-99dd-ad7b84a54534 button.colab-df-convert');\n",
              "        buttonEl.style.display =\n",
              "          google.colab.kernel.accessAllowed ? 'block' : 'none';\n",
              "\n",
              "        async function convertToInteractive(key) {\n",
              "          const element = document.querySelector('#df-5783f469-e33a-4710-99dd-ad7b84a54534');\n",
              "          const dataTable =\n",
              "            await google.colab.kernel.invokeFunction('convertToInteractive',\n",
              "                                                     [key], {});\n",
              "          if (!dataTable) return;\n",
              "\n",
              "          const docLinkHtml = 'Like what you see? Visit the ' +\n",
              "            '<a target=\"_blank\" href=https://colab.research.google.com/notebooks/data_table.ipynb>data table notebook</a>'\n",
              "            + ' to learn more about interactive tables.';\n",
              "          element.innerHTML = '';\n",
              "          dataTable['output_type'] = 'display_data';\n",
              "          await google.colab.output.renderOutput(dataTable, element);\n",
              "          const docLink = document.createElement('div');\n",
              "          docLink.innerHTML = docLinkHtml;\n",
              "          element.appendChild(docLink);\n",
              "        }\n",
              "      </script>\n",
              "    </div>\n",
              "  </div>\n",
              "  "
            ]
          },
          "metadata": {},
          "execution_count": 22
        }
      ]
    },
    {
      "cell_type": "code",
      "source": [
        "#これは実測値\n",
        "df_week_test = df_week.query('\"2019-09-01\" <= 年月日 < \"2019-12-29\"')\n",
        "df_week_test"
      ],
      "metadata": {
        "id": "pVEBHLGro93r",
        "colab": {
          "base_uri": "https://localhost:8080/",
          "height": 614
        },
        "outputId": "d0d360dd-d9d5-4245-d34e-6b1d55dc1671"
      },
      "execution_count": null,
      "outputs": [
        {
          "output_type": "execute_result",
          "data": {
            "text/plain": [
              "              平均気温(℃)  降水量の合計(mm)  日照時間(時間)\n",
              "年月日                                        \n",
              "2019-09-01  26.585714    3.571429  2.571429\n",
              "2019-09-08  26.885714    1.428571  3.928571\n",
              "2019-09-15  25.871429   18.214286  4.528571\n",
              "2019-09-22  22.714286    7.857143  4.642857\n",
              "2019-09-29  24.371429    0.642857  5.528571\n",
              "2019-10-06  24.214286    2.214286  5.914286\n",
              "2019-10-13  21.328571   34.071429  4.371429\n",
              "2019-10-20  17.385714    9.785714  0.600000\n",
              "2019-10-27  17.385714   27.928571  2.771429\n",
              "2019-11-03  16.300000    3.142857  5.700000\n",
              "2019-11-10  14.414286    0.142857  8.428571\n",
              "2019-11-17  13.857143    1.000000  6.400000\n",
              "2019-11-24  12.928571   18.500000  3.728571\n",
              "2019-12-01   9.014286    1.214286  3.571429\n",
              "2019-12-08   8.857143    5.357143  4.271429\n",
              "2019-12-15   9.371429    1.000000  4.085714\n",
              "2019-12-22   8.800000    2.500000  3.271429"
            ],
            "text/html": [
              "\n",
              "  <div id=\"df-49cefbca-7dc8-4cf3-ae7e-8cf705adfd9d\">\n",
              "    <div class=\"colab-df-container\">\n",
              "      <div>\n",
              "<style scoped>\n",
              "    .dataframe tbody tr th:only-of-type {\n",
              "        vertical-align: middle;\n",
              "    }\n",
              "\n",
              "    .dataframe tbody tr th {\n",
              "        vertical-align: top;\n",
              "    }\n",
              "\n",
              "    .dataframe thead th {\n",
              "        text-align: right;\n",
              "    }\n",
              "</style>\n",
              "<table border=\"1\" class=\"dataframe\">\n",
              "  <thead>\n",
              "    <tr style=\"text-align: right;\">\n",
              "      <th></th>\n",
              "      <th>平均気温(℃)</th>\n",
              "      <th>降水量の合計(mm)</th>\n",
              "      <th>日照時間(時間)</th>\n",
              "    </tr>\n",
              "    <tr>\n",
              "      <th>年月日</th>\n",
              "      <th></th>\n",
              "      <th></th>\n",
              "      <th></th>\n",
              "    </tr>\n",
              "  </thead>\n",
              "  <tbody>\n",
              "    <tr>\n",
              "      <th>2019-09-01</th>\n",
              "      <td>26.585714</td>\n",
              "      <td>3.571429</td>\n",
              "      <td>2.571429</td>\n",
              "    </tr>\n",
              "    <tr>\n",
              "      <th>2019-09-08</th>\n",
              "      <td>26.885714</td>\n",
              "      <td>1.428571</td>\n",
              "      <td>3.928571</td>\n",
              "    </tr>\n",
              "    <tr>\n",
              "      <th>2019-09-15</th>\n",
              "      <td>25.871429</td>\n",
              "      <td>18.214286</td>\n",
              "      <td>4.528571</td>\n",
              "    </tr>\n",
              "    <tr>\n",
              "      <th>2019-09-22</th>\n",
              "      <td>22.714286</td>\n",
              "      <td>7.857143</td>\n",
              "      <td>4.642857</td>\n",
              "    </tr>\n",
              "    <tr>\n",
              "      <th>2019-09-29</th>\n",
              "      <td>24.371429</td>\n",
              "      <td>0.642857</td>\n",
              "      <td>5.528571</td>\n",
              "    </tr>\n",
              "    <tr>\n",
              "      <th>2019-10-06</th>\n",
              "      <td>24.214286</td>\n",
              "      <td>2.214286</td>\n",
              "      <td>5.914286</td>\n",
              "    </tr>\n",
              "    <tr>\n",
              "      <th>2019-10-13</th>\n",
              "      <td>21.328571</td>\n",
              "      <td>34.071429</td>\n",
              "      <td>4.371429</td>\n",
              "    </tr>\n",
              "    <tr>\n",
              "      <th>2019-10-20</th>\n",
              "      <td>17.385714</td>\n",
              "      <td>9.785714</td>\n",
              "      <td>0.600000</td>\n",
              "    </tr>\n",
              "    <tr>\n",
              "      <th>2019-10-27</th>\n",
              "      <td>17.385714</td>\n",
              "      <td>27.928571</td>\n",
              "      <td>2.771429</td>\n",
              "    </tr>\n",
              "    <tr>\n",
              "      <th>2019-11-03</th>\n",
              "      <td>16.300000</td>\n",
              "      <td>3.142857</td>\n",
              "      <td>5.700000</td>\n",
              "    </tr>\n",
              "    <tr>\n",
              "      <th>2019-11-10</th>\n",
              "      <td>14.414286</td>\n",
              "      <td>0.142857</td>\n",
              "      <td>8.428571</td>\n",
              "    </tr>\n",
              "    <tr>\n",
              "      <th>2019-11-17</th>\n",
              "      <td>13.857143</td>\n",
              "      <td>1.000000</td>\n",
              "      <td>6.400000</td>\n",
              "    </tr>\n",
              "    <tr>\n",
              "      <th>2019-11-24</th>\n",
              "      <td>12.928571</td>\n",
              "      <td>18.500000</td>\n",
              "      <td>3.728571</td>\n",
              "    </tr>\n",
              "    <tr>\n",
              "      <th>2019-12-01</th>\n",
              "      <td>9.014286</td>\n",
              "      <td>1.214286</td>\n",
              "      <td>3.571429</td>\n",
              "    </tr>\n",
              "    <tr>\n",
              "      <th>2019-12-08</th>\n",
              "      <td>8.857143</td>\n",
              "      <td>5.357143</td>\n",
              "      <td>4.271429</td>\n",
              "    </tr>\n",
              "    <tr>\n",
              "      <th>2019-12-15</th>\n",
              "      <td>9.371429</td>\n",
              "      <td>1.000000</td>\n",
              "      <td>4.085714</td>\n",
              "    </tr>\n",
              "    <tr>\n",
              "      <th>2019-12-22</th>\n",
              "      <td>8.800000</td>\n",
              "      <td>2.500000</td>\n",
              "      <td>3.271429</td>\n",
              "    </tr>\n",
              "  </tbody>\n",
              "</table>\n",
              "</div>\n",
              "      <button class=\"colab-df-convert\" onclick=\"convertToInteractive('df-49cefbca-7dc8-4cf3-ae7e-8cf705adfd9d')\"\n",
              "              title=\"Convert this dataframe to an interactive table.\"\n",
              "              style=\"display:none;\">\n",
              "        \n",
              "  <svg xmlns=\"http://www.w3.org/2000/svg\" height=\"24px\"viewBox=\"0 0 24 24\"\n",
              "       width=\"24px\">\n",
              "    <path d=\"M0 0h24v24H0V0z\" fill=\"none\"/>\n",
              "    <path d=\"M18.56 5.44l.94 2.06.94-2.06 2.06-.94-2.06-.94-.94-2.06-.94 2.06-2.06.94zm-11 1L8.5 8.5l.94-2.06 2.06-.94-2.06-.94L8.5 2.5l-.94 2.06-2.06.94zm10 10l.94 2.06.94-2.06 2.06-.94-2.06-.94-.94-2.06-.94 2.06-2.06.94z\"/><path d=\"M17.41 7.96l-1.37-1.37c-.4-.4-.92-.59-1.43-.59-.52 0-1.04.2-1.43.59L10.3 9.45l-7.72 7.72c-.78.78-.78 2.05 0 2.83L4 21.41c.39.39.9.59 1.41.59.51 0 1.02-.2 1.41-.59l7.78-7.78 2.81-2.81c.8-.78.8-2.07 0-2.86zM5.41 20L4 18.59l7.72-7.72 1.47 1.35L5.41 20z\"/>\n",
              "  </svg>\n",
              "      </button>\n",
              "      \n",
              "  <style>\n",
              "    .colab-df-container {\n",
              "      display:flex;\n",
              "      flex-wrap:wrap;\n",
              "      gap: 12px;\n",
              "    }\n",
              "\n",
              "    .colab-df-convert {\n",
              "      background-color: #E8F0FE;\n",
              "      border: none;\n",
              "      border-radius: 50%;\n",
              "      cursor: pointer;\n",
              "      display: none;\n",
              "      fill: #1967D2;\n",
              "      height: 32px;\n",
              "      padding: 0 0 0 0;\n",
              "      width: 32px;\n",
              "    }\n",
              "\n",
              "    .colab-df-convert:hover {\n",
              "      background-color: #E2EBFA;\n",
              "      box-shadow: 0px 1px 2px rgba(60, 64, 67, 0.3), 0px 1px 3px 1px rgba(60, 64, 67, 0.15);\n",
              "      fill: #174EA6;\n",
              "    }\n",
              "\n",
              "    [theme=dark] .colab-df-convert {\n",
              "      background-color: #3B4455;\n",
              "      fill: #D2E3FC;\n",
              "    }\n",
              "\n",
              "    [theme=dark] .colab-df-convert:hover {\n",
              "      background-color: #434B5C;\n",
              "      box-shadow: 0px 1px 3px 1px rgba(0, 0, 0, 0.15);\n",
              "      filter: drop-shadow(0px 1px 2px rgba(0, 0, 0, 0.3));\n",
              "      fill: #FFFFFF;\n",
              "    }\n",
              "  </style>\n",
              "\n",
              "      <script>\n",
              "        const buttonEl =\n",
              "          document.querySelector('#df-49cefbca-7dc8-4cf3-ae7e-8cf705adfd9d button.colab-df-convert');\n",
              "        buttonEl.style.display =\n",
              "          google.colab.kernel.accessAllowed ? 'block' : 'none';\n",
              "\n",
              "        async function convertToInteractive(key) {\n",
              "          const element = document.querySelector('#df-49cefbca-7dc8-4cf3-ae7e-8cf705adfd9d');\n",
              "          const dataTable =\n",
              "            await google.colab.kernel.invokeFunction('convertToInteractive',\n",
              "                                                     [key], {});\n",
              "          if (!dataTable) return;\n",
              "\n",
              "          const docLinkHtml = 'Like what you see? Visit the ' +\n",
              "            '<a target=\"_blank\" href=https://colab.research.google.com/notebooks/data_table.ipynb>data table notebook</a>'\n",
              "            + ' to learn more about interactive tables.';\n",
              "          element.innerHTML = '';\n",
              "          dataTable['output_type'] = 'display_data';\n",
              "          await google.colab.output.renderOutput(dataTable, element);\n",
              "          const docLink = document.createElement('div');\n",
              "          docLink.innerHTML = docLinkHtml;\n",
              "          element.appendChild(docLink);\n",
              "        }\n",
              "      </script>\n",
              "    </div>\n",
              "  </div>\n",
              "  "
            ]
          },
          "metadata": {},
          "execution_count": 23
        }
      ]
    },
    {
      "cell_type": "markdown",
      "source": [
        "rmse算出"
      ],
      "metadata": {
        "id": "BLi8yF2chgjg"
      }
    },
    {
      "cell_type": "code",
      "source": [
        "import numpy as np\n",
        "from sklearn.metrics import mean_squared_error as MSE\n",
        "# y_trainと予測値のRMSEを出す\n",
        "print(\"RMSE\",np.sqrt(MSE(df_week_test[\"平均気温(℃)\"],df_week_test_pred2[\"平均気温(℃)\"])))"
      ],
      "metadata": {
        "id": "kqAXdrqoKYtb",
        "colab": {
          "base_uri": "https://localhost:8080/"
        },
        "outputId": "48989fbe-48d1-4b84-99d9-ff8ca9b19016"
      },
      "execution_count": null,
      "outputs": [
        {
          "output_type": "stream",
          "name": "stdout",
          "text": [
            "RMSE 1.2548071579097844\n"
          ]
        }
      ]
    },
    {
      "cell_type": "code",
      "source": [
        ""
      ],
      "metadata": {
        "id": "pSHUKYo1op-g"
      },
      "execution_count": null,
      "outputs": []
    }
  ],
  "metadata": {
    "kernelspec": {
      "display_name": "Python 3",
      "language": "python",
      "name": "python3"
    },
    "language_info": {
      "codemirror_mode": {
        "name": "ipython",
        "version": 3
      },
      "file_extension": ".py",
      "mimetype": "text/x-python",
      "name": "python",
      "nbconvert_exporter": "python",
      "pygments_lexer": "ipython3",
      "version": "3.7.4"
    },
    "colab": {
      "name": "LSTM 変数あり.ipynb",
      "provenance": [],
      "include_colab_link": true
    }
  },
  "nbformat": 4,
  "nbformat_minor": 0
}