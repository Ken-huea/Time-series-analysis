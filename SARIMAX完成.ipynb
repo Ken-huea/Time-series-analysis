{
  "cells": [
    {
      "cell_type": "markdown",
      "metadata": {
        "id": "view-in-github",
        "colab_type": "text"
      },
      "source": [
        "<a href=\"https://colab.research.google.com/github/Ken-huea/Time-series-analysis/blob/main/SARIMAX%E5%AE%8C%E6%88%90.ipynb\" target=\"_parent\"><img src=\"https://colab.research.google.com/assets/colab-badge.svg\" alt=\"Open In Colab\"/></a>"
      ]
    },
    {
      "cell_type": "markdown",
      "metadata": {
        "id": "_oH0zxHXS_Rr"
      },
      "source": [
        "## 時系列モデルの種類\n",
        "- AR（自己回帰モデル）　　現在の値は、過去の値から決まる\n",
        "- MA（移動平均モデル）　　現在の値は、過去の「実績と予測のズレ」から決まる\n",
        "- ARMA（自己回帰 移動平均モデル） ...AR + MA\n",
        "- ARIMA（自己回帰 和分 移動平均モデル）  ...ARMA + I(時間帯によって平均値はブレる)\n",
        "- SARIMA（季節 自己回帰 和分 移動平均モデル） ...S(データに周期性がある) + ARIMA\n",
        "- SARIMAX ...SARIMA + 説明変数"
      ]
    },
    {
      "cell_type": "markdown",
      "source": [
        "### データ読込と分割"
      ],
      "metadata": {
        "id": "4DR2v5p9dMEC"
      }
    },
    {
      "cell_type": "code",
      "source": [
        "#いろいろインポート\n",
        "import pandas as pd\n",
        "from datetime import datetime\n",
        "import seaborn as sns\n",
        "import matplotlib.pyplot as plt\n",
        "import statsmodels.api as sm \n",
        "from google.colab import drive\n",
        "drive.mount('/content/drive')\n",
        "\n",
        "#データ読み込み\n",
        "df = pd.read_csv(\"/content/drive/MyDrive/Colab Notebooks/時系列解析/Qiita用/☆１/SARIMAXの実装.csv\",index_col=\"年月日\",encoding=\"shift_jis\",parse_dates=True)\n",
        "\n",
        "#dfのgroupby\n",
        "df = df.resample(\"M\").mean()\n",
        "print(df.shape)\n",
        "df"
      ],
      "metadata": {
        "id": "SfbzxjRDY3Gd",
        "colab": {
          "base_uri": "https://localhost:8080/",
          "height": 492
        },
        "outputId": "783eab8e-6fa3-48c5-eac2-b3c1f28c5b41"
      },
      "execution_count": 1,
      "outputs": [
        {
          "output_type": "stream",
          "name": "stdout",
          "text": [
            "Mounted at /content/drive\n",
            "(120, 3)\n"
          ]
        },
        {
          "output_type": "execute_result",
          "data": {
            "text/plain": [
              "              平均気温(℃)  降水量の合計(mm)  日照時間(時間)\n",
              "年月日                                        \n",
              "2010-01-31   7.022581    0.290323  7.158065\n",
              "2010-02-28   6.500000    4.107143  4.225000\n",
              "2010-03-31   9.096774    4.629032  4.509677\n",
              "2010-04-30  12.393333    7.133333  4.663333\n",
              "2010-05-31  18.951613    3.677419  6.412903\n",
              "...               ...         ...       ...\n",
              "2019-08-31  28.396774    3.548387  6.058065\n",
              "2019-09-30  25.060000    6.566667  4.586667\n",
              "2019-10-31  19.425806   17.080645  3.638710\n",
              "2019-11-30  13.100000    5.216667  5.676667\n",
              "2019-12-31   8.474194    2.467742  4.148387\n",
              "\n",
              "[120 rows x 3 columns]"
            ],
            "text/html": [
              "\n",
              "  <div id=\"df-863af606-3367-4512-9c7b-a7623ce9b870\">\n",
              "    <div class=\"colab-df-container\">\n",
              "      <div>\n",
              "<style scoped>\n",
              "    .dataframe tbody tr th:only-of-type {\n",
              "        vertical-align: middle;\n",
              "    }\n",
              "\n",
              "    .dataframe tbody tr th {\n",
              "        vertical-align: top;\n",
              "    }\n",
              "\n",
              "    .dataframe thead th {\n",
              "        text-align: right;\n",
              "    }\n",
              "</style>\n",
              "<table border=\"1\" class=\"dataframe\">\n",
              "  <thead>\n",
              "    <tr style=\"text-align: right;\">\n",
              "      <th></th>\n",
              "      <th>平均気温(℃)</th>\n",
              "      <th>降水量の合計(mm)</th>\n",
              "      <th>日照時間(時間)</th>\n",
              "    </tr>\n",
              "    <tr>\n",
              "      <th>年月日</th>\n",
              "      <th></th>\n",
              "      <th></th>\n",
              "      <th></th>\n",
              "    </tr>\n",
              "  </thead>\n",
              "  <tbody>\n",
              "    <tr>\n",
              "      <th>2010-01-31</th>\n",
              "      <td>7.022581</td>\n",
              "      <td>0.290323</td>\n",
              "      <td>7.158065</td>\n",
              "    </tr>\n",
              "    <tr>\n",
              "      <th>2010-02-28</th>\n",
              "      <td>6.500000</td>\n",
              "      <td>4.107143</td>\n",
              "      <td>4.225000</td>\n",
              "    </tr>\n",
              "    <tr>\n",
              "      <th>2010-03-31</th>\n",
              "      <td>9.096774</td>\n",
              "      <td>4.629032</td>\n",
              "      <td>4.509677</td>\n",
              "    </tr>\n",
              "    <tr>\n",
              "      <th>2010-04-30</th>\n",
              "      <td>12.393333</td>\n",
              "      <td>7.133333</td>\n",
              "      <td>4.663333</td>\n",
              "    </tr>\n",
              "    <tr>\n",
              "      <th>2010-05-31</th>\n",
              "      <td>18.951613</td>\n",
              "      <td>3.677419</td>\n",
              "      <td>6.412903</td>\n",
              "    </tr>\n",
              "    <tr>\n",
              "      <th>...</th>\n",
              "      <td>...</td>\n",
              "      <td>...</td>\n",
              "      <td>...</td>\n",
              "    </tr>\n",
              "    <tr>\n",
              "      <th>2019-08-31</th>\n",
              "      <td>28.396774</td>\n",
              "      <td>3.548387</td>\n",
              "      <td>6.058065</td>\n",
              "    </tr>\n",
              "    <tr>\n",
              "      <th>2019-09-30</th>\n",
              "      <td>25.060000</td>\n",
              "      <td>6.566667</td>\n",
              "      <td>4.586667</td>\n",
              "    </tr>\n",
              "    <tr>\n",
              "      <th>2019-10-31</th>\n",
              "      <td>19.425806</td>\n",
              "      <td>17.080645</td>\n",
              "      <td>3.638710</td>\n",
              "    </tr>\n",
              "    <tr>\n",
              "      <th>2019-11-30</th>\n",
              "      <td>13.100000</td>\n",
              "      <td>5.216667</td>\n",
              "      <td>5.676667</td>\n",
              "    </tr>\n",
              "    <tr>\n",
              "      <th>2019-12-31</th>\n",
              "      <td>8.474194</td>\n",
              "      <td>2.467742</td>\n",
              "      <td>4.148387</td>\n",
              "    </tr>\n",
              "  </tbody>\n",
              "</table>\n",
              "<p>120 rows × 3 columns</p>\n",
              "</div>\n",
              "      <button class=\"colab-df-convert\" onclick=\"convertToInteractive('df-863af606-3367-4512-9c7b-a7623ce9b870')\"\n",
              "              title=\"Convert this dataframe to an interactive table.\"\n",
              "              style=\"display:none;\">\n",
              "        \n",
              "  <svg xmlns=\"http://www.w3.org/2000/svg\" height=\"24px\"viewBox=\"0 0 24 24\"\n",
              "       width=\"24px\">\n",
              "    <path d=\"M0 0h24v24H0V0z\" fill=\"none\"/>\n",
              "    <path d=\"M18.56 5.44l.94 2.06.94-2.06 2.06-.94-2.06-.94-.94-2.06-.94 2.06-2.06.94zm-11 1L8.5 8.5l.94-2.06 2.06-.94-2.06-.94L8.5 2.5l-.94 2.06-2.06.94zm10 10l.94 2.06.94-2.06 2.06-.94-2.06-.94-.94-2.06-.94 2.06-2.06.94z\"/><path d=\"M17.41 7.96l-1.37-1.37c-.4-.4-.92-.59-1.43-.59-.52 0-1.04.2-1.43.59L10.3 9.45l-7.72 7.72c-.78.78-.78 2.05 0 2.83L4 21.41c.39.39.9.59 1.41.59.51 0 1.02-.2 1.41-.59l7.78-7.78 2.81-2.81c.8-.78.8-2.07 0-2.86zM5.41 20L4 18.59l7.72-7.72 1.47 1.35L5.41 20z\"/>\n",
              "  </svg>\n",
              "      </button>\n",
              "      \n",
              "  <style>\n",
              "    .colab-df-container {\n",
              "      display:flex;\n",
              "      flex-wrap:wrap;\n",
              "      gap: 12px;\n",
              "    }\n",
              "\n",
              "    .colab-df-convert {\n",
              "      background-color: #E8F0FE;\n",
              "      border: none;\n",
              "      border-radius: 50%;\n",
              "      cursor: pointer;\n",
              "      display: none;\n",
              "      fill: #1967D2;\n",
              "      height: 32px;\n",
              "      padding: 0 0 0 0;\n",
              "      width: 32px;\n",
              "    }\n",
              "\n",
              "    .colab-df-convert:hover {\n",
              "      background-color: #E2EBFA;\n",
              "      box-shadow: 0px 1px 2px rgba(60, 64, 67, 0.3), 0px 1px 3px 1px rgba(60, 64, 67, 0.15);\n",
              "      fill: #174EA6;\n",
              "    }\n",
              "\n",
              "    [theme=dark] .colab-df-convert {\n",
              "      background-color: #3B4455;\n",
              "      fill: #D2E3FC;\n",
              "    }\n",
              "\n",
              "    [theme=dark] .colab-df-convert:hover {\n",
              "      background-color: #434B5C;\n",
              "      box-shadow: 0px 1px 3px 1px rgba(0, 0, 0, 0.15);\n",
              "      filter: drop-shadow(0px 1px 2px rgba(0, 0, 0, 0.3));\n",
              "      fill: #FFFFFF;\n",
              "    }\n",
              "  </style>\n",
              "\n",
              "      <script>\n",
              "        const buttonEl =\n",
              "          document.querySelector('#df-863af606-3367-4512-9c7b-a7623ce9b870 button.colab-df-convert');\n",
              "        buttonEl.style.display =\n",
              "          google.colab.kernel.accessAllowed ? 'block' : 'none';\n",
              "\n",
              "        async function convertToInteractive(key) {\n",
              "          const element = document.querySelector('#df-863af606-3367-4512-9c7b-a7623ce9b870');\n",
              "          const dataTable =\n",
              "            await google.colab.kernel.invokeFunction('convertToInteractive',\n",
              "                                                     [key], {});\n",
              "          if (!dataTable) return;\n",
              "\n",
              "          const docLinkHtml = 'Like what you see? Visit the ' +\n",
              "            '<a target=\"_blank\" href=https://colab.research.google.com/notebooks/data_table.ipynb>data table notebook</a>'\n",
              "            + ' to learn more about interactive tables.';\n",
              "          element.innerHTML = '';\n",
              "          dataTable['output_type'] = 'display_data';\n",
              "          await google.colab.output.renderOutput(dataTable, element);\n",
              "          const docLink = document.createElement('div');\n",
              "          docLink.innerHTML = docLinkHtml;\n",
              "          element.appendChild(docLink);\n",
              "        }\n",
              "      </script>\n",
              "    </div>\n",
              "  </div>\n",
              "  "
            ]
          },
          "metadata": {},
          "execution_count": 1
        }
      ]
    },
    {
      "cell_type": "markdown",
      "source": [
        "分割"
      ],
      "metadata": {
        "id": "JDqj7jsXdOXf"
      }
    },
    {
      "cell_type": "code",
      "execution_count": 2,
      "metadata": {
        "colab": {
          "base_uri": "https://localhost:8080/"
        },
        "id": "fVDkNL2qS_R5",
        "outputId": "24772e4a-73d4-4bc0-b525-683a8ca8cb55"
      },
      "outputs": [
        {
          "output_type": "stream",
          "name": "stderr",
          "text": [
            "/usr/local/lib/python3.7/dist-packages/ipykernel_launcher.py:6: FutureWarning: Indexing a DataFrame with a datetimelike index using a single string to slice the rows, like `frame[string]`, is deprecated and will be removed in a future version. Use `frame.loc[string]` instead.\n",
            "  \n"
          ]
        }
      ],
      "source": [
        "#　月ごとに集計したデータも準備しておく\n",
        "df_train = df[\"2010\":\"2018\"] # df_month\n",
        "\n",
        "df = df[\"2010\":\"2019\"] # df_month_all\n",
        "\n",
        "df_test = df[\"2019\"]   # df_month_pred"
      ]
    },
    {
      "cell_type": "markdown",
      "source": [
        "### 学習"
      ],
      "metadata": {
        "id": "B-hLOpbWdSkr"
      }
    },
    {
      "cell_type": "code",
      "execution_count": null,
      "metadata": {
        "colab": {
          "base_uri": "https://localhost:8080/",
          "height": 475
        },
        "id": "_Z6ouFrYS_R6",
        "outputId": "e786e2aa-0fef-4abc-bc35-5876d41c7cd2"
      },
      "outputs": [
        {
          "output_type": "execute_result",
          "data": {
            "text/plain": [
              "<class 'statsmodels.iolib.summary.Summary'>\n",
              "\"\"\"\n",
              "                                     SARIMAX Results                                      \n",
              "==========================================================================================\n",
              "Dep. Variable:                            平均気温(℃)   No. Observations:                  108\n",
              "Model:             SARIMAX(1, 1, 1)x(0, 1, 1, 12)   Log Likelihood                -141.757\n",
              "Date:                            Wed, 14 Sep 2022   AIC                            295.514\n",
              "Time:                                    05:12:55   BIC                            310.837\n",
              "Sample:                                01-31-2010   HQIC                           301.705\n",
              "                                     - 12-31-2018                                         \n",
              "Covariance Type:                              opg                                         \n",
              "==============================================================================\n",
              "                 coef    std err          z      P>|z|      [0.025      0.975]\n",
              "------------------------------------------------------------------------------\n",
              "降水量の合計(mm)    -0.0054      0.036     -0.147      0.883      -0.077       0.066\n",
              "日照時間(時間)       0.3838      0.154      2.488      0.013       0.081       0.686\n",
              "ar.L1          0.2493      0.119      2.103      0.035       0.017       0.482\n",
              "ma.L1         -0.9988      2.105     -0.474      0.635      -5.125       3.127\n",
              "ma.S.L12      -0.9971     10.902     -0.091      0.927     -22.364      20.370\n",
              "sigma2         0.8261      9.761      0.085      0.933     -18.306      19.958\n",
              "===================================================================================\n",
              "Ljung-Box (L1) (Q):                   0.07   Jarque-Bera (JB):                 1.97\n",
              "Prob(Q):                              0.79   Prob(JB):                         0.37\n",
              "Heteroskedasticity (H):               0.89   Skew:                             0.31\n",
              "Prob(H) (two-sided):                  0.74   Kurtosis:                         3.35\n",
              "===================================================================================\n",
              "\n",
              "Warnings:\n",
              "[1] Covariance matrix calculated using the outer product of gradients (complex-step).\n",
              "\"\"\""
            ],
            "text/html": [
              "<table class=\"simpletable\">\n",
              "<caption>SARIMAX Results</caption>\n",
              "<tr>\n",
              "  <th>Dep. Variable:</th>               <td>平均気温(℃)</td>            <th>  No. Observations:  </th>    <td>108</td>  \n",
              "</tr>\n",
              "<tr>\n",
              "  <th>Model:</th>           <td>SARIMAX(1, 1, 1)x(0, 1, 1, 12)</td> <th>  Log Likelihood     </th> <td>-141.757</td>\n",
              "</tr>\n",
              "<tr>\n",
              "  <th>Date:</th>                   <td>Wed, 14 Sep 2022</td>        <th>  AIC                </th>  <td>295.514</td>\n",
              "</tr>\n",
              "<tr>\n",
              "  <th>Time:</th>                       <td>05:12:55</td>            <th>  BIC                </th>  <td>310.837</td>\n",
              "</tr>\n",
              "<tr>\n",
              "  <th>Sample:</th>                    <td>01-31-2010</td>           <th>  HQIC               </th>  <td>301.705</td>\n",
              "</tr>\n",
              "<tr>\n",
              "  <th></th>                          <td>- 12-31-2018</td>          <th>                     </th>     <td> </td>   \n",
              "</tr>\n",
              "<tr>\n",
              "  <th>Covariance Type:</th>               <td>opg</td>              <th>                     </th>     <td> </td>   \n",
              "</tr>\n",
              "</table>\n",
              "<table class=\"simpletable\">\n",
              "<tr>\n",
              "       <td></td>         <th>coef</th>     <th>std err</th>      <th>z</th>      <th>P>|z|</th>  <th>[0.025</th>    <th>0.975]</th>  \n",
              "</tr>\n",
              "<tr>\n",
              "  <th>降水量の合計(mm)</th> <td>   -0.0054</td> <td>    0.036</td> <td>   -0.147</td> <td> 0.883</td> <td>   -0.077</td> <td>    0.066</td>\n",
              "</tr>\n",
              "<tr>\n",
              "  <th>日照時間(時間)</th>   <td>    0.3838</td> <td>    0.154</td> <td>    2.488</td> <td> 0.013</td> <td>    0.081</td> <td>    0.686</td>\n",
              "</tr>\n",
              "<tr>\n",
              "  <th>ar.L1</th>      <td>    0.2493</td> <td>    0.119</td> <td>    2.103</td> <td> 0.035</td> <td>    0.017</td> <td>    0.482</td>\n",
              "</tr>\n",
              "<tr>\n",
              "  <th>ma.L1</th>      <td>   -0.9988</td> <td>    2.105</td> <td>   -0.474</td> <td> 0.635</td> <td>   -5.125</td> <td>    3.127</td>\n",
              "</tr>\n",
              "<tr>\n",
              "  <th>ma.S.L12</th>   <td>   -0.9971</td> <td>   10.902</td> <td>   -0.091</td> <td> 0.927</td> <td>  -22.364</td> <td>   20.370</td>\n",
              "</tr>\n",
              "<tr>\n",
              "  <th>sigma2</th>     <td>    0.8261</td> <td>    9.761</td> <td>    0.085</td> <td> 0.933</td> <td>  -18.306</td> <td>   19.958</td>\n",
              "</tr>\n",
              "</table>\n",
              "<table class=\"simpletable\">\n",
              "<tr>\n",
              "  <th>Ljung-Box (L1) (Q):</th>     <td>0.07</td> <th>  Jarque-Bera (JB):  </th> <td>1.97</td>\n",
              "</tr>\n",
              "<tr>\n",
              "  <th>Prob(Q):</th>                <td>0.79</td> <th>  Prob(JB):          </th> <td>0.37</td>\n",
              "</tr>\n",
              "<tr>\n",
              "  <th>Heteroskedasticity (H):</th> <td>0.89</td> <th>  Skew:              </th> <td>0.31</td>\n",
              "</tr>\n",
              "<tr>\n",
              "  <th>Prob(H) (two-sided):</th>    <td>0.74</td> <th>  Kurtosis:          </th> <td>3.35</td>\n",
              "</tr>\n",
              "</table><br/><br/>Warnings:<br/>[1] Covariance matrix calculated using the outer product of gradients (complex-step)."
            ]
          },
          "metadata": {},
          "execution_count": 12
        }
      ],
      "source": [
        "from statsmodels.tsa.statespace.sarimax import SARIMAX\n",
        "\n",
        "y = df_train[\"平均気温(℃)\"]\n",
        "X = df_train[[\"降水量の合計(mm)\",\"日照時間(時間)\"]]\n",
        "sarima_model = sm.tsa.SARIMAX(y,X, order=(1,1,1),seasonal_order=(0,1,1,12))\n",
        "result = sarima_model.fit()\n",
        "\n",
        "result.summary()"
      ]
    },
    {
      "cell_type": "markdown",
      "metadata": {
        "id": "LsL42YkIS_R7"
      },
      "source": [
        "### グリッドサーチ"
      ]
    },
    {
      "cell_type": "code",
      "execution_count": null,
      "metadata": {
        "id": "vfHNkyB1S_R7"
      },
      "outputs": [],
      "source": [
        "import itertools\n",
        "\n",
        "p = q = range(0, 3)\n",
        "sp = sd = sq = range(0, 2)\n",
        "\n",
        "#p,q,sp,sd,sqの組み合わせのリストを作成する。和分=1,周期=12は固定\n",
        "pdq = [(x[0], 1, x[1]) for x in list(itertools.product(p, q))]\n",
        "seasonal_pdq = [(x[0], x[1], x[2], 12) for x in list(itertools.product(sp, sd, sq))]"
      ]
    },
    {
      "cell_type": "code",
      "execution_count": null,
      "metadata": {
        "colab": {
          "base_uri": "https://localhost:8080/"
        },
        "id": "ifz2RE9yS_R8",
        "outputId": "abab5d9a-105a-452b-f43c-94cefe4267df"
      },
      "outputs": [
        {
          "output_type": "stream",
          "name": "stdout",
          "text": [
            "ARIMAパラメータ(0, 1, 0), 季節変動パラメータ(0, 0, 0, 12) - AIC: 613.9551631312182\n",
            "ARIMAパラメータ(0, 1, 0), 季節変動パラメータ(0, 0, 1, 12) - AIC: 528.8431011738005\n",
            "ARIMAパラメータ(0, 1, 0), 季節変動パラメータ(0, 1, 0, 12) - AIC: 359.2434101619832\n",
            "ARIMAパラメータ(0, 1, 0), 季節変動パラメータ(0, 1, 1, 12) - AIC: 333.37390920876607\n",
            "ARIMAパラメータ(0, 1, 0), 季節変動パラメータ(1, 0, 0, 12) - AIC: 427.0478625567827\n",
            "ARIMAパラメータ(0, 1, 0), 季節変動パラメータ(1, 0, 1, 12) - AIC: 403.0842838714033\n",
            "ARIMAパラメータ(0, 1, 0), 季節変動パラメータ(1, 1, 0, 12) - AIC: 351.68990322961935\n",
            "ARIMAパラメータ(0, 1, 0), 季節変動パラメータ(1, 1, 1, 12) - AIC: 334.5500870402405\n",
            "ARIMAパラメータ(0, 1, 1), 季節変動パラメータ(0, 0, 0, 12) - AIC: 560.8256802210583\n",
            "ARIMAパラメータ(0, 1, 1), 季節変動パラメータ(0, 0, 1, 12) - AIC: 505.9826928198994\n",
            "ARIMAパラメータ(0, 1, 1), 季節変動パラメータ(0, 1, 0, 12) - AIC: 321.08895893648213\n",
            "ARIMAパラメータ(0, 1, 1), 季節変動パラメータ(0, 1, 1, 12) - AIC: 306.8216431466753\n",
            "ARIMAパラメータ(0, 1, 1), 季節変動パラメータ(1, 0, 0, 12) - AIC: 402.1304495137347\n",
            "ARIMAパラメータ(0, 1, 1), 季節変動パラメータ(1, 0, 1, 12) - AIC: 387.9467990151249\n",
            "ARIMAパラメータ(0, 1, 1), 季節変動パラメータ(1, 1, 0, 12) - AIC: 315.48237396029674\n",
            "ARIMAパラメータ(0, 1, 1), 季節変動パラメータ(1, 1, 1, 12) - AIC: 308.0869292768329\n",
            "ARIMAパラメータ(0, 1, 2), 季節変動パラメータ(0, 0, 0, 12) - AIC: 533.2988530629615\n",
            "ARIMAパラメータ(0, 1, 2), 季節変動パラメータ(0, 0, 1, 12) - AIC: 485.1632808465877\n",
            "ARIMAパラメータ(0, 1, 2), 季節変動パラメータ(0, 1, 0, 12) - AIC: 321.31662384705646\n",
            "ARIMAパラメータ(0, 1, 2), 季節変動パラメータ(0, 1, 1, 12) - AIC: 302.96342436529414\n",
            "ARIMAパラメータ(0, 1, 2), 季節変動パラメータ(1, 0, 0, 12) - AIC: 396.4805423519526\n",
            "ARIMAパラメータ(0, 1, 2), 季節変動パラメータ(1, 0, 1, 12) - AIC: 378.04649691014134\n",
            "ARIMAパラメータ(0, 1, 2), 季節変動パラメータ(1, 1, 0, 12) - AIC: 314.2499607594593\n",
            "ARIMAパラメータ(0, 1, 2), 季節変動パラメータ(1, 1, 1, 12) - AIC: 304.65194347682274\n",
            "ARIMAパラメータ(1, 1, 0), 季節変動パラメータ(0, 0, 0, 12) - AIC: 533.5447846233246\n",
            "ARIMAパラメータ(1, 1, 0), 季節変動パラメータ(0, 0, 1, 12) - AIC: 490.6907578438695\n",
            "ARIMAパラメータ(1, 1, 0), 季節変動パラメータ(0, 1, 0, 12) - AIC: 343.5851964711973\n",
            "ARIMAパラメータ(1, 1, 0), 季節変動パラメータ(0, 1, 1, 12) - AIC: 323.7125322123366\n",
            "ARIMAパラメータ(1, 1, 0), 季節変動パラメータ(1, 0, 0, 12) - AIC: 419.3353604841778\n",
            "ARIMAパラメータ(1, 1, 0), 季節変動パラメータ(1, 0, 1, 12) - AIC: 399.0365826723957\n",
            "ARIMAパラメータ(1, 1, 0), 季節変動パラメータ(1, 1, 0, 12) - AIC: 337.7745081494727\n",
            "ARIMAパラメータ(1, 1, 0), 季節変動パラメータ(1, 1, 1, 12) - AIC: 324.7850478764607\n",
            "ARIMAパラメータ(1, 1, 1), 季節変動パラメータ(0, 0, 0, 12) - AIC: 532.1564218066823\n",
            "ARIMAパラメータ(1, 1, 1), 季節変動パラメータ(0, 0, 1, 12) - AIC: 492.68621050961895\n",
            "ARIMAパラメータ(1, 1, 1), 季節変動パラメータ(0, 1, 0, 12) - AIC: 320.72265710691636\n",
            "ARIMAパラメータ(1, 1, 1), 季節変動パラメータ(0, 1, 1, 12) - AIC: 302.0302525908307\n",
            "ARIMAパラメータ(1, 1, 1), 季節変動パラメータ(1, 0, 0, 12) - AIC: 393.91117950282194\n",
            "ARIMAパラメータ(1, 1, 1), 季節変動パラメータ(1, 0, 1, 12) - AIC: 373.00448913249\n",
            "ARIMAパラメータ(1, 1, 1), 季節変動パラメータ(1, 1, 0, 12) - AIC: 313.813547439821\n",
            "ARIMAパラメータ(1, 1, 1), 季節変動パラメータ(1, 1, 1, 12) - AIC: 303.5376230748421\n",
            "ARIMAパラメータ(1, 1, 2), 季節変動パラメータ(0, 0, 0, 12) - AIC: 556.8465412176423\n",
            "ARIMAパラメータ(1, 1, 2), 季節変動パラメータ(0, 0, 1, 12) - AIC: 498.3652323699792\n",
            "ARIMAパラメータ(1, 1, 2), 季節変動パラメータ(0, 1, 0, 12) - AIC: 322.6820935239404\n",
            "ARIMAパラメータ(1, 1, 2), 季節変動パラメータ(0, 1, 1, 12) - AIC: 304.0300978940268\n",
            "ARIMAパラメータ(1, 1, 2), 季節変動パラメータ(1, 0, 0, 12) - AIC: 395.7864366492004\n",
            "ARIMAパラメータ(1, 1, 2), 季節変動パラメータ(1, 0, 1, 12) - AIC: 376.0395961131066\n",
            "ARIMAパラメータ(1, 1, 2), 季節変動パラメータ(1, 1, 0, 12) - AIC: 315.81359423358504\n",
            "ARIMAパラメータ(1, 1, 2), 季節変動パラメータ(1, 1, 1, 12) - AIC: 305.19199732229777\n",
            "ARIMAパラメータ(2, 1, 0), 季節変動パラメータ(0, 0, 0, 12) - AIC: 528.0400726209923\n",
            "ARIMAパラメータ(2, 1, 0), 季節変動パラメータ(0, 0, 1, 12) - AIC: 492.67925689845623\n",
            "ARIMAパラメータ(2, 1, 0), 季節変動パラメータ(0, 1, 0, 12) - AIC: 342.6662020975275\n",
            "ARIMAパラメータ(2, 1, 0), 季節変動パラメータ(0, 1, 1, 12) - AIC: 323.8807684830653\n",
            "ARIMAパラメータ(2, 1, 0), 季節変動パラメータ(1, 0, 0, 12) - AIC: 420.7707093555785\n",
            "ARIMAパラメータ(2, 1, 0), 季節変動パラメータ(1, 0, 1, 12) - AIC: 400.8442999749503\n",
            "ARIMAパラメータ(2, 1, 0), 季節変動パラメータ(1, 1, 0, 12) - AIC: 336.60772596759745\n",
            "ARIMAパラメータ(2, 1, 0), 季節変動パラメータ(1, 1, 1, 12) - AIC: 324.88852522413197\n",
            "ARIMAパラメータ(2, 1, 1), 季節変動パラメータ(0, 0, 0, 12) - AIC: 465.58287223677576\n",
            "ARIMAパラメータ(2, 1, 1), 季節変動パラメータ(0, 0, 1, 12) - AIC: 490.95710326414775\n",
            "ARIMAパラメータ(2, 1, 1), 季節変動パラメータ(0, 1, 0, 12) - AIC: 322.6306961763627\n",
            "ARIMAパラメータ(2, 1, 1), 季節変動パラメータ(0, 1, 1, 12) - AIC: 304.02944168809387\n",
            "ARIMAパラメータ(2, 1, 1), 季節変動パラメータ(1, 0, 0, 12) - AIC: 395.61680999033143\n",
            "ARIMAパラメータ(2, 1, 1), 季節変動パラメータ(1, 0, 1, 12) - AIC: 381.84957899081905\n",
            "ARIMAパラメータ(2, 1, 1), 季節変動パラメータ(1, 1, 0, 12) - AIC: 315.81366861508815\n",
            "ARIMAパラメータ(2, 1, 1), 季節変動パラメータ(1, 1, 1, 12) - AIC: 305.1917968196097\n",
            "ARIMAパラメータ(2, 1, 2), 季節変動パラメータ(0, 0, 0, 12) - AIC: 397.55188293073206\n",
            "ARIMAパラメータ(2, 1, 2), 季節変動パラメータ(0, 0, 1, 12) - AIC: 379.6374809439989\n",
            "ARIMAパラメータ(2, 1, 2), 季節変動パラメータ(0, 1, 0, 12) - AIC: 322.88565150911785\n",
            "ARIMAパラメータ(2, 1, 2), 季節変動パラメータ(0, 1, 1, 12) - AIC: 305.18418794040224\n",
            "ARIMAパラメータ(2, 1, 2), 季節変動パラメータ(1, 0, 0, 12) - AIC: 378.88992171882956\n",
            "ARIMAパラメータ(2, 1, 2), 季節変動パラメータ(1, 0, 1, 12) - AIC: 365.95922649286933\n",
            "ARIMAパラメータ(2, 1, 2), 季節変動パラメータ(1, 1, 0, 12) - AIC: 316.7900411637308\n",
            "ARIMAパラメータ(2, 1, 2), 季節変動パラメータ(1, 1, 1, 12) - AIC: 306.2455195594408\n",
            "AIC最小のモデル： [(1, 1, 1), (0, 1, 1, 12), 302.0302525908307]\n"
          ]
        }
      ],
      "source": [
        "import warnings\n",
        "warnings.filterwarnings(\"ignore\")\n",
        "\n",
        "best_result = [0, 0, 10000000]\n",
        "for param in pdq:\n",
        "    for param_seasonal in seasonal_pdq:\n",
        "        try:\n",
        "            mod = SARIMAX(y, order = param, seasonal_order = param_seasonal)\n",
        "            results = mod.fit()\n",
        "            print('ARIMAパラメータ{}, 季節変動パラメータ{} - AIC: {}'.format(param, param_seasonal, results.aic))\n",
        "            \n",
        "            if results.aic < best_result[2]:\n",
        "                best_result = [param, param_seasonal, results.aic]\n",
        "        except:\n",
        "            continue\n",
        "\n",
        "print('AIC最小のモデル：', best_result)"
      ]
    },
    {
      "cell_type": "markdown",
      "metadata": {
        "id": "2KesCudYS_R_"
      },
      "source": [
        "### 波形の予測"
      ]
    },
    {
      "cell_type": "markdown",
      "source": [
        "[exogは独立変数（説明変数）](https://it.senatus.jp/statsmodels%E3%81%AEendog%E3%82%84%E3%80%81exog%E3%81%A8%E3%81%AF%E4%BD%95%E3%81%8B%EF%BC%9F/)"
      ],
      "metadata": {
        "id": "Rtbq579wdn1n"
      }
    },
    {
      "cell_type": "code",
      "execution_count": null,
      "metadata": {
        "colab": {
          "base_uri": "https://localhost:8080/",
          "height": 610
        },
        "id": "8AJQwTsjS_SA",
        "outputId": "10a7aff9-40ab-4993-af0a-ee3e6f36e599"
      },
      "outputs": [
        {
          "output_type": "execute_result",
          "data": {
            "text/plain": [
              "[<matplotlib.lines.Line2D at 0x7ff49dd63c50>]"
            ]
          },
          "metadata": {},
          "execution_count": 28
        },
        {
          "output_type": "display_data",
          "data": {
            "text/plain": [
              "<Figure size 1440x720 with 1 Axes>"
            ],
            "image/png": "[encoded data removed]"
          },
          "metadata": {
            "needs_background": "light"
          }
        }
      ],
      "source": [
        "plt.figure(figsize=(20,10))\n",
        "bestPred = result.predict('2018-12', '2019-12',exog=df_test[[\"降水量の合計(mm)\",\"日照時間(時間)\"]])\n",
        "plt.plot(df[\"平均気温(℃)\"])\n",
        "plt.plot(bestPred, \"r\")"
      ]
    },
    {
      "cell_type": "code",
      "execution_count": null,
      "metadata": {
        "colab": {
          "base_uri": "https://localhost:8080/",
          "height": 457
        },
        "id": "tvftLOXCS_SA",
        "outputId": "a745e515-448c-44b0-b701-9f379b6247ec"
      },
      "outputs": [
        {
          "output_type": "execute_result",
          "data": {
            "text/plain": [
              "            predicted_mean\n",
              "2018-12-31        7.586499\n",
              "2019-01-31        5.843569\n",
              "2019-02-28        5.834012\n",
              "2019-03-31        9.583526\n",
              "2019-04-30       14.758296\n",
              "2019-05-31       19.846008\n",
              "2019-06-30       22.163614\n",
              "2019-07-31       25.507568\n",
              "2019-08-31       27.799539\n",
              "2019-09-30       23.975673\n",
              "2019-10-31       18.383389\n",
              "2019-11-30       13.379665\n",
              "2019-12-31        7.233408"
            ],
            "text/html": [
              "\n",
              "  <div id=\"df-3d73be83-1b99-4a52-80b3-48ad073545d7\">\n",
              "    <div class=\"colab-df-container\">\n",
              "      <div>\n",
              "<style scoped>\n",
              "    .dataframe tbody tr th:only-of-type {\n",
              "        vertical-align: middle;\n",
              "    }\n",
              "\n",
              "    .dataframe tbody tr th {\n",
              "        vertical-align: top;\n",
              "    }\n",
              "\n",
              "    .dataframe thead th {\n",
              "        text-align: right;\n",
              "    }\n",
              "</style>\n",
              "<table border=\"1\" class=\"dataframe\">\n",
              "  <thead>\n",
              "    <tr style=\"text-align: right;\">\n",
              "      <th></th>\n",
              "      <th>predicted_mean</th>\n",
              "    </tr>\n",
              "  </thead>\n",
              "  <tbody>\n",
              "    <tr>\n",
              "      <th>2018-12-31</th>\n",
              "      <td>7.586499</td>\n",
              "    </tr>\n",
              "    <tr>\n",
              "      <th>2019-01-31</th>\n",
              "      <td>5.843569</td>\n",
              "    </tr>\n",
              "    <tr>\n",
              "      <th>2019-02-28</th>\n",
              "      <td>5.834012</td>\n",
              "    </tr>\n",
              "    <tr>\n",
              "      <th>2019-03-31</th>\n",
              "      <td>9.583526</td>\n",
              "    </tr>\n",
              "    <tr>\n",
              "      <th>2019-04-30</th>\n",
              "      <td>14.758296</td>\n",
              "    </tr>\n",
              "    <tr>\n",
              "      <th>2019-05-31</th>\n",
              "      <td>19.846008</td>\n",
              "    </tr>\n",
              "    <tr>\n",
              "      <th>2019-06-30</th>\n",
              "      <td>22.163614</td>\n",
              "    </tr>\n",
              "    <tr>\n",
              "      <th>2019-07-31</th>\n",
              "      <td>25.507568</td>\n",
              "    </tr>\n",
              "    <tr>\n",
              "      <th>2019-08-31</th>\n",
              "      <td>27.799539</td>\n",
              "    </tr>\n",
              "    <tr>\n",
              "      <th>2019-09-30</th>\n",
              "      <td>23.975673</td>\n",
              "    </tr>\n",
              "    <tr>\n",
              "      <th>2019-10-31</th>\n",
              "      <td>18.383389</td>\n",
              "    </tr>\n",
              "    <tr>\n",
              "      <th>2019-11-30</th>\n",
              "      <td>13.379665</td>\n",
              "    </tr>\n",
              "    <tr>\n",
              "      <th>2019-12-31</th>\n",
              "      <td>7.233408</td>\n",
              "    </tr>\n",
              "  </tbody>\n",
              "</table>\n",
              "</div>\n",
              "      <button class=\"colab-df-convert\" onclick=\"convertToInteractive('df-3d73be83-1b99-4a52-80b3-48ad073545d7')\"\n",
              "              title=\"Convert this dataframe to an interactive table.\"\n",
              "              style=\"display:none;\">\n",
              "        \n",
              "  <svg xmlns=\"http://www.w3.org/2000/svg\" height=\"24px\"viewBox=\"0 0 24 24\"\n",
              "       width=\"24px\">\n",
              "    <path d=\"M0 0h24v24H0V0z\" fill=\"none\"/>\n",
              "    <path d=\"M18.56 5.44l.94 2.06.94-2.06 2.06-.94-2.06-.94-.94-2.06-.94 2.06-2.06.94zm-11 1L8.5 8.5l.94-2.06 2.06-.94-2.06-.94L8.5 2.5l-.94 2.06-2.06.94zm10 10l.94 2.06.94-2.06 2.06-.94-2.06-.94-.94-2.06-.94 2.06-2.06.94z\"/><path d=\"M17.41 7.96l-1.37-1.37c-.4-.4-.92-.59-1.43-.59-.52 0-1.04.2-1.43.59L10.3 9.45l-7.72 7.72c-.78.78-.78 2.05 0 2.83L4 21.41c.39.39.9.59 1.41.59.51 0 1.02-.2 1.41-.59l7.78-7.78 2.81-2.81c.8-.78.8-2.07 0-2.86zM5.41 20L4 18.59l7.72-7.72 1.47 1.35L5.41 20z\"/>\n",
              "  </svg>\n",
              "      </button>\n",
              "      \n",
              "  <style>\n",
              "    .colab-df-container {\n",
              "      display:flex;\n",
              "      flex-wrap:wrap;\n",
              "      gap: 12px;\n",
              "    }\n",
              "\n",
              "    .colab-df-convert {\n",
              "      background-color: #E8F0FE;\n",
              "      border: none;\n",
              "      border-radius: 50%;\n",
              "      cursor: pointer;\n",
              "      display: none;\n",
              "      fill: #1967D2;\n",
              "      height: 32px;\n",
              "      padding: 0 0 0 0;\n",
              "      width: 32px;\n",
              "    }\n",
              "\n",
              "    .colab-df-convert:hover {\n",
              "      background-color: #E2EBFA;\n",
              "      box-shadow: 0px 1px 2px rgba(60, 64, 67, 0.3), 0px 1px 3px 1px rgba(60, 64, 67, 0.15);\n",
              "      fill: #174EA6;\n",
              "    }\n",
              "\n",
              "    [theme=dark] .colab-df-convert {\n",
              "      background-color: #3B4455;\n",
              "      fill: #D2E3FC;\n",
              "    }\n",
              "\n",
              "    [theme=dark] .colab-df-convert:hover {\n",
              "      background-color: #434B5C;\n",
              "      box-shadow: 0px 1px 3px 1px rgba(0, 0, 0, 0.15);\n",
              "      filter: drop-shadow(0px 1px 2px rgba(0, 0, 0, 0.3));\n",
              "      fill: #FFFFFF;\n",
              "    }\n",
              "  </style>\n",
              "\n",
              "      <script>\n",
              "        const buttonEl =\n",
              "          document.querySelector('#df-3d73be83-1b99-4a52-80b3-48ad073545d7 button.colab-df-convert');\n",
              "        buttonEl.style.display =\n",
              "          google.colab.kernel.accessAllowed ? 'block' : 'none';\n",
              "\n",
              "        async function convertToInteractive(key) {\n",
              "          const element = document.querySelector('#df-3d73be83-1b99-4a52-80b3-48ad073545d7');\n",
              "          const dataTable =\n",
              "            await google.colab.kernel.invokeFunction('convertToInteractive',\n",
              "                                                     [key], {});\n",
              "          if (!dataTable) return;\n",
              "\n",
              "          const docLinkHtml = 'Like what you see? Visit the ' +\n",
              "            '<a target=\"_blank\" href=https://colab.research.google.com/notebooks/data_table.ipynb>data table notebook</a>'\n",
              "            + ' to learn more about interactive tables.';\n",
              "          element.innerHTML = '';\n",
              "          dataTable['output_type'] = 'display_data';\n",
              "          await google.colab.output.renderOutput(dataTable, element);\n",
              "          const docLink = document.createElement('div');\n",
              "          docLink.innerHTML = docLinkHtml;\n",
              "          element.appendChild(docLink);\n",
              "        }\n",
              "      </script>\n",
              "    </div>\n",
              "  </div>\n",
              "  "
            ]
          },
          "metadata": {},
          "execution_count": 19
        }
      ],
      "source": [
        "bestPred = pd.DataFrame(bestPred)\n",
        "bestPred"
      ]
    },
    {
      "cell_type": "code",
      "source": [
        "bestPred = bestPred[1:]\n",
        "bestPred"
      ],
      "metadata": {
        "colab": {
          "base_uri": "https://localhost:8080/",
          "height": 425
        },
        "id": "Y_RUfWRIbzOw",
        "outputId": "8895e4cf-50b1-439e-d861-3d6cb6307a9c"
      },
      "execution_count": null,
      "outputs": [
        {
          "output_type": "execute_result",
          "data": {
            "text/plain": [
              "            predicted_mean\n",
              "2019-01-31        5.843569\n",
              "2019-02-28        5.834012\n",
              "2019-03-31        9.583526\n",
              "2019-04-30       14.758296\n",
              "2019-05-31       19.846008\n",
              "2019-06-30       22.163614\n",
              "2019-07-31       25.507568\n",
              "2019-08-31       27.799539\n",
              "2019-09-30       23.975673\n",
              "2019-10-31       18.383389\n",
              "2019-11-30       13.379665\n",
              "2019-12-31        7.233408"
            ],
            "text/html": [
              "\n",
              "  <div id=\"df-a198bce7-a519-4dde-b21e-e8710186bc7e\">\n",
              "    <div class=\"colab-df-container\">\n",
              "      <div>\n",
              "<style scoped>\n",
              "    .dataframe tbody tr th:only-of-type {\n",
              "        vertical-align: middle;\n",
              "    }\n",
              "\n",
              "    .dataframe tbody tr th {\n",
              "        vertical-align: top;\n",
              "    }\n",
              "\n",
              "    .dataframe thead th {\n",
              "        text-align: right;\n",
              "    }\n",
              "</style>\n",
              "<table border=\"1\" class=\"dataframe\">\n",
              "  <thead>\n",
              "    <tr style=\"text-align: right;\">\n",
              "      <th></th>\n",
              "      <th>predicted_mean</th>\n",
              "    </tr>\n",
              "  </thead>\n",
              "  <tbody>\n",
              "    <tr>\n",
              "      <th>2019-01-31</th>\n",
              "      <td>5.843569</td>\n",
              "    </tr>\n",
              "    <tr>\n",
              "      <th>2019-02-28</th>\n",
              "      <td>5.834012</td>\n",
              "    </tr>\n",
              "    <tr>\n",
              "      <th>2019-03-31</th>\n",
              "      <td>9.583526</td>\n",
              "    </tr>\n",
              "    <tr>\n",
              "      <th>2019-04-30</th>\n",
              "      <td>14.758296</td>\n",
              "    </tr>\n",
              "    <tr>\n",
              "      <th>2019-05-31</th>\n",
              "      <td>19.846008</td>\n",
              "    </tr>\n",
              "    <tr>\n",
              "      <th>2019-06-30</th>\n",
              "      <td>22.163614</td>\n",
              "    </tr>\n",
              "    <tr>\n",
              "      <th>2019-07-31</th>\n",
              "      <td>25.507568</td>\n",
              "    </tr>\n",
              "    <tr>\n",
              "      <th>2019-08-31</th>\n",
              "      <td>27.799539</td>\n",
              "    </tr>\n",
              "    <tr>\n",
              "      <th>2019-09-30</th>\n",
              "      <td>23.975673</td>\n",
              "    </tr>\n",
              "    <tr>\n",
              "      <th>2019-10-31</th>\n",
              "      <td>18.383389</td>\n",
              "    </tr>\n",
              "    <tr>\n",
              "      <th>2019-11-30</th>\n",
              "      <td>13.379665</td>\n",
              "    </tr>\n",
              "    <tr>\n",
              "      <th>2019-12-31</th>\n",
              "      <td>7.233408</td>\n",
              "    </tr>\n",
              "  </tbody>\n",
              "</table>\n",
              "</div>\n",
              "      <button class=\"colab-df-convert\" onclick=\"convertToInteractive('df-a198bce7-a519-4dde-b21e-e8710186bc7e')\"\n",
              "              title=\"Convert this dataframe to an interactive table.\"\n",
              "              style=\"display:none;\">\n",
              "        \n",
              "  <svg xmlns=\"http://www.w3.org/2000/svg\" height=\"24px\"viewBox=\"0 0 24 24\"\n",
              "       width=\"24px\">\n",
              "    <path d=\"M0 0h24v24H0V0z\" fill=\"none\"/>\n",
              "    <path d=\"M18.56 5.44l.94 2.06.94-2.06 2.06-.94-2.06-.94-.94-2.06-.94 2.06-2.06.94zm-11 1L8.5 8.5l.94-2.06 2.06-.94-2.06-.94L8.5 2.5l-.94 2.06-2.06.94zm10 10l.94 2.06.94-2.06 2.06-.94-2.06-.94-.94-2.06-.94 2.06-2.06.94z\"/><path d=\"M17.41 7.96l-1.37-1.37c-.4-.4-.92-.59-1.43-.59-.52 0-1.04.2-1.43.59L10.3 9.45l-7.72 7.72c-.78.78-.78 2.05 0 2.83L4 21.41c.39.39.9.59 1.41.59.51 0 1.02-.2 1.41-.59l7.78-7.78 2.81-2.81c.8-.78.8-2.07 0-2.86zM5.41 20L4 18.59l7.72-7.72 1.47 1.35L5.41 20z\"/>\n",
              "  </svg>\n",
              "      </button>\n",
              "      \n",
              "  <style>\n",
              "    .colab-df-container {\n",
              "      display:flex;\n",
              "      flex-wrap:wrap;\n",
              "      gap: 12px;\n",
              "    }\n",
              "\n",
              "    .colab-df-convert {\n",
              "      background-color: #E8F0FE;\n",
              "      border: none;\n",
              "      border-radius: 50%;\n",
              "      cursor: pointer;\n",
              "      display: none;\n",
              "      fill: #1967D2;\n",
              "      height: 32px;\n",
              "      padding: 0 0 0 0;\n",
              "      width: 32px;\n",
              "    }\n",
              "\n",
              "    .colab-df-convert:hover {\n",
              "      background-color: #E2EBFA;\n",
              "      box-shadow: 0px 1px 2px rgba(60, 64, 67, 0.3), 0px 1px 3px 1px rgba(60, 64, 67, 0.15);\n",
              "      fill: #174EA6;\n",
              "    }\n",
              "\n",
              "    [theme=dark] .colab-df-convert {\n",
              "      background-color: #3B4455;\n",
              "      fill: #D2E3FC;\n",
              "    }\n",
              "\n",
              "    [theme=dark] .colab-df-convert:hover {\n",
              "      background-color: #434B5C;\n",
              "      box-shadow: 0px 1px 3px 1px rgba(0, 0, 0, 0.15);\n",
              "      filter: drop-shadow(0px 1px 2px rgba(0, 0, 0, 0.3));\n",
              "      fill: #FFFFFF;\n",
              "    }\n",
              "  </style>\n",
              "\n",
              "      <script>\n",
              "        const buttonEl =\n",
              "          document.querySelector('#df-a198bce7-a519-4dde-b21e-e8710186bc7e button.colab-df-convert');\n",
              "        buttonEl.style.display =\n",
              "          google.colab.kernel.accessAllowed ? 'block' : 'none';\n",
              "\n",
              "        async function convertToInteractive(key) {\n",
              "          const element = document.querySelector('#df-a198bce7-a519-4dde-b21e-e8710186bc7e');\n",
              "          const dataTable =\n",
              "            await google.colab.kernel.invokeFunction('convertToInteractive',\n",
              "                                                     [key], {});\n",
              "          if (!dataTable) return;\n",
              "\n",
              "          const docLinkHtml = 'Like what you see? Visit the ' +\n",
              "            '<a target=\"_blank\" href=https://colab.research.google.com/notebooks/data_table.ipynb>data table notebook</a>'\n",
              "            + ' to learn more about interactive tables.';\n",
              "          element.innerHTML = '';\n",
              "          dataTable['output_type'] = 'display_data';\n",
              "          await google.colab.output.renderOutput(dataTable, element);\n",
              "          const docLink = document.createElement('div');\n",
              "          docLink.innerHTML = docLinkHtml;\n",
              "          element.appendChild(docLink);\n",
              "        }\n",
              "      </script>\n",
              "    </div>\n",
              "  </div>\n",
              "  "
            ]
          },
          "metadata": {},
          "execution_count": 22
        }
      ]
    },
    {
      "cell_type": "code",
      "source": [
        "test_for_pred = df_test[\"平均気温(℃)\"]\n",
        "test_for_pred"
      ],
      "metadata": {
        "colab": {
          "base_uri": "https://localhost:8080/"
        },
        "id": "WMSpGwBTbXgB",
        "outputId": "6781ca09-0dd5-420c-b10d-aa7d13f633fe"
      },
      "execution_count": null,
      "outputs": [
        {
          "output_type": "execute_result",
          "data": {
            "text/plain": [
              "年月日\n",
              "2019-01-31     5.596774\n",
              "2019-02-28     7.189286\n",
              "2019-03-31    10.561290\n",
              "2019-04-30    13.640000\n",
              "2019-05-31    19.993548\n",
              "2019-06-30    21.773333\n",
              "2019-07-31    24.070968\n",
              "2019-08-31    28.396774\n",
              "2019-09-30    25.060000\n",
              "2019-10-31    19.425806\n",
              "2019-11-30    13.100000\n",
              "2019-12-31     8.474194\n",
              "Freq: M, Name: 平均気温(℃), dtype: float64"
            ]
          },
          "metadata": {},
          "execution_count": 23
        }
      ]
    },
    {
      "cell_type": "code",
      "execution_count": null,
      "metadata": {
        "colab": {
          "base_uri": "https://localhost:8080/"
        },
        "id": "j7x0wG2MS_SA",
        "outputId": "305ee12e-8c98-4a4a-d8bc-522942d5de88"
      },
      "outputs": [
        {
          "output_type": "stream",
          "name": "stdout",
          "text": [
            "RMSE 0.9389284544174549\n"
          ]
        }
      ],
      "source": [
        "import numpy as np\n",
        "from sklearn.metrics import mean_squared_error as MSE\n",
        "# y_trainと予測値のRMSEを出す\n",
        "test = df_test[\"平均気温(℃)\"]\n",
        "print(\"RMSE\",np.sqrt(MSE(test_for_pred,bestPred)))"
      ]
    }
  ],
  "metadata": {
    "kernelspec": {
      "display_name": "Python 3",
      "language": "python",
      "name": "python3"
    },
    "language_info": {
      "codemirror_mode": {
        "name": "ipython",
        "version": 3
      },
      "file_extension": ".py",
      "mimetype": "text/x-python",
      "name": "python",
      "nbconvert_exporter": "python",
      "pygments_lexer": "ipython3",
      "version": "3.7.4"
    },
    "colab": {
      "provenance": [],
      "include_colab_link": true
    }
  },
  "nbformat": 4,
  "nbformat_minor": 0
}