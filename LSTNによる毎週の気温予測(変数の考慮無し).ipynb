{
  "nbformat": 4,
  "nbformat_minor": 0,
  "metadata": {
    "colab": {
      "provenance": [],
      "collapsed_sections": [],
      "include_colab_link": true
    },
    "kernelspec": {
      "name": "python3",
      "display_name": "Python 3"
    },
    "language_info": {
      "name": "python"
    }
  },
  "cells": [
    {
      "cell_type": "markdown",
      "metadata": {
        "id": "view-in-github",
        "colab_type": "text"
      },
      "source": [
        "<a href=\"https://colab.research.google.com/github/Ken-huea/Time-series-analysis/blob/main/LSTN%E3%81%AB%E3%82%88%E3%82%8B%E6%AF%8E%E9%80%B1%E3%81%AE%E6%B0%97%E6%B8%A9%E4%BA%88%E6%B8%AC(%E5%A4%89%E6%95%B0%E3%81%AE%E8%80%83%E6%85%AE%E7%84%A1%E3%81%97).ipynb\" target=\"_parent\"><img src=\"https://colab.research.google.com/assets/colab-badge.svg\" alt=\"Open In Colab\"/></a>"
      ]
    },
    {
      "cell_type": "markdown",
      "source": [
        "[参考動画](https://www.youtube.com/watch?v=y-XvMZq33c4&t=2159s)\n",
        "\n",
        "[元データはこちら](https://analysis-navi.com/?p=3868)"
      ],
      "metadata": {
        "id": "SIJ-nLK8VYl0"
      }
    },
    {
      "cell_type": "markdown",
      "source": [
        "[清書元はこちら](https://colab.research.google.com/drive/1ya_JNmBPyGlFfK0-fvR6nVXfBAycTyyA#scrollTo=3-0WKomXN_oa)"
      ],
      "metadata": {
        "id": "wyiS58Enn27L"
      }
    },
    {
      "cell_type": "code",
      "execution_count": null,
      "metadata": {
        "id": "DGmQbJCRUQwc"
      },
      "outputs": [],
      "source": [
        "#いろいろインポート\n",
        "import tensorflow as tf #ディープラーニング用\n",
        "import pandas as pd\n",
        "import numpy as np\n",
        "from datetime import datetime\n",
        "import seaborn as sns\n",
        "import matplotlib.pyplot as plt"
      ]
    },
    {
      "cell_type": "markdown",
      "source": [
        "### データ読込と確認\n"
      ],
      "metadata": {
        "id": "vmz-qle8Uxfn"
      }
    },
    {
      "cell_type": "code",
      "source": [
        "df = pd.read_csv(\"/content/LSTNによる毎週の気温予測(変数の考慮無し).csv\",index_col=\"年月日\",encoding=\"shift_jis\",parse_dates=True)\n",
        "df.head(4)"
      ],
      "metadata": {
        "colab": {
          "base_uri": "https://localhost:8080/",
          "height": 206
        },
        "id": "yPQwjhnCUh9g",
        "outputId": "b6eabac1-d85c-413f-d5fb-dd859a94db73"
      },
      "execution_count": null,
      "outputs": [
        {
          "output_type": "execute_result",
          "data": {
            "text/plain": [
              "            平均気温(℃)  降水量の合計(mm)  日照時間(時間)\n",
              "年月日                                      \n",
              "2010-01-01      4.8         0.0       9.2\n",
              "2010-01-02      6.3         0.0       9.0\n",
              "2010-01-03      5.7         0.0       6.6\n",
              "2010-01-04      6.5         0.0       5.2"
            ],
            "text/html": [
              "\n",
              "  <div id=\"df-5e42a7eb-89d5-44e8-9c98-200e527f152e\">\n",
              "    <div class=\"colab-df-container\">\n",
              "      <div>\n",
              "<style scoped>\n",
              "    .dataframe tbody tr th:only-of-type {\n",
              "        vertical-align: middle;\n",
              "    }\n",
              "\n",
              "    .dataframe tbody tr th {\n",
              "        vertical-align: top;\n",
              "    }\n",
              "\n",
              "    .dataframe thead th {\n",
              "        text-align: right;\n",
              "    }\n",
              "</style>\n",
              "<table border=\"1\" class=\"dataframe\">\n",
              "  <thead>\n",
              "    <tr style=\"text-align: right;\">\n",
              "      <th></th>\n",
              "      <th>平均気温(℃)</th>\n",
              "      <th>降水量の合計(mm)</th>\n",
              "      <th>日照時間(時間)</th>\n",
              "    </tr>\n",
              "    <tr>\n",
              "      <th>年月日</th>\n",
              "      <th></th>\n",
              "      <th></th>\n",
              "      <th></th>\n",
              "    </tr>\n",
              "  </thead>\n",
              "  <tbody>\n",
              "    <tr>\n",
              "      <th>2010-01-01</th>\n",
              "      <td>4.8</td>\n",
              "      <td>0.0</td>\n",
              "      <td>9.2</td>\n",
              "    </tr>\n",
              "    <tr>\n",
              "      <th>2010-01-02</th>\n",
              "      <td>6.3</td>\n",
              "      <td>0.0</td>\n",
              "      <td>9.0</td>\n",
              "    </tr>\n",
              "    <tr>\n",
              "      <th>2010-01-03</th>\n",
              "      <td>5.7</td>\n",
              "      <td>0.0</td>\n",
              "      <td>6.6</td>\n",
              "    </tr>\n",
              "    <tr>\n",
              "      <th>2010-01-04</th>\n",
              "      <td>6.5</td>\n",
              "      <td>0.0</td>\n",
              "      <td>5.2</td>\n",
              "    </tr>\n",
              "  </tbody>\n",
              "</table>\n",
              "</div>\n",
              "      <button class=\"colab-df-convert\" onclick=\"convertToInteractive('df-5e42a7eb-89d5-44e8-9c98-200e527f152e')\"\n",
              "              title=\"Convert this dataframe to an interactive table.\"\n",
              "              style=\"display:none;\">\n",
              "        \n",
              "  <svg xmlns=\"http://www.w3.org/2000/svg\" height=\"24px\"viewBox=\"0 0 24 24\"\n",
              "       width=\"24px\">\n",
              "    <path d=\"M0 0h24v24H0V0z\" fill=\"none\"/>\n",
              "    <path d=\"M18.56 5.44l.94 2.06.94-2.06 2.06-.94-2.06-.94-.94-2.06-.94 2.06-2.06.94zm-11 1L8.5 8.5l.94-2.06 2.06-.94-2.06-.94L8.5 2.5l-.94 2.06-2.06.94zm10 10l.94 2.06.94-2.06 2.06-.94-2.06-.94-.94-2.06-.94 2.06-2.06.94z\"/><path d=\"M17.41 7.96l-1.37-1.37c-.4-.4-.92-.59-1.43-.59-.52 0-1.04.2-1.43.59L10.3 9.45l-7.72 7.72c-.78.78-.78 2.05 0 2.83L4 21.41c.39.39.9.59 1.41.59.51 0 1.02-.2 1.41-.59l7.78-7.78 2.81-2.81c.8-.78.8-2.07 0-2.86zM5.41 20L4 18.59l7.72-7.72 1.47 1.35L5.41 20z\"/>\n",
              "  </svg>\n",
              "      </button>\n",
              "      \n",
              "  <style>\n",
              "    .colab-df-container {\n",
              "      display:flex;\n",
              "      flex-wrap:wrap;\n",
              "      gap: 12px;\n",
              "    }\n",
              "\n",
              "    .colab-df-convert {\n",
              "      background-color: #E8F0FE;\n",
              "      border: none;\n",
              "      border-radius: 50%;\n",
              "      cursor: pointer;\n",
              "      display: none;\n",
              "      fill: #1967D2;\n",
              "      height: 32px;\n",
              "      padding: 0 0 0 0;\n",
              "      width: 32px;\n",
              "    }\n",
              "\n",
              "    .colab-df-convert:hover {\n",
              "      background-color: #E2EBFA;\n",
              "      box-shadow: 0px 1px 2px rgba(60, 64, 67, 0.3), 0px 1px 3px 1px rgba(60, 64, 67, 0.15);\n",
              "      fill: #174EA6;\n",
              "    }\n",
              "\n",
              "    [theme=dark] .colab-df-convert {\n",
              "      background-color: #3B4455;\n",
              "      fill: #D2E3FC;\n",
              "    }\n",
              "\n",
              "    [theme=dark] .colab-df-convert:hover {\n",
              "      background-color: #434B5C;\n",
              "      box-shadow: 0px 1px 3px 1px rgba(0, 0, 0, 0.15);\n",
              "      filter: drop-shadow(0px 1px 2px rgba(0, 0, 0, 0.3));\n",
              "      fill: #FFFFFF;\n",
              "    }\n",
              "  </style>\n",
              "\n",
              "      <script>\n",
              "        const buttonEl =\n",
              "          document.querySelector('#df-5e42a7eb-89d5-44e8-9c98-200e527f152e button.colab-df-convert');\n",
              "        buttonEl.style.display =\n",
              "          google.colab.kernel.accessAllowed ? 'block' : 'none';\n",
              "\n",
              "        async function convertToInteractive(key) {\n",
              "          const element = document.querySelector('#df-5e42a7eb-89d5-44e8-9c98-200e527f152e');\n",
              "          const dataTable =\n",
              "            await google.colab.kernel.invokeFunction('convertToInteractive',\n",
              "                                                     [key], {});\n",
              "          if (!dataTable) return;\n",
              "\n",
              "          const docLinkHtml = 'Like what you see? Visit the ' +\n",
              "            '<a target=\"_blank\" href=https://colab.research.google.com/notebooks/data_table.ipynb>data table notebook</a>'\n",
              "            + ' to learn more about interactive tables.';\n",
              "          element.innerHTML = '';\n",
              "          dataTable['output_type'] = 'display_data';\n",
              "          await google.colab.output.renderOutput(dataTable, element);\n",
              "          const docLink = document.createElement('div');\n",
              "          docLink.innerHTML = docLinkHtml;\n",
              "          element.appendChild(docLink);\n",
              "        }\n",
              "      </script>\n",
              "    </div>\n",
              "  </div>\n",
              "  "
            ]
          },
          "metadata": {},
          "execution_count": 2
        }
      ]
    },
    {
      "cell_type": "markdown",
      "source": [
        "今回はLSTNの変数無しなので[<font color=\"red\">降水量の合計(mm),\t日照時間(時間)</font>]をドロップします。"
      ],
      "metadata": {
        "id": "fbg5SANIU8y8"
      }
    },
    {
      "cell_type": "code",
      "source": [
        "df = df[[\"平均気温(℃)\"]]\n",
        "df.head(5)"
      ],
      "metadata": {
        "colab": {
          "base_uri": "https://localhost:8080/",
          "height": 237
        },
        "id": "BquTSWFTU8U8",
        "outputId": "18331a22-c24a-4522-8b80-4d5457c8e765"
      },
      "execution_count": null,
      "outputs": [
        {
          "output_type": "execute_result",
          "data": {
            "text/plain": [
              "            平均気温(℃)\n",
              "年月日                \n",
              "2010-01-01      4.8\n",
              "2010-01-02      6.3\n",
              "2010-01-03      5.7\n",
              "2010-01-04      6.5\n",
              "2010-01-05      7.3"
            ],
            "text/html": [
              "\n",
              "  <div id=\"df-37908e6b-e5f3-406d-8e53-0922186ee4f9\">\n",
              "    <div class=\"colab-df-container\">\n",
              "      <div>\n",
              "<style scoped>\n",
              "    .dataframe tbody tr th:only-of-type {\n",
              "        vertical-align: middle;\n",
              "    }\n",
              "\n",
              "    .dataframe tbody tr th {\n",
              "        vertical-align: top;\n",
              "    }\n",
              "\n",
              "    .dataframe thead th {\n",
              "        text-align: right;\n",
              "    }\n",
              "</style>\n",
              "<table border=\"1\" class=\"dataframe\">\n",
              "  <thead>\n",
              "    <tr style=\"text-align: right;\">\n",
              "      <th></th>\n",
              "      <th>平均気温(℃)</th>\n",
              "    </tr>\n",
              "    <tr>\n",
              "      <th>年月日</th>\n",
              "      <th></th>\n",
              "    </tr>\n",
              "  </thead>\n",
              "  <tbody>\n",
              "    <tr>\n",
              "      <th>2010-01-01</th>\n",
              "      <td>4.8</td>\n",
              "    </tr>\n",
              "    <tr>\n",
              "      <th>2010-01-02</th>\n",
              "      <td>6.3</td>\n",
              "    </tr>\n",
              "    <tr>\n",
              "      <th>2010-01-03</th>\n",
              "      <td>5.7</td>\n",
              "    </tr>\n",
              "    <tr>\n",
              "      <th>2010-01-04</th>\n",
              "      <td>6.5</td>\n",
              "    </tr>\n",
              "    <tr>\n",
              "      <th>2010-01-05</th>\n",
              "      <td>7.3</td>\n",
              "    </tr>\n",
              "  </tbody>\n",
              "</table>\n",
              "</div>\n",
              "      <button class=\"colab-df-convert\" onclick=\"convertToInteractive('df-37908e6b-e5f3-406d-8e53-0922186ee4f9')\"\n",
              "              title=\"Convert this dataframe to an interactive table.\"\n",
              "              style=\"display:none;\">\n",
              "        \n",
              "  <svg xmlns=\"http://www.w3.org/2000/svg\" height=\"24px\"viewBox=\"0 0 24 24\"\n",
              "       width=\"24px\">\n",
              "    <path d=\"M0 0h24v24H0V0z\" fill=\"none\"/>\n",
              "    <path d=\"M18.56 5.44l.94 2.06.94-2.06 2.06-.94-2.06-.94-.94-2.06-.94 2.06-2.06.94zm-11 1L8.5 8.5l.94-2.06 2.06-.94-2.06-.94L8.5 2.5l-.94 2.06-2.06.94zm10 10l.94 2.06.94-2.06 2.06-.94-2.06-.94-.94-2.06-.94 2.06-2.06.94z\"/><path d=\"M17.41 7.96l-1.37-1.37c-.4-.4-.92-.59-1.43-.59-.52 0-1.04.2-1.43.59L10.3 9.45l-7.72 7.72c-.78.78-.78 2.05 0 2.83L4 21.41c.39.39.9.59 1.41.59.51 0 1.02-.2 1.41-.59l7.78-7.78 2.81-2.81c.8-.78.8-2.07 0-2.86zM5.41 20L4 18.59l7.72-7.72 1.47 1.35L5.41 20z\"/>\n",
              "  </svg>\n",
              "      </button>\n",
              "      \n",
              "  <style>\n",
              "    .colab-df-container {\n",
              "      display:flex;\n",
              "      flex-wrap:wrap;\n",
              "      gap: 12px;\n",
              "    }\n",
              "\n",
              "    .colab-df-convert {\n",
              "      background-color: #E8F0FE;\n",
              "      border: none;\n",
              "      border-radius: 50%;\n",
              "      cursor: pointer;\n",
              "      display: none;\n",
              "      fill: #1967D2;\n",
              "      height: 32px;\n",
              "      padding: 0 0 0 0;\n",
              "      width: 32px;\n",
              "    }\n",
              "\n",
              "    .colab-df-convert:hover {\n",
              "      background-color: #E2EBFA;\n",
              "      box-shadow: 0px 1px 2px rgba(60, 64, 67, 0.3), 0px 1px 3px 1px rgba(60, 64, 67, 0.15);\n",
              "      fill: #174EA6;\n",
              "    }\n",
              "\n",
              "    [theme=dark] .colab-df-convert {\n",
              "      background-color: #3B4455;\n",
              "      fill: #D2E3FC;\n",
              "    }\n",
              "\n",
              "    [theme=dark] .colab-df-convert:hover {\n",
              "      background-color: #434B5C;\n",
              "      box-shadow: 0px 1px 3px 1px rgba(0, 0, 0, 0.15);\n",
              "      filter: drop-shadow(0px 1px 2px rgba(0, 0, 0, 0.3));\n",
              "      fill: #FFFFFF;\n",
              "    }\n",
              "  </style>\n",
              "\n",
              "      <script>\n",
              "        const buttonEl =\n",
              "          document.querySelector('#df-37908e6b-e5f3-406d-8e53-0922186ee4f9 button.colab-df-convert');\n",
              "        buttonEl.style.display =\n",
              "          google.colab.kernel.accessAllowed ? 'block' : 'none';\n",
              "\n",
              "        async function convertToInteractive(key) {\n",
              "          const element = document.querySelector('#df-37908e6b-e5f3-406d-8e53-0922186ee4f9');\n",
              "          const dataTable =\n",
              "            await google.colab.kernel.invokeFunction('convertToInteractive',\n",
              "                                                     [key], {});\n",
              "          if (!dataTable) return;\n",
              "\n",
              "          const docLinkHtml = 'Like what you see? Visit the ' +\n",
              "            '<a target=\"_blank\" href=https://colab.research.google.com/notebooks/data_table.ipynb>data table notebook</a>'\n",
              "            + ' to learn more about interactive tables.';\n",
              "          element.innerHTML = '';\n",
              "          dataTable['output_type'] = 'display_data';\n",
              "          await google.colab.output.renderOutput(dataTable, element);\n",
              "          const docLink = document.createElement('div');\n",
              "          docLink.innerHTML = docLinkHtml;\n",
              "          element.appendChild(docLink);\n",
              "        }\n",
              "      </script>\n",
              "    </div>\n",
              "  </div>\n",
              "  "
            ]
          },
          "metadata": {},
          "execution_count": 7
        }
      ]
    },
    {
      "cell_type": "markdown",
      "source": [
        "列(カラム)が多すぎるので、今回は月ごとの平均にまとめます。groupbyのように。"
      ],
      "metadata": {
        "id": "Z0vFe0PVWVqe"
      }
    },
    {
      "cell_type": "code",
      "source": [
        "df = df.resample(\"M\").mean() #週ごとに集計\n",
        "df"
      ],
      "metadata": {
        "colab": {
          "base_uri": "https://localhost:8080/",
          "height": 455
        },
        "id": "cKc9DIaFVV1u",
        "outputId": "c86c97e4-f8ab-4cd8-bba7-789c1b23bf36"
      },
      "execution_count": null,
      "outputs": [
        {
          "output_type": "execute_result",
          "data": {
            "text/plain": [
              "              平均気温(℃)\n",
              "年月日                  \n",
              "2010-01-31   7.022581\n",
              "2010-02-28   6.500000\n",
              "2010-03-31   9.096774\n",
              "2010-04-30  12.393333\n",
              "2010-05-31  18.951613\n",
              "...               ...\n",
              "2019-08-31  28.396774\n",
              "2019-09-30  25.060000\n",
              "2019-10-31  19.425806\n",
              "2019-11-30  13.100000\n",
              "2019-12-31   8.474194\n",
              "\n",
              "[120 rows x 1 columns]"
            ],
            "text/html": [
              "\n",
              "  <div id=\"df-44bfa3c4-cd40-4286-97a7-843b2cff0e27\">\n",
              "    <div class=\"colab-df-container\">\n",
              "      <div>\n",
              "<style scoped>\n",
              "    .dataframe tbody tr th:only-of-type {\n",
              "        vertical-align: middle;\n",
              "    }\n",
              "\n",
              "    .dataframe tbody tr th {\n",
              "        vertical-align: top;\n",
              "    }\n",
              "\n",
              "    .dataframe thead th {\n",
              "        text-align: right;\n",
              "    }\n",
              "</style>\n",
              "<table border=\"1\" class=\"dataframe\">\n",
              "  <thead>\n",
              "    <tr style=\"text-align: right;\">\n",
              "      <th></th>\n",
              "      <th>平均気温(℃)</th>\n",
              "    </tr>\n",
              "    <tr>\n",
              "      <th>年月日</th>\n",
              "      <th></th>\n",
              "    </tr>\n",
              "  </thead>\n",
              "  <tbody>\n",
              "    <tr>\n",
              "      <th>2010-01-31</th>\n",
              "      <td>7.022581</td>\n",
              "    </tr>\n",
              "    <tr>\n",
              "      <th>2010-02-28</th>\n",
              "      <td>6.500000</td>\n",
              "    </tr>\n",
              "    <tr>\n",
              "      <th>2010-03-31</th>\n",
              "      <td>9.096774</td>\n",
              "    </tr>\n",
              "    <tr>\n",
              "      <th>2010-04-30</th>\n",
              "      <td>12.393333</td>\n",
              "    </tr>\n",
              "    <tr>\n",
              "      <th>2010-05-31</th>\n",
              "      <td>18.951613</td>\n",
              "    </tr>\n",
              "    <tr>\n",
              "      <th>...</th>\n",
              "      <td>...</td>\n",
              "    </tr>\n",
              "    <tr>\n",
              "      <th>2019-08-31</th>\n",
              "      <td>28.396774</td>\n",
              "    </tr>\n",
              "    <tr>\n",
              "      <th>2019-09-30</th>\n",
              "      <td>25.060000</td>\n",
              "    </tr>\n",
              "    <tr>\n",
              "      <th>2019-10-31</th>\n",
              "      <td>19.425806</td>\n",
              "    </tr>\n",
              "    <tr>\n",
              "      <th>2019-11-30</th>\n",
              "      <td>13.100000</td>\n",
              "    </tr>\n",
              "    <tr>\n",
              "      <th>2019-12-31</th>\n",
              "      <td>8.474194</td>\n",
              "    </tr>\n",
              "  </tbody>\n",
              "</table>\n",
              "<p>120 rows × 1 columns</p>\n",
              "</div>\n",
              "      <button class=\"colab-df-convert\" onclick=\"convertToInteractive('df-44bfa3c4-cd40-4286-97a7-843b2cff0e27')\"\n",
              "              title=\"Convert this dataframe to an interactive table.\"\n",
              "              style=\"display:none;\">\n",
              "        \n",
              "  <svg xmlns=\"http://www.w3.org/2000/svg\" height=\"24px\"viewBox=\"0 0 24 24\"\n",
              "       width=\"24px\">\n",
              "    <path d=\"M0 0h24v24H0V0z\" fill=\"none\"/>\n",
              "    <path d=\"M18.56 5.44l.94 2.06.94-2.06 2.06-.94-2.06-.94-.94-2.06-.94 2.06-2.06.94zm-11 1L8.5 8.5l.94-2.06 2.06-.94-2.06-.94L8.5 2.5l-.94 2.06-2.06.94zm10 10l.94 2.06.94-2.06 2.06-.94-2.06-.94-.94-2.06-.94 2.06-2.06.94z\"/><path d=\"M17.41 7.96l-1.37-1.37c-.4-.4-.92-.59-1.43-.59-.52 0-1.04.2-1.43.59L10.3 9.45l-7.72 7.72c-.78.78-.78 2.05 0 2.83L4 21.41c.39.39.9.59 1.41.59.51 0 1.02-.2 1.41-.59l7.78-7.78 2.81-2.81c.8-.78.8-2.07 0-2.86zM5.41 20L4 18.59l7.72-7.72 1.47 1.35L5.41 20z\"/>\n",
              "  </svg>\n",
              "      </button>\n",
              "      \n",
              "  <style>\n",
              "    .colab-df-container {\n",
              "      display:flex;\n",
              "      flex-wrap:wrap;\n",
              "      gap: 12px;\n",
              "    }\n",
              "\n",
              "    .colab-df-convert {\n",
              "      background-color: #E8F0FE;\n",
              "      border: none;\n",
              "      border-radius: 50%;\n",
              "      cursor: pointer;\n",
              "      display: none;\n",
              "      fill: #1967D2;\n",
              "      height: 32px;\n",
              "      padding: 0 0 0 0;\n",
              "      width: 32px;\n",
              "    }\n",
              "\n",
              "    .colab-df-convert:hover {\n",
              "      background-color: #E2EBFA;\n",
              "      box-shadow: 0px 1px 2px rgba(60, 64, 67, 0.3), 0px 1px 3px 1px rgba(60, 64, 67, 0.15);\n",
              "      fill: #174EA6;\n",
              "    }\n",
              "\n",
              "    [theme=dark] .colab-df-convert {\n",
              "      background-color: #3B4455;\n",
              "      fill: #D2E3FC;\n",
              "    }\n",
              "\n",
              "    [theme=dark] .colab-df-convert:hover {\n",
              "      background-color: #434B5C;\n",
              "      box-shadow: 0px 1px 3px 1px rgba(0, 0, 0, 0.15);\n",
              "      filter: drop-shadow(0px 1px 2px rgba(0, 0, 0, 0.3));\n",
              "      fill: #FFFFFF;\n",
              "    }\n",
              "  </style>\n",
              "\n",
              "      <script>\n",
              "        const buttonEl =\n",
              "          document.querySelector('#df-44bfa3c4-cd40-4286-97a7-843b2cff0e27 button.colab-df-convert');\n",
              "        buttonEl.style.display =\n",
              "          google.colab.kernel.accessAllowed ? 'block' : 'none';\n",
              "\n",
              "        async function convertToInteractive(key) {\n",
              "          const element = document.querySelector('#df-44bfa3c4-cd40-4286-97a7-843b2cff0e27');\n",
              "          const dataTable =\n",
              "            await google.colab.kernel.invokeFunction('convertToInteractive',\n",
              "                                                     [key], {});\n",
              "          if (!dataTable) return;\n",
              "\n",
              "          const docLinkHtml = 'Like what you see? Visit the ' +\n",
              "            '<a target=\"_blank\" href=https://colab.research.google.com/notebooks/data_table.ipynb>data table notebook</a>'\n",
              "            + ' to learn more about interactive tables.';\n",
              "          element.innerHTML = '';\n",
              "          dataTable['output_type'] = 'display_data';\n",
              "          await google.colab.output.renderOutput(dataTable, element);\n",
              "          const docLink = document.createElement('div');\n",
              "          docLink.innerHTML = docLinkHtml;\n",
              "          element.appendChild(docLink);\n",
              "        }\n",
              "      </script>\n",
              "    </div>\n",
              "  </div>\n",
              "  "
            ]
          },
          "metadata": {},
          "execution_count": 11
        }
      ]
    },
    {
      "cell_type": "markdown",
      "source": [
        "### データ正規化と分割"
      ],
      "metadata": {
        "id": "3clD36ThBH0B"
      }
    },
    {
      "cell_type": "markdown",
      "source": [
        "ディープラーニング用に<font color=\"red\">0〜1にスケーリング</font>。\n",
        "\n",
        "すべての値を0～1の範囲に収めます。-30°や20°も全て0～1の範囲に収め、dfに格納し直します。\n",
        "\n",
        "<font color=\"red\">何故そんなことを？</font>\n",
        "\n",
        "ディープラーニングの時系列分析の際は、細かい事は気にせずにこういうものだと割り切ってもらえれば。後で調べます。"
      ],
      "metadata": {
        "id": "ai2RoKGtWi54"
      }
    },
    {
      "cell_type": "code",
      "source": [
        "#その為のモジュールをインポート\n",
        "from sklearn.preprocessing import MinMaxScaler\n",
        "\n",
        "scaler = MinMaxScaler(feature_range=(0, 1)) # 範囲設定\n",
        "\n",
        "# fitさせます。dfの要素をscalerに適合させindexとcloumnsも指定します。\n",
        "df_scale = pd.DataFrame(scaler.fit_transform(df),index=df.index,columns=df.columns)\n",
        "\n",
        "\n",
        "# 確認 ⇒ 平均気温(℃) が0～1 の範囲に収まっているでしょう。\n",
        "df_scale.head()"
      ],
      "metadata": {
        "colab": {
          "base_uri": "https://localhost:8080/",
          "height": 237
        },
        "id": "L8P0UUpZWdHI",
        "outputId": "bb00b785-09da-42e2-d3d5-e46322f3f42e"
      },
      "execution_count": null,
      "outputs": [
        {
          "output_type": "execute_result",
          "data": {
            "text/plain": [
              "             平均気温(℃)\n",
              "年月日                 \n",
              "2010-01-31  0.094783\n",
              "2010-02-28  0.073864\n",
              "2010-03-31  0.177815\n",
              "2010-04-30  0.309780\n",
              "2010-05-31  0.572314"
            ],
            "text/html": [
              "\n",
              "  <div id=\"df-4578347e-a0d0-46e7-9a2e-635f11c0289f\">\n",
              "    <div class=\"colab-df-container\">\n",
              "      <div>\n",
              "<style scoped>\n",
              "    .dataframe tbody tr th:only-of-type {\n",
              "        vertical-align: middle;\n",
              "    }\n",
              "\n",
              "    .dataframe tbody tr th {\n",
              "        vertical-align: top;\n",
              "    }\n",
              "\n",
              "    .dataframe thead th {\n",
              "        text-align: right;\n",
              "    }\n",
              "</style>\n",
              "<table border=\"1\" class=\"dataframe\">\n",
              "  <thead>\n",
              "    <tr style=\"text-align: right;\">\n",
              "      <th></th>\n",
              "      <th>平均気温(℃)</th>\n",
              "    </tr>\n",
              "    <tr>\n",
              "      <th>年月日</th>\n",
              "      <th></th>\n",
              "    </tr>\n",
              "  </thead>\n",
              "  <tbody>\n",
              "    <tr>\n",
              "      <th>2010-01-31</th>\n",
              "      <td>0.094783</td>\n",
              "    </tr>\n",
              "    <tr>\n",
              "      <th>2010-02-28</th>\n",
              "      <td>0.073864</td>\n",
              "    </tr>\n",
              "    <tr>\n",
              "      <th>2010-03-31</th>\n",
              "      <td>0.177815</td>\n",
              "    </tr>\n",
              "    <tr>\n",
              "      <th>2010-04-30</th>\n",
              "      <td>0.309780</td>\n",
              "    </tr>\n",
              "    <tr>\n",
              "      <th>2010-05-31</th>\n",
              "      <td>0.572314</td>\n",
              "    </tr>\n",
              "  </tbody>\n",
              "</table>\n",
              "</div>\n",
              "      <button class=\"colab-df-convert\" onclick=\"convertToInteractive('df-4578347e-a0d0-46e7-9a2e-635f11c0289f')\"\n",
              "              title=\"Convert this dataframe to an interactive table.\"\n",
              "              style=\"display:none;\">\n",
              "        \n",
              "  <svg xmlns=\"http://www.w3.org/2000/svg\" height=\"24px\"viewBox=\"0 0 24 24\"\n",
              "       width=\"24px\">\n",
              "    <path d=\"M0 0h24v24H0V0z\" fill=\"none\"/>\n",
              "    <path d=\"M18.56 5.44l.94 2.06.94-2.06 2.06-.94-2.06-.94-.94-2.06-.94 2.06-2.06.94zm-11 1L8.5 8.5l.94-2.06 2.06-.94-2.06-.94L8.5 2.5l-.94 2.06-2.06.94zm10 10l.94 2.06.94-2.06 2.06-.94-2.06-.94-.94-2.06-.94 2.06-2.06.94z\"/><path d=\"M17.41 7.96l-1.37-1.37c-.4-.4-.92-.59-1.43-.59-.52 0-1.04.2-1.43.59L10.3 9.45l-7.72 7.72c-.78.78-.78 2.05 0 2.83L4 21.41c.39.39.9.59 1.41.59.51 0 1.02-.2 1.41-.59l7.78-7.78 2.81-2.81c.8-.78.8-2.07 0-2.86zM5.41 20L4 18.59l7.72-7.72 1.47 1.35L5.41 20z\"/>\n",
              "  </svg>\n",
              "      </button>\n",
              "      \n",
              "  <style>\n",
              "    .colab-df-container {\n",
              "      display:flex;\n",
              "      flex-wrap:wrap;\n",
              "      gap: 12px;\n",
              "    }\n",
              "\n",
              "    .colab-df-convert {\n",
              "      background-color: #E8F0FE;\n",
              "      border: none;\n",
              "      border-radius: 50%;\n",
              "      cursor: pointer;\n",
              "      display: none;\n",
              "      fill: #1967D2;\n",
              "      height: 32px;\n",
              "      padding: 0 0 0 0;\n",
              "      width: 32px;\n",
              "    }\n",
              "\n",
              "    .colab-df-convert:hover {\n",
              "      background-color: #E2EBFA;\n",
              "      box-shadow: 0px 1px 2px rgba(60, 64, 67, 0.3), 0px 1px 3px 1px rgba(60, 64, 67, 0.15);\n",
              "      fill: #174EA6;\n",
              "    }\n",
              "\n",
              "    [theme=dark] .colab-df-convert {\n",
              "      background-color: #3B4455;\n",
              "      fill: #D2E3FC;\n",
              "    }\n",
              "\n",
              "    [theme=dark] .colab-df-convert:hover {\n",
              "      background-color: #434B5C;\n",
              "      box-shadow: 0px 1px 3px 1px rgba(0, 0, 0, 0.15);\n",
              "      filter: drop-shadow(0px 1px 2px rgba(0, 0, 0, 0.3));\n",
              "      fill: #FFFFFF;\n",
              "    }\n",
              "  </style>\n",
              "\n",
              "      <script>\n",
              "        const buttonEl =\n",
              "          document.querySelector('#df-4578347e-a0d0-46e7-9a2e-635f11c0289f button.colab-df-convert');\n",
              "        buttonEl.style.display =\n",
              "          google.colab.kernel.accessAllowed ? 'block' : 'none';\n",
              "\n",
              "        async function convertToInteractive(key) {\n",
              "          const element = document.querySelector('#df-4578347e-a0d0-46e7-9a2e-635f11c0289f');\n",
              "          const dataTable =\n",
              "            await google.colab.kernel.invokeFunction('convertToInteractive',\n",
              "                                                     [key], {});\n",
              "          if (!dataTable) return;\n",
              "\n",
              "          const docLinkHtml = 'Like what you see? Visit the ' +\n",
              "            '<a target=\"_blank\" href=https://colab.research.google.com/notebooks/data_table.ipynb>data table notebook</a>'\n",
              "            + ' to learn more about interactive tables.';\n",
              "          element.innerHTML = '';\n",
              "          dataTable['output_type'] = 'display_data';\n",
              "          await google.colab.output.renderOutput(dataTable, element);\n",
              "          const docLink = document.createElement('div');\n",
              "          docLink.innerHTML = docLinkHtml;\n",
              "          element.appendChild(docLink);\n",
              "        }\n",
              "      </script>\n",
              "    </div>\n",
              "  </div>\n",
              "  "
            ]
          },
          "metadata": {},
          "execution_count": 12
        }
      ]
    },
    {
      "cell_type": "markdown",
      "source": [
        "データ分割。LSTN用のデータ分割です。"
      ],
      "metadata": {
        "id": "U-Zg_8FKa4tz"
      }
    },
    {
      "cell_type": "code",
      "source": [
        "look_back = 30 #どれくらい過去まで見るか\n",
        "\n",
        "def create_input_data(data, look_back):    \n",
        "    raw_data = data.T.values.tolist()\n",
        "    data_size = len(data) - look_back\n",
        "\n",
        "    X = [[] for i in range(len(raw_data))] \n",
        "    y = [[] for i in range(len(raw_data))] \n",
        "\n",
        "    for i in range(data_size):\n",
        "        for j in range(len(raw_data)):\n",
        "            X[j].append(raw_data[j][i:i + look_back])\n",
        "            y[j].append([raw_data[j][i + look_back]])\n",
        "\n",
        "    X_tmp = X[-1]\n",
        "    y_tmp = y[-1]\n",
        "    \n",
        "    for i in range(len(raw_data)-1):\n",
        "        X_tmp = np.insert(X_tmp,np.arange(0, (look_back-1)*(i+1)+1, i+1),X[-i-2],axis=1)\n",
        "        y_tmp = np.insert(y_tmp,np.arange(0, (i+1), i+1),y[-i-2],axis=1)\n",
        "    \n",
        "    X = np.array(X_tmp).reshape(data_size, look_back, len(raw_data))\n",
        "    y = np.array(y_tmp).reshape(data_size, 1, len(raw_data))\n",
        "    \n",
        "    return y, X\n",
        "    "
      ],
      "metadata": {
        "id": "rigv3uJkbojN"
      },
      "execution_count": null,
      "outputs": []
    },
    {
      "cell_type": "code",
      "source": [
        "y_train,X_train = create_input_data(\n",
        "    data=df_scale,\n",
        "    look_back=look_back\n",
        ")\n",
        "\n",
        "y_test,X_test = create_input_data(\n",
        "    data=df_scale,\n",
        "    look_back=look_back\n",
        ")"
      ],
      "metadata": {
        "id": "XPIsl4zMDYZB"
      },
      "execution_count": null,
      "outputs": []
    },
    {
      "cell_type": "code",
      "source": [
        "X_train.shape,y_train.shape,X_test.shape,y_test.shape"
      ],
      "metadata": {
        "colab": {
          "base_uri": "https://localhost:8080/"
        },
        "id": "pGp-6z_BDu83",
        "outputId": "274a8d92-7b4a-45e8-b9c0-9c0d5bc75957"
      },
      "execution_count": null,
      "outputs": [
        {
          "output_type": "execute_result",
          "data": {
            "text/plain": [
              "((90, 30, 1), (90, 1, 1), (90, 30, 1), (90, 1, 1))"
            ]
          },
          "metadata": {},
          "execution_count": 35
        }
      ]
    },
    {
      "cell_type": "markdown",
      "source": [
        "### モデルの定義と学習\n",
        "⇒質問"
      ],
      "metadata": {
        "id": "yGI-9TcCY-sy"
      }
    },
    {
      "cell_type": "code",
      "source": [
        "# 各モジュールへのインポート。\n",
        "from tensorflow.keras.models import Sequential\n",
        "from tensorflow.keras.layers import Dense, Activation\n",
        "from tensorflow.keras.layers import LSTM\n",
        "from tensorflow.keras.optimizers import Adam"
      ],
      "metadata": {
        "id": "856S8kjce_Tz"
      },
      "execution_count": null,
      "outputs": []
    },
    {
      "cell_type": "markdown",
      "source": [
        "input shape というのは決まってます。こういうものだと。\n",
        "そしてLSTMのユニットをいくつ作成するか。\n",
        "\n",
        "⇒最善が分からないので<font color=\"red\">試行錯誤して結果を確認しながら調整</font>しましょう。手間ですけど。"
      ],
      "metadata": {
        "id": "Z4Xh4eE4ff2E"
      }
    },
    {
      "cell_type": "code",
      "source": [
        "X_train.shape,y_train.shape,X_test.shape,y_test.shape"
      ],
      "metadata": {
        "colab": {
          "base_uri": "https://localhost:8080/"
        },
        "id": "M9EMGtpwD5Av",
        "outputId": "fb73ce9e-6500-4157-f846-90f9fb3c8580"
      },
      "execution_count": null,
      "outputs": [
        {
          "output_type": "execute_result",
          "data": {
            "text/plain": [
              "((90, 30, 1), (90, 1, 1), (90, 30, 1), (90, 1, 1))"
            ]
          },
          "metadata": {},
          "execution_count": 37
        }
      ]
    },
    {
      "cell_type": "code",
      "source": [
        "# モデルのインスタンス化\n",
        "model = Sequential()\n",
        "\n",
        "\n",
        "x = model.add(LSTM(4, return_sequences=True, input_shape=(X_train.shape[1],X_train.shape[2])))\n",
        "model.add(LSTM(8))\n",
        "model.add(Dense(len(df.columns))) #出力層はデータ数に合わせる"
      ],
      "metadata": {
        "id": "YFQEq-TOfcLU"
      },
      "execution_count": null,
      "outputs": []
    },
    {
      "cell_type": "markdown",
      "source": [
        "学習実行"
      ],
      "metadata": {
        "id": "_DVTmcaZhd2K"
      }
    },
    {
      "cell_type": "markdown",
      "source": [
        "<font color=\"red\">エポックは何週するのか？</font>一応学習すればするほど、どんどん誤差が小さくなってきて頭打ちになるはずです。その頭打ちを狙いましょう。\n",
        "\n",
        "<font color=\"red\">バッチサイズ</font>はデータを一気に入れると大変だからどのくらい小分けにするの？という話。\n",
        "\n",
        "時間を取るかメモリ効率を取るか。⇒画像とやると1000とか回す必要がある。"
      ],
      "metadata": {
        "id": "az5c7o73hocC"
      }
    },
    {
      "cell_type": "markdown",
      "source": [
        "損失関数の設定。数値を予測するときは､平方二乗誤差。⇒評価値。小さいほど良いです。\n",
        "\n",
        "optimizer⇒基本的には分からないので<font color=\"red\">試行錯誤</font>して結果を確認しながら調整しましょう。他候補は、SGD AdaGrad 等\n",
        "\n",
        "これがないと下記がエラーになります。\n",
        "⇒\n",
        "\n",
        "RuntimeError: You must compile your model before training/testing. Use `model.compile(optimizer, loss)`.\n",
        "\n",
        "```\n",
        "history = model.fit(X_train, y_train, epochs=50, batch_size=1)\n",
        "```\n",
        "\n",
        "多分だけど、学習するときのどの基準を定めるのだと思う。\n",
        "<font color=\"red\">rmse</font>を良い結果にしたいです。みたいな。\n"
      ],
      "metadata": {
        "id": "8zGz6tOtgI7D"
      }
    },
    {
      "cell_type": "code",
      "source": [
        "model.compile(loss='mean_squared_error', optimizer='adam')"
      ],
      "metadata": {
        "id": "Y2_0DT7yrLzD"
      },
      "execution_count": null,
      "outputs": []
    },
    {
      "cell_type": "code",
      "source": [
        "# ハイパーパラメータ\n",
        "batch_size = 128  # バッチサイズ 32,64,128,256,512 あたり\n",
        "epochs = 50       # エポック数(学習の繰り返し回数)\n",
        "val_split = 0.1   # 訓練データのうちx%をvalidation dataとして分割して使います。\n",
        "pati_time = 10    # y回学習しても向上しない場合は学習を打ち切ります。\n",
        "\n",
        "\n",
        "from keras import callbacks                   # コールバック（1epoch終了毎に呼び出される）\n",
        "\n",
        "    # 構築したモデルで学習（学習データ:trainのうち、10％を検証データ:validationとして使用）\n",
        "history = model.fit(X_train, \n",
        "                    y_train, \n",
        "                    batch_size=batch_size, \n",
        "                    epochs=epochs, \n",
        "                    verbose=1, \n",
        "                    validation_split=val_split,\n",
        "                        callbacks=[\n",
        "                            callbacks.EarlyStopping(monitor='val_loss',patience = pati_time),\n",
        "                            callbacks.ModelCheckpoint(filepath = './model/best_model.h5',monitor='val_loss', save_best_only=True)\n",
        "                            ]\n",
        "                    )"
      ],
      "metadata": {
        "colab": {
          "base_uri": "https://localhost:8080/"
        },
        "id": "AcGfYtwjGXnf",
        "outputId": "ff1d5ec3-5044-4f24-f7a3-8fd1866e70f9"
      },
      "execution_count": null,
      "outputs": [
        {
          "output_type": "stream",
          "name": "stdout",
          "text": [
            "Epoch 1/50\n",
            "1/1 [==============================] - 0s 105ms/step - loss: 0.1542 - val_loss: 0.1811\n",
            "Epoch 2/50\n",
            "1/1 [==============================] - 0s 72ms/step - loss: 0.1498 - val_loss: 0.1747\n",
            "Epoch 3/50\n",
            "1/1 [==============================] - 0s 80ms/step - loss: 0.1456 - val_loss: 0.1685\n",
            "Epoch 4/50\n",
            "1/1 [==============================] - 0s 88ms/step - loss: 0.1416 - val_loss: 0.1624\n",
            "Epoch 5/50\n",
            "1/1 [==============================] - 0s 79ms/step - loss: 0.1377 - val_loss: 0.1564\n",
            "Epoch 6/50\n",
            "1/1 [==============================] - 0s 79ms/step - loss: 0.1340 - val_loss: 0.1506\n",
            "Epoch 7/50\n",
            "1/1 [==============================] - 0s 77ms/step - loss: 0.1305 - val_loss: 0.1450\n",
            "Epoch 8/50\n",
            "1/1 [==============================] - 0s 83ms/step - loss: 0.1271 - val_loss: 0.1395\n",
            "Epoch 9/50\n",
            "1/1 [==============================] - 0s 80ms/step - loss: 0.1239 - val_loss: 0.1342\n",
            "Epoch 10/50\n",
            "1/1 [==============================] - 0s 76ms/step - loss: 0.1209 - val_loss: 0.1291\n",
            "Epoch 11/50\n",
            "1/1 [==============================] - 0s 76ms/step - loss: 0.1181 - val_loss: 0.1241\n",
            "Epoch 12/50\n",
            "1/1 [==============================] - 0s 74ms/step - loss: 0.1155 - val_loss: 0.1194\n",
            "Epoch 13/50\n",
            "1/1 [==============================] - 0s 75ms/step - loss: 0.1131 - val_loss: 0.1149\n",
            "Epoch 14/50\n",
            "1/1 [==============================] - 0s 80ms/step - loss: 0.1108 - val_loss: 0.1105\n",
            "Epoch 15/50\n",
            "1/1 [==============================] - 0s 82ms/step - loss: 0.1088 - val_loss: 0.1064\n",
            "Epoch 16/50\n",
            "1/1 [==============================] - 0s 79ms/step - loss: 0.1070 - val_loss: 0.1025\n",
            "Epoch 17/50\n",
            "1/1 [==============================] - 0s 77ms/step - loss: 0.1053 - val_loss: 0.0989\n",
            "Epoch 18/50\n",
            "1/1 [==============================] - 0s 82ms/step - loss: 0.1039 - val_loss: 0.0955\n",
            "Epoch 19/50\n",
            "1/1 [==============================] - 0s 85ms/step - loss: 0.1027 - val_loss: 0.0923\n",
            "Epoch 20/50\n",
            "1/1 [==============================] - 0s 73ms/step - loss: 0.1016 - val_loss: 0.0893\n",
            "Epoch 21/50\n",
            "1/1 [==============================] - 0s 88ms/step - loss: 0.1007 - val_loss: 0.0866\n",
            "Epoch 22/50\n",
            "1/1 [==============================] - 0s 81ms/step - loss: 0.1000 - val_loss: 0.0841\n",
            "Epoch 23/50\n",
            "1/1 [==============================] - 0s 80ms/step - loss: 0.0995 - val_loss: 0.0819\n",
            "Epoch 24/50\n",
            "1/1 [==============================] - 0s 71ms/step - loss: 0.0991 - val_loss: 0.0799\n",
            "Epoch 25/50\n",
            "1/1 [==============================] - 0s 80ms/step - loss: 0.0988 - val_loss: 0.0781\n",
            "Epoch 26/50\n",
            "1/1 [==============================] - 0s 80ms/step - loss: 0.0986 - val_loss: 0.0765\n",
            "Epoch 27/50\n",
            "1/1 [==============================] - 0s 86ms/step - loss: 0.0986 - val_loss: 0.0751\n",
            "Epoch 28/50\n",
            "1/1 [==============================] - 0s 71ms/step - loss: 0.0986 - val_loss: 0.0739\n",
            "Epoch 29/50\n",
            "1/1 [==============================] - 0s 72ms/step - loss: 0.0986 - val_loss: 0.0729\n",
            "Epoch 30/50\n",
            "1/1 [==============================] - 0s 74ms/step - loss: 0.0987 - val_loss: 0.0720\n",
            "Epoch 31/50\n",
            "1/1 [==============================] - 0s 75ms/step - loss: 0.0988 - val_loss: 0.0713\n",
            "Epoch 32/50\n",
            "1/1 [==============================] - 0s 75ms/step - loss: 0.0989 - val_loss: 0.0708\n",
            "Epoch 33/50\n",
            "1/1 [==============================] - 0s 91ms/step - loss: 0.0990 - val_loss: 0.0703\n",
            "Epoch 34/50\n",
            "1/1 [==============================] - 0s 81ms/step - loss: 0.0991 - val_loss: 0.0700\n",
            "Epoch 35/50\n",
            "1/1 [==============================] - 0s 75ms/step - loss: 0.0991 - val_loss: 0.0697\n",
            "Epoch 36/50\n",
            "1/1 [==============================] - 0s 73ms/step - loss: 0.0991 - val_loss: 0.0696\n",
            "Epoch 37/50\n",
            "1/1 [==============================] - 0s 78ms/step - loss: 0.0991 - val_loss: 0.0695\n",
            "Epoch 38/50\n",
            "1/1 [==============================] - 0s 53ms/step - loss: 0.0991 - val_loss: 0.0696\n",
            "Epoch 39/50\n",
            "1/1 [==============================] - 0s 54ms/step - loss: 0.0990 - val_loss: 0.0696\n",
            "Epoch 40/50\n",
            "1/1 [==============================] - 0s 60ms/step - loss: 0.0989 - val_loss: 0.0698\n",
            "Epoch 41/50\n",
            "1/1 [==============================] - 0s 56ms/step - loss: 0.0988 - val_loss: 0.0700\n",
            "Epoch 42/50\n",
            "1/1 [==============================] - 0s 57ms/step - loss: 0.0986 - val_loss: 0.0703\n",
            "Epoch 43/50\n",
            "1/1 [==============================] - 0s 54ms/step - loss: 0.0985 - val_loss: 0.0706\n",
            "Epoch 44/50\n",
            "1/1 [==============================] - 0s 73ms/step - loss: 0.0983 - val_loss: 0.0709\n",
            "Epoch 45/50\n",
            "1/1 [==============================] - 0s 59ms/step - loss: 0.0982 - val_loss: 0.0713\n",
            "Epoch 46/50\n",
            "1/1 [==============================] - 0s 60ms/step - loss: 0.0980 - val_loss: 0.0717\n",
            "Epoch 47/50\n",
            "1/1 [==============================] - 0s 55ms/step - loss: 0.0979 - val_loss: 0.0721\n"
          ]
        }
      ]
    },
    {
      "cell_type": "markdown",
      "source": [
        "### 精度の確認"
      ],
      "metadata": {
        "id": "LKm1N5gdiElj"
      }
    },
    {
      "cell_type": "markdown",
      "source": [
        "学習状況の確認\n",
        "\n",
        "ちゃんと学習をするにつれてlossがちゃんと下がっているのかなーと思う事。"
      ],
      "metadata": {
        "id": "AtEmv6vCiRkK"
      }
    },
    {
      "cell_type": "code",
      "source": [
        "# loss の 学習過程のプロット\n",
        "\n",
        "import matplotlib.pyplot as plt\n",
        "import seaborn as sns\n",
        "plt.figure(figsize=(10,6))\n",
        "\n",
        "plt.plot(history.epoch, history.history[\"loss\"], label=\"loss\")\n",
        "plt.plot(history.epoch, history.history[\"val_loss\"], label=\"val_loss\")\n",
        "\n",
        "plt.legend()"
      ],
      "metadata": {
        "colab": {
          "base_uri": "https://localhost:8080/",
          "height": 392
        },
        "id": "thDWBEfaGrXm",
        "outputId": "b53ba259-e9dd-4280-dca3-eed2d721fccc"
      },
      "execution_count": null,
      "outputs": [
        {
          "output_type": "execute_result",
          "data": {
            "text/plain": [
              "<matplotlib.legend.Legend at 0x7fe72847a850>"
            ]
          },
          "metadata": {},
          "execution_count": 53
        },
        {
          "output_type": "display_data",
          "data": {
            "text/plain": [
              "<Figure size 720x432 with 1 Axes>"
            ],
            "image/png": "[encoded data removed]"
          },
          "metadata": {
            "needs_background": "light"
          }
        }
      ]
    },
    {
      "cell_type": "code",
      "source": [
        "# テストデータを用いた最終的、パフォーマンス計測\n",
        "score = model.evaluate(X_test, \n",
        "                       y_test,\n",
        "                       verbose=0\n",
        "                            )\n",
        "\n",
        "print(\"testデータでのloss：\",score) # lossの表示。"
      ],
      "metadata": {
        "colab": {
          "base_uri": "https://localhost:8080/"
        },
        "id": "rPcrJ4Z4G9Cm",
        "outputId": "b5ce2623-9041-4f94-8917-8c5dfc164d71"
      },
      "execution_count": null,
      "outputs": [
        {
          "output_type": "stream",
          "name": "stdout",
          "text": [
            "testデータでのloss： 0.09519968181848526\n"
          ]
        }
      ]
    },
    {
      "cell_type": "markdown",
      "source": [
        "### 予測と結果確認"
      ],
      "metadata": {
        "id": "llyYqOiOY-56"
      }
    },
    {
      "cell_type": "markdown",
      "source": [
        "正規化を元に戻してからプロットしましょう。"
      ],
      "metadata": {
        "id": "BpJ_o5qYIhGn"
      }
    },
    {
      "cell_type": "markdown",
      "source": [
        "ここは少しめんどくさいですが、細かく見ればわかるはずです。\n",
        "\n",
        "- 黒が実測値\n",
        "- 赤がテストデータからのモデル予測値\n",
        "- 緑がモデルが予測した未来のデータ。\n"
      ],
      "metadata": {
        "id": "xZQz8f-wIPbY"
      }
    },
    {
      "cell_type": "markdown",
      "source": [
        "青はトレインデータを学習した際のモデルの予測結果。⇒あんまり意味あるとは思えません個人的に。\n",
        "\n",
        "元の教材に記されていたので、消さずに残しておきました。"
      ],
      "metadata": {
        "id": "JosAytEmIhev"
      }
    },
    {
      "cell_type": "code",
      "source": [
        "sns.set(context=\"poster\",font=\"Hiragino Maru Gothic Pro\")\n",
        "fig = plt.subplots(figsize=(20,12))\n",
        "\n",
        "#正解のプロット\n",
        "df_week = pd.DataFrame(scaler.inverse_transform(df),\n",
        "                       index=df.index,columns=df.columns)\n",
        "plt.plot(df_week[\"2017\":][\"平均気温(℃)\"],color=\"black\")\n",
        "\n",
        "#学習用データ予測結果のプロット\n",
        "df_week_train_pred = pd.DataFrame(scaler.inverse_transform(model.predict(X_train)),\n",
        "                                  index=df.index[look_back:],columns=df.columns)\n",
        "plt.plot(df_week_train_pred[\"2017\":][\"平均気温(℃)\"],color=\"blue\")"
      ],
      "metadata": {
        "id": "b_o94n5BH2Wu"
      },
      "execution_count": null,
      "outputs": []
    },
    {
      "cell_type": "code",
      "source": [
        "#学習用データ予測結果のプロット\n",
        "fig = plt.subplots(figsize=(20,12))\n",
        "\n",
        "df_week_train_pred = pd.DataFrame(scaler.inverse_transform(model.predict(X_train)),\n",
        "                                  index=df.index[look_back:],columns=df.columns)\n",
        "plt.plot(df_week_train_pred[\"2017\":][\"平均気温(℃)\"],color=\"blue\")"
      ],
      "metadata": {
        "colab": {
          "base_uri": "https://localhost:8080/",
          "height": 737
        },
        "id": "ILJ2iCg5H-Yc",
        "outputId": "c64a4d0d-ad57-4e9f-864b-caa2ace21d45"
      },
      "execution_count": null,
      "outputs": [
        {
          "output_type": "execute_result",
          "data": {
            "text/plain": [
              "[<matplotlib.lines.Line2D at 0x7fe72e9e6910>]"
            ]
          },
          "metadata": {},
          "execution_count": 69
        },
        {
          "output_type": "display_data",
          "data": {
            "text/plain": [
              "<Figure size 1440x864 with 1 Axes>"
            ],
            "image/png": "[encoded data removed]"
          },
          "metadata": {}
        }
      ]
    },
    {
      "cell_type": "code",
      "source": [
        "sns.set(context=\"poster\",font=\"Hiragino Maru Gothic Pro\")\n",
        "fig = plt.subplots(figsize=(20,12))\n",
        "\n",
        "#正解のプロット\n",
        "df_week = pd.DataFrame(scaler.inverse_transform(df),\n",
        "                       index=df.index,columns=df.columns)\n",
        "plt.plot(df_week[\"2017\":][\"平均気温(℃)\"],color=\"black\")\n",
        "\n",
        "#学習用データ予測結果のプロット\n",
        "df_week_train_pred = pd.DataFrame(scaler.inverse_transform(model.predict(X_train)),\n",
        "                                  index=df_week_scale_train.index[look_back:],columns=df_week_scale_train.columns)\n",
        "plt.plot(df_week_train_pred[\"2017\":][\"平均気温(℃)\"],color=\"blue\")\n",
        "\n",
        "#評価用データ予測結果のプロット\n",
        "df_week_test_pred = pd.DataFrame(scaler.inverse_transform(model.predict(X_test)),\n",
        "                                 index=df_week_scale_test.index[look_back:],columns=df_week_scale_test.columns)\n",
        "plt.plot(df_week_test_pred[\"2017\":][\"平均気温(℃)\"],color=\"red\")\n",
        "\n",
        "#未来予測\n",
        "future_steps = 50\n",
        "X_future = [df_week_scale_test[-look_back:].values.tolist()]\n",
        "y_future_list = []\n",
        "\n",
        "for step in range(future_steps):\n",
        "    y_future = model.predict(X_future)\n",
        "    y_future_list.append(y_future[0])\n",
        "    X_future = [X_future[0][1:] + y_future.tolist()]\n",
        "    \n",
        "df_week_future = pd.DataFrame(scaler.inverse_transform(y_future_list),\n",
        "                              index=pd.date_range('2020-01-01', periods=future_steps, freq='W'),columns=df_week.columns)\n",
        "plt.plot(df_week_future[\"2017\":][\"平均気温(℃)\"],color=\"green\")"
      ],
      "metadata": {
        "id": "QefG0PC5HxBl"
      },
      "execution_count": null,
      "outputs": []
    },
    {
      "cell_type": "code",
      "source": [
        "sns.set(context=\"poster\",font=\"Hiragino Maru Gothic Pro\")\n",
        "fig = plt.subplots(figsize=(20,12))\n",
        "\n",
        "#正解のプロット\n",
        "df_week = pd.DataFrame(scaler.inverse_transform(df_week_scale),\n",
        "                       index=df_week.index,columns=df_week.columns)\n",
        "plt.plot(df_week[\"2017\":][\"平均気温(℃)\"],color=\"black\")\n",
        "\n",
        "#学習用データ予測結果のプロット\n",
        "df_week_train_pred = pd.DataFrame(scaler.inverse_transform(model.predict(X_train)),\n",
        "                                  index=df_week_scale_train.index[look_back:],columns=df_week_scale_train.columns)\n",
        "plt.plot(df_week_train_pred[\"2017\":][\"平均気温(℃)\"],color=\"blue\")\n",
        "\n",
        "#評価用データ予測結果のプロット\n",
        "df_week_test_pred = pd.DataFrame(scaler.inverse_transform(model.predict(X_test)),\n",
        "                                 index=df_week_scale_test.index[look_back:],columns=df_week_scale_test.columns)\n",
        "plt.plot(df_week_test_pred[\"2017\":][\"平均気温(℃)\"],color=\"red\")\n",
        "\n",
        "#未来予測\n",
        "future_steps = 50\n",
        "X_future = [df_week_scale_test[-look_back:].values.tolist()]\n",
        "y_future_list = []\n",
        "\n",
        "for step in range(future_steps):\n",
        "    y_future = model.predict(X_future)\n",
        "    y_future_list.append(y_future[0])\n",
        "    X_future = [X_future[0][1:] + y_future.tolist()]\n",
        "    \n",
        "df_week_future = pd.DataFrame(scaler.inverse_transform(y_future_list),\n",
        "                              index=pd.date_range('2020-01-01', periods=future_steps, freq='W'),columns=df_week.columns)\n",
        "plt.plot(df_week_future[\"2017\":][\"平均気温(℃)\"],color=\"green\")"
      ],
      "metadata": {
        "colab": {
          "base_uri": "https://localhost:8080/",
          "height": 1000
        },
        "id": "2xwku6Su-a-j",
        "outputId": "5043de8f-bfe5-4be9-e727-cd0db36e2c0d"
      },
      "execution_count": null,
      "outputs": [
        {
          "output_type": "stream",
          "name": "stdout",
          "text": [
            "14/14 [==============================] - 1s 4ms/step\n",
            "1/1 [==============================] - 0s 21ms/step\n",
            "1/1 [==============================] - 0s 24ms/step\n",
            "1/1 [==============================] - 0s 25ms/step\n",
            "1/1 [==============================] - 0s 25ms/step\n",
            "1/1 [==============================] - 0s 27ms/step\n",
            "1/1 [==============================] - 0s 25ms/step\n",
            "1/1 [==============================] - 0s 26ms/step\n",
            "1/1 [==============================] - 0s 28ms/step\n",
            "1/1 [==============================] - 0s 26ms/step\n",
            "1/1 [==============================] - 0s 26ms/step\n",
            "1/1 [==============================] - 0s 31ms/step\n",
            "1/1 [==============================] - 0s 29ms/step\n",
            "1/1 [==============================] - 0s 24ms/step\n",
            "1/1 [==============================] - 0s 26ms/step\n",
            "1/1 [==============================] - 0s 26ms/step\n",
            "1/1 [==============================] - 0s 32ms/step\n",
            "1/1 [==============================] - 0s 25ms/step\n",
            "1/1 [==============================] - 0s 28ms/step\n",
            "1/1 [==============================] - 0s 28ms/step\n",
            "1/1 [==============================] - 0s 26ms/step\n",
            "1/1 [==============================] - 0s 26ms/step\n",
            "1/1 [==============================] - 0s 30ms/step\n",
            "1/1 [==============================] - 0s 27ms/step\n",
            "1/1 [==============================] - 0s 29ms/step\n",
            "1/1 [==============================] - 0s 26ms/step\n",
            "1/1 [==============================] - 0s 31ms/step\n",
            "1/1 [==============================] - 0s 26ms/step\n",
            "1/1 [==============================] - 0s 25ms/step\n",
            "1/1 [==============================] - 0s 25ms/step\n",
            "1/1 [==============================] - 0s 25ms/step\n",
            "1/1 [==============================] - 0s 26ms/step\n",
            "1/1 [==============================] - 0s 28ms/step\n",
            "1/1 [==============================] - 0s 28ms/step\n",
            "1/1 [==============================] - 0s 27ms/step\n",
            "1/1 [==============================] - 0s 25ms/step\n",
            "1/1 [==============================] - 0s 26ms/step\n",
            "1/1 [==============================] - 0s 29ms/step\n",
            "1/1 [==============================] - 0s 26ms/step\n",
            "1/1 [==============================] - 0s 26ms/step\n",
            "1/1 [==============================] - 0s 24ms/step\n",
            "1/1 [==============================] - 0s 25ms/step\n",
            "1/1 [==============================] - 0s 26ms/step\n",
            "1/1 [==============================] - 0s 26ms/step\n",
            "1/1 [==============================] - 0s 25ms/step\n",
            "1/1 [==============================] - 0s 25ms/step\n",
            "1/1 [==============================] - 0s 30ms/step\n",
            "1/1 [==============================] - 0s 32ms/step\n",
            "1/1 [==============================] - 0s 25ms/step\n",
            "1/1 [==============================] - 0s 27ms/step\n",
            "1/1 [==============================] - 0s 26ms/step\n",
            "1/1 [==============================] - 0s 28ms/step\n"
          ]
        },
        {
          "output_type": "execute_result",
          "data": {
            "text/plain": [
              "[<matplotlib.lines.Line2D at 0x7f6ff2580490>]"
            ]
          },
          "metadata": {},
          "execution_count": 19
        },
        {
          "output_type": "stream",
          "name": "stderr",
          "text": [
            "WARNING:matplotlib.font_manager:findfont: Font family ['Hiragino Maru Gothic Pro'] not found. Falling back to DejaVu Sans.\n"
          ]
        },
        {
          "output_type": "display_data",
          "data": {
            "text/plain": [
              "<Figure size 1440x864 with 1 Axes>"
            ],
            "image/png": "[encoded data removed]"
          },
          "metadata": {}
        }
      ]
    },
    {
      "cell_type": "markdown",
      "source": [
        "### rmse算出"
      ],
      "metadata": {
        "id": "XU2-Aa-AI6EQ"
      }
    },
    {
      "cell_type": "markdown",
      "source": [
        "面倒ですが、ここまで来たらrmse算出しますか。"
      ],
      "metadata": {
        "id": "scKX8kdSI8Zf"
      }
    },
    {
      "cell_type": "code",
      "source": [
        "df_week.head(10)"
      ],
      "metadata": {
        "id": "TGocp6o9sROW",
        "outputId": "7da33ea6-dfd4-4e09-d2b2-37a5eaab946a",
        "colab": {
          "base_uri": "https://localhost:8080/",
          "height": 394
        }
      },
      "execution_count": null,
      "outputs": [
        {
          "output_type": "execute_result",
          "data": {
            "text/plain": [
              "              平均気温(℃)\n",
              "年月日                  \n",
              "2010-01-03   5.600000\n",
              "2010-01-10   7.057143\n",
              "2010-01-17   4.514286\n",
              "2010-01-24   8.371429\n",
              "2010-01-31   8.757143\n",
              "2010-02-07   4.242857\n",
              "2010-02-14   5.914286\n",
              "2010-02-21   4.942857\n",
              "2010-02-28  10.900000\n",
              "2010-03-07   8.628571"
            ],
            "text/html": [
              "\n",
              "  <div id=\"df-fab0a249-57ff-453f-b3a2-1306acdf4659\">\n",
              "    <div class=\"colab-df-container\">\n",
              "      <div>\n",
              "<style scoped>\n",
              "    .dataframe tbody tr th:only-of-type {\n",
              "        vertical-align: middle;\n",
              "    }\n",
              "\n",
              "    .dataframe tbody tr th {\n",
              "        vertical-align: top;\n",
              "    }\n",
              "\n",
              "    .dataframe thead th {\n",
              "        text-align: right;\n",
              "    }\n",
              "</style>\n",
              "<table border=\"1\" class=\"dataframe\">\n",
              "  <thead>\n",
              "    <tr style=\"text-align: right;\">\n",
              "      <th></th>\n",
              "      <th>平均気温(℃)</th>\n",
              "    </tr>\n",
              "    <tr>\n",
              "      <th>年月日</th>\n",
              "      <th></th>\n",
              "    </tr>\n",
              "  </thead>\n",
              "  <tbody>\n",
              "    <tr>\n",
              "      <th>2010-01-03</th>\n",
              "      <td>5.600000</td>\n",
              "    </tr>\n",
              "    <tr>\n",
              "      <th>2010-01-10</th>\n",
              "      <td>7.057143</td>\n",
              "    </tr>\n",
              "    <tr>\n",
              "      <th>2010-01-17</th>\n",
              "      <td>4.514286</td>\n",
              "    </tr>\n",
              "    <tr>\n",
              "      <th>2010-01-24</th>\n",
              "      <td>8.371429</td>\n",
              "    </tr>\n",
              "    <tr>\n",
              "      <th>2010-01-31</th>\n",
              "      <td>8.757143</td>\n",
              "    </tr>\n",
              "    <tr>\n",
              "      <th>2010-02-07</th>\n",
              "      <td>4.242857</td>\n",
              "    </tr>\n",
              "    <tr>\n",
              "      <th>2010-02-14</th>\n",
              "      <td>5.914286</td>\n",
              "    </tr>\n",
              "    <tr>\n",
              "      <th>2010-02-21</th>\n",
              "      <td>4.942857</td>\n",
              "    </tr>\n",
              "    <tr>\n",
              "      <th>2010-02-28</th>\n",
              "      <td>10.900000</td>\n",
              "    </tr>\n",
              "    <tr>\n",
              "      <th>2010-03-07</th>\n",
              "      <td>8.628571</td>\n",
              "    </tr>\n",
              "  </tbody>\n",
              "</table>\n",
              "</div>\n",
              "      <button class=\"colab-df-convert\" onclick=\"convertToInteractive('df-fab0a249-57ff-453f-b3a2-1306acdf4659')\"\n",
              "              title=\"Convert this dataframe to an interactive table.\"\n",
              "              style=\"display:none;\">\n",
              "        \n",
              "  <svg xmlns=\"http://www.w3.org/2000/svg\" height=\"24px\"viewBox=\"0 0 24 24\"\n",
              "       width=\"24px\">\n",
              "    <path d=\"M0 0h24v24H0V0z\" fill=\"none\"/>\n",
              "    <path d=\"M18.56 5.44l.94 2.06.94-2.06 2.06-.94-2.06-.94-.94-2.06-.94 2.06-2.06.94zm-11 1L8.5 8.5l.94-2.06 2.06-.94-2.06-.94L8.5 2.5l-.94 2.06-2.06.94zm10 10l.94 2.06.94-2.06 2.06-.94-2.06-.94-.94-2.06-.94 2.06-2.06.94z\"/><path d=\"M17.41 7.96l-1.37-1.37c-.4-.4-.92-.59-1.43-.59-.52 0-1.04.2-1.43.59L10.3 9.45l-7.72 7.72c-.78.78-.78 2.05 0 2.83L4 21.41c.39.39.9.59 1.41.59.51 0 1.02-.2 1.41-.59l7.78-7.78 2.81-2.81c.8-.78.8-2.07 0-2.86zM5.41 20L4 18.59l7.72-7.72 1.47 1.35L5.41 20z\"/>\n",
              "  </svg>\n",
              "      </button>\n",
              "      \n",
              "  <style>\n",
              "    .colab-df-container {\n",
              "      display:flex;\n",
              "      flex-wrap:wrap;\n",
              "      gap: 12px;\n",
              "    }\n",
              "\n",
              "    .colab-df-convert {\n",
              "      background-color: #E8F0FE;\n",
              "      border: none;\n",
              "      border-radius: 50%;\n",
              "      cursor: pointer;\n",
              "      display: none;\n",
              "      fill: #1967D2;\n",
              "      height: 32px;\n",
              "      padding: 0 0 0 0;\n",
              "      width: 32px;\n",
              "    }\n",
              "\n",
              "    .colab-df-convert:hover {\n",
              "      background-color: #E2EBFA;\n",
              "      box-shadow: 0px 1px 2px rgba(60, 64, 67, 0.3), 0px 1px 3px 1px rgba(60, 64, 67, 0.15);\n",
              "      fill: #174EA6;\n",
              "    }\n",
              "\n",
              "    [theme=dark] .colab-df-convert {\n",
              "      background-color: #3B4455;\n",
              "      fill: #D2E3FC;\n",
              "    }\n",
              "\n",
              "    [theme=dark] .colab-df-convert:hover {\n",
              "      background-color: #434B5C;\n",
              "      box-shadow: 0px 1px 3px 1px rgba(0, 0, 0, 0.15);\n",
              "      filter: drop-shadow(0px 1px 2px rgba(0, 0, 0, 0.3));\n",
              "      fill: #FFFFFF;\n",
              "    }\n",
              "  </style>\n",
              "\n",
              "      <script>\n",
              "        const buttonEl =\n",
              "          document.querySelector('#df-fab0a249-57ff-453f-b3a2-1306acdf4659 button.colab-df-convert');\n",
              "        buttonEl.style.display =\n",
              "          google.colab.kernel.accessAllowed ? 'block' : 'none';\n",
              "\n",
              "        async function convertToInteractive(key) {\n",
              "          const element = document.querySelector('#df-fab0a249-57ff-453f-b3a2-1306acdf4659');\n",
              "          const dataTable =\n",
              "            await google.colab.kernel.invokeFunction('convertToInteractive',\n",
              "                                                     [key], {});\n",
              "          if (!dataTable) return;\n",
              "\n",
              "          const docLinkHtml = 'Like what you see? Visit the ' +\n",
              "            '<a target=\"_blank\" href=https://colab.research.google.com/notebooks/data_table.ipynb>data table notebook</a>'\n",
              "            + ' to learn more about interactive tables.';\n",
              "          element.innerHTML = '';\n",
              "          dataTable['output_type'] = 'display_data';\n",
              "          await google.colab.output.renderOutput(dataTable, element);\n",
              "          const docLink = document.createElement('div');\n",
              "          docLink.innerHTML = docLinkHtml;\n",
              "          element.appendChild(docLink);\n",
              "        }\n",
              "      </script>\n",
              "    </div>\n",
              "  </div>\n",
              "  "
            ]
          },
          "metadata": {},
          "execution_count": 32
        }
      ]
    },
    {
      "cell_type": "markdown",
      "source": [
        "rmse用のデータを作成します。今回は\"2019-09-01\" <= 年月日 < \"2019-12-29\"までで。"
      ],
      "metadata": {
        "id": "oMw15a4_jQzC"
      }
    },
    {
      "cell_type": "code",
      "source": [
        "# 何行目から何行目までとかじゃない。datetimeで、2019-09-01から2019-12-29まで。\n",
        "#これは予測値\n",
        "df_week_test_pred2 = df_week_test_pred.query('\"2019-09-01\" <= 年月日 < \"2019-12-29\"')\n",
        "df_week_test_pred2"
      ],
      "metadata": {
        "id": "wUwXa3dwpuD3",
        "colab": {
          "base_uri": "https://localhost:8080/",
          "height": 614
        },
        "outputId": "48d15349-134a-477e-b007-9c70c3e06819"
      },
      "execution_count": null,
      "outputs": [
        {
          "output_type": "execute_result",
          "data": {
            "text/plain": [
              "              平均気温(℃)\n",
              "年月日                  \n",
              "2019-09-01  27.049822\n",
              "2019-09-08  26.494337\n",
              "2019-09-15  25.796167\n",
              "2019-09-22  24.842508\n",
              "2019-09-29  23.606102\n",
              "2019-10-06  22.479561\n",
              "2019-10-13  21.387501\n",
              "2019-10-20  20.127525\n",
              "2019-10-27  18.640602\n",
              "2019-11-03  17.183775\n",
              "2019-11-10  15.758437\n",
              "2019-11-17  14.273490\n",
              "2019-11-24  12.993857\n",
              "2019-12-01  11.755588\n",
              "2019-12-08  10.363104\n",
              "2019-12-15   9.089044\n",
              "2019-12-22   8.033258"
            ],
            "text/html": [
              "\n",
              "  <div id=\"df-0552ad1b-2260-4074-80ef-c98d929d2d55\">\n",
              "    <div class=\"colab-df-container\">\n",
              "      <div>\n",
              "<style scoped>\n",
              "    .dataframe tbody tr th:only-of-type {\n",
              "        vertical-align: middle;\n",
              "    }\n",
              "\n",
              "    .dataframe tbody tr th {\n",
              "        vertical-align: top;\n",
              "    }\n",
              "\n",
              "    .dataframe thead th {\n",
              "        text-align: right;\n",
              "    }\n",
              "</style>\n",
              "<table border=\"1\" class=\"dataframe\">\n",
              "  <thead>\n",
              "    <tr style=\"text-align: right;\">\n",
              "      <th></th>\n",
              "      <th>平均気温(℃)</th>\n",
              "    </tr>\n",
              "    <tr>\n",
              "      <th>年月日</th>\n",
              "      <th></th>\n",
              "    </tr>\n",
              "  </thead>\n",
              "  <tbody>\n",
              "    <tr>\n",
              "      <th>2019-09-01</th>\n",
              "      <td>27.049822</td>\n",
              "    </tr>\n",
              "    <tr>\n",
              "      <th>2019-09-08</th>\n",
              "      <td>26.494337</td>\n",
              "    </tr>\n",
              "    <tr>\n",
              "      <th>2019-09-15</th>\n",
              "      <td>25.796167</td>\n",
              "    </tr>\n",
              "    <tr>\n",
              "      <th>2019-09-22</th>\n",
              "      <td>24.842508</td>\n",
              "    </tr>\n",
              "    <tr>\n",
              "      <th>2019-09-29</th>\n",
              "      <td>23.606102</td>\n",
              "    </tr>\n",
              "    <tr>\n",
              "      <th>2019-10-06</th>\n",
              "      <td>22.479561</td>\n",
              "    </tr>\n",
              "    <tr>\n",
              "      <th>2019-10-13</th>\n",
              "      <td>21.387501</td>\n",
              "    </tr>\n",
              "    <tr>\n",
              "      <th>2019-10-20</th>\n",
              "      <td>20.127525</td>\n",
              "    </tr>\n",
              "    <tr>\n",
              "      <th>2019-10-27</th>\n",
              "      <td>18.640602</td>\n",
              "    </tr>\n",
              "    <tr>\n",
              "      <th>2019-11-03</th>\n",
              "      <td>17.183775</td>\n",
              "    </tr>\n",
              "    <tr>\n",
              "      <th>2019-11-10</th>\n",
              "      <td>15.758437</td>\n",
              "    </tr>\n",
              "    <tr>\n",
              "      <th>2019-11-17</th>\n",
              "      <td>14.273490</td>\n",
              "    </tr>\n",
              "    <tr>\n",
              "      <th>2019-11-24</th>\n",
              "      <td>12.993857</td>\n",
              "    </tr>\n",
              "    <tr>\n",
              "      <th>2019-12-01</th>\n",
              "      <td>11.755588</td>\n",
              "    </tr>\n",
              "    <tr>\n",
              "      <th>2019-12-08</th>\n",
              "      <td>10.363104</td>\n",
              "    </tr>\n",
              "    <tr>\n",
              "      <th>2019-12-15</th>\n",
              "      <td>9.089044</td>\n",
              "    </tr>\n",
              "    <tr>\n",
              "      <th>2019-12-22</th>\n",
              "      <td>8.033258</td>\n",
              "    </tr>\n",
              "  </tbody>\n",
              "</table>\n",
              "</div>\n",
              "      <button class=\"colab-df-convert\" onclick=\"convertToInteractive('df-0552ad1b-2260-4074-80ef-c98d929d2d55')\"\n",
              "              title=\"Convert this dataframe to an interactive table.\"\n",
              "              style=\"display:none;\">\n",
              "        \n",
              "  <svg xmlns=\"http://www.w3.org/2000/svg\" height=\"24px\"viewBox=\"0 0 24 24\"\n",
              "       width=\"24px\">\n",
              "    <path d=\"M0 0h24v24H0V0z\" fill=\"none\"/>\n",
              "    <path d=\"M18.56 5.44l.94 2.06.94-2.06 2.06-.94-2.06-.94-.94-2.06-.94 2.06-2.06.94zm-11 1L8.5 8.5l.94-2.06 2.06-.94-2.06-.94L8.5 2.5l-.94 2.06-2.06.94zm10 10l.94 2.06.94-2.06 2.06-.94-2.06-.94-.94-2.06-.94 2.06-2.06.94z\"/><path d=\"M17.41 7.96l-1.37-1.37c-.4-.4-.92-.59-1.43-.59-.52 0-1.04.2-1.43.59L10.3 9.45l-7.72 7.72c-.78.78-.78 2.05 0 2.83L4 21.41c.39.39.9.59 1.41.59.51 0 1.02-.2 1.41-.59l7.78-7.78 2.81-2.81c.8-.78.8-2.07 0-2.86zM5.41 20L4 18.59l7.72-7.72 1.47 1.35L5.41 20z\"/>\n",
              "  </svg>\n",
              "      </button>\n",
              "      \n",
              "  <style>\n",
              "    .colab-df-container {\n",
              "      display:flex;\n",
              "      flex-wrap:wrap;\n",
              "      gap: 12px;\n",
              "    }\n",
              "\n",
              "    .colab-df-convert {\n",
              "      background-color: #E8F0FE;\n",
              "      border: none;\n",
              "      border-radius: 50%;\n",
              "      cursor: pointer;\n",
              "      display: none;\n",
              "      fill: #1967D2;\n",
              "      height: 32px;\n",
              "      padding: 0 0 0 0;\n",
              "      width: 32px;\n",
              "    }\n",
              "\n",
              "    .colab-df-convert:hover {\n",
              "      background-color: #E2EBFA;\n",
              "      box-shadow: 0px 1px 2px rgba(60, 64, 67, 0.3), 0px 1px 3px 1px rgba(60, 64, 67, 0.15);\n",
              "      fill: #174EA6;\n",
              "    }\n",
              "\n",
              "    [theme=dark] .colab-df-convert {\n",
              "      background-color: #3B4455;\n",
              "      fill: #D2E3FC;\n",
              "    }\n",
              "\n",
              "    [theme=dark] .colab-df-convert:hover {\n",
              "      background-color: #434B5C;\n",
              "      box-shadow: 0px 1px 3px 1px rgba(0, 0, 0, 0.15);\n",
              "      filter: drop-shadow(0px 1px 2px rgba(0, 0, 0, 0.3));\n",
              "      fill: #FFFFFF;\n",
              "    }\n",
              "  </style>\n",
              "\n",
              "      <script>\n",
              "        const buttonEl =\n",
              "          document.querySelector('#df-0552ad1b-2260-4074-80ef-c98d929d2d55 button.colab-df-convert');\n",
              "        buttonEl.style.display =\n",
              "          google.colab.kernel.accessAllowed ? 'block' : 'none';\n",
              "\n",
              "        async function convertToInteractive(key) {\n",
              "          const element = document.querySelector('#df-0552ad1b-2260-4074-80ef-c98d929d2d55');\n",
              "          const dataTable =\n",
              "            await google.colab.kernel.invokeFunction('convertToInteractive',\n",
              "                                                     [key], {});\n",
              "          if (!dataTable) return;\n",
              "\n",
              "          const docLinkHtml = 'Like what you see? Visit the ' +\n",
              "            '<a target=\"_blank\" href=https://colab.research.google.com/notebooks/data_table.ipynb>data table notebook</a>'\n",
              "            + ' to learn more about interactive tables.';\n",
              "          element.innerHTML = '';\n",
              "          dataTable['output_type'] = 'display_data';\n",
              "          await google.colab.output.renderOutput(dataTable, element);\n",
              "          const docLink = document.createElement('div');\n",
              "          docLink.innerHTML = docLinkHtml;\n",
              "          element.appendChild(docLink);\n",
              "        }\n",
              "      </script>\n",
              "    </div>\n",
              "  </div>\n",
              "  "
            ]
          },
          "metadata": {},
          "execution_count": 34
        }
      ]
    },
    {
      "cell_type": "code",
      "source": [
        "#これは実測値\n",
        "df_week_test = df_week.query('\"2019-09-01\" <= 年月日 < \"2019-12-29\"')\n",
        "df_week_test"
      ],
      "metadata": {
        "id": "pVEBHLGro93r",
        "colab": {
          "base_uri": "https://localhost:8080/",
          "height": 614
        },
        "outputId": "3e3cc1ac-f74d-4e96-c8d7-8cc28ce86531"
      },
      "execution_count": null,
      "outputs": [
        {
          "output_type": "execute_result",
          "data": {
            "text/plain": [
              "              平均気温(℃)\n",
              "年月日                  \n",
              "2019-09-01  26.585714\n",
              "2019-09-08  26.885714\n",
              "2019-09-15  25.871429\n",
              "2019-09-22  22.714286\n",
              "2019-09-29  24.371429\n",
              "2019-10-06  24.214286\n",
              "2019-10-13  21.328571\n",
              "2019-10-20  17.385714\n",
              "2019-10-27  17.385714\n",
              "2019-11-03  16.300000\n",
              "2019-11-10  14.414286\n",
              "2019-11-17  13.857143\n",
              "2019-11-24  12.928571\n",
              "2019-12-01   9.014286\n",
              "2019-12-08   8.857143\n",
              "2019-12-15   9.371429\n",
              "2019-12-22   8.800000"
            ],
            "text/html": [
              "\n",
              "  <div id=\"df-863261a3-faeb-4242-9649-1a9a66514700\">\n",
              "    <div class=\"colab-df-container\">\n",
              "      <div>\n",
              "<style scoped>\n",
              "    .dataframe tbody tr th:only-of-type {\n",
              "        vertical-align: middle;\n",
              "    }\n",
              "\n",
              "    .dataframe tbody tr th {\n",
              "        vertical-align: top;\n",
              "    }\n",
              "\n",
              "    .dataframe thead th {\n",
              "        text-align: right;\n",
              "    }\n",
              "</style>\n",
              "<table border=\"1\" class=\"dataframe\">\n",
              "  <thead>\n",
              "    <tr style=\"text-align: right;\">\n",
              "      <th></th>\n",
              "      <th>平均気温(℃)</th>\n",
              "    </tr>\n",
              "    <tr>\n",
              "      <th>年月日</th>\n",
              "      <th></th>\n",
              "    </tr>\n",
              "  </thead>\n",
              "  <tbody>\n",
              "    <tr>\n",
              "      <th>2019-09-01</th>\n",
              "      <td>26.585714</td>\n",
              "    </tr>\n",
              "    <tr>\n",
              "      <th>2019-09-08</th>\n",
              "      <td>26.885714</td>\n",
              "    </tr>\n",
              "    <tr>\n",
              "      <th>2019-09-15</th>\n",
              "      <td>25.871429</td>\n",
              "    </tr>\n",
              "    <tr>\n",
              "      <th>2019-09-22</th>\n",
              "      <td>22.714286</td>\n",
              "    </tr>\n",
              "    <tr>\n",
              "      <th>2019-09-29</th>\n",
              "      <td>24.371429</td>\n",
              "    </tr>\n",
              "    <tr>\n",
              "      <th>2019-10-06</th>\n",
              "      <td>24.214286</td>\n",
              "    </tr>\n",
              "    <tr>\n",
              "      <th>2019-10-13</th>\n",
              "      <td>21.328571</td>\n",
              "    </tr>\n",
              "    <tr>\n",
              "      <th>2019-10-20</th>\n",
              "      <td>17.385714</td>\n",
              "    </tr>\n",
              "    <tr>\n",
              "      <th>2019-10-27</th>\n",
              "      <td>17.385714</td>\n",
              "    </tr>\n",
              "    <tr>\n",
              "      <th>2019-11-03</th>\n",
              "      <td>16.300000</td>\n",
              "    </tr>\n",
              "    <tr>\n",
              "      <th>2019-11-10</th>\n",
              "      <td>14.414286</td>\n",
              "    </tr>\n",
              "    <tr>\n",
              "      <th>2019-11-17</th>\n",
              "      <td>13.857143</td>\n",
              "    </tr>\n",
              "    <tr>\n",
              "      <th>2019-11-24</th>\n",
              "      <td>12.928571</td>\n",
              "    </tr>\n",
              "    <tr>\n",
              "      <th>2019-12-01</th>\n",
              "      <td>9.014286</td>\n",
              "    </tr>\n",
              "    <tr>\n",
              "      <th>2019-12-08</th>\n",
              "      <td>8.857143</td>\n",
              "    </tr>\n",
              "    <tr>\n",
              "      <th>2019-12-15</th>\n",
              "      <td>9.371429</td>\n",
              "    </tr>\n",
              "    <tr>\n",
              "      <th>2019-12-22</th>\n",
              "      <td>8.800000</td>\n",
              "    </tr>\n",
              "  </tbody>\n",
              "</table>\n",
              "</div>\n",
              "      <button class=\"colab-df-convert\" onclick=\"convertToInteractive('df-863261a3-faeb-4242-9649-1a9a66514700')\"\n",
              "              title=\"Convert this dataframe to an interactive table.\"\n",
              "              style=\"display:none;\">\n",
              "        \n",
              "  <svg xmlns=\"http://www.w3.org/2000/svg\" height=\"24px\"viewBox=\"0 0 24 24\"\n",
              "       width=\"24px\">\n",
              "    <path d=\"M0 0h24v24H0V0z\" fill=\"none\"/>\n",
              "    <path d=\"M18.56 5.44l.94 2.06.94-2.06 2.06-.94-2.06-.94-.94-2.06-.94 2.06-2.06.94zm-11 1L8.5 8.5l.94-2.06 2.06-.94-2.06-.94L8.5 2.5l-.94 2.06-2.06.94zm10 10l.94 2.06.94-2.06 2.06-.94-2.06-.94-.94-2.06-.94 2.06-2.06.94z\"/><path d=\"M17.41 7.96l-1.37-1.37c-.4-.4-.92-.59-1.43-.59-.52 0-1.04.2-1.43.59L10.3 9.45l-7.72 7.72c-.78.78-.78 2.05 0 2.83L4 21.41c.39.39.9.59 1.41.59.51 0 1.02-.2 1.41-.59l7.78-7.78 2.81-2.81c.8-.78.8-2.07 0-2.86zM5.41 20L4 18.59l7.72-7.72 1.47 1.35L5.41 20z\"/>\n",
              "  </svg>\n",
              "      </button>\n",
              "      \n",
              "  <style>\n",
              "    .colab-df-container {\n",
              "      display:flex;\n",
              "      flex-wrap:wrap;\n",
              "      gap: 12px;\n",
              "    }\n",
              "\n",
              "    .colab-df-convert {\n",
              "      background-color: #E8F0FE;\n",
              "      border: none;\n",
              "      border-radius: 50%;\n",
              "      cursor: pointer;\n",
              "      display: none;\n",
              "      fill: #1967D2;\n",
              "      height: 32px;\n",
              "      padding: 0 0 0 0;\n",
              "      width: 32px;\n",
              "    }\n",
              "\n",
              "    .colab-df-convert:hover {\n",
              "      background-color: #E2EBFA;\n",
              "      box-shadow: 0px 1px 2px rgba(60, 64, 67, 0.3), 0px 1px 3px 1px rgba(60, 64, 67, 0.15);\n",
              "      fill: #174EA6;\n",
              "    }\n",
              "\n",
              "    [theme=dark] .colab-df-convert {\n",
              "      background-color: #3B4455;\n",
              "      fill: #D2E3FC;\n",
              "    }\n",
              "\n",
              "    [theme=dark] .colab-df-convert:hover {\n",
              "      background-color: #434B5C;\n",
              "      box-shadow: 0px 1px 3px 1px rgba(0, 0, 0, 0.15);\n",
              "      filter: drop-shadow(0px 1px 2px rgba(0, 0, 0, 0.3));\n",
              "      fill: #FFFFFF;\n",
              "    }\n",
              "  </style>\n",
              "\n",
              "      <script>\n",
              "        const buttonEl =\n",
              "          document.querySelector('#df-863261a3-faeb-4242-9649-1a9a66514700 button.colab-df-convert');\n",
              "        buttonEl.style.display =\n",
              "          google.colab.kernel.accessAllowed ? 'block' : 'none';\n",
              "\n",
              "        async function convertToInteractive(key) {\n",
              "          const element = document.querySelector('#df-863261a3-faeb-4242-9649-1a9a66514700');\n",
              "          const dataTable =\n",
              "            await google.colab.kernel.invokeFunction('convertToInteractive',\n",
              "                                                     [key], {});\n",
              "          if (!dataTable) return;\n",
              "\n",
              "          const docLinkHtml = 'Like what you see? Visit the ' +\n",
              "            '<a target=\"_blank\" href=https://colab.research.google.com/notebooks/data_table.ipynb>data table notebook</a>'\n",
              "            + ' to learn more about interactive tables.';\n",
              "          element.innerHTML = '';\n",
              "          dataTable['output_type'] = 'display_data';\n",
              "          await google.colab.output.renderOutput(dataTable, element);\n",
              "          const docLink = document.createElement('div');\n",
              "          docLink.innerHTML = docLinkHtml;\n",
              "          element.appendChild(docLink);\n",
              "        }\n",
              "      </script>\n",
              "    </div>\n",
              "  </div>\n",
              "  "
            ]
          },
          "metadata": {},
          "execution_count": 35
        }
      ]
    },
    {
      "cell_type": "markdown",
      "source": [
        "rmse算出"
      ],
      "metadata": {
        "id": "BLi8yF2chgjg"
      }
    },
    {
      "cell_type": "code",
      "source": [
        "import numpy as np\n",
        "from sklearn.metrics import mean_squared_error as MSE\n",
        "# y_trainと予測値のRMSEを出す\n",
        "print(\"RMSE\",np.sqrt(MSE(df_week_test,df_week_test_pred2)))"
      ],
      "metadata": {
        "id": "kqAXdrqoKYtb",
        "colab": {
          "base_uri": "https://localhost:8080/"
        },
        "outputId": "af1436a9-9ab7-402f-ed3e-0ced7f02c9e1"
      },
      "execution_count": null,
      "outputs": [
        {
          "output_type": "stream",
          "name": "stdout",
          "text": [
            "RMSE 1.346236659999836\n"
          ]
        }
      ]
    }
  ]
}