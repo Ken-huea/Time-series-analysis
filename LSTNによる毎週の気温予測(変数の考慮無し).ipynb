{
  "nbformat": 4,
  "nbformat_minor": 0,
  "metadata": {
    "colab": {
      "name": "LSTNによる毎週の気温予測(変数の考慮無し).ipynb",
      "provenance": [],
      "collapsed_sections": [],
      "authorship_tag": "ABX9TyPIs9SGTVjh8UB2Adbj+LXr",
      "include_colab_link": true
    },
    "kernelspec": {
      "name": "python3",
      "display_name": "Python 3"
    },
    "language_info": {
      "name": "python"
    }
  },
  "cells": [
    {
      "cell_type": "markdown",
      "metadata": {
        "id": "view-in-github",
        "colab_type": "text"
      },
      "source": [
        "<a href=\"https://colab.research.google.com/github/Ken-huea/Time-series-analysis/blob/main/LSTN%E3%81%AB%E3%82%88%E3%82%8B%E6%AF%8E%E9%80%B1%E3%81%AE%E6%B0%97%E6%B8%A9%E4%BA%88%E6%B8%AC(%E5%A4%89%E6%95%B0%E3%81%AE%E8%80%83%E6%85%AE%E7%84%A1%E3%81%97).ipynb\" target=\"_parent\"><img src=\"https://colab.research.google.com/assets/colab-badge.svg\" alt=\"Open In Colab\"/></a>"
      ]
    },
    {
      "cell_type": "markdown",
      "source": [
        "[参考動画](https://www.youtube.com/watch?v=y-XvMZq33c4&t=2159s)\n",
        "\n",
        "[元データはこちら](https://analysis-navi.com/?p=3868)"
      ],
      "metadata": {
        "id": "SIJ-nLK8VYl0"
      }
    },
    {
      "cell_type": "markdown",
      "source": [
        "[清書元はこちら](https://colab.research.google.com/drive/1ya_JNmBPyGlFfK0-fvR6nVXfBAycTyyA#scrollTo=3-0WKomXN_oa)"
      ],
      "metadata": {
        "id": "wyiS58Enn27L"
      }
    },
    {
      "cell_type": "code",
      "execution_count": null,
      "metadata": {
        "id": "DGmQbJCRUQwc"
      },
      "outputs": [],
      "source": [
        "#いろいろインポート\n",
        "import tensorflow as tf #ディープラーニング用\n",
        "import pandas as pd\n",
        "import numpy as np\n",
        "from datetime import datetime\n",
        "import seaborn as sns\n",
        "import matplotlib.pyplot as plt"
      ]
    },
    {
      "cell_type": "markdown",
      "source": [
        "### データ読込と確認\n",
        "MinMaxScaler を用いた整形。　0〜1にスケーリングに正規化\n",
        "\n",
        "データ分割"
      ],
      "metadata": {
        "id": "vmz-qle8Uxfn"
      }
    },
    {
      "cell_type": "code",
      "source": [
        "df = pd.read_csv(\"3-4_TS_sample2.csv\",index_col=\"年月日\",encoding=\"shift_jis\",parse_dates=True)\n",
        "df.head(4)"
      ],
      "metadata": {
        "colab": {
          "base_uri": "https://localhost:8080/",
          "height": 206
        },
        "id": "yPQwjhnCUh9g",
        "outputId": "087956fc-dbdb-4b3b-e156-ea21847ef906"
      },
      "execution_count": null,
      "outputs": [
        {
          "output_type": "execute_result",
          "data": {
            "text/plain": [
              "            平均気温(℃)  降水量の合計(mm)  日照時間(時間)\n",
              "年月日                                      \n",
              "2010-01-01      4.8         0.0       9.2\n",
              "2010-01-02      6.3         0.0       9.0\n",
              "2010-01-03      5.7         0.0       6.6\n",
              "2010-01-04      6.5         0.0       5.2"
            ],
            "text/html": [
              "\n",
              "  <div id=\"df-b3951022-cd71-46c8-8539-d6d67a5a5890\">\n",
              "    <div class=\"colab-df-container\">\n",
              "      <div>\n",
              "<style scoped>\n",
              "    .dataframe tbody tr th:only-of-type {\n",
              "        vertical-align: middle;\n",
              "    }\n",
              "\n",
              "    .dataframe tbody tr th {\n",
              "        vertical-align: top;\n",
              "    }\n",
              "\n",
              "    .dataframe thead th {\n",
              "        text-align: right;\n",
              "    }\n",
              "</style>\n",
              "<table border=\"1\" class=\"dataframe\">\n",
              "  <thead>\n",
              "    <tr style=\"text-align: right;\">\n",
              "      <th></th>\n",
              "      <th>平均気温(℃)</th>\n",
              "      <th>降水量の合計(mm)</th>\n",
              "      <th>日照時間(時間)</th>\n",
              "    </tr>\n",
              "    <tr>\n",
              "      <th>年月日</th>\n",
              "      <th></th>\n",
              "      <th></th>\n",
              "      <th></th>\n",
              "    </tr>\n",
              "  </thead>\n",
              "  <tbody>\n",
              "    <tr>\n",
              "      <th>2010-01-01</th>\n",
              "      <td>4.8</td>\n",
              "      <td>0.0</td>\n",
              "      <td>9.2</td>\n",
              "    </tr>\n",
              "    <tr>\n",
              "      <th>2010-01-02</th>\n",
              "      <td>6.3</td>\n",
              "      <td>0.0</td>\n",
              "      <td>9.0</td>\n",
              "    </tr>\n",
              "    <tr>\n",
              "      <th>2010-01-03</th>\n",
              "      <td>5.7</td>\n",
              "      <td>0.0</td>\n",
              "      <td>6.6</td>\n",
              "    </tr>\n",
              "    <tr>\n",
              "      <th>2010-01-04</th>\n",
              "      <td>6.5</td>\n",
              "      <td>0.0</td>\n",
              "      <td>5.2</td>\n",
              "    </tr>\n",
              "  </tbody>\n",
              "</table>\n",
              "</div>\n",
              "      <button class=\"colab-df-convert\" onclick=\"convertToInteractive('df-b3951022-cd71-46c8-8539-d6d67a5a5890')\"\n",
              "              title=\"Convert this dataframe to an interactive table.\"\n",
              "              style=\"display:none;\">\n",
              "        \n",
              "  <svg xmlns=\"http://www.w3.org/2000/svg\" height=\"24px\"viewBox=\"0 0 24 24\"\n",
              "       width=\"24px\">\n",
              "    <path d=\"M0 0h24v24H0V0z\" fill=\"none\"/>\n",
              "    <path d=\"M18.56 5.44l.94 2.06.94-2.06 2.06-.94-2.06-.94-.94-2.06-.94 2.06-2.06.94zm-11 1L8.5 8.5l.94-2.06 2.06-.94-2.06-.94L8.5 2.5l-.94 2.06-2.06.94zm10 10l.94 2.06.94-2.06 2.06-.94-2.06-.94-.94-2.06-.94 2.06-2.06.94z\"/><path d=\"M17.41 7.96l-1.37-1.37c-.4-.4-.92-.59-1.43-.59-.52 0-1.04.2-1.43.59L10.3 9.45l-7.72 7.72c-.78.78-.78 2.05 0 2.83L4 21.41c.39.39.9.59 1.41.59.51 0 1.02-.2 1.41-.59l7.78-7.78 2.81-2.81c.8-.78.8-2.07 0-2.86zM5.41 20L4 18.59l7.72-7.72 1.47 1.35L5.41 20z\"/>\n",
              "  </svg>\n",
              "      </button>\n",
              "      \n",
              "  <style>\n",
              "    .colab-df-container {\n",
              "      display:flex;\n",
              "      flex-wrap:wrap;\n",
              "      gap: 12px;\n",
              "    }\n",
              "\n",
              "    .colab-df-convert {\n",
              "      background-color: #E8F0FE;\n",
              "      border: none;\n",
              "      border-radius: 50%;\n",
              "      cursor: pointer;\n",
              "      display: none;\n",
              "      fill: #1967D2;\n",
              "      height: 32px;\n",
              "      padding: 0 0 0 0;\n",
              "      width: 32px;\n",
              "    }\n",
              "\n",
              "    .colab-df-convert:hover {\n",
              "      background-color: #E2EBFA;\n",
              "      box-shadow: 0px 1px 2px rgba(60, 64, 67, 0.3), 0px 1px 3px 1px rgba(60, 64, 67, 0.15);\n",
              "      fill: #174EA6;\n",
              "    }\n",
              "\n",
              "    [theme=dark] .colab-df-convert {\n",
              "      background-color: #3B4455;\n",
              "      fill: #D2E3FC;\n",
              "    }\n",
              "\n",
              "    [theme=dark] .colab-df-convert:hover {\n",
              "      background-color: #434B5C;\n",
              "      box-shadow: 0px 1px 3px 1px rgba(0, 0, 0, 0.15);\n",
              "      filter: drop-shadow(0px 1px 2px rgba(0, 0, 0, 0.3));\n",
              "      fill: #FFFFFF;\n",
              "    }\n",
              "  </style>\n",
              "\n",
              "      <script>\n",
              "        const buttonEl =\n",
              "          document.querySelector('#df-b3951022-cd71-46c8-8539-d6d67a5a5890 button.colab-df-convert');\n",
              "        buttonEl.style.display =\n",
              "          google.colab.kernel.accessAllowed ? 'block' : 'none';\n",
              "\n",
              "        async function convertToInteractive(key) {\n",
              "          const element = document.querySelector('#df-b3951022-cd71-46c8-8539-d6d67a5a5890');\n",
              "          const dataTable =\n",
              "            await google.colab.kernel.invokeFunction('convertToInteractive',\n",
              "                                                     [key], {});\n",
              "          if (!dataTable) return;\n",
              "\n",
              "          const docLinkHtml = 'Like what you see? Visit the ' +\n",
              "            '<a target=\"_blank\" href=https://colab.research.google.com/notebooks/data_table.ipynb>data table notebook</a>'\n",
              "            + ' to learn more about interactive tables.';\n",
              "          element.innerHTML = '';\n",
              "          dataTable['output_type'] = 'display_data';\n",
              "          await google.colab.output.renderOutput(dataTable, element);\n",
              "          const docLink = document.createElement('div');\n",
              "          docLink.innerHTML = docLinkHtml;\n",
              "          element.appendChild(docLink);\n",
              "        }\n",
              "      </script>\n",
              "    </div>\n",
              "  </div>\n",
              "  "
            ]
          },
          "metadata": {},
          "execution_count": 4
        }
      ]
    },
    {
      "cell_type": "markdown",
      "source": [
        "今回はLSTNの変数無しなので[<font color=\"red\">降水量の合計(mm),\t日照時間(時間)</font>]をドロップします。"
      ],
      "metadata": {
        "id": "fbg5SANIU8y8"
      }
    },
    {
      "cell_type": "code",
      "source": [
        "df = df[[\"平均気温(℃)\"]]\n",
        "df"
      ],
      "metadata": {
        "colab": {
          "base_uri": "https://localhost:8080/",
          "height": 455
        },
        "id": "BquTSWFTU8U8",
        "outputId": "a8184da7-0dea-42d3-b4e4-ffa1eca5f27a"
      },
      "execution_count": null,
      "outputs": [
        {
          "output_type": "execute_result",
          "data": {
            "text/plain": [
              "            平均気温(℃)\n",
              "年月日                \n",
              "2010-01-01      4.8\n",
              "2010-01-02      6.3\n",
              "2010-01-03      5.7\n",
              "2010-01-04      6.5\n",
              "2010-01-05      7.3\n",
              "...             ...\n",
              "2019-12-27      8.7\n",
              "2019-12-28      6.8\n",
              "2019-12-29      7.0\n",
              "2019-12-30      6.7\n",
              "2019-12-31      8.2\n",
              "\n",
              "[3652 rows x 1 columns]"
            ],
            "text/html": [
              "\n",
              "  <div id=\"df-7592971e-2366-4d48-870e-801cf29def26\">\n",
              "    <div class=\"colab-df-container\">\n",
              "      <div>\n",
              "<style scoped>\n",
              "    .dataframe tbody tr th:only-of-type {\n",
              "        vertical-align: middle;\n",
              "    }\n",
              "\n",
              "    .dataframe tbody tr th {\n",
              "        vertical-align: top;\n",
              "    }\n",
              "\n",
              "    .dataframe thead th {\n",
              "        text-align: right;\n",
              "    }\n",
              "</style>\n",
              "<table border=\"1\" class=\"dataframe\">\n",
              "  <thead>\n",
              "    <tr style=\"text-align: right;\">\n",
              "      <th></th>\n",
              "      <th>平均気温(℃)</th>\n",
              "    </tr>\n",
              "    <tr>\n",
              "      <th>年月日</th>\n",
              "      <th></th>\n",
              "    </tr>\n",
              "  </thead>\n",
              "  <tbody>\n",
              "    <tr>\n",
              "      <th>2010-01-01</th>\n",
              "      <td>4.8</td>\n",
              "    </tr>\n",
              "    <tr>\n",
              "      <th>2010-01-02</th>\n",
              "      <td>6.3</td>\n",
              "    </tr>\n",
              "    <tr>\n",
              "      <th>2010-01-03</th>\n",
              "      <td>5.7</td>\n",
              "    </tr>\n",
              "    <tr>\n",
              "      <th>2010-01-04</th>\n",
              "      <td>6.5</td>\n",
              "    </tr>\n",
              "    <tr>\n",
              "      <th>2010-01-05</th>\n",
              "      <td>7.3</td>\n",
              "    </tr>\n",
              "    <tr>\n",
              "      <th>...</th>\n",
              "      <td>...</td>\n",
              "    </tr>\n",
              "    <tr>\n",
              "      <th>2019-12-27</th>\n",
              "      <td>8.7</td>\n",
              "    </tr>\n",
              "    <tr>\n",
              "      <th>2019-12-28</th>\n",
              "      <td>6.8</td>\n",
              "    </tr>\n",
              "    <tr>\n",
              "      <th>2019-12-29</th>\n",
              "      <td>7.0</td>\n",
              "    </tr>\n",
              "    <tr>\n",
              "      <th>2019-12-30</th>\n",
              "      <td>6.7</td>\n",
              "    </tr>\n",
              "    <tr>\n",
              "      <th>2019-12-31</th>\n",
              "      <td>8.2</td>\n",
              "    </tr>\n",
              "  </tbody>\n",
              "</table>\n",
              "<p>3652 rows × 1 columns</p>\n",
              "</div>\n",
              "      <button class=\"colab-df-convert\" onclick=\"convertToInteractive('df-7592971e-2366-4d48-870e-801cf29def26')\"\n",
              "              title=\"Convert this dataframe to an interactive table.\"\n",
              "              style=\"display:none;\">\n",
              "        \n",
              "  <svg xmlns=\"http://www.w3.org/2000/svg\" height=\"24px\"viewBox=\"0 0 24 24\"\n",
              "       width=\"24px\">\n",
              "    <path d=\"M0 0h24v24H0V0z\" fill=\"none\"/>\n",
              "    <path d=\"M18.56 5.44l.94 2.06.94-2.06 2.06-.94-2.06-.94-.94-2.06-.94 2.06-2.06.94zm-11 1L8.5 8.5l.94-2.06 2.06-.94-2.06-.94L8.5 2.5l-.94 2.06-2.06.94zm10 10l.94 2.06.94-2.06 2.06-.94-2.06-.94-.94-2.06-.94 2.06-2.06.94z\"/><path d=\"M17.41 7.96l-1.37-1.37c-.4-.4-.92-.59-1.43-.59-.52 0-1.04.2-1.43.59L10.3 9.45l-7.72 7.72c-.78.78-.78 2.05 0 2.83L4 21.41c.39.39.9.59 1.41.59.51 0 1.02-.2 1.41-.59l7.78-7.78 2.81-2.81c.8-.78.8-2.07 0-2.86zM5.41 20L4 18.59l7.72-7.72 1.47 1.35L5.41 20z\"/>\n",
              "  </svg>\n",
              "      </button>\n",
              "      \n",
              "  <style>\n",
              "    .colab-df-container {\n",
              "      display:flex;\n",
              "      flex-wrap:wrap;\n",
              "      gap: 12px;\n",
              "    }\n",
              "\n",
              "    .colab-df-convert {\n",
              "      background-color: #E8F0FE;\n",
              "      border: none;\n",
              "      border-radius: 50%;\n",
              "      cursor: pointer;\n",
              "      display: none;\n",
              "      fill: #1967D2;\n",
              "      height: 32px;\n",
              "      padding: 0 0 0 0;\n",
              "      width: 32px;\n",
              "    }\n",
              "\n",
              "    .colab-df-convert:hover {\n",
              "      background-color: #E2EBFA;\n",
              "      box-shadow: 0px 1px 2px rgba(60, 64, 67, 0.3), 0px 1px 3px 1px rgba(60, 64, 67, 0.15);\n",
              "      fill: #174EA6;\n",
              "    }\n",
              "\n",
              "    [theme=dark] .colab-df-convert {\n",
              "      background-color: #3B4455;\n",
              "      fill: #D2E3FC;\n",
              "    }\n",
              "\n",
              "    [theme=dark] .colab-df-convert:hover {\n",
              "      background-color: #434B5C;\n",
              "      box-shadow: 0px 1px 3px 1px rgba(0, 0, 0, 0.15);\n",
              "      filter: drop-shadow(0px 1px 2px rgba(0, 0, 0, 0.3));\n",
              "      fill: #FFFFFF;\n",
              "    }\n",
              "  </style>\n",
              "\n",
              "      <script>\n",
              "        const buttonEl =\n",
              "          document.querySelector('#df-7592971e-2366-4d48-870e-801cf29def26 button.colab-df-convert');\n",
              "        buttonEl.style.display =\n",
              "          google.colab.kernel.accessAllowed ? 'block' : 'none';\n",
              "\n",
              "        async function convertToInteractive(key) {\n",
              "          const element = document.querySelector('#df-7592971e-2366-4d48-870e-801cf29def26');\n",
              "          const dataTable =\n",
              "            await google.colab.kernel.invokeFunction('convertToInteractive',\n",
              "                                                     [key], {});\n",
              "          if (!dataTable) return;\n",
              "\n",
              "          const docLinkHtml = 'Like what you see? Visit the ' +\n",
              "            '<a target=\"_blank\" href=https://colab.research.google.com/notebooks/data_table.ipynb>data table notebook</a>'\n",
              "            + ' to learn more about interactive tables.';\n",
              "          element.innerHTML = '';\n",
              "          dataTable['output_type'] = 'display_data';\n",
              "          await google.colab.output.renderOutput(dataTable, element);\n",
              "          const docLink = document.createElement('div');\n",
              "          docLink.innerHTML = docLinkHtml;\n",
              "          element.appendChild(docLink);\n",
              "        }\n",
              "      </script>\n",
              "    </div>\n",
              "  </div>\n",
              "  "
            ]
          },
          "metadata": {},
          "execution_count": 5
        }
      ]
    },
    {
      "cell_type": "markdown",
      "source": [
        "列(カラム)が多すぎるので、週ごとの平均にまとめます。groupbyのように。"
      ],
      "metadata": {
        "id": "Z0vFe0PVWVqe"
      }
    },
    {
      "cell_type": "code",
      "source": [
        "df_week = df.resample(\"W\").mean() #週ごとに集計\n",
        "df_week"
      ],
      "metadata": {
        "colab": {
          "base_uri": "https://localhost:8080/",
          "height": 455
        },
        "id": "cKc9DIaFVV1u",
        "outputId": "9fc59617-3fcd-4e9c-b30b-49af70ae2299"
      },
      "execution_count": null,
      "outputs": [
        {
          "output_type": "execute_result",
          "data": {
            "text/plain": [
              "             平均気温(℃)\n",
              "年月日                 \n",
              "2010-01-03  5.600000\n",
              "2010-01-10  7.057143\n",
              "2010-01-17  4.514286\n",
              "2010-01-24  8.371429\n",
              "2010-01-31  8.757143\n",
              "...              ...\n",
              "2019-12-08  8.857143\n",
              "2019-12-15  9.371429\n",
              "2019-12-22  8.800000\n",
              "2019-12-29  7.314286\n",
              "2020-01-05  7.450000\n",
              "\n",
              "[523 rows x 1 columns]"
            ],
            "text/html": [
              "\n",
              "  <div id=\"df-0ff4521b-ef74-4930-b1a7-07d7cafcc145\">\n",
              "    <div class=\"colab-df-container\">\n",
              "      <div>\n",
              "<style scoped>\n",
              "    .dataframe tbody tr th:only-of-type {\n",
              "        vertical-align: middle;\n",
              "    }\n",
              "\n",
              "    .dataframe tbody tr th {\n",
              "        vertical-align: top;\n",
              "    }\n",
              "\n",
              "    .dataframe thead th {\n",
              "        text-align: right;\n",
              "    }\n",
              "</style>\n",
              "<table border=\"1\" class=\"dataframe\">\n",
              "  <thead>\n",
              "    <tr style=\"text-align: right;\">\n",
              "      <th></th>\n",
              "      <th>平均気温(℃)</th>\n",
              "    </tr>\n",
              "    <tr>\n",
              "      <th>年月日</th>\n",
              "      <th></th>\n",
              "    </tr>\n",
              "  </thead>\n",
              "  <tbody>\n",
              "    <tr>\n",
              "      <th>2010-01-03</th>\n",
              "      <td>5.600000</td>\n",
              "    </tr>\n",
              "    <tr>\n",
              "      <th>2010-01-10</th>\n",
              "      <td>7.057143</td>\n",
              "    </tr>\n",
              "    <tr>\n",
              "      <th>2010-01-17</th>\n",
              "      <td>4.514286</td>\n",
              "    </tr>\n",
              "    <tr>\n",
              "      <th>2010-01-24</th>\n",
              "      <td>8.371429</td>\n",
              "    </tr>\n",
              "    <tr>\n",
              "      <th>2010-01-31</th>\n",
              "      <td>8.757143</td>\n",
              "    </tr>\n",
              "    <tr>\n",
              "      <th>...</th>\n",
              "      <td>...</td>\n",
              "    </tr>\n",
              "    <tr>\n",
              "      <th>2019-12-08</th>\n",
              "      <td>8.857143</td>\n",
              "    </tr>\n",
              "    <tr>\n",
              "      <th>2019-12-15</th>\n",
              "      <td>9.371429</td>\n",
              "    </tr>\n",
              "    <tr>\n",
              "      <th>2019-12-22</th>\n",
              "      <td>8.800000</td>\n",
              "    </tr>\n",
              "    <tr>\n",
              "      <th>2019-12-29</th>\n",
              "      <td>7.314286</td>\n",
              "    </tr>\n",
              "    <tr>\n",
              "      <th>2020-01-05</th>\n",
              "      <td>7.450000</td>\n",
              "    </tr>\n",
              "  </tbody>\n",
              "</table>\n",
              "<p>523 rows × 1 columns</p>\n",
              "</div>\n",
              "      <button class=\"colab-df-convert\" onclick=\"convertToInteractive('df-0ff4521b-ef74-4930-b1a7-07d7cafcc145')\"\n",
              "              title=\"Convert this dataframe to an interactive table.\"\n",
              "              style=\"display:none;\">\n",
              "        \n",
              "  <svg xmlns=\"http://www.w3.org/2000/svg\" height=\"24px\"viewBox=\"0 0 24 24\"\n",
              "       width=\"24px\">\n",
              "    <path d=\"M0 0h24v24H0V0z\" fill=\"none\"/>\n",
              "    <path d=\"M18.56 5.44l.94 2.06.94-2.06 2.06-.94-2.06-.94-.94-2.06-.94 2.06-2.06.94zm-11 1L8.5 8.5l.94-2.06 2.06-.94-2.06-.94L8.5 2.5l-.94 2.06-2.06.94zm10 10l.94 2.06.94-2.06 2.06-.94-2.06-.94-.94-2.06-.94 2.06-2.06.94z\"/><path d=\"M17.41 7.96l-1.37-1.37c-.4-.4-.92-.59-1.43-.59-.52 0-1.04.2-1.43.59L10.3 9.45l-7.72 7.72c-.78.78-.78 2.05 0 2.83L4 21.41c.39.39.9.59 1.41.59.51 0 1.02-.2 1.41-.59l7.78-7.78 2.81-2.81c.8-.78.8-2.07 0-2.86zM5.41 20L4 18.59l7.72-7.72 1.47 1.35L5.41 20z\"/>\n",
              "  </svg>\n",
              "      </button>\n",
              "      \n",
              "  <style>\n",
              "    .colab-df-container {\n",
              "      display:flex;\n",
              "      flex-wrap:wrap;\n",
              "      gap: 12px;\n",
              "    }\n",
              "\n",
              "    .colab-df-convert {\n",
              "      background-color: #E8F0FE;\n",
              "      border: none;\n",
              "      border-radius: 50%;\n",
              "      cursor: pointer;\n",
              "      display: none;\n",
              "      fill: #1967D2;\n",
              "      height: 32px;\n",
              "      padding: 0 0 0 0;\n",
              "      width: 32px;\n",
              "    }\n",
              "\n",
              "    .colab-df-convert:hover {\n",
              "      background-color: #E2EBFA;\n",
              "      box-shadow: 0px 1px 2px rgba(60, 64, 67, 0.3), 0px 1px 3px 1px rgba(60, 64, 67, 0.15);\n",
              "      fill: #174EA6;\n",
              "    }\n",
              "\n",
              "    [theme=dark] .colab-df-convert {\n",
              "      background-color: #3B4455;\n",
              "      fill: #D2E3FC;\n",
              "    }\n",
              "\n",
              "    [theme=dark] .colab-df-convert:hover {\n",
              "      background-color: #434B5C;\n",
              "      box-shadow: 0px 1px 3px 1px rgba(0, 0, 0, 0.15);\n",
              "      filter: drop-shadow(0px 1px 2px rgba(0, 0, 0, 0.3));\n",
              "      fill: #FFFFFF;\n",
              "    }\n",
              "  </style>\n",
              "\n",
              "      <script>\n",
              "        const buttonEl =\n",
              "          document.querySelector('#df-0ff4521b-ef74-4930-b1a7-07d7cafcc145 button.colab-df-convert');\n",
              "        buttonEl.style.display =\n",
              "          google.colab.kernel.accessAllowed ? 'block' : 'none';\n",
              "\n",
              "        async function convertToInteractive(key) {\n",
              "          const element = document.querySelector('#df-0ff4521b-ef74-4930-b1a7-07d7cafcc145');\n",
              "          const dataTable =\n",
              "            await google.colab.kernel.invokeFunction('convertToInteractive',\n",
              "                                                     [key], {});\n",
              "          if (!dataTable) return;\n",
              "\n",
              "          const docLinkHtml = 'Like what you see? Visit the ' +\n",
              "            '<a target=\"_blank\" href=https://colab.research.google.com/notebooks/data_table.ipynb>data table notebook</a>'\n",
              "            + ' to learn more about interactive tables.';\n",
              "          element.innerHTML = '';\n",
              "          dataTable['output_type'] = 'display_data';\n",
              "          await google.colab.output.renderOutput(dataTable, element);\n",
              "          const docLink = document.createElement('div');\n",
              "          docLink.innerHTML = docLinkHtml;\n",
              "          element.appendChild(docLink);\n",
              "        }\n",
              "      </script>\n",
              "    </div>\n",
              "  </div>\n",
              "  "
            ]
          },
          "metadata": {},
          "execution_count": 6
        }
      ]
    },
    {
      "cell_type": "markdown",
      "source": [
        "ディープラーニング用に<font color=\"red\">0〜1にスケーリング</font>。\n",
        "\n",
        "すべての値を0～1の範囲に収めます。-30°や20°も全て0～1の範囲に収め、dfに格納し直します。\n",
        "\n",
        "<font color=\"red\">何故そんなことを？</font>\n",
        "\n",
        "ディープラーニングの時系列分析の際は、細かい事は気にせずにこういうものだと割り切ってもらえれば。後で調べます。"
      ],
      "metadata": {
        "id": "ai2RoKGtWi54"
      }
    },
    {
      "cell_type": "code",
      "source": [
        "#その為のモジュールをインポート\n",
        "from sklearn.preprocessing import MinMaxScaler\n",
        "\n",
        "scaler = MinMaxScaler(feature_range=(0, 1)) # 範囲設定\n",
        "\n",
        "# fitさせます。dfの要素をscalerに適合させindexとcloumnsも指定します。\n",
        "df_week_scale = pd.DataFrame(scaler.fit_transform(df_week),index=df_week.index,columns=df_week.columns)\n",
        "\n",
        "\n",
        "# 確認 ⇒ 平均気温(℃) が0～1 の範囲に収まっているでしょう。\n",
        "df_week_scale"
      ],
      "metadata": {
        "colab": {
          "base_uri": "https://localhost:8080/",
          "height": 455
        },
        "id": "L8P0UUpZWdHI",
        "outputId": "78651b42-0db7-47ee-cb3f-199f110e27f2"
      },
      "execution_count": null,
      "outputs": [
        {
          "output_type": "execute_result",
          "data": {
            "text/plain": [
              "             平均気温(℃)\n",
              "年月日                 \n",
              "2010-01-03  0.132150\n",
              "2010-01-10  0.182446\n",
              "2010-01-17  0.094675\n",
              "2010-01-24  0.227811\n",
              "2010-01-31  0.241124\n",
              "...              ...\n",
              "2019-12-08  0.244576\n",
              "2019-12-15  0.262327\n",
              "2019-12-22  0.242604\n",
              "2019-12-29  0.191321\n",
              "2020-01-05  0.196006\n",
              "\n",
              "[523 rows x 1 columns]"
            ],
            "text/html": [
              "\n",
              "  <div id=\"df-8828a0f6-42eb-4baf-bc46-d066a672cee9\">\n",
              "    <div class=\"colab-df-container\">\n",
              "      <div>\n",
              "<style scoped>\n",
              "    .dataframe tbody tr th:only-of-type {\n",
              "        vertical-align: middle;\n",
              "    }\n",
              "\n",
              "    .dataframe tbody tr th {\n",
              "        vertical-align: top;\n",
              "    }\n",
              "\n",
              "    .dataframe thead th {\n",
              "        text-align: right;\n",
              "    }\n",
              "</style>\n",
              "<table border=\"1\" class=\"dataframe\">\n",
              "  <thead>\n",
              "    <tr style=\"text-align: right;\">\n",
              "      <th></th>\n",
              "      <th>平均気温(℃)</th>\n",
              "    </tr>\n",
              "    <tr>\n",
              "      <th>年月日</th>\n",
              "      <th></th>\n",
              "    </tr>\n",
              "  </thead>\n",
              "  <tbody>\n",
              "    <tr>\n",
              "      <th>2010-01-03</th>\n",
              "      <td>0.132150</td>\n",
              "    </tr>\n",
              "    <tr>\n",
              "      <th>2010-01-10</th>\n",
              "      <td>0.182446</td>\n",
              "    </tr>\n",
              "    <tr>\n",
              "      <th>2010-01-17</th>\n",
              "      <td>0.094675</td>\n",
              "    </tr>\n",
              "    <tr>\n",
              "      <th>2010-01-24</th>\n",
              "      <td>0.227811</td>\n",
              "    </tr>\n",
              "    <tr>\n",
              "      <th>2010-01-31</th>\n",
              "      <td>0.241124</td>\n",
              "    </tr>\n",
              "    <tr>\n",
              "      <th>...</th>\n",
              "      <td>...</td>\n",
              "    </tr>\n",
              "    <tr>\n",
              "      <th>2019-12-08</th>\n",
              "      <td>0.244576</td>\n",
              "    </tr>\n",
              "    <tr>\n",
              "      <th>2019-12-15</th>\n",
              "      <td>0.262327</td>\n",
              "    </tr>\n",
              "    <tr>\n",
              "      <th>2019-12-22</th>\n",
              "      <td>0.242604</td>\n",
              "    </tr>\n",
              "    <tr>\n",
              "      <th>2019-12-29</th>\n",
              "      <td>0.191321</td>\n",
              "    </tr>\n",
              "    <tr>\n",
              "      <th>2020-01-05</th>\n",
              "      <td>0.196006</td>\n",
              "    </tr>\n",
              "  </tbody>\n",
              "</table>\n",
              "<p>523 rows × 1 columns</p>\n",
              "</div>\n",
              "      <button class=\"colab-df-convert\" onclick=\"convertToInteractive('df-8828a0f6-42eb-4baf-bc46-d066a672cee9')\"\n",
              "              title=\"Convert this dataframe to an interactive table.\"\n",
              "              style=\"display:none;\">\n",
              "        \n",
              "  <svg xmlns=\"http://www.w3.org/2000/svg\" height=\"24px\"viewBox=\"0 0 24 24\"\n",
              "       width=\"24px\">\n",
              "    <path d=\"M0 0h24v24H0V0z\" fill=\"none\"/>\n",
              "    <path d=\"M18.56 5.44l.94 2.06.94-2.06 2.06-.94-2.06-.94-.94-2.06-.94 2.06-2.06.94zm-11 1L8.5 8.5l.94-2.06 2.06-.94-2.06-.94L8.5 2.5l-.94 2.06-2.06.94zm10 10l.94 2.06.94-2.06 2.06-.94-2.06-.94-.94-2.06-.94 2.06-2.06.94z\"/><path d=\"M17.41 7.96l-1.37-1.37c-.4-.4-.92-.59-1.43-.59-.52 0-1.04.2-1.43.59L10.3 9.45l-7.72 7.72c-.78.78-.78 2.05 0 2.83L4 21.41c.39.39.9.59 1.41.59.51 0 1.02-.2 1.41-.59l7.78-7.78 2.81-2.81c.8-.78.8-2.07 0-2.86zM5.41 20L4 18.59l7.72-7.72 1.47 1.35L5.41 20z\"/>\n",
              "  </svg>\n",
              "      </button>\n",
              "      \n",
              "  <style>\n",
              "    .colab-df-container {\n",
              "      display:flex;\n",
              "      flex-wrap:wrap;\n",
              "      gap: 12px;\n",
              "    }\n",
              "\n",
              "    .colab-df-convert {\n",
              "      background-color: #E8F0FE;\n",
              "      border: none;\n",
              "      border-radius: 50%;\n",
              "      cursor: pointer;\n",
              "      display: none;\n",
              "      fill: #1967D2;\n",
              "      height: 32px;\n",
              "      padding: 0 0 0 0;\n",
              "      width: 32px;\n",
              "    }\n",
              "\n",
              "    .colab-df-convert:hover {\n",
              "      background-color: #E2EBFA;\n",
              "      box-shadow: 0px 1px 2px rgba(60, 64, 67, 0.3), 0px 1px 3px 1px rgba(60, 64, 67, 0.15);\n",
              "      fill: #174EA6;\n",
              "    }\n",
              "\n",
              "    [theme=dark] .colab-df-convert {\n",
              "      background-color: #3B4455;\n",
              "      fill: #D2E3FC;\n",
              "    }\n",
              "\n",
              "    [theme=dark] .colab-df-convert:hover {\n",
              "      background-color: #434B5C;\n",
              "      box-shadow: 0px 1px 3px 1px rgba(0, 0, 0, 0.15);\n",
              "      filter: drop-shadow(0px 1px 2px rgba(0, 0, 0, 0.3));\n",
              "      fill: #FFFFFF;\n",
              "    }\n",
              "  </style>\n",
              "\n",
              "      <script>\n",
              "        const buttonEl =\n",
              "          document.querySelector('#df-8828a0f6-42eb-4baf-bc46-d066a672cee9 button.colab-df-convert');\n",
              "        buttonEl.style.display =\n",
              "          google.colab.kernel.accessAllowed ? 'block' : 'none';\n",
              "\n",
              "        async function convertToInteractive(key) {\n",
              "          const element = document.querySelector('#df-8828a0f6-42eb-4baf-bc46-d066a672cee9');\n",
              "          const dataTable =\n",
              "            await google.colab.kernel.invokeFunction('convertToInteractive',\n",
              "                                                     [key], {});\n",
              "          if (!dataTable) return;\n",
              "\n",
              "          const docLinkHtml = 'Like what you see? Visit the ' +\n",
              "            '<a target=\"_blank\" href=https://colab.research.google.com/notebooks/data_table.ipynb>data table notebook</a>'\n",
              "            + ' to learn more about interactive tables.';\n",
              "          element.innerHTML = '';\n",
              "          dataTable['output_type'] = 'display_data';\n",
              "          await google.colab.output.renderOutput(dataTable, element);\n",
              "          const docLink = document.createElement('div');\n",
              "          docLink.innerHTML = docLinkHtml;\n",
              "          element.appendChild(docLink);\n",
              "        }\n",
              "      </script>\n",
              "    </div>\n",
              "  </div>\n",
              "  "
            ]
          },
          "metadata": {},
          "execution_count": 7
        }
      ]
    },
    {
      "cell_type": "markdown",
      "source": [
        "データ分割。便宜上この段階でデータ分割を致します。"
      ],
      "metadata": {
        "id": "U-Zg_8FKa4tz"
      }
    },
    {
      "cell_type": "code",
      "source": [
        "#学習データ、試験データに分離\n",
        "df_week_scale_train = df_week_scale[\"2010\":\"2018\"]\n",
        "df_week_scale_test =  df_week_scale[\"2019\"]"
      ],
      "metadata": {
        "colab": {
          "base_uri": "https://localhost:8080/"
        },
        "id": "TbSEJtuiddjq",
        "outputId": "6d3d3cc0-1e2b-436d-fd2d-b109f686ceb6"
      },
      "execution_count": null,
      "outputs": [
        {
          "output_type": "stream",
          "name": "stderr",
          "text": [
            "/usr/local/lib/python3.7/dist-packages/ipykernel_launcher.py:3: FutureWarning: Indexing a DataFrame with a datetimelike index using a single string to slice the rows, like `frame[string]`, is deprecated and will be removed in a future version. Use `frame.loc[string]` instead.\n",
            "  This is separate from the ipykernel package so we can avoid doing imports until\n"
          ]
        }
      ]
    },
    {
      "cell_type": "markdown",
      "source": [
        "### RNN用データへの整形\n",
        "これもディープラーニングの為にこのような形式にしないとダメですよと。\n",
        "<font color=\"red\">LSTNの特徴の一つです。</font>"
      ],
      "metadata": {
        "id": "6kZFyi6oY-a0"
      }
    },
    {
      "cell_type": "code",
      "source": [
        "look_back = 30 #どれくらい過去まで見るか\n",
        "\n",
        "def create_input_data(data, look_back):    \n",
        "    raw_data = data.T.values.tolist()\n",
        "    data_size = len(data) - look_back\n",
        "\n",
        "    X = [[] for i in range(len(raw_data))] \n",
        "    y = [[] for i in range(len(raw_data))] \n",
        "\n",
        "    for i in range(data_size):\n",
        "        for j in range(len(raw_data)):\n",
        "            X[j].append(raw_data[j][i:i + look_back])\n",
        "            y[j].append([raw_data[j][i + look_back]])\n",
        "\n",
        "    X_tmp = X[-1]\n",
        "    y_tmp = y[-1]\n",
        "    \n",
        "    for i in range(len(raw_data)-1):\n",
        "        X_tmp = np.insert(X_tmp,np.arange(0, (look_back-1)*(i+1)+1, i+1),X[-i-2],axis=1)\n",
        "        y_tmp = np.insert(y_tmp,np.arange(0, (i+1), i+1),y[-i-2],axis=1)\n",
        "    \n",
        "    X = np.array(X_tmp).reshape(data_size, look_back, len(raw_data))\n",
        "    y = np.array(y_tmp).reshape(data_size, 1, len(raw_data))\n",
        "    \n",
        "    return y, X\n",
        "    "
      ],
      "metadata": {
        "id": "rigv3uJkbojN"
      },
      "execution_count": null,
      "outputs": []
    },
    {
      "cell_type": "markdown",
      "source": [
        "### データ分割"
      ],
      "metadata": {
        "id": "VGBCgQeydrp6"
      }
    },
    {
      "cell_type": "code",
      "source": [
        "y_train,X_train = create_input_data(\n",
        "    data=df_week_scale_train,\n",
        "    look_back=look_back\n",
        ")\n",
        "\n",
        "y_test,X_test = create_input_data(\n",
        "    data=df_week_scale_test,\n",
        "    look_back=look_back\n",
        ")"
      ],
      "metadata": {
        "id": "dx3ciS-_cQ9S"
      },
      "execution_count": null,
      "outputs": []
    },
    {
      "cell_type": "code",
      "source": [
        "# この状態でも一応あって入るらしい。\n",
        "X_train.shape,y_train.shape,X_test.shape,y_test.shape"
      ],
      "metadata": {
        "colab": {
          "base_uri": "https://localhost:8080/"
        },
        "id": "u-GVsRtTdqgc",
        "outputId": "1e7ed115-1fb0-491d-bceb-720bb9344897"
      },
      "execution_count": null,
      "outputs": [
        {
          "output_type": "execute_result",
          "data": {
            "text/plain": [
              "((440, 30, 1), (440, 1, 1), (22, 30, 1), (22, 1, 1))"
            ]
          },
          "metadata": {},
          "execution_count": 12
        }
      ]
    },
    {
      "cell_type": "markdown",
      "source": [
        "### モデルの定義と学習\n",
        "⇒質問"
      ],
      "metadata": {
        "id": "yGI-9TcCY-sy"
      }
    },
    {
      "cell_type": "code",
      "source": [
        "# 各モジュールへのインポート。\n",
        "from tensorflow.keras.models import Sequential\n",
        "from tensorflow.keras.layers import Dense, Activation\n",
        "from tensorflow.keras.layers import LSTM\n",
        "from tensorflow.keras.optimizers import Adam"
      ],
      "metadata": {
        "id": "856S8kjce_Tz"
      },
      "execution_count": null,
      "outputs": []
    },
    {
      "cell_type": "markdown",
      "source": [
        "input shape というのは決まってます。こういうものだと。\n",
        "そしてLSTMのユニットをいくつ作成するか。\n",
        "\n",
        "⇒最善が分からないので<font color=\"red\">試行錯誤して結果を確認しながら調整</font>しましょう。手間ですけど。"
      ],
      "metadata": {
        "id": "Z4Xh4eE4ff2E"
      }
    },
    {
      "cell_type": "code",
      "source": [
        "# モデルのインスタンス化\n",
        "model = Sequential()\n",
        "\n",
        "\n",
        "x = model.add(LSTM(4, return_sequences=True, input_shape=(X_train.shape[1], X_train.shape[2])))\n",
        "model.add(LSTM(8))\n",
        "model.add(Dense(len(df.columns))) #出力層はデータ数に合わせる"
      ],
      "metadata": {
        "id": "YFQEq-TOfcLU"
      },
      "execution_count": null,
      "outputs": []
    },
    {
      "cell_type": "markdown",
      "source": [
        "学習実行"
      ],
      "metadata": {
        "id": "_DVTmcaZhd2K"
      }
    },
    {
      "cell_type": "markdown",
      "source": [
        "<font color=\"red\">エポックは何週するのか？</font>一応学習すればするほど、どんどん誤差が小さくなってきて頭打ちになるはずです。その頭打ちを狙いましょう。\n",
        "\n",
        "<font color=\"red\">バッチサイズ</font>はデータを一気に入れると大変だからどのくらい小分けにするの？という話。\n",
        "\n",
        "時間を取るかメモリ効率を取るか。⇒画像とやると1000とか回す必要がある。"
      ],
      "metadata": {
        "id": "az5c7o73hocC"
      }
    },
    {
      "cell_type": "markdown",
      "source": [
        "損失関数の設定。数値を予測するときは､平方二乗誤差。⇒評価値。小さいほど良いです。\n",
        "\n",
        "optimizer⇒基本的には分からないので<font color=\"red\">試行錯誤</font>して結果を確認しながら調整しましょう。他候補は、SGD AdaGrad 等\n",
        "\n",
        "これがないと下記がエラーになります。\n",
        "⇒\n",
        "\n",
        "RuntimeError: You must compile your model before training/testing. Use `model.compile(optimizer, loss)`.\n",
        "\n",
        "```\n",
        "history = model.fit(X_train, y_train, epochs=50, batch_size=1)\n",
        "```\n",
        "\n",
        "多分だけど、学習するときのどの基準を定めるのだと思う。\n",
        "<font color=\"red\">rmse</font>を良い結果にしたいです。みたいな。\n"
      ],
      "metadata": {
        "id": "8zGz6tOtgI7D"
      }
    },
    {
      "cell_type": "code",
      "source": [
        "model.compile(loss='mean_squared_error', optimizer='adam')"
      ],
      "metadata": {
        "id": "Y2_0DT7yrLzD"
      },
      "execution_count": null,
      "outputs": []
    },
    {
      "cell_type": "code",
      "source": [
        "# epoc数とバッチサイズはお好みで調整してください。\n",
        "history = model.fit(X_train, y_train, epochs=50, batch_size=16)"
      ],
      "metadata": {
        "id": "DXdPVU5dhbfJ",
        "colab": {
          "base_uri": "https://localhost:8080/"
        },
        "outputId": "0c1272d9-7dd3-4164-a5ea-501a3470e0b6"
      },
      "execution_count": null,
      "outputs": [
        {
          "output_type": "stream",
          "name": "stdout",
          "text": [
            "Epoch 1/50\n",
            "28/28 [==============================] - 7s 29ms/step - loss: 0.1839\n",
            "Epoch 2/50\n",
            "28/28 [==============================] - 1s 23ms/step - loss: 0.0589\n",
            "Epoch 3/50\n",
            "28/28 [==============================] - 0s 14ms/step - loss: 0.0474\n",
            "Epoch 4/50\n",
            "28/28 [==============================] - 0s 15ms/step - loss: 0.0423\n",
            "Epoch 5/50\n",
            "28/28 [==============================] - 0s 14ms/step - loss: 0.0365\n",
            "Epoch 6/50\n",
            "28/28 [==============================] - 0s 14ms/step - loss: 0.0273\n",
            "Epoch 7/50\n",
            "28/28 [==============================] - 0s 14ms/step - loss: 0.0119\n",
            "Epoch 8/50\n",
            "28/28 [==============================] - 0s 14ms/step - loss: 0.0045\n",
            "Epoch 9/50\n",
            "28/28 [==============================] - 0s 14ms/step - loss: 0.0042\n",
            "Epoch 10/50\n",
            "28/28 [==============================] - 0s 15ms/step - loss: 0.0046\n",
            "Epoch 11/50\n",
            "28/28 [==============================] - 0s 15ms/step - loss: 0.0041\n",
            "Epoch 12/50\n",
            "28/28 [==============================] - 0s 15ms/step - loss: 0.0041\n",
            "Epoch 13/50\n",
            "28/28 [==============================] - 0s 15ms/step - loss: 0.0040\n",
            "Epoch 14/50\n",
            "28/28 [==============================] - 0s 15ms/step - loss: 0.0043\n",
            "Epoch 15/50\n",
            "28/28 [==============================] - 0s 15ms/step - loss: 0.0041\n",
            "Epoch 16/50\n",
            "28/28 [==============================] - 0s 15ms/step - loss: 0.0039\n",
            "Epoch 17/50\n",
            "28/28 [==============================] - 0s 16ms/step - loss: 0.0040\n",
            "Epoch 18/50\n",
            "28/28 [==============================] - 0s 15ms/step - loss: 0.0040\n",
            "Epoch 19/50\n",
            "28/28 [==============================] - 1s 19ms/step - loss: 0.0042\n",
            "Epoch 20/50\n",
            "28/28 [==============================] - 1s 19ms/step - loss: 0.0040\n",
            "Epoch 21/50\n",
            "28/28 [==============================] - 1s 18ms/step - loss: 0.0042\n",
            "Epoch 22/50\n",
            "28/28 [==============================] - 0s 17ms/step - loss: 0.0040\n",
            "Epoch 23/50\n",
            "28/28 [==============================] - 0s 15ms/step - loss: 0.0039\n",
            "Epoch 24/50\n",
            "28/28 [==============================] - 0s 15ms/step - loss: 0.0041\n",
            "Epoch 25/50\n",
            "28/28 [==============================] - 0s 15ms/step - loss: 0.0037\n",
            "Epoch 26/50\n",
            "28/28 [==============================] - 0s 16ms/step - loss: 0.0039\n",
            "Epoch 27/50\n",
            "28/28 [==============================] - 0s 15ms/step - loss: 0.0038\n",
            "Epoch 28/50\n",
            "28/28 [==============================] - 0s 14ms/step - loss: 0.0038\n",
            "Epoch 29/50\n",
            "28/28 [==============================] - 0s 15ms/step - loss: 0.0039\n",
            "Epoch 30/50\n",
            "28/28 [==============================] - 0s 15ms/step - loss: 0.0039\n",
            "Epoch 31/50\n",
            "28/28 [==============================] - 0s 15ms/step - loss: 0.0040\n",
            "Epoch 32/50\n",
            "28/28 [==============================] - 0s 15ms/step - loss: 0.0038\n",
            "Epoch 33/50\n",
            "28/28 [==============================] - 0s 15ms/step - loss: 0.0042\n",
            "Epoch 34/50\n",
            "28/28 [==============================] - 0s 14ms/step - loss: 0.0040\n",
            "Epoch 35/50\n",
            "28/28 [==============================] - 0s 15ms/step - loss: 0.0037\n",
            "Epoch 36/50\n",
            "28/28 [==============================] - 0s 14ms/step - loss: 0.0037\n",
            "Epoch 37/50\n",
            "28/28 [==============================] - 0s 15ms/step - loss: 0.0037\n",
            "Epoch 38/50\n",
            "28/28 [==============================] - 0s 14ms/step - loss: 0.0037\n",
            "Epoch 39/50\n",
            "28/28 [==============================] - 0s 14ms/step - loss: 0.0038\n",
            "Epoch 40/50\n",
            "28/28 [==============================] - 0s 15ms/step - loss: 0.0037\n",
            "Epoch 41/50\n",
            "28/28 [==============================] - 0s 15ms/step - loss: 0.0036\n",
            "Epoch 42/50\n",
            "28/28 [==============================] - 0s 15ms/step - loss: 0.0037\n",
            "Epoch 43/50\n",
            "28/28 [==============================] - 0s 15ms/step - loss: 0.0040\n",
            "Epoch 44/50\n",
            "28/28 [==============================] - 0s 14ms/step - loss: 0.0038\n",
            "Epoch 45/50\n",
            "28/28 [==============================] - 0s 15ms/step - loss: 0.0040\n",
            "Epoch 46/50\n",
            "28/28 [==============================] - 0s 14ms/step - loss: 0.0039\n",
            "Epoch 47/50\n",
            "28/28 [==============================] - 0s 15ms/step - loss: 0.0037\n",
            "Epoch 48/50\n",
            "28/28 [==============================] - 0s 14ms/step - loss: 0.0036\n",
            "Epoch 49/50\n",
            "28/28 [==============================] - 0s 14ms/step - loss: 0.0035\n",
            "Epoch 50/50\n",
            "28/28 [==============================] - 0s 15ms/step - loss: 0.0037\n"
          ]
        }
      ]
    },
    {
      "cell_type": "markdown",
      "source": [
        "### 精度の確認"
      ],
      "metadata": {
        "id": "LKm1N5gdiElj"
      }
    },
    {
      "cell_type": "markdown",
      "source": [
        "学習状況の確認\n",
        "\n",
        "ちゃんと学習をするにつれてlossがちゃんと下がっているのかなーと思う事。"
      ],
      "metadata": {
        "id": "AtEmv6vCiRkK"
      }
    },
    {
      "cell_type": "code",
      "source": [
        "sns.set(context=\"talk\")\n",
        "fig = plt.subplots(figsize=(12,6))\n",
        "plt.plot(history.history['loss'])\n",
        "#良い感じじゃん。"
      ],
      "metadata": {
        "colab": {
          "base_uri": "https://localhost:8080/",
          "height": 406
        },
        "id": "0LvyPK64iQ5M",
        "outputId": "ed663d95-e3b1-4d15-d0e0-e224f88055de"
      },
      "execution_count": null,
      "outputs": [
        {
          "output_type": "execute_result",
          "data": {
            "text/plain": [
              "[<matplotlib.lines.Line2D at 0x7f6ff55fa1d0>]"
            ]
          },
          "metadata": {},
          "execution_count": 17
        },
        {
          "output_type": "display_data",
          "data": {
            "text/plain": [
              "<Figure size 864x432 with 1 Axes>"
            ],
            "image/png": "[encoded data removed]"
          },
          "metadata": {}
        }
      ]
    },
    {
      "cell_type": "code",
      "source": [
        "# lossの確認。\n",
        "model.evaluate(X_test,y_test,batch_size=1)"
      ],
      "metadata": {
        "colab": {
          "base_uri": "https://localhost:8080/"
        },
        "id": "SYHsqYLfjWvU",
        "outputId": "ae4119d1-ef05-4981-b6da-f2cca274682c"
      },
      "execution_count": null,
      "outputs": [
        {
          "output_type": "stream",
          "name": "stdout",
          "text": [
            "22/22 [==============================] - 1s 3ms/step - loss: 0.0031\n"
          ]
        },
        {
          "output_type": "execute_result",
          "data": {
            "text/plain": [
              "0.0031297639943659306"
            ]
          },
          "metadata": {},
          "execution_count": 18
        }
      ]
    },
    {
      "cell_type": "markdown",
      "source": [
        ""
      ],
      "metadata": {
        "id": "y6L6PKUgiKmR"
      }
    },
    {
      "cell_type": "markdown",
      "source": [
        "### 予測と結果確認"
      ],
      "metadata": {
        "id": "llyYqOiOY-56"
      }
    },
    {
      "cell_type": "markdown",
      "source": [
        "ここは少しめんどくさいですが、細かく見ればわかるはずです。\n",
        "\n",
        "- 黒が実測値\n",
        "- 赤がテストデータからのモデル予測値\n",
        "- 緑がモデルが予測した未来のデータ。\n"
      ],
      "metadata": {
        "id": "xZQz8f-wIPbY"
      }
    },
    {
      "cell_type": "markdown",
      "source": [
        "青はトレインデータを学習した際のモデルの予測結果。⇒あんまり意味あるとは思えません個人的に。\n",
        "\n",
        "元の教材に記されていたので、消さずに残しておきました。"
      ],
      "metadata": {
        "id": "JosAytEmIhev"
      }
    },
    {
      "cell_type": "code",
      "source": [
        "sns.set(context=\"poster\",font=\"Hiragino Maru Gothic Pro\")\n",
        "fig = plt.subplots(figsize=(20,12))\n",
        "\n",
        "#正解のプロット\n",
        "df_week = pd.DataFrame(scaler.inverse_transform(df_week_scale),\n",
        "                       index=df_week.index,columns=df_week.columns)\n",
        "plt.plot(df_week[\"2017\":][\"平均気温(℃)\"],color=\"black\")\n",
        "\n",
        "#学習用データ予測結果のプロット\n",
        "df_week_train_pred = pd.DataFrame(scaler.inverse_transform(model.predict(X_train)),\n",
        "                                  index=df_week_scale_train.index[look_back:],columns=df_week_scale_train.columns)\n",
        "plt.plot(df_week_train_pred[\"2017\":][\"平均気温(℃)\"],color=\"blue\")\n",
        "\n",
        "#評価用データ予測結果のプロット\n",
        "df_week_test_pred = pd.DataFrame(scaler.inverse_transform(model.predict(X_test)),\n",
        "                                 index=df_week_scale_test.index[look_back:],columns=df_week_scale_test.columns)\n",
        "plt.plot(df_week_test_pred[\"2017\":][\"平均気温(℃)\"],color=\"red\")\n",
        "\n",
        "#未来予測\n",
        "future_steps = 50\n",
        "X_future = [df_week_scale_test[-look_back:].values.tolist()]\n",
        "y_future_list = []\n",
        "\n",
        "for step in range(future_steps):\n",
        "    y_future = model.predict(X_future)\n",
        "    y_future_list.append(y_future[0])\n",
        "    X_future = [X_future[0][1:] + y_future.tolist()]\n",
        "    \n",
        "df_week_future = pd.DataFrame(scaler.inverse_transform(y_future_list),\n",
        "                              index=pd.date_range('2020-01-01', periods=future_steps, freq='W'),columns=df_week.columns)\n",
        "plt.plot(df_week_future[\"2017\":][\"平均気温(℃)\"],color=\"green\")"
      ],
      "metadata": {
        "colab": {
          "base_uri": "https://localhost:8080/",
          "height": 1000
        },
        "id": "2xwku6Su-a-j",
        "outputId": "5043de8f-bfe5-4be9-e727-cd0db36e2c0d"
      },
      "execution_count": null,
      "outputs": [
        {
          "output_type": "stream",
          "name": "stdout",
          "text": [
            "14/14 [==============================] - 1s 4ms/step\n",
            "1/1 [==============================] - 0s 21ms/step\n",
            "1/1 [==============================] - 0s 24ms/step\n",
            "1/1 [==============================] - 0s 25ms/step\n",
            "1/1 [==============================] - 0s 25ms/step\n",
            "1/1 [==============================] - 0s 27ms/step\n",
            "1/1 [==============================] - 0s 25ms/step\n",
            "1/1 [==============================] - 0s 26ms/step\n",
            "1/1 [==============================] - 0s 28ms/step\n",
            "1/1 [==============================] - 0s 26ms/step\n",
            "1/1 [==============================] - 0s 26ms/step\n",
            "1/1 [==============================] - 0s 31ms/step\n",
            "1/1 [==============================] - 0s 29ms/step\n",
            "1/1 [==============================] - 0s 24ms/step\n",
            "1/1 [==============================] - 0s 26ms/step\n",
            "1/1 [==============================] - 0s 26ms/step\n",
            "1/1 [==============================] - 0s 32ms/step\n",
            "1/1 [==============================] - 0s 25ms/step\n",
            "1/1 [==============================] - 0s 28ms/step\n",
            "1/1 [==============================] - 0s 28ms/step\n",
            "1/1 [==============================] - 0s 26ms/step\n",
            "1/1 [==============================] - 0s 26ms/step\n",
            "1/1 [==============================] - 0s 30ms/step\n",
            "1/1 [==============================] - 0s 27ms/step\n",
            "1/1 [==============================] - 0s 29ms/step\n",
            "1/1 [==============================] - 0s 26ms/step\n",
            "1/1 [==============================] - 0s 31ms/step\n",
            "1/1 [==============================] - 0s 26ms/step\n",
            "1/1 [==============================] - 0s 25ms/step\n",
            "1/1 [==============================] - 0s 25ms/step\n",
            "1/1 [==============================] - 0s 25ms/step\n",
            "1/1 [==============================] - 0s 26ms/step\n",
            "1/1 [==============================] - 0s 28ms/step\n",
            "1/1 [==============================] - 0s 28ms/step\n",
            "1/1 [==============================] - 0s 27ms/step\n",
            "1/1 [==============================] - 0s 25ms/step\n",
            "1/1 [==============================] - 0s 26ms/step\n",
            "1/1 [==============================] - 0s 29ms/step\n",
            "1/1 [==============================] - 0s 26ms/step\n",
            "1/1 [==============================] - 0s 26ms/step\n",
            "1/1 [==============================] - 0s 24ms/step\n",
            "1/1 [==============================] - 0s 25ms/step\n",
            "1/1 [==============================] - 0s 26ms/step\n",
            "1/1 [==============================] - 0s 26ms/step\n",
            "1/1 [==============================] - 0s 25ms/step\n",
            "1/1 [==============================] - 0s 25ms/step\n",
            "1/1 [==============================] - 0s 30ms/step\n",
            "1/1 [==============================] - 0s 32ms/step\n",
            "1/1 [==============================] - 0s 25ms/step\n",
            "1/1 [==============================] - 0s 27ms/step\n",
            "1/1 [==============================] - 0s 26ms/step\n",
            "1/1 [==============================] - 0s 28ms/step\n"
          ]
        },
        {
          "output_type": "execute_result",
          "data": {
            "text/plain": [
              "[<matplotlib.lines.Line2D at 0x7f6ff2580490>]"
            ]
          },
          "metadata": {},
          "execution_count": 19
        },
        {
          "output_type": "stream",
          "name": "stderr",
          "text": [
            "WARNING:matplotlib.font_manager:findfont: Font family ['Hiragino Maru Gothic Pro'] not found. Falling back to DejaVu Sans.\n"
          ]
        },
        {
          "output_type": "display_data",
          "data": {
            "text/plain": [
              "<Figure size 1440x864 with 1 Axes>"
            ],
            "image/png": "[encoded data removed]"
          },
          "metadata": {}
        }
      ]
    },
    {
      "cell_type": "markdown",
      "source": [
        "### rmse算出"
      ],
      "metadata": {
        "id": "XU2-Aa-AI6EQ"
      }
    },
    {
      "cell_type": "markdown",
      "source": [
        "面倒ですが、ここまで来たらrmse算出しますか。"
      ],
      "metadata": {
        "id": "scKX8kdSI8Zf"
      }
    },
    {
      "cell_type": "code",
      "source": [
        "df_week.head(10)"
      ],
      "metadata": {
        "id": "TGocp6o9sROW",
        "outputId": "7da33ea6-dfd4-4e09-d2b2-37a5eaab946a",
        "colab": {
          "base_uri": "https://localhost:8080/",
          "height": 394
        }
      },
      "execution_count": null,
      "outputs": [
        {
          "output_type": "execute_result",
          "data": {
            "text/plain": [
              "              平均気温(℃)\n",
              "年月日                  \n",
              "2010-01-03   5.600000\n",
              "2010-01-10   7.057143\n",
              "2010-01-17   4.514286\n",
              "2010-01-24   8.371429\n",
              "2010-01-31   8.757143\n",
              "2010-02-07   4.242857\n",
              "2010-02-14   5.914286\n",
              "2010-02-21   4.942857\n",
              "2010-02-28  10.900000\n",
              "2010-03-07   8.628571"
            ],
            "text/html": [
              "\n",
              "  <div id=\"df-fab0a249-57ff-453f-b3a2-1306acdf4659\">\n",
              "    <div class=\"colab-df-container\">\n",
              "      <div>\n",
              "<style scoped>\n",
              "    .dataframe tbody tr th:only-of-type {\n",
              "        vertical-align: middle;\n",
              "    }\n",
              "\n",
              "    .dataframe tbody tr th {\n",
              "        vertical-align: top;\n",
              "    }\n",
              "\n",
              "    .dataframe thead th {\n",
              "        text-align: right;\n",
              "    }\n",
              "</style>\n",
              "<table border=\"1\" class=\"dataframe\">\n",
              "  <thead>\n",
              "    <tr style=\"text-align: right;\">\n",
              "      <th></th>\n",
              "      <th>平均気温(℃)</th>\n",
              "    </tr>\n",
              "    <tr>\n",
              "      <th>年月日</th>\n",
              "      <th></th>\n",
              "    </tr>\n",
              "  </thead>\n",
              "  <tbody>\n",
              "    <tr>\n",
              "      <th>2010-01-03</th>\n",
              "      <td>5.600000</td>\n",
              "    </tr>\n",
              "    <tr>\n",
              "      <th>2010-01-10</th>\n",
              "      <td>7.057143</td>\n",
              "    </tr>\n",
              "    <tr>\n",
              "      <th>2010-01-17</th>\n",
              "      <td>4.514286</td>\n",
              "    </tr>\n",
              "    <tr>\n",
              "      <th>2010-01-24</th>\n",
              "      <td>8.371429</td>\n",
              "    </tr>\n",
              "    <tr>\n",
              "      <th>2010-01-31</th>\n",
              "      <td>8.757143</td>\n",
              "    </tr>\n",
              "    <tr>\n",
              "      <th>2010-02-07</th>\n",
              "      <td>4.242857</td>\n",
              "    </tr>\n",
              "    <tr>\n",
              "      <th>2010-02-14</th>\n",
              "      <td>5.914286</td>\n",
              "    </tr>\n",
              "    <tr>\n",
              "      <th>2010-02-21</th>\n",
              "      <td>4.942857</td>\n",
              "    </tr>\n",
              "    <tr>\n",
              "      <th>2010-02-28</th>\n",
              "      <td>10.900000</td>\n",
              "    </tr>\n",
              "    <tr>\n",
              "      <th>2010-03-07</th>\n",
              "      <td>8.628571</td>\n",
              "    </tr>\n",
              "  </tbody>\n",
              "</table>\n",
              "</div>\n",
              "      <button class=\"colab-df-convert\" onclick=\"convertToInteractive('df-fab0a249-57ff-453f-b3a2-1306acdf4659')\"\n",
              "              title=\"Convert this dataframe to an interactive table.\"\n",
              "              style=\"display:none;\">\n",
              "        \n",
              "  <svg xmlns=\"http://www.w3.org/2000/svg\" height=\"24px\"viewBox=\"0 0 24 24\"\n",
              "       width=\"24px\">\n",
              "    <path d=\"M0 0h24v24H0V0z\" fill=\"none\"/>\n",
              "    <path d=\"M18.56 5.44l.94 2.06.94-2.06 2.06-.94-2.06-.94-.94-2.06-.94 2.06-2.06.94zm-11 1L8.5 8.5l.94-2.06 2.06-.94-2.06-.94L8.5 2.5l-.94 2.06-2.06.94zm10 10l.94 2.06.94-2.06 2.06-.94-2.06-.94-.94-2.06-.94 2.06-2.06.94z\"/><path d=\"M17.41 7.96l-1.37-1.37c-.4-.4-.92-.59-1.43-.59-.52 0-1.04.2-1.43.59L10.3 9.45l-7.72 7.72c-.78.78-.78 2.05 0 2.83L4 21.41c.39.39.9.59 1.41.59.51 0 1.02-.2 1.41-.59l7.78-7.78 2.81-2.81c.8-.78.8-2.07 0-2.86zM5.41 20L4 18.59l7.72-7.72 1.47 1.35L5.41 20z\"/>\n",
              "  </svg>\n",
              "      </button>\n",
              "      \n",
              "  <style>\n",
              "    .colab-df-container {\n",
              "      display:flex;\n",
              "      flex-wrap:wrap;\n",
              "      gap: 12px;\n",
              "    }\n",
              "\n",
              "    .colab-df-convert {\n",
              "      background-color: #E8F0FE;\n",
              "      border: none;\n",
              "      border-radius: 50%;\n",
              "      cursor: pointer;\n",
              "      display: none;\n",
              "      fill: #1967D2;\n",
              "      height: 32px;\n",
              "      padding: 0 0 0 0;\n",
              "      width: 32px;\n",
              "    }\n",
              "\n",
              "    .colab-df-convert:hover {\n",
              "      background-color: #E2EBFA;\n",
              "      box-shadow: 0px 1px 2px rgba(60, 64, 67, 0.3), 0px 1px 3px 1px rgba(60, 64, 67, 0.15);\n",
              "      fill: #174EA6;\n",
              "    }\n",
              "\n",
              "    [theme=dark] .colab-df-convert {\n",
              "      background-color: #3B4455;\n",
              "      fill: #D2E3FC;\n",
              "    }\n",
              "\n",
              "    [theme=dark] .colab-df-convert:hover {\n",
              "      background-color: #434B5C;\n",
              "      box-shadow: 0px 1px 3px 1px rgba(0, 0, 0, 0.15);\n",
              "      filter: drop-shadow(0px 1px 2px rgba(0, 0, 0, 0.3));\n",
              "      fill: #FFFFFF;\n",
              "    }\n",
              "  </style>\n",
              "\n",
              "      <script>\n",
              "        const buttonEl =\n",
              "          document.querySelector('#df-fab0a249-57ff-453f-b3a2-1306acdf4659 button.colab-df-convert');\n",
              "        buttonEl.style.display =\n",
              "          google.colab.kernel.accessAllowed ? 'block' : 'none';\n",
              "\n",
              "        async function convertToInteractive(key) {\n",
              "          const element = document.querySelector('#df-fab0a249-57ff-453f-b3a2-1306acdf4659');\n",
              "          const dataTable =\n",
              "            await google.colab.kernel.invokeFunction('convertToInteractive',\n",
              "                                                     [key], {});\n",
              "          if (!dataTable) return;\n",
              "\n",
              "          const docLinkHtml = 'Like what you see? Visit the ' +\n",
              "            '<a target=\"_blank\" href=https://colab.research.google.com/notebooks/data_table.ipynb>data table notebook</a>'\n",
              "            + ' to learn more about interactive tables.';\n",
              "          element.innerHTML = '';\n",
              "          dataTable['output_type'] = 'display_data';\n",
              "          await google.colab.output.renderOutput(dataTable, element);\n",
              "          const docLink = document.createElement('div');\n",
              "          docLink.innerHTML = docLinkHtml;\n",
              "          element.appendChild(docLink);\n",
              "        }\n",
              "      </script>\n",
              "    </div>\n",
              "  </div>\n",
              "  "
            ]
          },
          "metadata": {},
          "execution_count": 32
        }
      ]
    },
    {
      "cell_type": "markdown",
      "source": [
        "rmse用のデータを作成します。今回は\"2019-09-01\" <= 年月日 < \"2019-12-29\"までで。"
      ],
      "metadata": {
        "id": "oMw15a4_jQzC"
      }
    },
    {
      "cell_type": "code",
      "source": [
        "# 何行目から何行目までとかじゃない。datetimeで、2019-09-01から2019-12-29まで。\n",
        "#これは予測値\n",
        "df_week_test_pred2 = df_week_test_pred.query('\"2019-09-01\" <= 年月日 < \"2019-12-29\"')\n",
        "df_week_test_pred2"
      ],
      "metadata": {
        "id": "wUwXa3dwpuD3",
        "colab": {
          "base_uri": "https://localhost:8080/",
          "height": 614
        },
        "outputId": "48d15349-134a-477e-b007-9c70c3e06819"
      },
      "execution_count": null,
      "outputs": [
        {
          "output_type": "execute_result",
          "data": {
            "text/plain": [
              "              平均気温(℃)\n",
              "年月日                  \n",
              "2019-09-01  27.049822\n",
              "2019-09-08  26.494337\n",
              "2019-09-15  25.796167\n",
              "2019-09-22  24.842508\n",
              "2019-09-29  23.606102\n",
              "2019-10-06  22.479561\n",
              "2019-10-13  21.387501\n",
              "2019-10-20  20.127525\n",
              "2019-10-27  18.640602\n",
              "2019-11-03  17.183775\n",
              "2019-11-10  15.758437\n",
              "2019-11-17  14.273490\n",
              "2019-11-24  12.993857\n",
              "2019-12-01  11.755588\n",
              "2019-12-08  10.363104\n",
              "2019-12-15   9.089044\n",
              "2019-12-22   8.033258"
            ],
            "text/html": [
              "\n",
              "  <div id=\"df-0552ad1b-2260-4074-80ef-c98d929d2d55\">\n",
              "    <div class=\"colab-df-container\">\n",
              "      <div>\n",
              "<style scoped>\n",
              "    .dataframe tbody tr th:only-of-type {\n",
              "        vertical-align: middle;\n",
              "    }\n",
              "\n",
              "    .dataframe tbody tr th {\n",
              "        vertical-align: top;\n",
              "    }\n",
              "\n",
              "    .dataframe thead th {\n",
              "        text-align: right;\n",
              "    }\n",
              "</style>\n",
              "<table border=\"1\" class=\"dataframe\">\n",
              "  <thead>\n",
              "    <tr style=\"text-align: right;\">\n",
              "      <th></th>\n",
              "      <th>平均気温(℃)</th>\n",
              "    </tr>\n",
              "    <tr>\n",
              "      <th>年月日</th>\n",
              "      <th></th>\n",
              "    </tr>\n",
              "  </thead>\n",
              "  <tbody>\n",
              "    <tr>\n",
              "      <th>2019-09-01</th>\n",
              "      <td>27.049822</td>\n",
              "    </tr>\n",
              "    <tr>\n",
              "      <th>2019-09-08</th>\n",
              "      <td>26.494337</td>\n",
              "    </tr>\n",
              "    <tr>\n",
              "      <th>2019-09-15</th>\n",
              "      <td>25.796167</td>\n",
              "    </tr>\n",
              "    <tr>\n",
              "      <th>2019-09-22</th>\n",
              "      <td>24.842508</td>\n",
              "    </tr>\n",
              "    <tr>\n",
              "      <th>2019-09-29</th>\n",
              "      <td>23.606102</td>\n",
              "    </tr>\n",
              "    <tr>\n",
              "      <th>2019-10-06</th>\n",
              "      <td>22.479561</td>\n",
              "    </tr>\n",
              "    <tr>\n",
              "      <th>2019-10-13</th>\n",
              "      <td>21.387501</td>\n",
              "    </tr>\n",
              "    <tr>\n",
              "      <th>2019-10-20</th>\n",
              "      <td>20.127525</td>\n",
              "    </tr>\n",
              "    <tr>\n",
              "      <th>2019-10-27</th>\n",
              "      <td>18.640602</td>\n",
              "    </tr>\n",
              "    <tr>\n",
              "      <th>2019-11-03</th>\n",
              "      <td>17.183775</td>\n",
              "    </tr>\n",
              "    <tr>\n",
              "      <th>2019-11-10</th>\n",
              "      <td>15.758437</td>\n",
              "    </tr>\n",
              "    <tr>\n",
              "      <th>2019-11-17</th>\n",
              "      <td>14.273490</td>\n",
              "    </tr>\n",
              "    <tr>\n",
              "      <th>2019-11-24</th>\n",
              "      <td>12.993857</td>\n",
              "    </tr>\n",
              "    <tr>\n",
              "      <th>2019-12-01</th>\n",
              "      <td>11.755588</td>\n",
              "    </tr>\n",
              "    <tr>\n",
              "      <th>2019-12-08</th>\n",
              "      <td>10.363104</td>\n",
              "    </tr>\n",
              "    <tr>\n",
              "      <th>2019-12-15</th>\n",
              "      <td>9.089044</td>\n",
              "    </tr>\n",
              "    <tr>\n",
              "      <th>2019-12-22</th>\n",
              "      <td>8.033258</td>\n",
              "    </tr>\n",
              "  </tbody>\n",
              "</table>\n",
              "</div>\n",
              "      <button class=\"colab-df-convert\" onclick=\"convertToInteractive('df-0552ad1b-2260-4074-80ef-c98d929d2d55')\"\n",
              "              title=\"Convert this dataframe to an interactive table.\"\n",
              "              style=\"display:none;\">\n",
              "        \n",
              "  <svg xmlns=\"http://www.w3.org/2000/svg\" height=\"24px\"viewBox=\"0 0 24 24\"\n",
              "       width=\"24px\">\n",
              "    <path d=\"M0 0h24v24H0V0z\" fill=\"none\"/>\n",
              "    <path d=\"M18.56 5.44l.94 2.06.94-2.06 2.06-.94-2.06-.94-.94-2.06-.94 2.06-2.06.94zm-11 1L8.5 8.5l.94-2.06 2.06-.94-2.06-.94L8.5 2.5l-.94 2.06-2.06.94zm10 10l.94 2.06.94-2.06 2.06-.94-2.06-.94-.94-2.06-.94 2.06-2.06.94z\"/><path d=\"M17.41 7.96l-1.37-1.37c-.4-.4-.92-.59-1.43-.59-.52 0-1.04.2-1.43.59L10.3 9.45l-7.72 7.72c-.78.78-.78 2.05 0 2.83L4 21.41c.39.39.9.59 1.41.59.51 0 1.02-.2 1.41-.59l7.78-7.78 2.81-2.81c.8-.78.8-2.07 0-2.86zM5.41 20L4 18.59l7.72-7.72 1.47 1.35L5.41 20z\"/>\n",
              "  </svg>\n",
              "      </button>\n",
              "      \n",
              "  <style>\n",
              "    .colab-df-container {\n",
              "      display:flex;\n",
              "      flex-wrap:wrap;\n",
              "      gap: 12px;\n",
              "    }\n",
              "\n",
              "    .colab-df-convert {\n",
              "      background-color: #E8F0FE;\n",
              "      border: none;\n",
              "      border-radius: 50%;\n",
              "      cursor: pointer;\n",
              "      display: none;\n",
              "      fill: #1967D2;\n",
              "      height: 32px;\n",
              "      padding: 0 0 0 0;\n",
              "      width: 32px;\n",
              "    }\n",
              "\n",
              "    .colab-df-convert:hover {\n",
              "      background-color: #E2EBFA;\n",
              "      box-shadow: 0px 1px 2px rgba(60, 64, 67, 0.3), 0px 1px 3px 1px rgba(60, 64, 67, 0.15);\n",
              "      fill: #174EA6;\n",
              "    }\n",
              "\n",
              "    [theme=dark] .colab-df-convert {\n",
              "      background-color: #3B4455;\n",
              "      fill: #D2E3FC;\n",
              "    }\n",
              "\n",
              "    [theme=dark] .colab-df-convert:hover {\n",
              "      background-color: #434B5C;\n",
              "      box-shadow: 0px 1px 3px 1px rgba(0, 0, 0, 0.15);\n",
              "      filter: drop-shadow(0px 1px 2px rgba(0, 0, 0, 0.3));\n",
              "      fill: #FFFFFF;\n",
              "    }\n",
              "  </style>\n",
              "\n",
              "      <script>\n",
              "        const buttonEl =\n",
              "          document.querySelector('#df-0552ad1b-2260-4074-80ef-c98d929d2d55 button.colab-df-convert');\n",
              "        buttonEl.style.display =\n",
              "          google.colab.kernel.accessAllowed ? 'block' : 'none';\n",
              "\n",
              "        async function convertToInteractive(key) {\n",
              "          const element = document.querySelector('#df-0552ad1b-2260-4074-80ef-c98d929d2d55');\n",
              "          const dataTable =\n",
              "            await google.colab.kernel.invokeFunction('convertToInteractive',\n",
              "                                                     [key], {});\n",
              "          if (!dataTable) return;\n",
              "\n",
              "          const docLinkHtml = 'Like what you see? Visit the ' +\n",
              "            '<a target=\"_blank\" href=https://colab.research.google.com/notebooks/data_table.ipynb>data table notebook</a>'\n",
              "            + ' to learn more about interactive tables.';\n",
              "          element.innerHTML = '';\n",
              "          dataTable['output_type'] = 'display_data';\n",
              "          await google.colab.output.renderOutput(dataTable, element);\n",
              "          const docLink = document.createElement('div');\n",
              "          docLink.innerHTML = docLinkHtml;\n",
              "          element.appendChild(docLink);\n",
              "        }\n",
              "      </script>\n",
              "    </div>\n",
              "  </div>\n",
              "  "
            ]
          },
          "metadata": {},
          "execution_count": 34
        }
      ]
    },
    {
      "cell_type": "code",
      "source": [
        "#これは実測値\n",
        "df_week_test = df_week.query('\"2019-09-01\" <= 年月日 < \"2019-12-29\"')\n",
        "df_week_test"
      ],
      "metadata": {
        "id": "pVEBHLGro93r",
        "colab": {
          "base_uri": "https://localhost:8080/",
          "height": 614
        },
        "outputId": "3e3cc1ac-f74d-4e96-c8d7-8cc28ce86531"
      },
      "execution_count": null,
      "outputs": [
        {
          "output_type": "execute_result",
          "data": {
            "text/plain": [
              "              平均気温(℃)\n",
              "年月日                  \n",
              "2019-09-01  26.585714\n",
              "2019-09-08  26.885714\n",
              "2019-09-15  25.871429\n",
              "2019-09-22  22.714286\n",
              "2019-09-29  24.371429\n",
              "2019-10-06  24.214286\n",
              "2019-10-13  21.328571\n",
              "2019-10-20  17.385714\n",
              "2019-10-27  17.385714\n",
              "2019-11-03  16.300000\n",
              "2019-11-10  14.414286\n",
              "2019-11-17  13.857143\n",
              "2019-11-24  12.928571\n",
              "2019-12-01   9.014286\n",
              "2019-12-08   8.857143\n",
              "2019-12-15   9.371429\n",
              "2019-12-22   8.800000"
            ],
            "text/html": [
              "\n",
              "  <div id=\"df-863261a3-faeb-4242-9649-1a9a66514700\">\n",
              "    <div class=\"colab-df-container\">\n",
              "      <div>\n",
              "<style scoped>\n",
              "    .dataframe tbody tr th:only-of-type {\n",
              "        vertical-align: middle;\n",
              "    }\n",
              "\n",
              "    .dataframe tbody tr th {\n",
              "        vertical-align: top;\n",
              "    }\n",
              "\n",
              "    .dataframe thead th {\n",
              "        text-align: right;\n",
              "    }\n",
              "</style>\n",
              "<table border=\"1\" class=\"dataframe\">\n",
              "  <thead>\n",
              "    <tr style=\"text-align: right;\">\n",
              "      <th></th>\n",
              "      <th>平均気温(℃)</th>\n",
              "    </tr>\n",
              "    <tr>\n",
              "      <th>年月日</th>\n",
              "      <th></th>\n",
              "    </tr>\n",
              "  </thead>\n",
              "  <tbody>\n",
              "    <tr>\n",
              "      <th>2019-09-01</th>\n",
              "      <td>26.585714</td>\n",
              "    </tr>\n",
              "    <tr>\n",
              "      <th>2019-09-08</th>\n",
              "      <td>26.885714</td>\n",
              "    </tr>\n",
              "    <tr>\n",
              "      <th>2019-09-15</th>\n",
              "      <td>25.871429</td>\n",
              "    </tr>\n",
              "    <tr>\n",
              "      <th>2019-09-22</th>\n",
              "      <td>22.714286</td>\n",
              "    </tr>\n",
              "    <tr>\n",
              "      <th>2019-09-29</th>\n",
              "      <td>24.371429</td>\n",
              "    </tr>\n",
              "    <tr>\n",
              "      <th>2019-10-06</th>\n",
              "      <td>24.214286</td>\n",
              "    </tr>\n",
              "    <tr>\n",
              "      <th>2019-10-13</th>\n",
              "      <td>21.328571</td>\n",
              "    </tr>\n",
              "    <tr>\n",
              "      <th>2019-10-20</th>\n",
              "      <td>17.385714</td>\n",
              "    </tr>\n",
              "    <tr>\n",
              "      <th>2019-10-27</th>\n",
              "      <td>17.385714</td>\n",
              "    </tr>\n",
              "    <tr>\n",
              "      <th>2019-11-03</th>\n",
              "      <td>16.300000</td>\n",
              "    </tr>\n",
              "    <tr>\n",
              "      <th>2019-11-10</th>\n",
              "      <td>14.414286</td>\n",
              "    </tr>\n",
              "    <tr>\n",
              "      <th>2019-11-17</th>\n",
              "      <td>13.857143</td>\n",
              "    </tr>\n",
              "    <tr>\n",
              "      <th>2019-11-24</th>\n",
              "      <td>12.928571</td>\n",
              "    </tr>\n",
              "    <tr>\n",
              "      <th>2019-12-01</th>\n",
              "      <td>9.014286</td>\n",
              "    </tr>\n",
              "    <tr>\n",
              "      <th>2019-12-08</th>\n",
              "      <td>8.857143</td>\n",
              "    </tr>\n",
              "    <tr>\n",
              "      <th>2019-12-15</th>\n",
              "      <td>9.371429</td>\n",
              "    </tr>\n",
              "    <tr>\n",
              "      <th>2019-12-22</th>\n",
              "      <td>8.800000</td>\n",
              "    </tr>\n",
              "  </tbody>\n",
              "</table>\n",
              "</div>\n",
              "      <button class=\"colab-df-convert\" onclick=\"convertToInteractive('df-863261a3-faeb-4242-9649-1a9a66514700')\"\n",
              "              title=\"Convert this dataframe to an interactive table.\"\n",
              "              style=\"display:none;\">\n",
              "        \n",
              "  <svg xmlns=\"http://www.w3.org/2000/svg\" height=\"24px\"viewBox=\"0 0 24 24\"\n",
              "       width=\"24px\">\n",
              "    <path d=\"M0 0h24v24H0V0z\" fill=\"none\"/>\n",
              "    <path d=\"M18.56 5.44l.94 2.06.94-2.06 2.06-.94-2.06-.94-.94-2.06-.94 2.06-2.06.94zm-11 1L8.5 8.5l.94-2.06 2.06-.94-2.06-.94L8.5 2.5l-.94 2.06-2.06.94zm10 10l.94 2.06.94-2.06 2.06-.94-2.06-.94-.94-2.06-.94 2.06-2.06.94z\"/><path d=\"M17.41 7.96l-1.37-1.37c-.4-.4-.92-.59-1.43-.59-.52 0-1.04.2-1.43.59L10.3 9.45l-7.72 7.72c-.78.78-.78 2.05 0 2.83L4 21.41c.39.39.9.59 1.41.59.51 0 1.02-.2 1.41-.59l7.78-7.78 2.81-2.81c.8-.78.8-2.07 0-2.86zM5.41 20L4 18.59l7.72-7.72 1.47 1.35L5.41 20z\"/>\n",
              "  </svg>\n",
              "      </button>\n",
              "      \n",
              "  <style>\n",
              "    .colab-df-container {\n",
              "      display:flex;\n",
              "      flex-wrap:wrap;\n",
              "      gap: 12px;\n",
              "    }\n",
              "\n",
              "    .colab-df-convert {\n",
              "      background-color: #E8F0FE;\n",
              "      border: none;\n",
              "      border-radius: 50%;\n",
              "      cursor: pointer;\n",
              "      display: none;\n",
              "      fill: #1967D2;\n",
              "      height: 32px;\n",
              "      padding: 0 0 0 0;\n",
              "      width: 32px;\n",
              "    }\n",
              "\n",
              "    .colab-df-convert:hover {\n",
              "      background-color: #E2EBFA;\n",
              "      box-shadow: 0px 1px 2px rgba(60, 64, 67, 0.3), 0px 1px 3px 1px rgba(60, 64, 67, 0.15);\n",
              "      fill: #174EA6;\n",
              "    }\n",
              "\n",
              "    [theme=dark] .colab-df-convert {\n",
              "      background-color: #3B4455;\n",
              "      fill: #D2E3FC;\n",
              "    }\n",
              "\n",
              "    [theme=dark] .colab-df-convert:hover {\n",
              "      background-color: #434B5C;\n",
              "      box-shadow: 0px 1px 3px 1px rgba(0, 0, 0, 0.15);\n",
              "      filter: drop-shadow(0px 1px 2px rgba(0, 0, 0, 0.3));\n",
              "      fill: #FFFFFF;\n",
              "    }\n",
              "  </style>\n",
              "\n",
              "      <script>\n",
              "        const buttonEl =\n",
              "          document.querySelector('#df-863261a3-faeb-4242-9649-1a9a66514700 button.colab-df-convert');\n",
              "        buttonEl.style.display =\n",
              "          google.colab.kernel.accessAllowed ? 'block' : 'none';\n",
              "\n",
              "        async function convertToInteractive(key) {\n",
              "          const element = document.querySelector('#df-863261a3-faeb-4242-9649-1a9a66514700');\n",
              "          const dataTable =\n",
              "            await google.colab.kernel.invokeFunction('convertToInteractive',\n",
              "                                                     [key], {});\n",
              "          if (!dataTable) return;\n",
              "\n",
              "          const docLinkHtml = 'Like what you see? Visit the ' +\n",
              "            '<a target=\"_blank\" href=https://colab.research.google.com/notebooks/data_table.ipynb>data table notebook</a>'\n",
              "            + ' to learn more about interactive tables.';\n",
              "          element.innerHTML = '';\n",
              "          dataTable['output_type'] = 'display_data';\n",
              "          await google.colab.output.renderOutput(dataTable, element);\n",
              "          const docLink = document.createElement('div');\n",
              "          docLink.innerHTML = docLinkHtml;\n",
              "          element.appendChild(docLink);\n",
              "        }\n",
              "      </script>\n",
              "    </div>\n",
              "  </div>\n",
              "  "
            ]
          },
          "metadata": {},
          "execution_count": 35
        }
      ]
    },
    {
      "cell_type": "markdown",
      "source": [
        "rmse算出"
      ],
      "metadata": {
        "id": "BLi8yF2chgjg"
      }
    },
    {
      "cell_type": "code",
      "source": [
        "import numpy as np\n",
        "from sklearn.metrics import mean_squared_error as MSE\n",
        "# y_trainと予測値のRMSEを出す\n",
        "print(\"RMSE\",np.sqrt(MSE(df_week_test,df_week_test_pred2)))"
      ],
      "metadata": {
        "id": "kqAXdrqoKYtb",
        "colab": {
          "base_uri": "https://localhost:8080/"
        },
        "outputId": "af1436a9-9ab7-402f-ed3e-0ced7f02c9e1"
      },
      "execution_count": null,
      "outputs": [
        {
          "output_type": "stream",
          "name": "stdout",
          "text": [
            "RMSE 1.346236659999836\n"
          ]
        }
      ]
    }
  ]
}