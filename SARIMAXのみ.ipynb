{
  "nbformat": 4,
  "nbformat_minor": 0,
  "metadata": {
    "colab": {
      "name": "SARIMAXのみ.ipynb",
      "provenance": [],
      "authorship_tag": "ABX9TyN/dLbzROsurcZ9hKo+11bs",
      "include_colab_link": true
    },
    "kernelspec": {
      "name": "python3",
      "display_name": "Python 3"
    },
    "language_info": {
      "name": "python"
    }
  },
  "cells": [
    {
      "cell_type": "markdown",
      "metadata": {
        "id": "view-in-github",
        "colab_type": "text"
      },
      "source": [
        "<a href=\"https://colab.research.google.com/github/Ken-huea/Time-series-analysis/blob/main/SARIMAX%E3%81%AE%E3%81%BF.ipynb\" target=\"_parent\"><img src=\"https://colab.research.google.com/assets/colab-badge.svg\" alt=\"Open In Colab\"/></a>"
      ]
    },
    {
      "cell_type": "markdown",
      "source": [
        "### データ読み込みと分割"
      ],
      "metadata": {
        "id": "gaL6R2yUMsFh"
      }
    },
    {
      "cell_type": "code",
      "execution_count": null,
      "metadata": {
        "id": "Urx9hx7SQiYN",
        "colab": {
          "base_uri": "https://localhost:8080/",
          "height": 238
        },
        "outputId": "b597087b-3b70-429c-9afd-caeb9449fd1c"
      },
      "outputs": [
        {
          "output_type": "execute_result",
          "data": {
            "text/plain": [
              "            平均気温(℃)  降水量の合計(mm)  日照時間(時間)\n",
              "年月日                                      \n",
              "2010-01-01      4.8         0.0       9.2\n",
              "2010-01-02      6.3         0.0       9.0\n",
              "2010-01-03      5.7         0.0       6.6\n",
              "2010-01-04      6.5         0.0       5.2\n",
              "2010-01-05      7.3         2.5       8.1"
            ],
            "text/html": [
              "\n",
              "  <div id=\"df-ca9bf794-ae39-4fb1-8cb1-f87aae27caa5\">\n",
              "    <div class=\"colab-df-container\">\n",
              "      <div>\n",
              "<style scoped>\n",
              "    .dataframe tbody tr th:only-of-type {\n",
              "        vertical-align: middle;\n",
              "    }\n",
              "\n",
              "    .dataframe tbody tr th {\n",
              "        vertical-align: top;\n",
              "    }\n",
              "\n",
              "    .dataframe thead th {\n",
              "        text-align: right;\n",
              "    }\n",
              "</style>\n",
              "<table border=\"1\" class=\"dataframe\">\n",
              "  <thead>\n",
              "    <tr style=\"text-align: right;\">\n",
              "      <th></th>\n",
              "      <th>平均気温(℃)</th>\n",
              "      <th>降水量の合計(mm)</th>\n",
              "      <th>日照時間(時間)</th>\n",
              "    </tr>\n",
              "    <tr>\n",
              "      <th>年月日</th>\n",
              "      <th></th>\n",
              "      <th></th>\n",
              "      <th></th>\n",
              "    </tr>\n",
              "  </thead>\n",
              "  <tbody>\n",
              "    <tr>\n",
              "      <th>2010-01-01</th>\n",
              "      <td>4.8</td>\n",
              "      <td>0.0</td>\n",
              "      <td>9.2</td>\n",
              "    </tr>\n",
              "    <tr>\n",
              "      <th>2010-01-02</th>\n",
              "      <td>6.3</td>\n",
              "      <td>0.0</td>\n",
              "      <td>9.0</td>\n",
              "    </tr>\n",
              "    <tr>\n",
              "      <th>2010-01-03</th>\n",
              "      <td>5.7</td>\n",
              "      <td>0.0</td>\n",
              "      <td>6.6</td>\n",
              "    </tr>\n",
              "    <tr>\n",
              "      <th>2010-01-04</th>\n",
              "      <td>6.5</td>\n",
              "      <td>0.0</td>\n",
              "      <td>5.2</td>\n",
              "    </tr>\n",
              "    <tr>\n",
              "      <th>2010-01-05</th>\n",
              "      <td>7.3</td>\n",
              "      <td>2.5</td>\n",
              "      <td>8.1</td>\n",
              "    </tr>\n",
              "  </tbody>\n",
              "</table>\n",
              "</div>\n",
              "      <button class=\"colab-df-convert\" onclick=\"convertToInteractive('df-ca9bf794-ae39-4fb1-8cb1-f87aae27caa5')\"\n",
              "              title=\"Convert this dataframe to an interactive table.\"\n",
              "              style=\"display:none;\">\n",
              "        \n",
              "  <svg xmlns=\"http://www.w3.org/2000/svg\" height=\"24px\"viewBox=\"0 0 24 24\"\n",
              "       width=\"24px\">\n",
              "    <path d=\"M0 0h24v24H0V0z\" fill=\"none\"/>\n",
              "    <path d=\"M18.56 5.44l.94 2.06.94-2.06 2.06-.94-2.06-.94-.94-2.06-.94 2.06-2.06.94zm-11 1L8.5 8.5l.94-2.06 2.06-.94-2.06-.94L8.5 2.5l-.94 2.06-2.06.94zm10 10l.94 2.06.94-2.06 2.06-.94-2.06-.94-.94-2.06-.94 2.06-2.06.94z\"/><path d=\"M17.41 7.96l-1.37-1.37c-.4-.4-.92-.59-1.43-.59-.52 0-1.04.2-1.43.59L10.3 9.45l-7.72 7.72c-.78.78-.78 2.05 0 2.83L4 21.41c.39.39.9.59 1.41.59.51 0 1.02-.2 1.41-.59l7.78-7.78 2.81-2.81c.8-.78.8-2.07 0-2.86zM5.41 20L4 18.59l7.72-7.72 1.47 1.35L5.41 20z\"/>\n",
              "  </svg>\n",
              "      </button>\n",
              "      \n",
              "  <style>\n",
              "    .colab-df-container {\n",
              "      display:flex;\n",
              "      flex-wrap:wrap;\n",
              "      gap: 12px;\n",
              "    }\n",
              "\n",
              "    .colab-df-convert {\n",
              "      background-color: #E8F0FE;\n",
              "      border: none;\n",
              "      border-radius: 50%;\n",
              "      cursor: pointer;\n",
              "      display: none;\n",
              "      fill: #1967D2;\n",
              "      height: 32px;\n",
              "      padding: 0 0 0 0;\n",
              "      width: 32px;\n",
              "    }\n",
              "\n",
              "    .colab-df-convert:hover {\n",
              "      background-color: #E2EBFA;\n",
              "      box-shadow: 0px 1px 2px rgba(60, 64, 67, 0.3), 0px 1px 3px 1px rgba(60, 64, 67, 0.15);\n",
              "      fill: #174EA6;\n",
              "    }\n",
              "\n",
              "    [theme=dark] .colab-df-convert {\n",
              "      background-color: #3B4455;\n",
              "      fill: #D2E3FC;\n",
              "    }\n",
              "\n",
              "    [theme=dark] .colab-df-convert:hover {\n",
              "      background-color: #434B5C;\n",
              "      box-shadow: 0px 1px 3px 1px rgba(0, 0, 0, 0.15);\n",
              "      filter: drop-shadow(0px 1px 2px rgba(0, 0, 0, 0.3));\n",
              "      fill: #FFFFFF;\n",
              "    }\n",
              "  </style>\n",
              "\n",
              "      <script>\n",
              "        const buttonEl =\n",
              "          document.querySelector('#df-ca9bf794-ae39-4fb1-8cb1-f87aae27caa5 button.colab-df-convert');\n",
              "        buttonEl.style.display =\n",
              "          google.colab.kernel.accessAllowed ? 'block' : 'none';\n",
              "\n",
              "        async function convertToInteractive(key) {\n",
              "          const element = document.querySelector('#df-ca9bf794-ae39-4fb1-8cb1-f87aae27caa5');\n",
              "          const dataTable =\n",
              "            await google.colab.kernel.invokeFunction('convertToInteractive',\n",
              "                                                     [key], {});\n",
              "          if (!dataTable) return;\n",
              "\n",
              "          const docLinkHtml = 'Like what you see? Visit the ' +\n",
              "            '<a target=\"_blank\" href=https://colab.research.google.com/notebooks/data_table.ipynb>data table notebook</a>'\n",
              "            + ' to learn more about interactive tables.';\n",
              "          element.innerHTML = '';\n",
              "          dataTable['output_type'] = 'display_data';\n",
              "          await google.colab.output.renderOutput(dataTable, element);\n",
              "          const docLink = document.createElement('div');\n",
              "          docLink.innerHTML = docLinkHtml;\n",
              "          element.appendChild(docLink);\n",
              "        }\n",
              "      </script>\n",
              "    </div>\n",
              "  </div>\n",
              "  "
            ]
          },
          "metadata": {},
          "execution_count": 25
        }
      ],
      "source": [
        "#いろいろインポート\n",
        "import pandas as pd\n",
        "from datetime import datetime\n",
        "import seaborn as sns\n",
        "import matplotlib.pyplot as plt\n",
        "\n",
        "# 予測用モジュールのインポート\n",
        "from statsmodels.tsa.arima_process import arma_generate_sample\n",
        "import statsmodels.api as sm \n",
        "from statsmodels.tsa.statespace.sarimax import SARIMAX\n",
        "\n",
        "\n",
        "\n",
        "#データ読み込み\n",
        "df = pd.read_csv(\"3-3_TS_sample2.csv\",index_col=\"年月日\",encoding=\"shift_jis\",parse_dates=True)\n",
        "df.head(5)"
      ]
    },
    {
      "cell_type": "markdown",
      "source": [
        "今回はデータをまとめます。一日毎に予測するのではなく、\n",
        "<font color=\"red\">毎月の平均気温毎に予測</font>するようにしましょう。\n",
        "\n",
        "1.   データ数を圧縮できる。\n",
        "2.   それにより学習時間も削減できる。\n",
        "\n",
        "そして学習用とテスト用にデータ分割もしておきましょう。"
      ],
      "metadata": {
        "id": "C2sI0vQmRFxv"
      }
    },
    {
      "cell_type": "code",
      "source": [
        "#　2010~2019の期間、月ごとに集計したデータ(平均)。 2019がある。⇒可視化用です。「可視化」にて使用します。\n",
        "df_month_all = df[\"2010\":\"2019\"].resample(\"M\").mean()\n",
        "\n",
        "#　2010~2018の期間、月ごとに集計したデータ(平均)。⇒学習用です。｢学習｣にて使用します。\n",
        "df_month = df[\"2010\":\"2018\"].resample(\"M\").mean()\n",
        "\n",
        "\n",
        "# 2018~2019の期間、月ごとに集計したデータ(平均)。 ⇒「rmse確認」にて使用します。\n",
        "test_y = df[\"2019\"].resample(\"M\").mean()\n",
        "test_y = test_y[[\"平均気温(℃)\"]]"
      ],
      "metadata": {
        "id": "lD1xkI3vRANZ"
      },
      "execution_count": null,
      "outputs": []
    },
    {
      "cell_type": "code",
      "source": [
        "#\n",
        "df_month_pred = df[\"2019\"].resample(\"M\").mean()\n",
        "df_month_pred.head(2)"
      ],
      "metadata": {
        "colab": {
          "base_uri": "https://localhost:8080/",
          "height": 143
        },
        "id": "9L_DhgBcMLR6",
        "outputId": "7ec81e7c-2290-4626-ce38-d96b5d91a3eb"
      },
      "execution_count": null,
      "outputs": [
        {
          "output_type": "execute_result",
          "data": {
            "text/plain": [
              "             平均気温(℃)  降水量の合計(mm)  日照時間(時間)\n",
              "年月日                                       \n",
              "2019-01-31  5.596774    0.516129  7.167742\n",
              "2019-02-28  7.189286    1.500000  4.928571"
            ],
            "text/html": [
              "\n",
              "  <div id=\"df-70687fe9-fcb3-4b71-8f13-f0456154dcaf\">\n",
              "    <div class=\"colab-df-container\">\n",
              "      <div>\n",
              "<style scoped>\n",
              "    .dataframe tbody tr th:only-of-type {\n",
              "        vertical-align: middle;\n",
              "    }\n",
              "\n",
              "    .dataframe tbody tr th {\n",
              "        vertical-align: top;\n",
              "    }\n",
              "\n",
              "    .dataframe thead th {\n",
              "        text-align: right;\n",
              "    }\n",
              "</style>\n",
              "<table border=\"1\" class=\"dataframe\">\n",
              "  <thead>\n",
              "    <tr style=\"text-align: right;\">\n",
              "      <th></th>\n",
              "      <th>平均気温(℃)</th>\n",
              "      <th>降水量の合計(mm)</th>\n",
              "      <th>日照時間(時間)</th>\n",
              "    </tr>\n",
              "    <tr>\n",
              "      <th>年月日</th>\n",
              "      <th></th>\n",
              "      <th></th>\n",
              "      <th></th>\n",
              "    </tr>\n",
              "  </thead>\n",
              "  <tbody>\n",
              "    <tr>\n",
              "      <th>2019-01-31</th>\n",
              "      <td>5.596774</td>\n",
              "      <td>0.516129</td>\n",
              "      <td>7.167742</td>\n",
              "    </tr>\n",
              "    <tr>\n",
              "      <th>2019-02-28</th>\n",
              "      <td>7.189286</td>\n",
              "      <td>1.500000</td>\n",
              "      <td>4.928571</td>\n",
              "    </tr>\n",
              "  </tbody>\n",
              "</table>\n",
              "</div>\n",
              "      <button class=\"colab-df-convert\" onclick=\"convertToInteractive('df-70687fe9-fcb3-4b71-8f13-f0456154dcaf')\"\n",
              "              title=\"Convert this dataframe to an interactive table.\"\n",
              "              style=\"display:none;\">\n",
              "        \n",
              "  <svg xmlns=\"http://www.w3.org/2000/svg\" height=\"24px\"viewBox=\"0 0 24 24\"\n",
              "       width=\"24px\">\n",
              "    <path d=\"M0 0h24v24H0V0z\" fill=\"none\"/>\n",
              "    <path d=\"M18.56 5.44l.94 2.06.94-2.06 2.06-.94-2.06-.94-.94-2.06-.94 2.06-2.06.94zm-11 1L8.5 8.5l.94-2.06 2.06-.94-2.06-.94L8.5 2.5l-.94 2.06-2.06.94zm10 10l.94 2.06.94-2.06 2.06-.94-2.06-.94-.94-2.06-.94 2.06-2.06.94z\"/><path d=\"M17.41 7.96l-1.37-1.37c-.4-.4-.92-.59-1.43-.59-.52 0-1.04.2-1.43.59L10.3 9.45l-7.72 7.72c-.78.78-.78 2.05 0 2.83L4 21.41c.39.39.9.59 1.41.59.51 0 1.02-.2 1.41-.59l7.78-7.78 2.81-2.81c.8-.78.8-2.07 0-2.86zM5.41 20L4 18.59l7.72-7.72 1.47 1.35L5.41 20z\"/>\n",
              "  </svg>\n",
              "      </button>\n",
              "      \n",
              "  <style>\n",
              "    .colab-df-container {\n",
              "      display:flex;\n",
              "      flex-wrap:wrap;\n",
              "      gap: 12px;\n",
              "    }\n",
              "\n",
              "    .colab-df-convert {\n",
              "      background-color: #E8F0FE;\n",
              "      border: none;\n",
              "      border-radius: 50%;\n",
              "      cursor: pointer;\n",
              "      display: none;\n",
              "      fill: #1967D2;\n",
              "      height: 32px;\n",
              "      padding: 0 0 0 0;\n",
              "      width: 32px;\n",
              "    }\n",
              "\n",
              "    .colab-df-convert:hover {\n",
              "      background-color: #E2EBFA;\n",
              "      box-shadow: 0px 1px 2px rgba(60, 64, 67, 0.3), 0px 1px 3px 1px rgba(60, 64, 67, 0.15);\n",
              "      fill: #174EA6;\n",
              "    }\n",
              "\n",
              "    [theme=dark] .colab-df-convert {\n",
              "      background-color: #3B4455;\n",
              "      fill: #D2E3FC;\n",
              "    }\n",
              "\n",
              "    [theme=dark] .colab-df-convert:hover {\n",
              "      background-color: #434B5C;\n",
              "      box-shadow: 0px 1px 3px 1px rgba(0, 0, 0, 0.15);\n",
              "      filter: drop-shadow(0px 1px 2px rgba(0, 0, 0, 0.3));\n",
              "      fill: #FFFFFF;\n",
              "    }\n",
              "  </style>\n",
              "\n",
              "      <script>\n",
              "        const buttonEl =\n",
              "          document.querySelector('#df-70687fe9-fcb3-4b71-8f13-f0456154dcaf button.colab-df-convert');\n",
              "        buttonEl.style.display =\n",
              "          google.colab.kernel.accessAllowed ? 'block' : 'none';\n",
              "\n",
              "        async function convertToInteractive(key) {\n",
              "          const element = document.querySelector('#df-70687fe9-fcb3-4b71-8f13-f0456154dcaf');\n",
              "          const dataTable =\n",
              "            await google.colab.kernel.invokeFunction('convertToInteractive',\n",
              "                                                     [key], {});\n",
              "          if (!dataTable) return;\n",
              "\n",
              "          const docLinkHtml = 'Like what you see? Visit the ' +\n",
              "            '<a target=\"_blank\" href=https://colab.research.google.com/notebooks/data_table.ipynb>data table notebook</a>'\n",
              "            + ' to learn more about interactive tables.';\n",
              "          element.innerHTML = '';\n",
              "          dataTable['output_type'] = 'display_data';\n",
              "          await google.colab.output.renderOutput(dataTable, element);\n",
              "          const docLink = document.createElement('div');\n",
              "          docLink.innerHTML = docLinkHtml;\n",
              "          element.appendChild(docLink);\n",
              "        }\n",
              "      </script>\n",
              "    </div>\n",
              "  </div>\n",
              "  "
            ]
          },
          "metadata": {},
          "execution_count": 27
        }
      ]
    },
    {
      "cell_type": "markdown",
      "source": [
        "### 学習"
      ],
      "metadata": {
        "id": "1F1Ks2pE4TDl"
      }
    },
    {
      "cell_type": "markdown",
      "source": [
        "変数の設定。SARIMAXのX部分の設定を行います。"
      ],
      "metadata": {
        "id": "YAKFo2apRfvL"
      }
    },
    {
      "cell_type": "code",
      "source": [
        "#予測する材料。SARIMAXのX｡\n",
        "X = df_month[[\"降水量の合計(mm)\",\"日照時間(時間)\"]]"
      ],
      "metadata": {
        "id": "pVNDalQpRiF5"
      },
      "execution_count": null,
      "outputs": []
    },
    {
      "cell_type": "markdown",
      "source": [
        "学習(チューニングなし)。\n",
        "X部分を設定しましたら、まずは学習してみます。その際引数は特に気にしなくても大丈夫です。\n",
        "\n",
        "学習できるかどうかを確認するためのものなので。"
      ],
      "metadata": {
        "id": "gld7kjbSSBcp"
      }
    },
    {
      "cell_type": "markdown",
      "source": [
        "SARIMAX(endog = y, exog = X, order = param, seasonal_order = param_seasonal)\n",
        "こんな感じ。\n",
        "\n",
        "一番右の<font color=\"red\">周期性</font>のみちゃんと設定する必要があります。"
      ],
      "metadata": {
        "id": "B84UyumdUj50"
      }
    },
    {
      "cell_type": "code",
      "source": [
        "# SARIMA にします. ,seasonal_orderは引数が4つ。左から3つ目までは同じ。一番右のみ設定する必要あり。⇒周期性。\n",
        "# sarima_model = sm.tsa.SARIMAX(y,X, order=(1,1,1),seasonal_order=(0,1,1,12))\n",
        "\n",
        "\n",
        "sarimax_model = SARIMAX(y,X, order=(1,1,1),seasonal_order=(1,1,1,12))\n",
        "\n",
        "#　これはグリッドサーチで確認したパラメータ。\n",
        "\n",
        "result_sarimax = sarimax_model.fit()\n",
        "\n",
        "# これで概要を確認する事が出来ます。\n",
        "result_sarimax.summary()"
      ],
      "metadata": {
        "id": "N0C6RspQRX-R",
        "colab": {
          "base_uri": "https://localhost:8080/",
          "height": 516
        },
        "outputId": "8b203792-c015-4ac6-dfae-4d998942f037"
      },
      "execution_count": null,
      "outputs": [
        {
          "output_type": "execute_result",
          "data": {
            "text/plain": [
              "<class 'statsmodels.iolib.summary.Summary'>\n",
              "\"\"\"\n",
              "                                 Statespace Model Results                                 \n",
              "==========================================================================================\n",
              "Dep. Variable:                            平均気温(℃)   No. Observations:                  108\n",
              "Model:             SARIMAX(1, 1, 1)x(1, 1, 1, 12)   Log Likelihood                -141.560\n",
              "Date:                            Mon, 15 Aug 2022   AIC                            297.120\n",
              "Time:                                    11:35:19   BIC                            314.997\n",
              "Sample:                                01-31-2010   HQIC                           304.343\n",
              "                                     - 12-31-2018                                         \n",
              "Covariance Type:                              opg                                         \n",
              "==============================================================================\n",
              "                 coef    std err          z      P>|z|      [0.025      0.975]\n",
              "------------------------------------------------------------------------------\n",
              "降水量の合計(mm)    -0.0077      0.037     -0.209      0.834      -0.079       0.064\n",
              "日照時間(時間)       0.3580      0.161      2.222      0.026       0.042       0.674\n",
              "ar.L1          0.2485      0.121      2.062      0.039       0.012       0.485\n",
              "ma.L1         -0.9986      1.969     -0.507      0.612      -4.857       2.860\n",
              "ar.S.L12       0.0818      0.147      0.558      0.577      -0.206       0.369\n",
              "ma.S.L12      -0.9989     33.767     -0.030      0.976     -67.181      65.183\n",
              "sigma2         0.8373     29.078      0.029      0.977     -56.155      57.830\n",
              "===================================================================================\n",
              "Ljung-Box (Q):                       37.38   Jarque-Bera (JB):                 1.75\n",
              "Prob(Q):                              0.59   Prob(JB):                         0.42\n",
              "Heteroskedasticity (H):               0.89   Skew:                             0.28\n",
              "Prob(H) (two-sided):                  0.74   Kurtosis:                         3.35\n",
              "===================================================================================\n",
              "\n",
              "Warnings:\n",
              "[1] Covariance matrix calculated using the outer product of gradients (complex-step).\n",
              "\"\"\""
            ],
            "text/html": [
              "<table class=\"simpletable\">\n",
              "<caption>Statespace Model Results</caption>\n",
              "<tr>\n",
              "  <th>Dep. Variable:</th>               <td>平均気温(℃)</td>            <th>  No. Observations:  </th>    <td>108</td>  \n",
              "</tr>\n",
              "<tr>\n",
              "  <th>Model:</th>           <td>SARIMAX(1, 1, 1)x(1, 1, 1, 12)</td> <th>  Log Likelihood     </th> <td>-141.560</td>\n",
              "</tr>\n",
              "<tr>\n",
              "  <th>Date:</th>                   <td>Mon, 15 Aug 2022</td>        <th>  AIC                </th>  <td>297.120</td>\n",
              "</tr>\n",
              "<tr>\n",
              "  <th>Time:</th>                       <td>11:35:19</td>            <th>  BIC                </th>  <td>314.997</td>\n",
              "</tr>\n",
              "<tr>\n",
              "  <th>Sample:</th>                    <td>01-31-2010</td>           <th>  HQIC               </th>  <td>304.343</td>\n",
              "</tr>\n",
              "<tr>\n",
              "  <th></th>                          <td>- 12-31-2018</td>          <th>                     </th>     <td> </td>   \n",
              "</tr>\n",
              "<tr>\n",
              "  <th>Covariance Type:</th>               <td>opg</td>              <th>                     </th>     <td> </td>   \n",
              "</tr>\n",
              "</table>\n",
              "<table class=\"simpletable\">\n",
              "<tr>\n",
              "       <td></td>         <th>coef</th>     <th>std err</th>      <th>z</th>      <th>P>|z|</th>  <th>[0.025</th>    <th>0.975]</th>  \n",
              "</tr>\n",
              "<tr>\n",
              "  <th>降水量の合計(mm)</th> <td>   -0.0077</td> <td>    0.037</td> <td>   -0.209</td> <td> 0.834</td> <td>   -0.079</td> <td>    0.064</td>\n",
              "</tr>\n",
              "<tr>\n",
              "  <th>日照時間(時間)</th>   <td>    0.3580</td> <td>    0.161</td> <td>    2.222</td> <td> 0.026</td> <td>    0.042</td> <td>    0.674</td>\n",
              "</tr>\n",
              "<tr>\n",
              "  <th>ar.L1</th>      <td>    0.2485</td> <td>    0.121</td> <td>    2.062</td> <td> 0.039</td> <td>    0.012</td> <td>    0.485</td>\n",
              "</tr>\n",
              "<tr>\n",
              "  <th>ma.L1</th>      <td>   -0.9986</td> <td>    1.969</td> <td>   -0.507</td> <td> 0.612</td> <td>   -4.857</td> <td>    2.860</td>\n",
              "</tr>\n",
              "<tr>\n",
              "  <th>ar.S.L12</th>   <td>    0.0818</td> <td>    0.147</td> <td>    0.558</td> <td> 0.577</td> <td>   -0.206</td> <td>    0.369</td>\n",
              "</tr>\n",
              "<tr>\n",
              "  <th>ma.S.L12</th>   <td>   -0.9989</td> <td>   33.767</td> <td>   -0.030</td> <td> 0.976</td> <td>  -67.181</td> <td>   65.183</td>\n",
              "</tr>\n",
              "<tr>\n",
              "  <th>sigma2</th>     <td>    0.8373</td> <td>   29.078</td> <td>    0.029</td> <td> 0.977</td> <td>  -56.155</td> <td>   57.830</td>\n",
              "</tr>\n",
              "</table>\n",
              "<table class=\"simpletable\">\n",
              "<tr>\n",
              "  <th>Ljung-Box (Q):</th>          <td>37.38</td> <th>  Jarque-Bera (JB):  </th> <td>1.75</td>\n",
              "</tr>\n",
              "<tr>\n",
              "  <th>Prob(Q):</th>                <td>0.59</td>  <th>  Prob(JB):          </th> <td>0.42</td>\n",
              "</tr>\n",
              "<tr>\n",
              "  <th>Heteroskedasticity (H):</th> <td>0.89</td>  <th>  Skew:              </th> <td>0.28</td>\n",
              "</tr>\n",
              "<tr>\n",
              "  <th>Prob(H) (two-sided):</th>    <td>0.74</td>  <th>  Kurtosis:          </th> <td>3.35</td>\n",
              "</tr>\n",
              "</table><br/><br/>Warnings:<br/>[1] Covariance matrix calculated using the outer product of gradients (complex-step)."
            ]
          },
          "metadata": {},
          "execution_count": 29
        }
      ]
    },
    {
      "cell_type": "markdown",
      "source": [
        "チューニング\n",
        "学習で様子を見たら、チューニングも是非してみましょう。\n",
        "\n",
        "これはチューニングの独自関数です。他所から引っ張てきました。是非解読してみてください。"
      ],
      "metadata": {
        "id": "Rs-wU7SPSFvh"
      }
    },
    {
      "cell_type": "markdown",
      "source": [
        "良いパラメータを見つけたら、そのパラメータを用いて再度学習してみてください。"
      ],
      "metadata": {
        "id": "00F9EAetQEKo"
      }
    },
    {
      "cell_type": "code",
      "source": [
        "import itertools\n",
        "p = q = range(0, 3)\n",
        "sp = sd = sq = range(0, 2)\n",
        "#p,q,sp,sd,sqの組み合わせのリストを作成する。和分=1,周期=12は固定\n",
        "pdq = [(x[0], 1, x[1]) for x in list(itertools.product(p, q))] # 3*3 9パターン　\n",
        "\n",
        "seasonal_pdq = [(x[0], x[1], x[2], 12) for x in list(itertools.product(sp, sd, sq))] # 2*2*2 8パターン　　72パターン。\n",
        "\n",
        "list(itertools.product(range(0,3),range(0,3)))"
      ],
      "metadata": {
        "colab": {
          "base_uri": "https://localhost:8080/"
        },
        "id": "rClFMe-iSHjY",
        "outputId": "70aab7ef-1a28-45bd-b3db-ac8f5a597bc6"
      },
      "execution_count": null,
      "outputs": [
        {
          "output_type": "execute_result",
          "data": {
            "text/plain": [
              "[(0, 0), (0, 1), (0, 2), (1, 0), (1, 1), (1, 2), (2, 0), (2, 1), (2, 2)]"
            ]
          },
          "metadata": {},
          "execution_count": 30
        }
      ]
    },
    {
      "cell_type": "code",
      "source": [
        "# worningの無視。\n",
        "import warnings\n",
        "warnings.filterwarnings(\"ignore\")\n",
        "\n",
        "# AICが低かったら更新すると。\n",
        "\n",
        "best_result = [0, 0, 10000000]\n",
        "for param in pdq:\n",
        "    for param_seasonal in seasonal_pdq:\n",
        "        try:\n",
        "            mod = SARIMAX(y,X, order = param, seasonal_order = param_seasonal)\n",
        "            results = mod.fit()\n",
        "            print('ARIMAパラメータ{}, 季節変動パラメータ{} - AIC: {}'.format(param, param_seasonal, results.aic))\n",
        "            \n",
        "            if results.aic < best_result[2]:\n",
        "                best_result = [param, param_seasonal, results.aic]\n",
        "        except:\n",
        "            continue\n",
        "\n",
        "print('AIC最小のモデル：', best_result)\n",
        "# AIC最小のモデル： [(1, 1, 1), (0, 1, 1, 12), 295.51344145651655]"
      ],
      "metadata": {
        "id": "4xXEmKNVSMDP",
        "colab": {
          "base_uri": "https://localhost:8080/"
        },
        "outputId": "f2e984c8-b8ea-4a35-e4de-114eb1d5091c"
      },
      "execution_count": null,
      "outputs": [
        {
          "output_type": "stream",
          "name": "stdout",
          "text": [
            "ARIMAパラメータ(0, 1, 0), 季節変動パラメータ(0, 0, 0, 12) - AIC: 616.0429916950098\n",
            "ARIMAパラメータ(0, 1, 0), 季節変動パラメータ(0, 0, 1, 12) - AIC: 528.1751007210307\n",
            "ARIMAパラメータ(0, 1, 0), 季節変動パラメータ(0, 1, 0, 12) - AIC: 359.31885521794646\n",
            "ARIMAパラメータ(0, 1, 0), 季節変動パラメータ(0, 1, 1, 12) - AIC: 329.0863889091858\n",
            "ARIMAパラメータ(0, 1, 0), 季節変動パラメータ(1, 0, 0, 12) - AIC: 426.939835974348\n",
            "ARIMAパラメータ(0, 1, 0), 季節変動パラメータ(1, 0, 1, 12) - AIC: 398.95831789922437\n",
            "ARIMAパラメータ(0, 1, 0), 季節変動パラメータ(1, 1, 0, 12) - AIC: 351.6329044930587\n",
            "ARIMAパラメータ(0, 1, 0), 季節変動パラメータ(1, 1, 1, 12) - AIC: 330.86405606701703\n",
            "ARIMAパラメータ(0, 1, 1), 季節変動パラメータ(0, 0, 0, 12) - AIC: 558.438510455266\n",
            "ARIMAパラメータ(0, 1, 1), 季節変動パラメータ(0, 0, 1, 12) - AIC: 498.2884608424406\n",
            "ARIMAパラメータ(0, 1, 1), 季節変動パラメータ(0, 1, 0, 12) - AIC: 320.78100526607477\n",
            "ARIMAパラメータ(0, 1, 1), 季節変動パラメータ(0, 1, 1, 12) - AIC: 297.9021738450555\n",
            "ARIMAパラメータ(0, 1, 1), 季節変動パラメータ(1, 0, 0, 12) - AIC: 401.9742443915624\n",
            "ARIMAパラメータ(0, 1, 1), 季節変動パラメータ(1, 1, 0, 12) - AIC: 314.19302883091535\n",
            "ARIMAパラメータ(0, 1, 1), 季節変動パラメータ(1, 1, 1, 12) - AIC: 299.89614446037154\n",
            "ARIMAパラメータ(0, 1, 2), 季節変動パラメータ(0, 0, 0, 12) - AIC: 525.0902194537144\n",
            "ARIMAパラメータ(0, 1, 2), 季節変動パラメータ(0, 0, 1, 12) - AIC: 478.18710206085433\n",
            "ARIMAパラメータ(0, 1, 2), 季節変動パラメータ(0, 1, 0, 12) - AIC: 321.79716919088804\n",
            "ARIMAパラメータ(0, 1, 2), 季節変動パラメータ(0, 1, 1, 12) - AIC: 296.1884474623326\n",
            "ARIMAパラメータ(0, 1, 2), 季節変動パラメータ(1, 0, 0, 12) - AIC: 396.7843769344759\n",
            "ARIMAパラメータ(0, 1, 2), 季節変動パラメータ(1, 0, 1, 12) - AIC: 373.02030544799516\n",
            "ARIMAパラメータ(0, 1, 2), 季節変動パラメータ(1, 1, 0, 12) - AIC: 312.99818987821567\n",
            "ARIMAパラメータ(0, 1, 2), 季節変動パラメータ(1, 1, 1, 12) - AIC: 297.82021449070714\n",
            "ARIMAパラメータ(1, 1, 0), 季節変動パラメータ(0, 0, 0, 12) - AIC: 527.1661793508814\n",
            "ARIMAパラメータ(1, 1, 0), 季節変動パラメータ(0, 0, 1, 12) - AIC: 481.8998727703562\n",
            "ARIMAパラメータ(1, 1, 0), 季節変動パラメータ(0, 1, 0, 12) - AIC: 342.65604969716685\n",
            "ARIMAパラメータ(1, 1, 0), 季節変動パラメータ(0, 1, 1, 12) - AIC: 317.03390293817927\n",
            "ARIMAパラメータ(1, 1, 0), 季節変動パラメータ(1, 0, 0, 12) - AIC: 418.58564831687113\n",
            "ARIMAパラメータ(1, 1, 0), 季節変動パラメータ(1, 0, 1, 12) - AIC: 393.08442174281004\n",
            "ARIMAパラメータ(1, 1, 0), 季節変動パラメータ(1, 1, 0, 12) - AIC: 336.4121473467437\n",
            "ARIMAパラメータ(1, 1, 0), 季節変動パラメータ(1, 1, 1, 12) - AIC: 318.7563263119775\n",
            "ARIMAパラメータ(1, 1, 1), 季節変動パラメータ(0, 0, 0, 12) - AIC: 523.6410467413859\n",
            "ARIMAパラメータ(1, 1, 1), 季節変動パラメータ(0, 0, 1, 12) - AIC: 483.8450790369758\n",
            "ARIMAパラメータ(1, 1, 1), 季節変動パラメータ(0, 1, 0, 12) - AIC: 320.9406108629093\n",
            "ARIMAパラメータ(1, 1, 1), 季節変動パラメータ(0, 1, 1, 12) - AIC: 295.51344145651655\n",
            "ARIMAパラメータ(1, 1, 1), 季節変動パラメータ(1, 0, 0, 12) - AIC: 394.155760700704\n",
            "ARIMAパラメータ(1, 1, 1), 季節変動パラメータ(1, 0, 1, 12) - AIC: 367.95248731739497\n",
            "ARIMAパラメータ(1, 1, 1), 季節変動パラメータ(1, 1, 0, 12) - AIC: 312.6903469834728\n",
            "ARIMAパラメータ(1, 1, 1), 季節変動パラメータ(1, 1, 1, 12) - AIC: 297.1195428880682\n",
            "ARIMAパラメータ(1, 1, 2), 季節変動パラメータ(0, 0, 0, 12) - AIC: 554.9511290503468\n",
            "ARIMAパラメータ(1, 1, 2), 季節変動パラメータ(0, 0, 1, 12) - AIC: 490.8667973538303\n",
            "ARIMAパラメータ(1, 1, 2), 季節変動パラメータ(0, 1, 0, 12) - AIC: 322.856010385444\n",
            "ARIMAパラメータ(1, 1, 2), 季節変動パラメータ(0, 1, 1, 12) - AIC: 297.51284702672933\n",
            "ARIMAパラメータ(1, 1, 2), 季節変動パラメータ(1, 0, 0, 12) - AIC: 396.06803119140767\n",
            "ARIMAパラメータ(1, 1, 2), 季節変動パラメータ(1, 0, 1, 12) - AIC: 372.53630685235464\n",
            "ARIMAパラメータ(1, 1, 2), 季節変動パラメータ(1, 1, 0, 12) - AIC: 314.68972318592\n",
            "ARIMAパラメータ(1, 1, 2), 季節変動パラメータ(1, 1, 1, 12) - AIC: 299.1171751737306\n",
            "ARIMAパラメータ(2, 1, 0), 季節変動パラメータ(0, 0, 0, 12) - AIC: 516.2073527133552\n",
            "ARIMAパラメータ(2, 1, 0), 季節変動パラメータ(0, 0, 1, 12) - AIC: 483.77013463578476\n",
            "ARIMAパラメータ(2, 1, 0), 季節変動パラメータ(0, 1, 0, 12) - AIC: 341.47214455714976\n",
            "ARIMAパラメータ(2, 1, 0), 季節変動パラメータ(0, 1, 1, 12) - AIC: 316.6181521722656\n",
            "ARIMAパラメータ(2, 1, 0), 季節変動パラメータ(1, 0, 0, 12) - AIC: 419.9491331164677\n",
            "ARIMAパラメータ(2, 1, 0), 季節変動パラメータ(1, 0, 1, 12) - AIC: 394.7433395178364\n",
            "ARIMAパラメータ(2, 1, 0), 季節変動パラメータ(1, 1, 0, 12) - AIC: 335.017957260277\n",
            "ARIMAパラメータ(2, 1, 0), 季節変動パラメータ(1, 1, 1, 12) - AIC: 318.38727651571236\n",
            "ARIMAパラメータ(2, 1, 1), 季節変動パラメータ(0, 0, 0, 12) - AIC: 446.7637718479836\n",
            "ARIMAパラメータ(2, 1, 1), 季節変動パラメータ(0, 0, 1, 12) - AIC: 483.58144781863444\n",
            "ARIMAパラメータ(2, 1, 1), 季節変動パラメータ(0, 1, 0, 12) - AIC: 322.76162521479023\n",
            "ARIMAパラメータ(2, 1, 1), 季節変動パラメータ(0, 1, 1, 12) - AIC: 297.07479333461805\n",
            "ARIMAパラメータ(2, 1, 1), 季節変動パラメータ(1, 0, 0, 12) - AIC: 395.72586598187434\n",
            "ARIMAパラメータ(2, 1, 1), 季節変動パラメータ(1, 0, 1, 12) - AIC: 372.9600792144223\n",
            "ARIMAパラメータ(2, 1, 1), 季節変動パラメータ(1, 1, 0, 12) - AIC: 314.6893033368556\n",
            "ARIMAパラメータ(2, 1, 1), 季節変動パラメータ(1, 1, 1, 12) - AIC: 299.1145101926994\n",
            "ARIMAパラメータ(2, 1, 2), 季節変動パラメータ(0, 0, 0, 12) - AIC: 378.82968300989603\n",
            "ARIMAパラメータ(2, 1, 2), 季節変動パラメータ(0, 0, 1, 12) - AIC: 370.78554939016504\n",
            "ARIMAパラメータ(2, 1, 2), 季節変動パラメータ(0, 1, 0, 12) - AIC: 322.96211149383055\n",
            "ARIMAパラメータ(2, 1, 2), 季節変動パラメータ(0, 1, 1, 12) - AIC: 298.34486729873504\n",
            "ARIMAパラメータ(2, 1, 2), 季節変動パラメータ(1, 0, 0, 12) - AIC: 371.6073751844979\n",
            "ARIMAパラメータ(2, 1, 2), 季節変動パラメータ(1, 0, 1, 12) - AIC: 361.46393370574276\n",
            "ARIMAパラメータ(2, 1, 2), 季節変動パラメータ(1, 1, 0, 12) - AIC: 315.7583076816509\n",
            "ARIMAパラメータ(2, 1, 2), 季節変動パラメータ(1, 1, 1, 12) - AIC: 300.18079070967735\n",
            "AIC最小のモデル： [(1, 1, 1), (0, 1, 1, 12), 295.51344145651655]\n"
          ]
        }
      ]
    },
    {
      "cell_type": "markdown",
      "source": [
        "### 可視化"
      ],
      "metadata": {
        "id": "Uq5DV0UcS6Jy"
      }
    },
    {
      "cell_type": "markdown",
      "source": [
        "重ね合わせ"
      ],
      "metadata": {
        "id": "6L3ooAuLTAmn"
      }
    },
    {
      "cell_type": "markdown",
      "source": [
        "予測時も同様に外部変数を加えます。\n",
        "\n",
        "\n",
        "```\n",
        "exog=df_month_pred[[\"降水量の合計(mm)\",\"日照時間(時間)\"]]\n",
        "```\n",
        "\n"
      ],
      "metadata": {
        "id": "Nf_q8T0xUuMZ"
      }
    },
    {
      "cell_type": "code",
      "source": [
        "bestPred = result_sarimax.predict('2018-12', '2019-12',exog=df_month_pred[[\"降水量の合計(mm)\",\"日照時間(時間)\"]])\n",
        "plt.plot(bestPred, \"r\")                                     # 赤線。モデルが予測した数値。\n",
        "plt.plot(df_month_all[\"平均気温(℃)\"])                      #青線。実測値"
      ],
      "metadata": {
        "colab": {
          "base_uri": "https://localhost:8080/",
          "height": 609
        },
        "id": "jO1MDRGrTCOw",
        "outputId": "a4925aa9-89b0-49ec-e968-824bd5047675"
      },
      "execution_count": null,
      "outputs": [
        {
          "output_type": "execute_result",
          "data": {
            "text/plain": [
              "[<matplotlib.lines.Line2D at 0x7f785b051350>]"
            ]
          },
          "metadata": {},
          "execution_count": 32
        },
        {
          "output_type": "display_data",
          "data": {
            "text/plain": [
              "<Figure size 1440x720 with 1 Axes>"
            ],
            "image/png": "[encoded data removed]"
          },
          "metadata": {
            "needs_background": "light"
          }
        }
      ]
    },
    {
      "cell_type": "markdown",
      "source": [
        "### rmse確認"
      ],
      "metadata": {
        "id": "DCdzifkhTFnX"
      }
    },
    {
      "cell_type": "markdown",
      "source": [
        "まずはtest_yとbestPred_rmseのdf形式を統一しましょう。\n",
        "\n",
        "そうしなければきちんとrmseを算出する事が出来ません。"
      ],
      "metadata": {
        "id": "3SKUIH67RJRK"
      }
    },
    {
      "cell_type": "markdown",
      "source": [
        "bestPredをdf化して新たな変数に格納します。\n",
        "\n",
        "そしてカラムも統一しています。　　確認がとれたらrmse算出を行いましょう。"
      ],
      "metadata": {
        "id": "qIyJ65goR6UQ"
      }
    },
    {
      "cell_type": "code",
      "source": [
        "\n",
        "test_y.head(3)\n",
        "\n",
        "# test_y.columns"
      ],
      "metadata": {
        "colab": {
          "base_uri": "https://localhost:8080/",
          "height": 175
        },
        "id": "3WBRMk2PTCWB",
        "outputId": "9da6c45f-1663-4bf7-c5c6-88da28036f5f"
      },
      "execution_count": null,
      "outputs": [
        {
          "output_type": "execute_result",
          "data": {
            "text/plain": [
              "              平均気温(℃)\n",
              "年月日                  \n",
              "2019-01-31   5.596774\n",
              "2019-02-28   7.189286\n",
              "2019-03-31  10.561290"
            ],
            "text/html": [
              "\n",
              "  <div id=\"df-565a5ab9-63ab-4849-811d-445ba39e32af\">\n",
              "    <div class=\"colab-df-container\">\n",
              "      <div>\n",
              "<style scoped>\n",
              "    .dataframe tbody tr th:only-of-type {\n",
              "        vertical-align: middle;\n",
              "    }\n",
              "\n",
              "    .dataframe tbody tr th {\n",
              "        vertical-align: top;\n",
              "    }\n",
              "\n",
              "    .dataframe thead th {\n",
              "        text-align: right;\n",
              "    }\n",
              "</style>\n",
              "<table border=\"1\" class=\"dataframe\">\n",
              "  <thead>\n",
              "    <tr style=\"text-align: right;\">\n",
              "      <th></th>\n",
              "      <th>平均気温(℃)</th>\n",
              "    </tr>\n",
              "    <tr>\n",
              "      <th>年月日</th>\n",
              "      <th></th>\n",
              "    </tr>\n",
              "  </thead>\n",
              "  <tbody>\n",
              "    <tr>\n",
              "      <th>2019-01-31</th>\n",
              "      <td>5.596774</td>\n",
              "    </tr>\n",
              "    <tr>\n",
              "      <th>2019-02-28</th>\n",
              "      <td>7.189286</td>\n",
              "    </tr>\n",
              "    <tr>\n",
              "      <th>2019-03-31</th>\n",
              "      <td>10.561290</td>\n",
              "    </tr>\n",
              "  </tbody>\n",
              "</table>\n",
              "</div>\n",
              "      <button class=\"colab-df-convert\" onclick=\"convertToInteractive('df-565a5ab9-63ab-4849-811d-445ba39e32af')\"\n",
              "              title=\"Convert this dataframe to an interactive table.\"\n",
              "              style=\"display:none;\">\n",
              "        \n",
              "  <svg xmlns=\"http://www.w3.org/2000/svg\" height=\"24px\"viewBox=\"0 0 24 24\"\n",
              "       width=\"24px\">\n",
              "    <path d=\"M0 0h24v24H0V0z\" fill=\"none\"/>\n",
              "    <path d=\"M18.56 5.44l.94 2.06.94-2.06 2.06-.94-2.06-.94-.94-2.06-.94 2.06-2.06.94zm-11 1L8.5 8.5l.94-2.06 2.06-.94-2.06-.94L8.5 2.5l-.94 2.06-2.06.94zm10 10l.94 2.06.94-2.06 2.06-.94-2.06-.94-.94-2.06-.94 2.06-2.06.94z\"/><path d=\"M17.41 7.96l-1.37-1.37c-.4-.4-.92-.59-1.43-.59-.52 0-1.04.2-1.43.59L10.3 9.45l-7.72 7.72c-.78.78-.78 2.05 0 2.83L4 21.41c.39.39.9.59 1.41.59.51 0 1.02-.2 1.41-.59l7.78-7.78 2.81-2.81c.8-.78.8-2.07 0-2.86zM5.41 20L4 18.59l7.72-7.72 1.47 1.35L5.41 20z\"/>\n",
              "  </svg>\n",
              "      </button>\n",
              "      \n",
              "  <style>\n",
              "    .colab-df-container {\n",
              "      display:flex;\n",
              "      flex-wrap:wrap;\n",
              "      gap: 12px;\n",
              "    }\n",
              "\n",
              "    .colab-df-convert {\n",
              "      background-color: #E8F0FE;\n",
              "      border: none;\n",
              "      border-radius: 50%;\n",
              "      cursor: pointer;\n",
              "      display: none;\n",
              "      fill: #1967D2;\n",
              "      height: 32px;\n",
              "      padding: 0 0 0 0;\n",
              "      width: 32px;\n",
              "    }\n",
              "\n",
              "    .colab-df-convert:hover {\n",
              "      background-color: #E2EBFA;\n",
              "      box-shadow: 0px 1px 2px rgba(60, 64, 67, 0.3), 0px 1px 3px 1px rgba(60, 64, 67, 0.15);\n",
              "      fill: #174EA6;\n",
              "    }\n",
              "\n",
              "    [theme=dark] .colab-df-convert {\n",
              "      background-color: #3B4455;\n",
              "      fill: #D2E3FC;\n",
              "    }\n",
              "\n",
              "    [theme=dark] .colab-df-convert:hover {\n",
              "      background-color: #434B5C;\n",
              "      box-shadow: 0px 1px 3px 1px rgba(0, 0, 0, 0.15);\n",
              "      filter: drop-shadow(0px 1px 2px rgba(0, 0, 0, 0.3));\n",
              "      fill: #FFFFFF;\n",
              "    }\n",
              "  </style>\n",
              "\n",
              "      <script>\n",
              "        const buttonEl =\n",
              "          document.querySelector('#df-565a5ab9-63ab-4849-811d-445ba39e32af button.colab-df-convert');\n",
              "        buttonEl.style.display =\n",
              "          google.colab.kernel.accessAllowed ? 'block' : 'none';\n",
              "\n",
              "        async function convertToInteractive(key) {\n",
              "          const element = document.querySelector('#df-565a5ab9-63ab-4849-811d-445ba39e32af');\n",
              "          const dataTable =\n",
              "            await google.colab.kernel.invokeFunction('convertToInteractive',\n",
              "                                                     [key], {});\n",
              "          if (!dataTable) return;\n",
              "\n",
              "          const docLinkHtml = 'Like what you see? Visit the ' +\n",
              "            '<a target=\"_blank\" href=https://colab.research.google.com/notebooks/data_table.ipynb>data table notebook</a>'\n",
              "            + ' to learn more about interactive tables.';\n",
              "          element.innerHTML = '';\n",
              "          dataTable['output_type'] = 'display_data';\n",
              "          await google.colab.output.renderOutput(dataTable, element);\n",
              "          const docLink = document.createElement('div');\n",
              "          docLink.innerHTML = docLinkHtml;\n",
              "          element.appendChild(docLink);\n",
              "        }\n",
              "      </script>\n",
              "    </div>\n",
              "  </div>\n",
              "  "
            ]
          },
          "metadata": {},
          "execution_count": 33
        }
      ]
    },
    {
      "cell_type": "code",
      "source": [
        "#予測データの作成\n",
        "#データをpandas化\n",
        "bestPred_rmse = pd.DataFrame(bestPred)\n",
        "#最初の行を削除。(2018/12/31)\n",
        "bestPred_rmse = bestPred_rmse[1:]\n",
        "bestPred_rmse.head(3)\n",
        "\n",
        "# bestPred_rmse.columns"
      ],
      "metadata": {
        "colab": {
          "base_uri": "https://localhost:8080/",
          "height": 143
        },
        "id": "KfEGgHJ5TIGb",
        "outputId": "73d27cc2-13ee-4af0-b0e1-e1848036d88c"
      },
      "execution_count": null,
      "outputs": [
        {
          "output_type": "execute_result",
          "data": {
            "text/plain": [
              "                   0\n",
              "2019-01-31  5.795562\n",
              "2019-02-28  5.788387\n",
              "2019-03-31  9.735919"
            ],
            "text/html": [
              "\n",
              "  <div id=\"df-0f325696-6a71-43df-a300-dbaa06d705b2\">\n",
              "    <div class=\"colab-df-container\">\n",
              "      <div>\n",
              "<style scoped>\n",
              "    .dataframe tbody tr th:only-of-type {\n",
              "        vertical-align: middle;\n",
              "    }\n",
              "\n",
              "    .dataframe tbody tr th {\n",
              "        vertical-align: top;\n",
              "    }\n",
              "\n",
              "    .dataframe thead th {\n",
              "        text-align: right;\n",
              "    }\n",
              "</style>\n",
              "<table border=\"1\" class=\"dataframe\">\n",
              "  <thead>\n",
              "    <tr style=\"text-align: right;\">\n",
              "      <th></th>\n",
              "      <th>0</th>\n",
              "    </tr>\n",
              "  </thead>\n",
              "  <tbody>\n",
              "    <tr>\n",
              "      <th>2019-01-31</th>\n",
              "      <td>5.795562</td>\n",
              "    </tr>\n",
              "    <tr>\n",
              "      <th>2019-02-28</th>\n",
              "      <td>5.788387</td>\n",
              "    </tr>\n",
              "    <tr>\n",
              "      <th>2019-03-31</th>\n",
              "      <td>9.735919</td>\n",
              "    </tr>\n",
              "  </tbody>\n",
              "</table>\n",
              "</div>\n",
              "      <button class=\"colab-df-convert\" onclick=\"convertToInteractive('df-0f325696-6a71-43df-a300-dbaa06d705b2')\"\n",
              "              title=\"Convert this dataframe to an interactive table.\"\n",
              "              style=\"display:none;\">\n",
              "        \n",
              "  <svg xmlns=\"http://www.w3.org/2000/svg\" height=\"24px\"viewBox=\"0 0 24 24\"\n",
              "       width=\"24px\">\n",
              "    <path d=\"M0 0h24v24H0V0z\" fill=\"none\"/>\n",
              "    <path d=\"M18.56 5.44l.94 2.06.94-2.06 2.06-.94-2.06-.94-.94-2.06-.94 2.06-2.06.94zm-11 1L8.5 8.5l.94-2.06 2.06-.94-2.06-.94L8.5 2.5l-.94 2.06-2.06.94zm10 10l.94 2.06.94-2.06 2.06-.94-2.06-.94-.94-2.06-.94 2.06-2.06.94z\"/><path d=\"M17.41 7.96l-1.37-1.37c-.4-.4-.92-.59-1.43-.59-.52 0-1.04.2-1.43.59L10.3 9.45l-7.72 7.72c-.78.78-.78 2.05 0 2.83L4 21.41c.39.39.9.59 1.41.59.51 0 1.02-.2 1.41-.59l7.78-7.78 2.81-2.81c.8-.78.8-2.07 0-2.86zM5.41 20L4 18.59l7.72-7.72 1.47 1.35L5.41 20z\"/>\n",
              "  </svg>\n",
              "      </button>\n",
              "      \n",
              "  <style>\n",
              "    .colab-df-container {\n",
              "      display:flex;\n",
              "      flex-wrap:wrap;\n",
              "      gap: 12px;\n",
              "    }\n",
              "\n",
              "    .colab-df-convert {\n",
              "      background-color: #E8F0FE;\n",
              "      border: none;\n",
              "      border-radius: 50%;\n",
              "      cursor: pointer;\n",
              "      display: none;\n",
              "      fill: #1967D2;\n",
              "      height: 32px;\n",
              "      padding: 0 0 0 0;\n",
              "      width: 32px;\n",
              "    }\n",
              "\n",
              "    .colab-df-convert:hover {\n",
              "      background-color: #E2EBFA;\n",
              "      box-shadow: 0px 1px 2px rgba(60, 64, 67, 0.3), 0px 1px 3px 1px rgba(60, 64, 67, 0.15);\n",
              "      fill: #174EA6;\n",
              "    }\n",
              "\n",
              "    [theme=dark] .colab-df-convert {\n",
              "      background-color: #3B4455;\n",
              "      fill: #D2E3FC;\n",
              "    }\n",
              "\n",
              "    [theme=dark] .colab-df-convert:hover {\n",
              "      background-color: #434B5C;\n",
              "      box-shadow: 0px 1px 3px 1px rgba(0, 0, 0, 0.15);\n",
              "      filter: drop-shadow(0px 1px 2px rgba(0, 0, 0, 0.3));\n",
              "      fill: #FFFFFF;\n",
              "    }\n",
              "  </style>\n",
              "\n",
              "      <script>\n",
              "        const buttonEl =\n",
              "          document.querySelector('#df-0f325696-6a71-43df-a300-dbaa06d705b2 button.colab-df-convert');\n",
              "        buttonEl.style.display =\n",
              "          google.colab.kernel.accessAllowed ? 'block' : 'none';\n",
              "\n",
              "        async function convertToInteractive(key) {\n",
              "          const element = document.querySelector('#df-0f325696-6a71-43df-a300-dbaa06d705b2');\n",
              "          const dataTable =\n",
              "            await google.colab.kernel.invokeFunction('convertToInteractive',\n",
              "                                                     [key], {});\n",
              "          if (!dataTable) return;\n",
              "\n",
              "          const docLinkHtml = 'Like what you see? Visit the ' +\n",
              "            '<a target=\"_blank\" href=https://colab.research.google.com/notebooks/data_table.ipynb>data table notebook</a>'\n",
              "            + ' to learn more about interactive tables.';\n",
              "          element.innerHTML = '';\n",
              "          dataTable['output_type'] = 'display_data';\n",
              "          await google.colab.output.renderOutput(dataTable, element);\n",
              "          const docLink = document.createElement('div');\n",
              "          docLink.innerHTML = docLinkHtml;\n",
              "          element.appendChild(docLink);\n",
              "        }\n",
              "      </script>\n",
              "    </div>\n",
              "  </div>\n",
              "  "
            ]
          },
          "metadata": {},
          "execution_count": 34
        }
      ]
    },
    {
      "cell_type": "code",
      "source": [
        "bestPred_rmse = bestPred_rmse.rename(columns = {0:\"平均気温(℃)\"})\n",
        "bestPred_rmse.head(5)"
      ],
      "metadata": {
        "colab": {
          "base_uri": "https://localhost:8080/",
          "height": 206
        },
        "id": "Zri3UeE_T7S7",
        "outputId": "384a33d1-3d16-4222-9191-b2a60df71192"
      },
      "execution_count": null,
      "outputs": [
        {
          "output_type": "execute_result",
          "data": {
            "text/plain": [
              "              平均気温(℃)\n",
              "2019-01-31   5.795562\n",
              "2019-02-28   5.788387\n",
              "2019-03-31   9.735919\n",
              "2019-04-30  14.929010\n",
              "2019-05-31  19.849746"
            ],
            "text/html": [
              "\n",
              "  <div id=\"df-86dd7f65-e2fd-4563-ab61-0abf145f4561\">\n",
              "    <div class=\"colab-df-container\">\n",
              "      <div>\n",
              "<style scoped>\n",
              "    .dataframe tbody tr th:only-of-type {\n",
              "        vertical-align: middle;\n",
              "    }\n",
              "\n",
              "    .dataframe tbody tr th {\n",
              "        vertical-align: top;\n",
              "    }\n",
              "\n",
              "    .dataframe thead th {\n",
              "        text-align: right;\n",
              "    }\n",
              "</style>\n",
              "<table border=\"1\" class=\"dataframe\">\n",
              "  <thead>\n",
              "    <tr style=\"text-align: right;\">\n",
              "      <th></th>\n",
              "      <th>平均気温(℃)</th>\n",
              "    </tr>\n",
              "  </thead>\n",
              "  <tbody>\n",
              "    <tr>\n",
              "      <th>2019-01-31</th>\n",
              "      <td>5.795562</td>\n",
              "    </tr>\n",
              "    <tr>\n",
              "      <th>2019-02-28</th>\n",
              "      <td>5.788387</td>\n",
              "    </tr>\n",
              "    <tr>\n",
              "      <th>2019-03-31</th>\n",
              "      <td>9.735919</td>\n",
              "    </tr>\n",
              "    <tr>\n",
              "      <th>2019-04-30</th>\n",
              "      <td>14.929010</td>\n",
              "    </tr>\n",
              "    <tr>\n",
              "      <th>2019-05-31</th>\n",
              "      <td>19.849746</td>\n",
              "    </tr>\n",
              "  </tbody>\n",
              "</table>\n",
              "</div>\n",
              "      <button class=\"colab-df-convert\" onclick=\"convertToInteractive('df-86dd7f65-e2fd-4563-ab61-0abf145f4561')\"\n",
              "              title=\"Convert this dataframe to an interactive table.\"\n",
              "              style=\"display:none;\">\n",
              "        \n",
              "  <svg xmlns=\"http://www.w3.org/2000/svg\" height=\"24px\"viewBox=\"0 0 24 24\"\n",
              "       width=\"24px\">\n",
              "    <path d=\"M0 0h24v24H0V0z\" fill=\"none\"/>\n",
              "    <path d=\"M18.56 5.44l.94 2.06.94-2.06 2.06-.94-2.06-.94-.94-2.06-.94 2.06-2.06.94zm-11 1L8.5 8.5l.94-2.06 2.06-.94-2.06-.94L8.5 2.5l-.94 2.06-2.06.94zm10 10l.94 2.06.94-2.06 2.06-.94-2.06-.94-.94-2.06-.94 2.06-2.06.94z\"/><path d=\"M17.41 7.96l-1.37-1.37c-.4-.4-.92-.59-1.43-.59-.52 0-1.04.2-1.43.59L10.3 9.45l-7.72 7.72c-.78.78-.78 2.05 0 2.83L4 21.41c.39.39.9.59 1.41.59.51 0 1.02-.2 1.41-.59l7.78-7.78 2.81-2.81c.8-.78.8-2.07 0-2.86zM5.41 20L4 18.59l7.72-7.72 1.47 1.35L5.41 20z\"/>\n",
              "  </svg>\n",
              "      </button>\n",
              "      \n",
              "  <style>\n",
              "    .colab-df-container {\n",
              "      display:flex;\n",
              "      flex-wrap:wrap;\n",
              "      gap: 12px;\n",
              "    }\n",
              "\n",
              "    .colab-df-convert {\n",
              "      background-color: #E8F0FE;\n",
              "      border: none;\n",
              "      border-radius: 50%;\n",
              "      cursor: pointer;\n",
              "      display: none;\n",
              "      fill: #1967D2;\n",
              "      height: 32px;\n",
              "      padding: 0 0 0 0;\n",
              "      width: 32px;\n",
              "    }\n",
              "\n",
              "    .colab-df-convert:hover {\n",
              "      background-color: #E2EBFA;\n",
              "      box-shadow: 0px 1px 2px rgba(60, 64, 67, 0.3), 0px 1px 3px 1px rgba(60, 64, 67, 0.15);\n",
              "      fill: #174EA6;\n",
              "    }\n",
              "\n",
              "    [theme=dark] .colab-df-convert {\n",
              "      background-color: #3B4455;\n",
              "      fill: #D2E3FC;\n",
              "    }\n",
              "\n",
              "    [theme=dark] .colab-df-convert:hover {\n",
              "      background-color: #434B5C;\n",
              "      box-shadow: 0px 1px 3px 1px rgba(0, 0, 0, 0.15);\n",
              "      filter: drop-shadow(0px 1px 2px rgba(0, 0, 0, 0.3));\n",
              "      fill: #FFFFFF;\n",
              "    }\n",
              "  </style>\n",
              "\n",
              "      <script>\n",
              "        const buttonEl =\n",
              "          document.querySelector('#df-86dd7f65-e2fd-4563-ab61-0abf145f4561 button.colab-df-convert');\n",
              "        buttonEl.style.display =\n",
              "          google.colab.kernel.accessAllowed ? 'block' : 'none';\n",
              "\n",
              "        async function convertToInteractive(key) {\n",
              "          const element = document.querySelector('#df-86dd7f65-e2fd-4563-ab61-0abf145f4561');\n",
              "          const dataTable =\n",
              "            await google.colab.kernel.invokeFunction('convertToInteractive',\n",
              "                                                     [key], {});\n",
              "          if (!dataTable) return;\n",
              "\n",
              "          const docLinkHtml = 'Like what you see? Visit the ' +\n",
              "            '<a target=\"_blank\" href=https://colab.research.google.com/notebooks/data_table.ipynb>data table notebook</a>'\n",
              "            + ' to learn more about interactive tables.';\n",
              "          element.innerHTML = '';\n",
              "          dataTable['output_type'] = 'display_data';\n",
              "          await google.colab.output.renderOutput(dataTable, element);\n",
              "          const docLink = document.createElement('div');\n",
              "          docLink.innerHTML = docLinkHtml;\n",
              "          element.appendChild(docLink);\n",
              "        }\n",
              "      </script>\n",
              "    </div>\n",
              "  </div>\n",
              "  "
            ]
          },
          "metadata": {},
          "execution_count": 35
        }
      ]
    },
    {
      "cell_type": "code",
      "source": [
        "test_y.head(3)"
      ],
      "metadata": {
        "colab": {
          "base_uri": "https://localhost:8080/",
          "height": 175
        },
        "id": "0bYE4DgXXO2O",
        "outputId": "8335e431-fee4-432b-d37e-09de697b34df"
      },
      "execution_count": null,
      "outputs": [
        {
          "output_type": "execute_result",
          "data": {
            "text/plain": [
              "              平均気温(℃)\n",
              "年月日                  \n",
              "2019-01-31   5.596774\n",
              "2019-02-28   7.189286\n",
              "2019-03-31  10.561290"
            ],
            "text/html": [
              "\n",
              "  <div id=\"df-f1fd59eb-2917-4cb9-930a-94e3ee101cf3\">\n",
              "    <div class=\"colab-df-container\">\n",
              "      <div>\n",
              "<style scoped>\n",
              "    .dataframe tbody tr th:only-of-type {\n",
              "        vertical-align: middle;\n",
              "    }\n",
              "\n",
              "    .dataframe tbody tr th {\n",
              "        vertical-align: top;\n",
              "    }\n",
              "\n",
              "    .dataframe thead th {\n",
              "        text-align: right;\n",
              "    }\n",
              "</style>\n",
              "<table border=\"1\" class=\"dataframe\">\n",
              "  <thead>\n",
              "    <tr style=\"text-align: right;\">\n",
              "      <th></th>\n",
              "      <th>平均気温(℃)</th>\n",
              "    </tr>\n",
              "    <tr>\n",
              "      <th>年月日</th>\n",
              "      <th></th>\n",
              "    </tr>\n",
              "  </thead>\n",
              "  <tbody>\n",
              "    <tr>\n",
              "      <th>2019-01-31</th>\n",
              "      <td>5.596774</td>\n",
              "    </tr>\n",
              "    <tr>\n",
              "      <th>2019-02-28</th>\n",
              "      <td>7.189286</td>\n",
              "    </tr>\n",
              "    <tr>\n",
              "      <th>2019-03-31</th>\n",
              "      <td>10.561290</td>\n",
              "    </tr>\n",
              "  </tbody>\n",
              "</table>\n",
              "</div>\n",
              "      <button class=\"colab-df-convert\" onclick=\"convertToInteractive('df-f1fd59eb-2917-4cb9-930a-94e3ee101cf3')\"\n",
              "              title=\"Convert this dataframe to an interactive table.\"\n",
              "              style=\"display:none;\">\n",
              "        \n",
              "  <svg xmlns=\"http://www.w3.org/2000/svg\" height=\"24px\"viewBox=\"0 0 24 24\"\n",
              "       width=\"24px\">\n",
              "    <path d=\"M0 0h24v24H0V0z\" fill=\"none\"/>\n",
              "    <path d=\"M18.56 5.44l.94 2.06.94-2.06 2.06-.94-2.06-.94-.94-2.06-.94 2.06-2.06.94zm-11 1L8.5 8.5l.94-2.06 2.06-.94-2.06-.94L8.5 2.5l-.94 2.06-2.06.94zm10 10l.94 2.06.94-2.06 2.06-.94-2.06-.94-.94-2.06-.94 2.06-2.06.94z\"/><path d=\"M17.41 7.96l-1.37-1.37c-.4-.4-.92-.59-1.43-.59-.52 0-1.04.2-1.43.59L10.3 9.45l-7.72 7.72c-.78.78-.78 2.05 0 2.83L4 21.41c.39.39.9.59 1.41.59.51 0 1.02-.2 1.41-.59l7.78-7.78 2.81-2.81c.8-.78.8-2.07 0-2.86zM5.41 20L4 18.59l7.72-7.72 1.47 1.35L5.41 20z\"/>\n",
              "  </svg>\n",
              "      </button>\n",
              "      \n",
              "  <style>\n",
              "    .colab-df-container {\n",
              "      display:flex;\n",
              "      flex-wrap:wrap;\n",
              "      gap: 12px;\n",
              "    }\n",
              "\n",
              "    .colab-df-convert {\n",
              "      background-color: #E8F0FE;\n",
              "      border: none;\n",
              "      border-radius: 50%;\n",
              "      cursor: pointer;\n",
              "      display: none;\n",
              "      fill: #1967D2;\n",
              "      height: 32px;\n",
              "      padding: 0 0 0 0;\n",
              "      width: 32px;\n",
              "    }\n",
              "\n",
              "    .colab-df-convert:hover {\n",
              "      background-color: #E2EBFA;\n",
              "      box-shadow: 0px 1px 2px rgba(60, 64, 67, 0.3), 0px 1px 3px 1px rgba(60, 64, 67, 0.15);\n",
              "      fill: #174EA6;\n",
              "    }\n",
              "\n",
              "    [theme=dark] .colab-df-convert {\n",
              "      background-color: #3B4455;\n",
              "      fill: #D2E3FC;\n",
              "    }\n",
              "\n",
              "    [theme=dark] .colab-df-convert:hover {\n",
              "      background-color: #434B5C;\n",
              "      box-shadow: 0px 1px 3px 1px rgba(0, 0, 0, 0.15);\n",
              "      filter: drop-shadow(0px 1px 2px rgba(0, 0, 0, 0.3));\n",
              "      fill: #FFFFFF;\n",
              "    }\n",
              "  </style>\n",
              "\n",
              "      <script>\n",
              "        const buttonEl =\n",
              "          document.querySelector('#df-f1fd59eb-2917-4cb9-930a-94e3ee101cf3 button.colab-df-convert');\n",
              "        buttonEl.style.display =\n",
              "          google.colab.kernel.accessAllowed ? 'block' : 'none';\n",
              "\n",
              "        async function convertToInteractive(key) {\n",
              "          const element = document.querySelector('#df-f1fd59eb-2917-4cb9-930a-94e3ee101cf3');\n",
              "          const dataTable =\n",
              "            await google.colab.kernel.invokeFunction('convertToInteractive',\n",
              "                                                     [key], {});\n",
              "          if (!dataTable) return;\n",
              "\n",
              "          const docLinkHtml = 'Like what you see? Visit the ' +\n",
              "            '<a target=\"_blank\" href=https://colab.research.google.com/notebooks/data_table.ipynb>data table notebook</a>'\n",
              "            + ' to learn more about interactive tables.';\n",
              "          element.innerHTML = '';\n",
              "          dataTable['output_type'] = 'display_data';\n",
              "          await google.colab.output.renderOutput(dataTable, element);\n",
              "          const docLink = document.createElement('div');\n",
              "          docLink.innerHTML = docLinkHtml;\n",
              "          element.appendChild(docLink);\n",
              "        }\n",
              "      </script>\n",
              "    </div>\n",
              "  </div>\n",
              "  "
            ]
          },
          "metadata": {},
          "execution_count": 36
        }
      ]
    },
    {
      "cell_type": "markdown",
      "source": [
        "ここでrmse算出"
      ],
      "metadata": {
        "id": "rOgYplaJNRlD"
      }
    },
    {
      "cell_type": "code",
      "source": [
        "import numpy as np\n",
        "from sklearn.metrics import mean_squared_error as MSE\n",
        "# y_trainと予測値のRMSEを出す\n",
        "print(\"RMSE\",np.sqrt(MSE(test_y,bestPred_rmse)))"
      ],
      "metadata": {
        "colab": {
          "base_uri": "https://localhost:8080/"
        },
        "id": "3BL1XhQHM_oL",
        "outputId": "920db624-f177-488a-8bfe-d38d2486d145"
      },
      "execution_count": null,
      "outputs": [
        {
          "output_type": "stream",
          "name": "stdout",
          "text": [
            "RMSE 0.9615783120597218\n"
          ]
        }
      ]
    },
    {
      "cell_type": "markdown",
      "source": [
        "### ホワイトノイズの確認\n",
        "おまけ。このようにホワイトノイズも確認できます。"
      ],
      "metadata": {
        "id": "lwUd8i7cStYt"
      }
    },
    {
      "cell_type": "code",
      "source": [
        "plt.rc(\"figure\",figsize=(20,10))\n",
        "result_sarimax.plot_diagnostics(lags=12);"
      ],
      "metadata": {
        "id": "9i1Gvbb_Nhq_",
        "colab": {
          "base_uri": "https://localhost:8080/",
          "height": 621
        },
        "outputId": "78b33f4b-3765-4672-e059-88f9781dd54e"
      },
      "execution_count": null,
      "outputs": [
        {
          "output_type": "display_data",
          "data": {
            "text/plain": [
              "<Figure size 1440x720 with 4 Axes>"
            ],
            "image/png": "[encoded data removed]"
          },
          "metadata": {
            "needs_background": "light"
          }
        }
      ]
    }
  ]
}