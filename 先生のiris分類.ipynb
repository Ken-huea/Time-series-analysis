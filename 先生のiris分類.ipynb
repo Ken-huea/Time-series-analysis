{
  "nbformat": 4,
  "nbformat_minor": 0,
  "metadata": {
    "colab": {
      "name": "先生のiris分類.ipynb",
      "provenance": [],
      "authorship_tag": "ABX9TyNMBkZkThoggr1Fdwjo3Hi6",
      "include_colab_link": true
    },
    "kernelspec": {
      "name": "python3",
      "display_name": "Python 3"
    },
    "language_info": {
      "name": "python"
    }
  },
  "cells": [
    {
      "cell_type": "markdown",
      "metadata": {
        "id": "view-in-github",
        "colab_type": "text"
      },
      "source": [
        "<a href=\"https://colab.research.google.com/github/Ken-huea/Time-series-analysis/blob/main/%E5%85%88%E7%94%9F%E3%81%AEiris%E5%88%86%E9%A1%9E.ipynb\" target=\"_parent\"><img src=\"https://colab.research.google.com/assets/colab-badge.svg\" alt=\"Open In Colab\"/></a>"
      ]
    },
    {
      "cell_type": "markdown",
      "source": [
        "accuracyが0.97であり予測できているので正解です。\n",
        "​\n",
        "さらによいaccuracyにしたい場合、\n",
        "モデルを以下のようにするとよいでしょう。\n",
        "\n",
        "分類問題ではsigmoidはよく使うことができます。\n",
        "中間層はやや大きめの数字にしておくとよいでしょう。\n",
        "128や256ですとaccuracyが下がる傾向があります。\n",
        "\n",
        "\n",
        "```\n",
        "model = Sequential()\n",
        "model.add(Dense(10, input_dim=4))    # 入力層4ノード, 隠れ層に10ノード, 全結合\n",
        "model.add(Dense(512, activation='sigmoid'))\n",
        "model.add(Dense(3)) # 出力層3ノード,全結合\n",
        "model.add(Activation(\"sigmoid\"))\n",
        "```\n",
        "​\n",
        "エポックは500、バッチを32として学習するとtest accuracyが1になります。\n",
        "history = model.fit(x_train, y_train, epochs=500, batch_size=32) # 学習"
      ],
      "metadata": {
        "id": "dfv24JX7XS2I"
      }
    },
    {
      "cell_type": "code",
      "source": [
        "import numpy as np\n",
        "import matplotlib.pyplot as plt\n",
        "from sklearn import datasets\n",
        "from tensorflow.keras.models import Sequential\n",
        "from tensorflow.keras.layers import Dense,  Activation\n",
        "from sklearn import preprocessing\n",
        "from sklearn.model_selection import train_test_split\n",
        "import tensorflow.keras.utils as np_utils"
      ],
      "metadata": {
        "id": "P7mVsB83X0HR"
      },
      "execution_count": null,
      "outputs": []
    },
    {
      "cell_type": "markdown",
      "source": [
        "### パート１\n",
        "・データ取得\n",
        "\n",
        "・説明変数標準化\n",
        "\n",
        "・目的変数one hot encording\n"
      ],
      "metadata": {
        "id": "KlxnAOr7KQrD"
      }
    },
    {
      "cell_type": "markdown",
      "source": [
        "データを取得、分割、標準化まで。"
      ],
      "metadata": {
        "id": "E0d5zhm7X9oH"
      }
    },
    {
      "cell_type": "code",
      "source": [
        "iris = datasets.load_iris() # データを取得\n",
        "x = iris.data   # 花の特徴量、長さなど\n",
        "y = iris.target # 0, 1, 2のラベル"
      ],
      "metadata": {
        "id": "ieSOXOZsX6oG"
      },
      "execution_count": null,
      "outputs": []
    },
    {
      "cell_type": "markdown",
      "source": [
        "説明変数を標準化、目的変数をone hot encordingに"
      ],
      "metadata": {
        "id": "nm5yg2oMJUVD"
      }
    },
    {
      "cell_type": "code",
      "source": [
        "x = preprocessing.scale(x)  # 標準化。　標準化して再度説明変数に格納。\n",
        "y = np_utils.to_categorical(y)  # one-hotエンコード.例) 1 => [0, 1, 0]"
      ],
      "metadata": {
        "id": "kRluXl1jJTlk"
      },
      "execution_count": null,
      "outputs": []
    },
    {
      "cell_type": "markdown",
      "source": [
        "データ分割"
      ],
      "metadata": {
        "id": "k11BJU_zKM6c"
      }
    },
    {
      "cell_type": "code",
      "source": [
        "x_train, x_test, y_train, y_test = train_test_split(x, y, train_size=0.8)    # 教師データとテストデータに分割"
      ],
      "metadata": {
        "id": "BLk7Q0BRYvRJ"
      },
      "execution_count": null,
      "outputs": []
    },
    {
      "cell_type": "markdown",
      "source": [
        "### モデルの生成と学習"
      ],
      "metadata": {
        "id": "1MXioPiEKemW"
      }
    },
    {
      "cell_type": "code",
      "source": [
        "# モデルの生成\n",
        "model = Sequential()\n",
        "model.add(Dense(10, input_dim=4))    # 入力層4ノード, 隠れ層に10ノード, 全結合\n",
        "model.add(Dense(512, activation='sigmoid'))\n",
        "model.add(Dense(3)) # 出力層3ノード,全結合\n",
        "model.add(Activation(\"sigmoid\"))"
      ],
      "metadata": {
        "id": "Jw8krk9nY2YX"
      },
      "execution_count": null,
      "outputs": []
    },
    {
      "cell_type": "code",
      "source": [
        "model.compile(loss=\"categorical_crossentropy\",   # 誤差関数\n",
        "              optimizer=\"adam\",     # 最適化手法\n",
        "              metrics=['accuracy'])"
      ],
      "metadata": {
        "id": "CAEsT6rHY7IP"
      },
      "execution_count": null,
      "outputs": []
    },
    {
      "cell_type": "code",
      "source": [
        "# 学習\n",
        "history = model.fit(x_train, y_train, epochs=300, batch_size=32) # 学習"
      ],
      "metadata": {
        "id": "MhSRNergKu71"
      },
      "execution_count": null,
      "outputs": []
    },
    {
      "cell_type": "markdown",
      "source": [
        "### プロットと評価"
      ],
      "metadata": {
        "id": "CnwyU2ZYK6IL"
      }
    },
    {
      "cell_type": "code",
      "source": [
        "# 学習過程のプロット\n",
        "plt.plot(history.epoch, history.history[\"accuracy\"], label=\"acc\")\n",
        "plt.plot(history.epoch, history.history[\"loss\"], label=\"loss\")\n",
        "# plt.xlabel(\"epoch\")​\n",
        "plt.legend()"
      ],
      "metadata": {
        "colab": {
          "base_uri": "https://localhost:8080/",
          "height": 282
        },
        "id": "hy3EEUofZC78",
        "outputId": "c8157fee-bc23-4712-de40-e3e055b185a7"
      },
      "execution_count": null,
      "outputs": [
        {
          "output_type": "execute_result",
          "data": {
            "text/plain": [
              "<matplotlib.legend.Legend at 0x7f8792fa9ed0>"
            ]
          },
          "metadata": {},
          "execution_count": 13
        },
        {
          "output_type": "display_data",
          "data": {
            "text/plain": [
              "<Figure size 432x288 with 1 Axes>"
            ],
            "image/png": "[encoded data removed]"
          },
          "metadata": {
            "needs_background": "light"
          }
        }
      ]
    },
    {
      "cell_type": "code",
      "source": [
        "# 評価\n",
        "score = model.evaluate(x_test, y_test, verbose=1)\n",
        "print(\"Test score\", score[0])\n",
        "print(\"Test accuracy\", score[1])"
      ],
      "metadata": {
        "colab": {
          "base_uri": "https://localhost:8080/"
        },
        "id": "7PoppdZ5ZSjP",
        "outputId": "21b1cdcb-e7f6-4ff7-f27d-4297301d9c12"
      },
      "execution_count": null,
      "outputs": [
        {
          "output_type": "stream",
          "name": "stdout",
          "text": [
            "1/1 [==============================] - 0s 19ms/step - loss: 0.0827 - accuracy: 1.0000\n",
            "Test score 0.08271916210651398\n",
            "Test accuracy 1.0\n"
          ]
        }
      ]
    },
    {
      "cell_type": "code",
      "execution_count": null,
      "metadata": {
        "colab": {
          "base_uri": "https://localhost:8080/"
        },
        "id": "psBWqJLKXO6Z",
        "outputId": "f326f411-6f90-4f7a-ec1c-040512528168"
      },
      "outputs": [
        {
          "output_type": "stream",
          "name": "stdout",
          "text": [
            "====================================\n",
            "-----------correct answer-----------\n",
            "[1. 0. 0.]\n",
            "[0. 1. 0.]\n",
            "-----------predict answer-----------\n",
            "[1. 1. 0.]\n",
            "[0. 1. 0.]\n"
          ]
        }
      ],
      "source": [
        "# 個々のデータを入力して学習できているか見てみる\n",
        "print(\"====================================\")\n",
        "print(\"-----------correct answer-----------\")\n",
        "print(y_test[0])\n",
        "print(y_test[10])\n",
        "print(\"-----------predict answer-----------\")\n",
        "print(np.round(model.predict(x_test)[0]))\n",
        "print(np.round(model.predict(x_test)[10]))\n",
        "plt.show()"
      ]
    }
  ]
}