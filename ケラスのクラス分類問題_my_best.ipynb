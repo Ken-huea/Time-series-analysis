{
  "nbformat": 4,
  "nbformat_minor": 0,
  "metadata": {
    "colab": {
      "name": "ケラスのクラス分類問題_my_best.ipynb",
      "provenance": [],
      "authorship_tag": "ABX9TyO+0VCIzgJLZQkJ5KCwjP3T",
      "include_colab_link": true
    },
    "kernelspec": {
      "name": "python3",
      "display_name": "Python 3"
    },
    "language_info": {
      "name": "python"
    }
  },
  "cells": [
    {
      "cell_type": "markdown",
      "metadata": {
        "id": "view-in-github",
        "colab_type": "text"
      },
      "source": [
        "<a href=\"https://colab.research.google.com/github/Ken-huea/Time-series-analysis/blob/main/%E3%82%B1%E3%83%A9%E3%82%B9%E3%81%AE%E3%82%AF%E3%83%A9%E3%82%B9%E5%88%86%E9%A1%9E%E5%95%8F%E9%A1%8C_my_best.ipynb\" target=\"_parent\"><img src=\"https://colab.research.google.com/assets/colab-badge.svg\" alt=\"Open In Colab\"/></a>"
      ]
    },
    {
      "cell_type": "markdown",
      "source": [
        "# irisの分類問題\n",
        "・ケラス/ディープラーニングでの機械学習での分類予測。\n",
        "\n",
        "本気で検証してみる。"
      ],
      "metadata": {
        "id": "RHrGlHQdNMDv"
      }
    },
    {
      "cell_type": "markdown",
      "source": [
        "ポイント：callbacks関数を用いた、\n",
        "- 過学習防止(学習打ち止め)\n",
        "- epock数の中で一番良いモデルを使用する事。⇒最後に学習したモデルが最良とは限らない。"
      ],
      "metadata": {
        "id": "-u-7fEFINs7O"
      }
    },
    {
      "cell_type": "markdown",
      "source": [
        "### 読込とデータ分割\n",
        "\n",
        "トレインデータは⇒正規化"
      ],
      "metadata": {
        "id": "G6se04ZNvCks"
      }
    },
    {
      "cell_type": "code",
      "source": [
        "# 連続値データの読み込み\n",
        "from sklearn.datasets import load_iris\n",
        "import pandas as pd\n",
        "iris = load_iris()"
      ],
      "metadata": {
        "id": "7elFK5JVnKrk"
      },
      "execution_count": null,
      "outputs": []
    },
    {
      "cell_type": "code",
      "source": [
        "# 訓練データとテストデータに分ける\n",
        "from sklearn.model_selection import train_test_split\n",
        "X_train, y_train, X_test, y_test = train_test_split(\n",
        "    iris['data'], \n",
        "    iris['target'], \n",
        "    test_size=0.3,  \n",
        "    random_state=0\n",
        ")"
      ],
      "metadata": {
        "id": "nCZ0KucQnMHn"
      },
      "execution_count": null,
      "outputs": []
    },
    {
      "cell_type": "markdown",
      "source": [
        "ディープラーニングする際に\n",
        "\n",
        "トレーニングデータを正規化させます。\n",
        "\n",
        "テストデータはone hot bectle化させます。"
      ],
      "metadata": {
        "id": "Qs8DXeR2xObF"
      }
    },
    {
      "cell_type": "code",
      "source": [
        "# 正規化（Normarization）\n",
        "from sklearn.preprocessing import MinMaxScaler\n",
        "scaler_x = MinMaxScaler()\n",
        "\n",
        "X_train_n = scaler_x.fit_transform(X_train)\n",
        "y_train_n = scaler_x.fit_transform(y_train)\n",
        "\n",
        "X_train_n.shape, y_train_n.shape, X_test.shape, y_test.shape"
      ],
      "metadata": {
        "id": "SqTSut88n-ER",
        "colab": {
          "base_uri": "https://localhost:8080/"
        },
        "outputId": "758e398f-d5e9-40f5-83ae-9116bb199d82"
      },
      "execution_count": null,
      "outputs": [
        {
          "output_type": "execute_result",
          "data": {
            "text/plain": [
              "((105, 4), (45, 4), (105,), (45,))"
            ]
          },
          "metadata": {},
          "execution_count": 75
        }
      ]
    },
    {
      "cell_type": "markdown",
      "source": [
        "### ベクトル化\n",
        "テストデータは⇒one hot bectle化"
      ],
      "metadata": {
        "id": "I08JIajEwQw3"
      }
    },
    {
      "cell_type": "markdown",
      "source": [
        "分類問題なのでtargetに<font color=\"red\">one hot ベクトル化</font>を施す必要がある。"
      ],
      "metadata": {
        "id": "Senksxo_oBG8"
      }
    },
    {
      "cell_type": "markdown",
      "source": [
        "カテゴリに対して有効。0と1とに分ける。見てみればすぐピンと来るはず。\n",
        "\n",
        "⇒このベクトルを予想する。"
      ],
      "metadata": {
        "id": "XULl40FDoKpr"
      }
    },
    {
      "cell_type": "markdown",
      "source": [
        "y_trainをベクトル化。クラスの数は合計3つ。だから第二引数に３を設定。"
      ],
      "metadata": {
        "id": "D2z3-SgQopGl"
      }
    },
    {
      "cell_type": "code",
      "source": [
        "y_test"
      ],
      "metadata": {
        "colab": {
          "base_uri": "https://localhost:8080/"
        },
        "id": "0DGValjBpLbu",
        "outputId": "ca58084d-8346-4159-cc13-537afc9685ed"
      },
      "execution_count": null,
      "outputs": [
        {
          "output_type": "execute_result",
          "data": {
            "text/plain": [
              "array([2, 1, 0, 2, 0, 2, 0, 1, 1, 1, 2, 1, 1, 1, 1, 0, 1, 1, 0, 0, 2, 1,\n",
              "       0, 0, 2, 0, 0, 1, 1, 0, 2, 1, 0, 2, 2, 1, 0, 1, 1, 1, 2, 0, 2, 0,\n",
              "       0])"
            ]
          },
          "metadata": {},
          "execution_count": 76
        }
      ]
    },
    {
      "cell_type": "markdown",
      "source": [
        "one hot encording処理。後々精度予測(accucy)にy_testを用いるので。上書きはダメ"
      ],
      "metadata": {
        "id": "cDX8K1ZsL8vI"
      }
    },
    {
      "cell_type": "code",
      "source": [
        "# One-Hotエンコーダー\n",
        "X_test_hot = pd.get_dummies(X_test, dummy_na=False)\n",
        "y_test_hot = pd.get_dummies(y_test, dummy_na=False)"
      ],
      "metadata": {
        "id": "aM9cZQeao3ql"
      },
      "execution_count": null,
      "outputs": []
    },
    {
      "cell_type": "code",
      "source": [
        "y_test_hot.head(5)"
      ],
      "metadata": {
        "id": "5sUdgH62uGqE",
        "colab": {
          "base_uri": "https://localhost:8080/"
        },
        "outputId": "44d204d4-4e79-48de-c9a8-47a39cf88fa8"
      },
      "execution_count": null,
      "outputs": [
        {
          "output_type": "execute_result",
          "data": {
            "text/plain": [
              "   0  1  2\n",
              "0  0  0  1\n",
              "1  0  1  0\n",
              "2  1  0  0\n",
              "3  0  0  1\n",
              "4  1  0  0"
            ],
            "text/html": [
              "\n",
              "  <div id=\"df-5c9765f6-50f0-4a8b-8b40-559cde6acb4b\">\n",
              "    <div class=\"colab-df-container\">\n",
              "      <div>\n",
              "<style scoped>\n",
              "    .dataframe tbody tr th:only-of-type {\n",
              "        vertical-align: middle;\n",
              "    }\n",
              "\n",
              "    .dataframe tbody tr th {\n",
              "        vertical-align: top;\n",
              "    }\n",
              "\n",
              "    .dataframe thead th {\n",
              "        text-align: right;\n",
              "    }\n",
              "</style>\n",
              "<table border=\"1\" class=\"dataframe\">\n",
              "  <thead>\n",
              "    <tr style=\"text-align: right;\">\n",
              "      <th></th>\n",
              "      <th>0</th>\n",
              "      <th>1</th>\n",
              "      <th>2</th>\n",
              "    </tr>\n",
              "  </thead>\n",
              "  <tbody>\n",
              "    <tr>\n",
              "      <th>0</th>\n",
              "      <td>0</td>\n",
              "      <td>0</td>\n",
              "      <td>1</td>\n",
              "    </tr>\n",
              "    <tr>\n",
              "      <th>1</th>\n",
              "      <td>0</td>\n",
              "      <td>1</td>\n",
              "      <td>0</td>\n",
              "    </tr>\n",
              "    <tr>\n",
              "      <th>2</th>\n",
              "      <td>1</td>\n",
              "      <td>0</td>\n",
              "      <td>0</td>\n",
              "    </tr>\n",
              "    <tr>\n",
              "      <th>3</th>\n",
              "      <td>0</td>\n",
              "      <td>0</td>\n",
              "      <td>1</td>\n",
              "    </tr>\n",
              "    <tr>\n",
              "      <th>4</th>\n",
              "      <td>1</td>\n",
              "      <td>0</td>\n",
              "      <td>0</td>\n",
              "    </tr>\n",
              "  </tbody>\n",
              "</table>\n",
              "</div>\n",
              "      <button class=\"colab-df-convert\" onclick=\"convertToInteractive('df-5c9765f6-50f0-4a8b-8b40-559cde6acb4b')\"\n",
              "              title=\"Convert this dataframe to an interactive table.\"\n",
              "              style=\"display:none;\">\n",
              "        \n",
              "  <svg xmlns=\"http://www.w3.org/2000/svg\" height=\"24px\"viewBox=\"0 0 24 24\"\n",
              "       width=\"24px\">\n",
              "    <path d=\"M0 0h24v24H0V0z\" fill=\"none\"/>\n",
              "    <path d=\"M18.56 5.44l.94 2.06.94-2.06 2.06-.94-2.06-.94-.94-2.06-.94 2.06-2.06.94zm-11 1L8.5 8.5l.94-2.06 2.06-.94-2.06-.94L8.5 2.5l-.94 2.06-2.06.94zm10 10l.94 2.06.94-2.06 2.06-.94-2.06-.94-.94-2.06-.94 2.06-2.06.94z\"/><path d=\"M17.41 7.96l-1.37-1.37c-.4-.4-.92-.59-1.43-.59-.52 0-1.04.2-1.43.59L10.3 9.45l-7.72 7.72c-.78.78-.78 2.05 0 2.83L4 21.41c.39.39.9.59 1.41.59.51 0 1.02-.2 1.41-.59l7.78-7.78 2.81-2.81c.8-.78.8-2.07 0-2.86zM5.41 20L4 18.59l7.72-7.72 1.47 1.35L5.41 20z\"/>\n",
              "  </svg>\n",
              "      </button>\n",
              "      \n",
              "  <style>\n",
              "    .colab-df-container {\n",
              "      display:flex;\n",
              "      flex-wrap:wrap;\n",
              "      gap: 12px;\n",
              "    }\n",
              "\n",
              "    .colab-df-convert {\n",
              "      background-color: #E8F0FE;\n",
              "      border: none;\n",
              "      border-radius: 50%;\n",
              "      cursor: pointer;\n",
              "      display: none;\n",
              "      fill: #1967D2;\n",
              "      height: 32px;\n",
              "      padding: 0 0 0 0;\n",
              "      width: 32px;\n",
              "    }\n",
              "\n",
              "    .colab-df-convert:hover {\n",
              "      background-color: #E2EBFA;\n",
              "      box-shadow: 0px 1px 2px rgba(60, 64, 67, 0.3), 0px 1px 3px 1px rgba(60, 64, 67, 0.15);\n",
              "      fill: #174EA6;\n",
              "    }\n",
              "\n",
              "    [theme=dark] .colab-df-convert {\n",
              "      background-color: #3B4455;\n",
              "      fill: #D2E3FC;\n",
              "    }\n",
              "\n",
              "    [theme=dark] .colab-df-convert:hover {\n",
              "      background-color: #434B5C;\n",
              "      box-shadow: 0px 1px 3px 1px rgba(0, 0, 0, 0.15);\n",
              "      filter: drop-shadow(0px 1px 2px rgba(0, 0, 0, 0.3));\n",
              "      fill: #FFFFFF;\n",
              "    }\n",
              "  </style>\n",
              "\n",
              "      <script>\n",
              "        const buttonEl =\n",
              "          document.querySelector('#df-5c9765f6-50f0-4a8b-8b40-559cde6acb4b button.colab-df-convert');\n",
              "        buttonEl.style.display =\n",
              "          google.colab.kernel.accessAllowed ? 'block' : 'none';\n",
              "\n",
              "        async function convertToInteractive(key) {\n",
              "          const element = document.querySelector('#df-5c9765f6-50f0-4a8b-8b40-559cde6acb4b');\n",
              "          const dataTable =\n",
              "            await google.colab.kernel.invokeFunction('convertToInteractive',\n",
              "                                                     [key], {});\n",
              "          if (!dataTable) return;\n",
              "\n",
              "          const docLinkHtml = 'Like what you see? Visit the ' +\n",
              "            '<a target=\"_blank\" href=https://colab.research.google.com/notebooks/data_table.ipynb>data table notebook</a>'\n",
              "            + ' to learn more about interactive tables.';\n",
              "          element.innerHTML = '';\n",
              "          dataTable['output_type'] = 'display_data';\n",
              "          await google.colab.output.renderOutput(dataTable, element);\n",
              "          const docLink = document.createElement('div');\n",
              "          docLink.innerHTML = docLinkHtml;\n",
              "          element.appendChild(docLink);\n",
              "        }\n",
              "      </script>\n",
              "    </div>\n",
              "  </div>\n",
              "  "
            ]
          },
          "metadata": {},
          "execution_count": 78
        }
      ]
    },
    {
      "cell_type": "markdown",
      "source": [
        "### 学習"
      ],
      "metadata": {
        "id": "q4CrAyA9wkO0"
      }
    },
    {
      "cell_type": "code",
      "execution_count": null,
      "metadata": {
        "collapsed": true,
        "id": "q1A5DNc675rt"
      },
      "outputs": [],
      "source": [
        "# 基本モデル生成\n",
        "from keras.models import Sequential # 基本モデルのクラス\n",
        "model = Sequential()"
      ]
    },
    {
      "cell_type": "markdown",
      "source": [
        "分類問題の出力層の活性化関数は <font color=\"red\">softmax</font> を用いる事。"
      ],
      "metadata": {
        "id": "qfejCfE1xw5y"
      }
    },
    {
      "cell_type": "code",
      "execution_count": null,
      "metadata": {
        "collapsed": true,
        "id": "SS6uZmqg75rt"
      },
      "outputs": [],
      "source": [
        "# 層の追加\n",
        "\n",
        "from keras.layers import Dense # 層\n",
        "from keras.layers import core  # 活性化関数\n",
        "from keras.layers import ReLU,Softmax  # 活性化関数発展版\n",
        "\n",
        "# 中間層\n",
        "model.add(\n",
        "    Dense(\n",
        "        128,# ユニット数 \n",
        "        input_shape=(4,), # 入力ベクトルの次元数の指定. 説明変数の数と同じになっている。今回は説明変数は４．\n",
        "        activation=ReLU() # 活性化関数　ReLU\n",
        "    )\n",
        ")\n",
        "\n",
        "# 中間層\n",
        "model.add(\n",
        "    Dense(\n",
        "        128,# ユニット数 \n",
        "        activation=ReLU() # 活性化関数　ReLU\n",
        "    )\n",
        ")\n",
        "\n",
        "# 中間層\n",
        "model.add(\n",
        "    Dense(\n",
        "        128,# ユニット数 \n",
        "        activation=ReLU() # 活性化関数　ReLU\n",
        "    )\n",
        ")\n",
        "\n",
        "# 出力層\n",
        "model.add(\n",
        "    Dense(\n",
        "        3,                   # ここも３。出力される分類が３つだから。\n",
        "        activation=Softmax() # 活性化関数　softmax\n",
        "    )\n",
        ")"
      ]
    },
    {
      "cell_type": "code",
      "execution_count": null,
      "metadata": {
        "collapsed": true,
        "id": "rzSs9hOt75rv",
        "colab": {
          "base_uri": "https://localhost:8080/"
        },
        "outputId": "6e26b38b-9c74-4bcb-f2a2-35f7df82400f"
      },
      "outputs": [
        {
          "output_type": "stream",
          "name": "stderr",
          "text": [
            "/usr/local/lib/python3.7/dist-packages/keras/optimizer_v2/gradient_descent.py:102: UserWarning: The `lr` argument is deprecated, use `learning_rate` instead.\n",
            "  super(SGD, self).__init__(name, **kwargs)\n"
          ]
        }
      ],
      "source": [
        "\n",
        "from tensorflow.keras import optimizers\n",
        "sgd = optimizers.SGD(lr=0.1)\n",
        "\n",
        "# モデルの学習設定\n",
        "from keras import losses     # 損失関数\n",
        "from keras import optimizers # 重み更新法\n",
        "model.compile(\n",
        "    loss=losses.categorical_crossentropy,    # 損失関数　平均二乗誤差\n",
        "    optimizer=sgd,# 重み更新法　確率的勾配降下法\n",
        "    metrics=[\"accuracy\"] # Aidemyから拝借。\n",
        "    )"
      ]
    },
    {
      "cell_type": "code",
      "execution_count": null,
      "metadata": {
        "collapsed": true,
        "id": "FsWW1lpQ75rw"
      },
      "outputs": [],
      "source": [
        "from keras import callbacks                   # コールバック（1epoch終了毎に呼び出される）\n",
        "import keras\n",
        "# モデルの学習\n",
        "history = model.fit(\n",
        "    X_train_n,\n",
        "    X_test_hot,\n",
        "    batch_size=32,\n",
        "    epochs=300, \n",
        "\n",
        "    validation_data=(y_train_n,y_test_hot),        # コールバックする際はvalidation dataも準備する。\n",
        "    callbacks=[\n",
        "        callbacks.EarlyStopping(monitor='val_loss',patience=30),\n",
        "        callbacks.ModelCheckpoint(filepath = './model/best_model.h5',monitor='', save_best_only=True) # 最良のモデルを保存。\n",
        "        ]\n",
        ")"
      ]
    },
    {
      "cell_type": "code",
      "source": [
        "import matplotlib.pyplot as plt\n",
        "import seaborn as sns\n",
        "sns.set()\n",
        "#acc, val_accのプロット\n",
        "plt.plot(history.history[\"accuracy\"], label=\"accuancy\", ls=\"-\")\n",
        "plt.ylabel(\"accuancy\")\n",
        "plt.xlabel(\"epoch\")\n",
        "plt.legend(loc=\"best\")\n",
        "plt.show()"
      ],
      "metadata": {
        "colab": {
          "base_uri": "https://localhost:8080/",
          "height": 285
        },
        "id": "XzYxNkbvIkU3",
        "outputId": "84eff7d0-6aeb-4f83-aae3-f65ee6b4e9a8"
      },
      "execution_count": null,
      "outputs": [
        {
          "output_type": "display_data",
          "data": {
            "text/plain": [
              "<Figure size 432x288 with 1 Axes>"
            ],
            "image/png": "[encoded data removed]"
          },
          "metadata": {}
        }
      ]
    },
    {
      "cell_type": "markdown",
      "source": [
        "#### 学習過程の保存（ModelCheckpoint）"
      ],
      "metadata": {
        "id": "APwFbEFw-rrS"
      }
    },
    {
      "cell_type": "code",
      "source": [
        "# その最良のモデルを読み込み\n",
        "import numpy as np\n",
        "model_best = keras.models.load_model('./model/best_model.h5')\n",
        "y_predict = np.argmax(model_best.predict(y_train_n),axis=1)\n",
        "print(y_predict)"
      ],
      "metadata": {
        "colab": {
          "base_uri": "https://localhost:8080/"
        },
        "id": "oGb9u5cs_nKh",
        "outputId": "ec1fe9e8-0b49-433c-9c91-5a085e8d0448"
      },
      "execution_count": null,
      "outputs": [
        {
          "output_type": "stream",
          "name": "stdout",
          "text": [
            "[2 1 0 2 0 2 0 1 1 1 2 1 1 1 1 0 1 1 0 0 2 1 0 0 2 0 0 1 1 0 2 1 0 2 2 1 0\n",
            " 2 1 1 2 0 2 0 0]\n"
          ]
        }
      ]
    },
    {
      "cell_type": "markdown",
      "source": [
        "### Accucyを算出"
      ],
      "metadata": {
        "id": "YgOZHxtFNFR2"
      }
    },
    {
      "cell_type": "markdown",
      "source": [
        "その読み込んだ最適モデルを用いて<font color=\"red\">accucy</font>を算出"
      ],
      "metadata": {
        "id": "Qp19B0vFI-Cn"
      }
    },
    {
      "cell_type": "code",
      "source": [
        "from sklearn.metrics import accuracy_score\n",
        "accuracy = accuracy_score(y_test, y_predict)\n",
        "print(accuracy)"
      ],
      "metadata": {
        "colab": {
          "base_uri": "https://localhost:8080/"
        },
        "id": "kZKoJxSiJ_PH",
        "outputId": "04157133-da82-4db0-f3fc-7741835e0415"
      },
      "execution_count": null,
      "outputs": [
        {
          "output_type": "stream",
          "name": "stdout",
          "text": [
            "0.9777777777777777\n"
          ]
        }
      ]
    },
    {
      "cell_type": "markdown",
      "source": [
        "# 考察"
      ],
      "metadata": {
        "id": "NJzmYHerPlSN"
      }
    },
    {
      "cell_type": "markdown",
      "source": [
        "精度(正解率)はかなり高く出す事が出来た。"
      ],
      "metadata": {
        "id": "9jJ3Yrg-Pt7i"
      }
    },
    {
      "cell_type": "markdown",
      "source": [
        "本当ならばトレインデータ、テストデータ、バリデーションデータ。\n",
        "\n",
        "説明変数と目的変数で合計6分割しないといけないと思う。\n",
        "\n",
        "だけど今回はそのやり方もピンと来ないしデータも多くないのでバリデーションデータにてうとデータを用いるという横着を致しました。"
      ],
      "metadata": {
        "id": "9ldfxdgBPvvN"
      }
    }
  ]
}